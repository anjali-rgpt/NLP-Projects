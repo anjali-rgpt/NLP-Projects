{
 "cells": [
  {
   "cell_type": "markdown",
   "id": "e9363ece",
   "metadata": {
    "papermill": {
     "duration": 0.058584,
     "end_time": "2021-11-27T15:21:48.444234",
     "exception": false,
     "start_time": "2021-11-27T15:21:48.385650",
     "status": "completed"
    },
    "tags": []
   },
   "source": [
    "# Importing data and libraries"
   ]
  },
  {
   "cell_type": "code",
   "execution_count": 1,
   "id": "9bd1f61d",
   "metadata": {
    "_cell_guid": "b1076dfc-b9ad-4769-8c92-a6c4dae69d19",
    "_uuid": "8f2839f25d086af736a60e9eeb907d3b93b6e0e5",
    "execution": {
     "iopub.execute_input": "2021-11-27T15:21:48.578114Z",
     "iopub.status.busy": "2021-11-27T15:21:48.574439Z",
     "iopub.status.idle": "2021-11-27T15:21:49.631867Z",
     "shell.execute_reply": "2021-11-27T15:21:49.630915Z",
     "shell.execute_reply.started": "2021-11-27T15:11:54.989893Z"
    },
    "papermill": {
     "duration": 1.129997,
     "end_time": "2021-11-27T15:21:49.632069",
     "exception": false,
     "start_time": "2021-11-27T15:21:48.502072",
     "status": "completed"
    },
    "tags": []
   },
   "outputs": [],
   "source": [
    "import numpy as np\n",
    "import pandas as pd\n",
    "import matplotlib.pyplot as plt\n",
    "%matplotlib inline\n",
    "import seaborn as sns\n",
    "from scipy import stats"
   ]
  },
  {
   "cell_type": "code",
   "execution_count": 2,
   "id": "c6c19275",
   "metadata": {
    "execution": {
     "iopub.execute_input": "2021-11-27T15:21:49.752120Z",
     "iopub.status.busy": "2021-11-27T15:21:49.751416Z",
     "iopub.status.idle": "2021-11-27T15:22:03.077550Z",
     "shell.execute_reply": "2021-11-27T15:22:03.076907Z",
     "shell.execute_reply.started": "2021-11-27T15:11:54.999804Z"
    },
    "papermill": {
     "duration": 13.387757,
     "end_time": "2021-11-27T15:22:03.077704",
     "exception": false,
     "start_time": "2021-11-27T15:21:49.689947",
     "status": "completed"
    },
    "tags": []
   },
   "outputs": [
    {
     "name": "stdout",
     "output_type": "stream",
     "text": [
      "Collecting openpyxl\r\n",
      "  Downloading openpyxl-3.0.9-py2.py3-none-any.whl (242 kB)\r\n",
      "\u001b[K     |████████████████████████████████| 242 kB 288 kB/s \r\n",
      "\u001b[?25hCollecting et-xmlfile\r\n",
      "  Downloading et_xmlfile-1.1.0-py3-none-any.whl (4.7 kB)\r\n",
      "Installing collected packages: et-xmlfile, openpyxl\r\n",
      "Successfully installed et-xmlfile-1.1.0 openpyxl-3.0.9\r\n",
      "\u001b[33mWARNING: Running pip as the 'root' user can result in broken permissions and conflicting behaviour with the system package manager. It is recommended to use a virtual environment instead: https://pip.pypa.io/warnings/venv\u001b[0m\r\n"
     ]
    }
   ],
   "source": [
    "!pip install openpyxl"
   ]
  },
  {
   "cell_type": "code",
   "execution_count": 3,
   "id": "f96fb914",
   "metadata": {
    "execution": {
     "iopub.execute_input": "2021-11-27T15:22:03.211348Z",
     "iopub.status.busy": "2021-11-27T15:22:03.210659Z",
     "iopub.status.idle": "2021-11-27T15:22:04.303047Z",
     "shell.execute_reply": "2021-11-27T15:22:04.303733Z",
     "shell.execute_reply.started": "2021-11-27T15:12:03.375573Z"
    },
    "papermill": {
     "duration": 1.162228,
     "end_time": "2021-11-27T15:22:04.303950",
     "exception": false,
     "start_time": "2021-11-27T15:22:03.141722",
     "status": "completed"
    },
    "tags": []
   },
   "outputs": [],
   "source": [
    "dataset = pd.read_excel('../input/reevaluatedq11/Re-evaluated Automatic Research Stuff.xlsx', 'Q11', usecols = [9, 10,11], engine = 'openpyxl')"
   ]
  },
  {
   "cell_type": "code",
   "execution_count": 4,
   "id": "63a9085d",
   "metadata": {
    "execution": {
     "iopub.execute_input": "2021-11-27T15:22:04.437639Z",
     "iopub.status.busy": "2021-11-27T15:22:04.436501Z",
     "iopub.status.idle": "2021-11-27T15:22:04.462883Z",
     "shell.execute_reply": "2021-11-27T15:22:04.463462Z",
     "shell.execute_reply.started": "2021-11-27T15:12:04.176102Z"
    },
    "papermill": {
     "duration": 0.092996,
     "end_time": "2021-11-27T15:22:04.463678",
     "exception": false,
     "start_time": "2021-11-27T15:22:04.370682",
     "status": "completed"
    },
    "tags": []
   },
   "outputs": [
    {
     "data": {
      "text/html": [
       "<div>\n",
       "<style scoped>\n",
       "    .dataframe tbody tr th:only-of-type {\n",
       "        vertical-align: middle;\n",
       "    }\n",
       "\n",
       "    .dataframe tbody tr th {\n",
       "        vertical-align: top;\n",
       "    }\n",
       "\n",
       "    .dataframe thead th {\n",
       "        text-align: right;\n",
       "    }\n",
       "</style>\n",
       "<table border=\"1\" class=\"dataframe\">\n",
       "  <thead>\n",
       "    <tr style=\"text-align: right;\">\n",
       "      <th></th>\n",
       "      <th>Anjali's Points</th>\n",
       "      <th>Sanskriti's Points</th>\n",
       "      <th>Rationale(1.5)</th>\n",
       "    </tr>\n",
       "  </thead>\n",
       "  <tbody>\n",
       "  </tbody>\n",
       "</table>\n",
       "</div>"
      ],
      "text/plain": [
       "Empty DataFrame\n",
       "Columns: [Anjali's Points, Sanskriti's Points, Rationale(1.5)]\n",
       "Index: []"
      ]
     },
     "execution_count": 4,
     "metadata": {},
     "output_type": "execute_result"
    }
   ],
   "source": [
    "dataset[dataset['Anjali\\'s Points'].isnull()]"
   ]
  },
  {
   "cell_type": "code",
   "execution_count": 5,
   "id": "549fdf1f",
   "metadata": {
    "execution": {
     "iopub.execute_input": "2021-11-27T15:22:04.684252Z",
     "iopub.status.busy": "2021-11-27T15:22:04.683052Z",
     "iopub.status.idle": "2021-11-27T15:22:04.688568Z",
     "shell.execute_reply": "2021-11-27T15:22:04.689208Z",
     "shell.execute_reply.started": "2021-11-27T15:12:04.187680Z"
    },
    "papermill": {
     "duration": 0.162433,
     "end_time": "2021-11-27T15:22:04.689423",
     "exception": false,
     "start_time": "2021-11-27T15:22:04.526990",
     "status": "completed"
    },
    "tags": []
   },
   "outputs": [],
   "source": [
    "dataset = dataset.fillna(0.5)\n",
    "dataset.replace(-1.5, 0, inplace = True)"
   ]
  },
  {
   "cell_type": "code",
   "execution_count": 6,
   "id": "06649b31",
   "metadata": {
    "execution": {
     "iopub.execute_input": "2021-11-27T15:22:04.821259Z",
     "iopub.status.busy": "2021-11-27T15:22:04.820029Z",
     "iopub.status.idle": "2021-11-27T15:22:04.833657Z",
     "shell.execute_reply": "2021-11-27T15:22:04.834472Z",
     "shell.execute_reply.started": "2021-11-27T15:12:04.196134Z"
    },
    "papermill": {
     "duration": 0.082643,
     "end_time": "2021-11-27T15:22:04.834703",
     "exception": false,
     "start_time": "2021-11-27T15:22:04.752060",
     "status": "completed"
    },
    "tags": []
   },
   "outputs": [
    {
     "data": {
      "text/html": [
       "<div>\n",
       "<style scoped>\n",
       "    .dataframe tbody tr th:only-of-type {\n",
       "        vertical-align: middle;\n",
       "    }\n",
       "\n",
       "    .dataframe tbody tr th {\n",
       "        vertical-align: top;\n",
       "    }\n",
       "\n",
       "    .dataframe thead th {\n",
       "        text-align: right;\n",
       "    }\n",
       "</style>\n",
       "<table border=\"1\" class=\"dataframe\">\n",
       "  <thead>\n",
       "    <tr style=\"text-align: right;\">\n",
       "      <th></th>\n",
       "      <th>Anjali's Points</th>\n",
       "      <th>Sanskriti's Points</th>\n",
       "      <th>Rationale(1.5)</th>\n",
       "    </tr>\n",
       "  </thead>\n",
       "  <tbody>\n",
       "    <tr>\n",
       "      <th>0</th>\n",
       "      <td>0.0</td>\n",
       "      <td>0.0</td>\n",
       "      <td>0.0</td>\n",
       "    </tr>\n",
       "    <tr>\n",
       "      <th>1</th>\n",
       "      <td>0.0</td>\n",
       "      <td>0.0</td>\n",
       "      <td>0.0</td>\n",
       "    </tr>\n",
       "    <tr>\n",
       "      <th>2</th>\n",
       "      <td>0.5</td>\n",
       "      <td>1.0</td>\n",
       "      <td>1.5</td>\n",
       "    </tr>\n",
       "    <tr>\n",
       "      <th>3</th>\n",
       "      <td>0.0</td>\n",
       "      <td>0.0</td>\n",
       "      <td>0.0</td>\n",
       "    </tr>\n",
       "    <tr>\n",
       "      <th>4</th>\n",
       "      <td>0.0</td>\n",
       "      <td>0.0</td>\n",
       "      <td>0.0</td>\n",
       "    </tr>\n",
       "  </tbody>\n",
       "</table>\n",
       "</div>"
      ],
      "text/plain": [
       "   Anjali's Points  Sanskriti's Points  Rationale(1.5)\n",
       "0              0.0                 0.0             0.0\n",
       "1              0.0                 0.0             0.0\n",
       "2              0.5                 1.0             1.5\n",
       "3              0.0                 0.0             0.0\n",
       "4              0.0                 0.0             0.0"
      ]
     },
     "execution_count": 6,
     "metadata": {},
     "output_type": "execute_result"
    }
   ],
   "source": [
    "dataset.head()"
   ]
  },
  {
   "cell_type": "code",
   "execution_count": 7,
   "id": "f7c9bbd0",
   "metadata": {
    "execution": {
     "iopub.execute_input": "2021-11-27T15:22:04.969739Z",
     "iopub.status.busy": "2021-11-27T15:22:04.968854Z",
     "iopub.status.idle": "2021-11-27T15:22:04.970544Z",
     "shell.execute_reply": "2021-11-27T15:22:04.971084Z",
     "shell.execute_reply.started": "2021-11-27T15:12:04.216824Z"
    },
    "papermill": {
     "duration": 0.072257,
     "end_time": "2021-11-27T15:22:04.971304",
     "exception": false,
     "start_time": "2021-11-27T15:22:04.899047",
     "status": "completed"
    },
    "tags": []
   },
   "outputs": [],
   "source": [
    "X = np.array(dataset['Anjali\\'s Points'])  #Anjali's score\n",
    "Y = np.array(dataset['Rationale(1.5)'])   #evaluator score\n",
    "Z = np.array(dataset['Sanskriti\\'s Points']) #Sanskriti's Score"
   ]
  },
  {
   "cell_type": "code",
   "execution_count": 8,
   "id": "4d4484b0",
   "metadata": {
    "execution": {
     "iopub.execute_input": "2021-11-27T15:22:05.100897Z",
     "iopub.status.busy": "2021-11-27T15:22:05.100216Z",
     "iopub.status.idle": "2021-11-27T15:22:05.122605Z",
     "shell.execute_reply": "2021-11-27T15:22:05.123258Z",
     "shell.execute_reply.started": "2021-11-27T15:12:04.223939Z"
    },
    "papermill": {
     "duration": 0.087645,
     "end_time": "2021-11-27T15:22:05.123432",
     "exception": false,
     "start_time": "2021-11-27T15:22:05.035787",
     "status": "completed"
    },
    "tags": []
   },
   "outputs": [
    {
     "data": {
      "text/html": [
       "<div>\n",
       "<style scoped>\n",
       "    .dataframe tbody tr th:only-of-type {\n",
       "        vertical-align: middle;\n",
       "    }\n",
       "\n",
       "    .dataframe tbody tr th {\n",
       "        vertical-align: top;\n",
       "    }\n",
       "\n",
       "    .dataframe thead th {\n",
       "        text-align: right;\n",
       "    }\n",
       "</style>\n",
       "<table border=\"1\" class=\"dataframe\">\n",
       "  <thead>\n",
       "    <tr style=\"text-align: right;\">\n",
       "      <th></th>\n",
       "      <th>Mean</th>\n",
       "      <th>Median</th>\n",
       "    </tr>\n",
       "  </thead>\n",
       "  <tbody>\n",
       "    <tr>\n",
       "      <th>Anjali</th>\n",
       "      <td>0.474446</td>\n",
       "      <td>0.0</td>\n",
       "    </tr>\n",
       "    <tr>\n",
       "      <th>Evaluator</th>\n",
       "      <td>0.721465</td>\n",
       "      <td>0.0</td>\n",
       "    </tr>\n",
       "    <tr>\n",
       "      <th>Sanskriti</th>\n",
       "      <td>0.602641</td>\n",
       "      <td>0.0</td>\n",
       "    </tr>\n",
       "  </tbody>\n",
       "</table>\n",
       "</div>"
      ],
      "text/plain": [
       "               Mean Median\n",
       "Anjali     0.474446    0.0\n",
       "Evaluator  0.721465    0.0\n",
       "Sanskriti  0.602641    0.0"
      ]
     },
     "execution_count": 8,
     "metadata": {},
     "output_type": "execute_result"
    }
   ],
   "source": [
    "stats_table = pd.DataFrame(columns = ['Mean', 'Median'])\n",
    "test_table = pd.DataFrame(columns = ['MWU_Statistic', 'MWU_P','ANOVA_Statistic','ANOVA_P', 'T2_Statistic','T2_P', 'T_Paired_Statistic','T_Paired_P'])\n",
    "index = ['Anjali', 'Evaluator', 'Sanskriti']\n",
    "pairs_index = ['Anjali,Evaluator', 'Sanskriti,Evaluator', 'Anjali,Sanskriti']\n",
    "distributions = [X, Y, Z]\n",
    "\n",
    "for index_val in range(len(index)):\n",
    "    stats_table.loc[index[index_val],'Mean'] = np.mean(distributions[index_val])\n",
    "    stats_table.loc[index[index_val],'Median'] = np.median(distributions[index_val])\n",
    "    \n",
    "stats_table"
   ]
  },
  {
   "cell_type": "code",
   "execution_count": 9,
   "id": "e3a21b05",
   "metadata": {
    "execution": {
     "iopub.execute_input": "2021-11-27T15:22:05.253610Z",
     "iopub.status.busy": "2021-11-27T15:22:05.252869Z",
     "iopub.status.idle": "2021-11-27T15:22:05.256969Z",
     "shell.execute_reply": "2021-11-27T15:22:05.257641Z",
     "shell.execute_reply.started": "2021-11-27T15:12:04.250439Z"
    },
    "papermill": {
     "duration": 0.071816,
     "end_time": "2021-11-27T15:22:05.257815",
     "exception": false,
     "start_time": "2021-11-27T15:22:05.185999",
     "status": "completed"
    },
    "tags": []
   },
   "outputs": [],
   "source": [
    "def p_value_fill(value):\n",
    "    if 'e' in str(value):\n",
    "        return str(value)[-4:]\n",
    "    else:\n",
    "        return value"
   ]
  },
  {
   "cell_type": "markdown",
   "id": "b8ac1d84",
   "metadata": {
    "papermill": {
     "duration": 0.063021,
     "end_time": "2021-11-27T15:22:05.384962",
     "exception": false,
     "start_time": "2021-11-27T15:22:05.321941",
     "status": "completed"
    },
    "tags": []
   },
   "source": [
    "# Anjali vs Evaluator"
   ]
  },
  {
   "cell_type": "markdown",
   "id": "0d0d7ea5",
   "metadata": {
    "papermill": {
     "duration": 0.062526,
     "end_time": "2021-11-27T15:22:05.510637",
     "exception": false,
     "start_time": "2021-11-27T15:22:05.448111",
     "status": "completed"
    },
    "tags": []
   },
   "source": [
    "## Statistical Test 1 : Mann-Whitney U Test\n",
    "\n",
    "This test takes two independent samples X and Y as input. It has the null hypothesis that X's underlying distribution is the same as Y's underlying distribution. We need to perform this test to see if the null hypothesis is indeed successful, or if the alternate is true : that the samples are actually significantly different."
   ]
  },
  {
   "cell_type": "code",
   "execution_count": 10,
   "id": "0c7e2fe8",
   "metadata": {
    "execution": {
     "iopub.execute_input": "2021-11-27T15:22:05.641919Z",
     "iopub.status.busy": "2021-11-27T15:22:05.640890Z",
     "iopub.status.idle": "2021-11-27T15:22:05.644554Z",
     "shell.execute_reply": "2021-11-27T15:22:05.643873Z",
     "shell.execute_reply.started": "2021-11-27T15:12:04.256530Z"
    },
    "papermill": {
     "duration": 0.071274,
     "end_time": "2021-11-27T15:22:05.644718",
     "exception": false,
     "start_time": "2021-11-27T15:22:05.573444",
     "status": "completed"
    },
    "tags": []
   },
   "outputs": [],
   "source": [
    "from scipy.stats import mannwhitneyu"
   ]
  },
  {
   "cell_type": "code",
   "execution_count": 11,
   "id": "29c0fa80",
   "metadata": {
    "execution": {
     "iopub.execute_input": "2021-11-27T15:22:05.777013Z",
     "iopub.status.busy": "2021-11-27T15:22:05.776220Z",
     "iopub.status.idle": "2021-11-27T15:22:05.781574Z",
     "shell.execute_reply": "2021-11-27T15:22:05.782120Z",
     "shell.execute_reply.started": "2021-11-27T15:12:04.270444Z"
    },
    "papermill": {
     "duration": 0.074716,
     "end_time": "2021-11-27T15:22:05.782398",
     "exception": false,
     "start_time": "2021-11-27T15:22:05.707682",
     "status": "completed"
    },
    "tags": []
   },
   "outputs": [],
   "source": [
    "statistic, p = mannwhitneyu(X,Y)"
   ]
  },
  {
   "cell_type": "code",
   "execution_count": 12,
   "id": "6d880dd0",
   "metadata": {
    "execution": {
     "iopub.execute_input": "2021-11-27T15:22:05.913838Z",
     "iopub.status.busy": "2021-11-27T15:22:05.912948Z",
     "iopub.status.idle": "2021-11-27T15:22:05.918217Z",
     "shell.execute_reply": "2021-11-27T15:22:05.918973Z",
     "shell.execute_reply.started": "2021-11-27T15:12:04.283325Z"
    },
    "papermill": {
     "duration": 0.07379,
     "end_time": "2021-11-27T15:22:05.919261",
     "exception": false,
     "start_time": "2021-11-27T15:22:05.845471",
     "status": "completed"
    },
    "tags": []
   },
   "outputs": [
    {
     "name": "stdout",
     "output_type": "stream",
     "text": [
      "Statistic :  571685.0\n",
      "Probability :  4.098828327037312e-15\n"
     ]
    }
   ],
   "source": [
    "print(\"Statistic : \", statistic)\n",
    "print(\"Probability : \", p)"
   ]
  },
  {
   "cell_type": "code",
   "execution_count": 13,
   "id": "66730300",
   "metadata": {
    "execution": {
     "iopub.execute_input": "2021-11-27T15:22:06.053890Z",
     "iopub.status.busy": "2021-11-27T15:22:06.053112Z",
     "iopub.status.idle": "2021-11-27T15:22:06.058277Z",
     "shell.execute_reply": "2021-11-27T15:22:06.058850Z",
     "shell.execute_reply.started": "2021-11-27T15:12:04.294398Z"
    },
    "papermill": {
     "duration": 0.074036,
     "end_time": "2021-11-27T15:22:06.059060",
     "exception": false,
     "start_time": "2021-11-27T15:22:05.985024",
     "status": "completed"
    },
    "tags": []
   },
   "outputs": [],
   "source": [
    "test_table.loc['Anjali,Evaluator','MWU_Statistic'] = statistic\n",
    "test_table.loc['Anjali,Evaluator','MWU_P'] = p_value_fill(p)"
   ]
  },
  {
   "cell_type": "code",
   "execution_count": 14,
   "id": "189d6d4e",
   "metadata": {
    "execution": {
     "iopub.execute_input": "2021-11-27T15:22:06.200217Z",
     "iopub.status.busy": "2021-11-27T15:22:06.199331Z",
     "iopub.status.idle": "2021-11-27T15:22:06.213277Z",
     "shell.execute_reply": "2021-11-27T15:22:06.213807Z",
     "shell.execute_reply.started": "2021-11-27T15:12:04.305708Z"
    },
    "papermill": {
     "duration": 0.089289,
     "end_time": "2021-11-27T15:22:06.214014",
     "exception": false,
     "start_time": "2021-11-27T15:22:06.124725",
     "status": "completed"
    },
    "tags": []
   },
   "outputs": [
    {
     "data": {
      "text/html": [
       "<div>\n",
       "<style scoped>\n",
       "    .dataframe tbody tr th:only-of-type {\n",
       "        vertical-align: middle;\n",
       "    }\n",
       "\n",
       "    .dataframe tbody tr th {\n",
       "        vertical-align: top;\n",
       "    }\n",
       "\n",
       "    .dataframe thead th {\n",
       "        text-align: right;\n",
       "    }\n",
       "</style>\n",
       "<table border=\"1\" class=\"dataframe\">\n",
       "  <thead>\n",
       "    <tr style=\"text-align: right;\">\n",
       "      <th></th>\n",
       "      <th>Sanskriti's Points</th>\n",
       "      <th>Rationale(1.5)</th>\n",
       "    </tr>\n",
       "    <tr>\n",
       "      <th>Anjali's Points</th>\n",
       "      <th></th>\n",
       "      <th></th>\n",
       "    </tr>\n",
       "  </thead>\n",
       "  <tbody>\n",
       "    <tr>\n",
       "      <th>0.0</th>\n",
       "      <td>618</td>\n",
       "      <td>618</td>\n",
       "    </tr>\n",
       "    <tr>\n",
       "      <th>0.5</th>\n",
       "      <td>161</td>\n",
       "      <td>161</td>\n",
       "    </tr>\n",
       "    <tr>\n",
       "      <th>1.0</th>\n",
       "      <td>232</td>\n",
       "      <td>232</td>\n",
       "    </tr>\n",
       "    <tr>\n",
       "      <th>1.5</th>\n",
       "      <td>163</td>\n",
       "      <td>163</td>\n",
       "    </tr>\n",
       "  </tbody>\n",
       "</table>\n",
       "</div>"
      ],
      "text/plain": [
       "                 Sanskriti's Points  Rationale(1.5)\n",
       "Anjali's Points                                    \n",
       "0.0                             618             618\n",
       "0.5                             161             161\n",
       "1.0                             232             232\n",
       "1.5                             163             163"
      ]
     },
     "execution_count": 14,
     "metadata": {},
     "output_type": "execute_result"
    }
   ],
   "source": [
    "X_groups = dataset.groupby('Anjali\\'s Points').count()\n",
    "X_groups"
   ]
  },
  {
   "cell_type": "code",
   "execution_count": 15,
   "id": "2a9382f2",
   "metadata": {
    "execution": {
     "iopub.execute_input": "2021-11-27T15:22:06.346124Z",
     "iopub.status.busy": "2021-11-27T15:22:06.345212Z",
     "iopub.status.idle": "2021-11-27T15:22:06.354642Z",
     "shell.execute_reply": "2021-11-27T15:22:06.355118Z",
     "shell.execute_reply.started": "2021-11-27T15:12:04.325404Z"
    },
    "papermill": {
     "duration": 0.077438,
     "end_time": "2021-11-27T15:22:06.355346",
     "exception": false,
     "start_time": "2021-11-27T15:22:06.277908",
     "status": "completed"
    },
    "tags": []
   },
   "outputs": [
    {
     "data": {
      "text/html": [
       "<div>\n",
       "<style scoped>\n",
       "    .dataframe tbody tr th:only-of-type {\n",
       "        vertical-align: middle;\n",
       "    }\n",
       "\n",
       "    .dataframe tbody tr th {\n",
       "        vertical-align: top;\n",
       "    }\n",
       "\n",
       "    .dataframe thead th {\n",
       "        text-align: right;\n",
       "    }\n",
       "</style>\n",
       "<table border=\"1\" class=\"dataframe\">\n",
       "  <thead>\n",
       "    <tr style=\"text-align: right;\">\n",
       "      <th></th>\n",
       "      <th>Anjali's Points</th>\n",
       "      <th>Sanskriti's Points</th>\n",
       "    </tr>\n",
       "    <tr>\n",
       "      <th>Rationale(1.5)</th>\n",
       "      <th></th>\n",
       "      <th></th>\n",
       "    </tr>\n",
       "  </thead>\n",
       "  <tbody>\n",
       "    <tr>\n",
       "      <th>0.0</th>\n",
       "      <td>602</td>\n",
       "      <td>602</td>\n",
       "    </tr>\n",
       "    <tr>\n",
       "      <th>0.5</th>\n",
       "      <td>8</td>\n",
       "      <td>8</td>\n",
       "    </tr>\n",
       "    <tr>\n",
       "      <th>1.0</th>\n",
       "      <td>6</td>\n",
       "      <td>6</td>\n",
       "    </tr>\n",
       "    <tr>\n",
       "      <th>1.5</th>\n",
       "      <td>558</td>\n",
       "      <td>558</td>\n",
       "    </tr>\n",
       "  </tbody>\n",
       "</table>\n",
       "</div>"
      ],
      "text/plain": [
       "                Anjali's Points  Sanskriti's Points\n",
       "Rationale(1.5)                                     \n",
       "0.0                         602                 602\n",
       "0.5                           8                   8\n",
       "1.0                           6                   6\n",
       "1.5                         558                 558"
      ]
     },
     "execution_count": 15,
     "metadata": {},
     "output_type": "execute_result"
    }
   ],
   "source": [
    "Y_groups = dataset.groupby('Rationale(1.5)').count()\n",
    "Y_groups"
   ]
  },
  {
   "cell_type": "code",
   "execution_count": 16,
   "id": "82f8507a",
   "metadata": {
    "execution": {
     "iopub.execute_input": "2021-11-27T15:22:06.495816Z",
     "iopub.status.busy": "2021-11-27T15:22:06.495013Z",
     "iopub.status.idle": "2021-11-27T15:22:06.505196Z",
     "shell.execute_reply": "2021-11-27T15:22:06.505695Z",
     "shell.execute_reply.started": "2021-11-27T15:12:04.344350Z"
    },
    "papermill": {
     "duration": 0.083992,
     "end_time": "2021-11-27T15:22:06.505905",
     "exception": false,
     "start_time": "2021-11-27T15:22:06.421913",
     "status": "completed"
    },
    "tags": []
   },
   "outputs": [
    {
     "data": {
      "text/html": [
       "<div>\n",
       "<style scoped>\n",
       "    .dataframe tbody tr th:only-of-type {\n",
       "        vertical-align: middle;\n",
       "    }\n",
       "\n",
       "    .dataframe tbody tr th {\n",
       "        vertical-align: top;\n",
       "    }\n",
       "\n",
       "    .dataframe thead th {\n",
       "        text-align: right;\n",
       "    }\n",
       "</style>\n",
       "<table border=\"1\" class=\"dataframe\">\n",
       "  <thead>\n",
       "    <tr style=\"text-align: right;\">\n",
       "      <th></th>\n",
       "      <th>Anjali's Points</th>\n",
       "      <th>Rationale(1.5)</th>\n",
       "    </tr>\n",
       "    <tr>\n",
       "      <th>Sanskriti's Points</th>\n",
       "      <th></th>\n",
       "      <th></th>\n",
       "    </tr>\n",
       "  </thead>\n",
       "  <tbody>\n",
       "    <tr>\n",
       "      <th>0.0</th>\n",
       "      <td>617</td>\n",
       "      <td>617</td>\n",
       "    </tr>\n",
       "    <tr>\n",
       "      <th>0.5</th>\n",
       "      <td>51</td>\n",
       "      <td>51</td>\n",
       "    </tr>\n",
       "    <tr>\n",
       "      <th>1.0</th>\n",
       "      <td>154</td>\n",
       "      <td>154</td>\n",
       "    </tr>\n",
       "    <tr>\n",
       "      <th>1.5</th>\n",
       "      <td>352</td>\n",
       "      <td>352</td>\n",
       "    </tr>\n",
       "  </tbody>\n",
       "</table>\n",
       "</div>"
      ],
      "text/plain": [
       "                    Anjali's Points  Rationale(1.5)\n",
       "Sanskriti's Points                                 \n",
       "0.0                             617             617\n",
       "0.5                              51              51\n",
       "1.0                             154             154\n",
       "1.5                             352             352"
      ]
     },
     "execution_count": 16,
     "metadata": {},
     "output_type": "execute_result"
    }
   ],
   "source": [
    "Z_groups = dataset.groupby('Sanskriti\\'s Points').count()\n",
    "Z_groups"
   ]
  },
  {
   "cell_type": "code",
   "execution_count": 17,
   "id": "3d0428e9",
   "metadata": {
    "execution": {
     "iopub.execute_input": "2021-11-27T15:22:06.642759Z",
     "iopub.status.busy": "2021-11-27T15:22:06.641843Z",
     "iopub.status.idle": "2021-11-27T15:22:07.053107Z",
     "shell.execute_reply": "2021-11-27T15:22:07.053670Z",
     "shell.execute_reply.started": "2021-11-27T15:12:04.358144Z"
    },
    "papermill": {
     "duration": 0.479773,
     "end_time": "2021-11-27T15:22:07.053875",
     "exception": false,
     "start_time": "2021-11-27T15:22:06.574102",
     "status": "completed"
    },
    "tags": []
   },
   "outputs": [
    {
     "data": {
      "image/png": "[encoded data removed]",
      "text/plain": [
       "<Figure size 720x720 with 3 Axes>"
      ]
     },
     "metadata": {},
     "output_type": "display_data"
    }
   ],
   "source": [
    "colors = sns.color_palette('plasma')[0:4]\n",
    "fig, (ax1,ax2, ax3) = plt.subplots(3 , 1,figsize=(10,10))\n",
    "ax1.pie(X_groups['Rationale(1.5)'], labels = X_groups.index, autopct = \"%.0f%%\", colors = colors)\n",
    "ax1.set_title('Anjali - Score Distribution')\n",
    "ax2.pie(Y_groups['Anjali\\'s Points'], labels = Y_groups.index, autopct = \"%.0f%%\", colors = colors)\n",
    "ax2.set_title('Evaluator - Score Distribution')\n",
    "ax3.pie(Z_groups['Anjali\\'s Points'], labels = Z_groups.index, autopct = \"%.0f%%\", colors = colors)\n",
    "ax3.set_title('Sanskriti - Score Distribution')\n",
    "plt.legend()\n",
    "plt.show()"
   ]
  },
  {
   "cell_type": "markdown",
   "id": "97a01677",
   "metadata": {
    "papermill": {
     "duration": 0.067913,
     "end_time": "2021-11-27T15:22:07.190051",
     "exception": false,
     "start_time": "2021-11-27T15:22:07.122138",
     "status": "completed"
    },
    "tags": []
   },
   "source": [
    "Assuming any standard p-value for significance score, it is concluded that the obtained p-value is much less than the target. This means that the null hypothesis has to be rejected. The distributions are clearly very different."
   ]
  },
  {
   "cell_type": "markdown",
   "id": "416fc732",
   "metadata": {
    "papermill": {
     "duration": 0.065796,
     "end_time": "2021-11-27T15:22:07.323223",
     "exception": false,
     "start_time": "2021-11-27T15:22:07.257427",
     "status": "completed"
    },
    "tags": []
   },
   "source": [
    "## Statistical test 2 : ANOVA\n",
    "\n",
    "This test is used to check if the group means are significantly different. It technically stands for Analysis of Variance and should be used with more than two groups, but can be used with just two. \n",
    "\n",
    "Null hypothesis : The group means are equal\n",
    "Alternate hypothesis : The group means are different"
   ]
  },
  {
   "cell_type": "code",
   "execution_count": 18,
   "id": "90433cf6",
   "metadata": {
    "execution": {
     "iopub.execute_input": "2021-11-27T15:22:07.459455Z",
     "iopub.status.busy": "2021-11-27T15:22:07.458626Z",
     "iopub.status.idle": "2021-11-27T15:22:07.462004Z",
     "shell.execute_reply": "2021-11-27T15:22:07.462578Z",
     "shell.execute_reply.started": "2021-11-27T15:12:04.714738Z"
    },
    "papermill": {
     "duration": 0.072807,
     "end_time": "2021-11-27T15:22:07.462782",
     "exception": false,
     "start_time": "2021-11-27T15:22:07.389975",
     "status": "completed"
    },
    "tags": []
   },
   "outputs": [],
   "source": [
    "from scipy.stats import f_oneway\n",
    "import random\n",
    "random.seed(27112021)"
   ]
  },
  {
   "cell_type": "code",
   "execution_count": 19,
   "id": "b35eeb74",
   "metadata": {
    "execution": {
     "iopub.execute_input": "2021-11-27T15:22:07.599538Z",
     "iopub.status.busy": "2021-11-27T15:22:07.598694Z",
     "iopub.status.idle": "2021-11-27T15:22:07.605561Z",
     "shell.execute_reply": "2021-11-27T15:22:07.606138Z",
     "shell.execute_reply.started": "2021-11-27T15:12:04.721079Z"
    },
    "papermill": {
     "duration": 0.077119,
     "end_time": "2021-11-27T15:22:07.606364",
     "exception": false,
     "start_time": "2021-11-27T15:22:07.529245",
     "status": "completed"
    },
    "tags": []
   },
   "outputs": [],
   "source": [
    "X_sample  = random.sample(list(X), len(X)//2)\n",
    "Y_sample  = random.sample(list(Y), len(Y//2))"
   ]
  },
  {
   "cell_type": "code",
   "execution_count": 20,
   "id": "e3b1064e",
   "metadata": {
    "execution": {
     "iopub.execute_input": "2021-11-27T15:22:07.742583Z",
     "iopub.status.busy": "2021-11-27T15:22:07.741689Z",
     "iopub.status.idle": "2021-11-27T15:22:07.746399Z",
     "shell.execute_reply": "2021-11-27T15:22:07.746956Z",
     "shell.execute_reply.started": "2021-11-27T15:12:04.735260Z"
    },
    "papermill": {
     "duration": 0.074663,
     "end_time": "2021-11-27T15:22:07.747170",
     "exception": false,
     "start_time": "2021-11-27T15:22:07.672507",
     "status": "completed"
    },
    "tags": []
   },
   "outputs": [],
   "source": [
    "anova_stat, anova_p = f_oneway(X_sample,Y_sample)"
   ]
  },
  {
   "cell_type": "code",
   "execution_count": 21,
   "id": "c0eeaa00",
   "metadata": {
    "execution": {
     "iopub.execute_input": "2021-11-27T15:22:07.886726Z",
     "iopub.status.busy": "2021-11-27T15:22:07.885829Z",
     "iopub.status.idle": "2021-11-27T15:22:07.890124Z",
     "shell.execute_reply": "2021-11-27T15:22:07.890682Z",
     "shell.execute_reply.started": "2021-11-27T15:12:04.749709Z"
    },
    "papermill": {
     "duration": 0.074397,
     "end_time": "2021-11-27T15:22:07.890909",
     "exception": false,
     "start_time": "2021-11-27T15:22:07.816512",
     "status": "completed"
    },
    "tags": []
   },
   "outputs": [
    {
     "name": "stdout",
     "output_type": "stream",
     "text": [
      "ANOVA Statistic: 43.60612439242273\n",
      "ANOVA P-value: 5.302765858214534e-11\n"
     ]
    }
   ],
   "source": [
    "print(\"ANOVA Statistic:\", anova_stat)\n",
    "print(\"ANOVA P-value:\", anova_p)"
   ]
  },
  {
   "cell_type": "code",
   "execution_count": 22,
   "id": "73cbcf81",
   "metadata": {
    "execution": {
     "iopub.execute_input": "2021-11-27T15:22:08.034459Z",
     "iopub.status.busy": "2021-11-27T15:22:08.033681Z",
     "iopub.status.idle": "2021-11-27T15:22:08.038128Z",
     "shell.execute_reply": "2021-11-27T15:22:08.038781Z",
     "shell.execute_reply.started": "2021-11-27T15:12:04.761625Z"
    },
    "papermill": {
     "duration": 0.078035,
     "end_time": "2021-11-27T15:22:08.039020",
     "exception": false,
     "start_time": "2021-11-27T15:22:07.960985",
     "status": "completed"
    },
    "tags": []
   },
   "outputs": [],
   "source": [
    "test_table.loc['Anjali,Evaluator','ANOVA_Statistic'] = anova_stat\n",
    "test_table.loc['Anjali,Evaluator','ANOVA_P'] = p_value_fill(anova_p)"
   ]
  },
  {
   "cell_type": "markdown",
   "id": "9d1cc399",
   "metadata": {
    "papermill": {
     "duration": 0.065952,
     "end_time": "2021-11-27T15:22:08.172521",
     "exception": false,
     "start_time": "2021-11-27T15:22:08.106569",
     "status": "completed"
    },
    "tags": []
   },
   "source": [
    "Based on the above P value and statistic, it is clear that the means differ significantly. The null hypothesis can be rejected without hesitation."
   ]
  },
  {
   "cell_type": "markdown",
   "id": "e8f3b9a3",
   "metadata": {
    "papermill": {
     "duration": 0.066378,
     "end_time": "2021-11-27T15:22:08.305371",
     "exception": false,
     "start_time": "2021-11-27T15:22:08.238993",
     "status": "completed"
    },
    "tags": []
   },
   "source": [
    "## Statistical test 3 : T-test\n",
    "\n",
    "This test can be used to determine the relationship between two independent variables. Rather, we can compare if Anjali's effect on scores is significantly different from the evaluator."
   ]
  },
  {
   "cell_type": "code",
   "execution_count": 23,
   "id": "0a3f51af",
   "metadata": {
    "execution": {
     "iopub.execute_input": "2021-11-27T15:22:08.441254Z",
     "iopub.status.busy": "2021-11-27T15:22:08.440474Z",
     "iopub.status.idle": "2021-11-27T15:22:08.443999Z",
     "shell.execute_reply": "2021-11-27T15:22:08.444624Z",
     "shell.execute_reply.started": "2021-11-27T15:12:04.774015Z"
    },
    "papermill": {
     "duration": 0.073283,
     "end_time": "2021-11-27T15:22:08.444835",
     "exception": false,
     "start_time": "2021-11-27T15:22:08.371552",
     "status": "completed"
    },
    "tags": []
   },
   "outputs": [],
   "source": [
    "from scipy.stats import ttest_ind, ttest_rel"
   ]
  },
  {
   "cell_type": "code",
   "execution_count": 24,
   "id": "b06af43b",
   "metadata": {
    "execution": {
     "iopub.execute_input": "2021-11-27T15:22:08.584947Z",
     "iopub.status.busy": "2021-11-27T15:22:08.584011Z",
     "iopub.status.idle": "2021-11-27T15:22:08.585713Z",
     "shell.execute_reply": "2021-11-27T15:22:08.586226Z",
     "shell.execute_reply.started": "2021-11-27T15:12:04.786793Z"
    },
    "papermill": {
     "duration": 0.074681,
     "end_time": "2021-11-27T15:22:08.586428",
     "exception": false,
     "start_time": "2021-11-27T15:22:08.511747",
     "status": "completed"
    },
    "tags": []
   },
   "outputs": [],
   "source": [
    "t_val, p_val = ttest_ind(X, Y)"
   ]
  },
  {
   "cell_type": "code",
   "execution_count": 25,
   "id": "c2b35dc4",
   "metadata": {
    "execution": {
     "iopub.execute_input": "2021-11-27T15:22:08.723503Z",
     "iopub.status.busy": "2021-11-27T15:22:08.722750Z",
     "iopub.status.idle": "2021-11-27T15:22:08.728843Z",
     "shell.execute_reply": "2021-11-27T15:22:08.729748Z",
     "shell.execute_reply.started": "2021-11-27T15:12:04.794533Z"
    },
    "papermill": {
     "duration": 0.077521,
     "end_time": "2021-11-27T15:22:08.730004",
     "exception": false,
     "start_time": "2021-11-27T15:22:08.652483",
     "status": "completed"
    },
    "tags": []
   },
   "outputs": [
    {
     "name": "stdout",
     "output_type": "stream",
     "text": [
      "T-test statistic: -9.044727731063928\n",
      "P-value: 3.0641733299617565e-19\n"
     ]
    }
   ],
   "source": [
    "print(\"T-test statistic:\", t_val)\n",
    "print(\"P-value:\", p_val)"
   ]
  },
  {
   "cell_type": "code",
   "execution_count": 26,
   "id": "d7bb66a7",
   "metadata": {
    "execution": {
     "iopub.execute_input": "2021-11-27T15:22:08.869102Z",
     "iopub.status.busy": "2021-11-27T15:22:08.867977Z",
     "iopub.status.idle": "2021-11-27T15:22:08.872970Z",
     "shell.execute_reply": "2021-11-27T15:22:08.873591Z",
     "shell.execute_reply.started": "2021-11-27T15:12:04.806244Z"
    },
    "papermill": {
     "duration": 0.076724,
     "end_time": "2021-11-27T15:22:08.873798",
     "exception": false,
     "start_time": "2021-11-27T15:22:08.797074",
     "status": "completed"
    },
    "tags": []
   },
   "outputs": [],
   "source": [
    "test_table.loc['Anjali,Evaluator','T2_Statistic'] = t_val\n",
    "test_table.loc['Anjali,Evaluator','T2_P'] = p_value_fill(p_val)"
   ]
  },
  {
   "cell_type": "code",
   "execution_count": 27,
   "id": "dd8d567a",
   "metadata": {
    "execution": {
     "iopub.execute_input": "2021-11-27T15:22:09.015251Z",
     "iopub.status.busy": "2021-11-27T15:22:09.014351Z",
     "iopub.status.idle": "2021-11-27T15:22:09.017837Z",
     "shell.execute_reply": "2021-11-27T15:22:09.016934Z",
     "shell.execute_reply.started": "2021-11-27T15:12:04.816619Z"
    },
    "papermill": {
     "duration": 0.077636,
     "end_time": "2021-11-27T15:22:09.018026",
     "exception": false,
     "start_time": "2021-11-27T15:22:08.940390",
     "status": "completed"
    },
    "tags": []
   },
   "outputs": [],
   "source": [
    "paired_t, paired_p = ttest_rel(X, Y)"
   ]
  },
  {
   "cell_type": "code",
   "execution_count": 28,
   "id": "86083692",
   "metadata": {
    "execution": {
     "iopub.execute_input": "2021-11-27T15:22:09.163620Z",
     "iopub.status.busy": "2021-11-27T15:22:09.162458Z",
     "iopub.status.idle": "2021-11-27T15:22:09.167266Z",
     "shell.execute_reply": "2021-11-27T15:22:09.167834Z",
     "shell.execute_reply.started": "2021-11-27T15:12:04.831434Z"
    },
    "papermill": {
     "duration": 0.079206,
     "end_time": "2021-11-27T15:22:09.168047",
     "exception": false,
     "start_time": "2021-11-27T15:22:09.088841",
     "status": "completed"
    },
    "tags": []
   },
   "outputs": [
    {
     "name": "stdout",
     "output_type": "stream",
     "text": [
      "Paired T-test statistic: -18.995960221070263\n",
      "Paired P-value: 2.303743067860467e-70\n"
     ]
    }
   ],
   "source": [
    "print(\"Paired T-test statistic:\", paired_t)\n",
    "print(\"Paired P-value:\", paired_p)"
   ]
  },
  {
   "cell_type": "code",
   "execution_count": 29,
   "id": "cfbbe353",
   "metadata": {
    "execution": {
     "iopub.execute_input": "2021-11-27T15:22:09.310388Z",
     "iopub.status.busy": "2021-11-27T15:22:09.309222Z",
     "iopub.status.idle": "2021-11-27T15:22:09.311443Z",
     "shell.execute_reply": "2021-11-27T15:22:09.312086Z",
     "shell.execute_reply.started": "2021-11-27T15:12:04.844614Z"
    },
    "papermill": {
     "duration": 0.076635,
     "end_time": "2021-11-27T15:22:09.312306",
     "exception": false,
     "start_time": "2021-11-27T15:22:09.235671",
     "status": "completed"
    },
    "tags": []
   },
   "outputs": [],
   "source": [
    "test_table.loc['Anjali,Evaluator','T_Paired_Statistic'] = paired_t\n",
    "test_table.loc['Anjali,Evaluator','T_Paired_P'] = p_value_fill(paired_p)"
   ]
  },
  {
   "cell_type": "markdown",
   "id": "41bd2357",
   "metadata": {
    "papermill": {
     "duration": 0.067255,
     "end_time": "2021-11-27T15:22:09.447534",
     "exception": false,
     "start_time": "2021-11-27T15:22:09.380279",
     "status": "completed"
    },
    "tags": []
   },
   "source": [
    "The p-value for these tests, both 2-sample and pairwise are much less than the standard. We can conclude the high significance of difference between evaluator and Anjali's ratings."
   ]
  },
  {
   "cell_type": "code",
   "execution_count": 30,
   "id": "75d17eca",
   "metadata": {
    "execution": {
     "iopub.execute_input": "2021-11-27T15:22:09.586778Z",
     "iopub.status.busy": "2021-11-27T15:22:09.586036Z",
     "iopub.status.idle": "2021-11-27T15:22:09.755211Z",
     "shell.execute_reply": "2021-11-27T15:22:09.755728Z",
     "shell.execute_reply.started": "2021-11-27T15:12:04.853011Z"
    },
    "papermill": {
     "duration": 0.241035,
     "end_time": "2021-11-27T15:22:09.755940",
     "exception": false,
     "start_time": "2021-11-27T15:22:09.514905",
     "status": "completed"
    },
    "tags": []
   },
   "outputs": [],
   "source": [
    "from sklearn.metrics import cohen_kappa_score"
   ]
  },
  {
   "cell_type": "code",
   "execution_count": 31,
   "id": "d8251b73",
   "metadata": {
    "execution": {
     "iopub.execute_input": "2021-11-27T15:22:09.893787Z",
     "iopub.status.busy": "2021-11-27T15:22:09.892776Z",
     "iopub.status.idle": "2021-11-27T15:22:09.900546Z",
     "shell.execute_reply": "2021-11-27T15:22:09.901107Z",
     "shell.execute_reply.started": "2021-11-27T15:12:04.865159Z"
    },
    "papermill": {
     "duration": 0.077711,
     "end_time": "2021-11-27T15:22:09.901299",
     "exception": false,
     "start_time": "2021-11-27T15:22:09.823588",
     "status": "completed"
    },
    "tags": []
   },
   "outputs": [],
   "source": [
    "mark_map = {0:'A', 0.5:'B', 1:'C', 1.5:'D'}\n",
    "X_cat = [mark_map[value] for value in X]\n",
    "Y_cat = [mark_map[value] for value in Y]\n",
    "Z_cat = [mark_map[value] for value in Z]"
   ]
  },
  {
   "cell_type": "code",
   "execution_count": 32,
   "id": "7e66c55f",
   "metadata": {
    "execution": {
     "iopub.execute_input": "2021-11-27T15:22:10.039555Z",
     "iopub.status.busy": "2021-11-27T15:22:10.038569Z",
     "iopub.status.idle": "2021-11-27T15:22:10.050468Z",
     "shell.execute_reply": "2021-11-27T15:22:10.051044Z",
     "shell.execute_reply.started": "2021-11-27T15:12:04.879332Z"
    },
    "papermill": {
     "duration": 0.082281,
     "end_time": "2021-11-27T15:22:10.051296",
     "exception": false,
     "start_time": "2021-11-27T15:22:09.969015",
     "status": "completed"
    },
    "tags": []
   },
   "outputs": [
    {
     "name": "stdout",
     "output_type": "stream",
     "text": [
      "Agreement between Anjali and Evaluator: 0.44040473106685685\n"
     ]
    }
   ],
   "source": [
    "print(\"Agreement between Anjali and Evaluator:\", cohen_kappa_score(X_cat,Y_cat))"
   ]
  },
  {
   "cell_type": "code",
   "execution_count": 33,
   "id": "07ada13b",
   "metadata": {
    "execution": {
     "iopub.execute_input": "2021-11-27T15:22:10.206558Z",
     "iopub.status.busy": "2021-11-27T15:22:10.205445Z",
     "iopub.status.idle": "2021-11-27T15:22:10.216002Z",
     "shell.execute_reply": "2021-11-27T15:22:10.216884Z",
     "shell.execute_reply.started": "2021-11-27T15:12:04.895348Z"
    },
    "papermill": {
     "duration": 0.097221,
     "end_time": "2021-11-27T15:22:10.217158",
     "exception": false,
     "start_time": "2021-11-27T15:22:10.119937",
     "status": "completed"
    },
    "tags": []
   },
   "outputs": [
    {
     "data": {
      "text/html": [
       "<div>\n",
       "<style scoped>\n",
       "    .dataframe tbody tr th:only-of-type {\n",
       "        vertical-align: middle;\n",
       "    }\n",
       "\n",
       "    .dataframe tbody tr th {\n",
       "        vertical-align: top;\n",
       "    }\n",
       "\n",
       "    .dataframe thead th {\n",
       "        text-align: right;\n",
       "    }\n",
       "</style>\n",
       "<table border=\"1\" class=\"dataframe\">\n",
       "  <thead>\n",
       "    <tr style=\"text-align: right;\">\n",
       "      <th></th>\n",
       "      <th>MWU_Statistic</th>\n",
       "      <th>MWU_P</th>\n",
       "      <th>ANOVA_Statistic</th>\n",
       "      <th>ANOVA_P</th>\n",
       "      <th>T2_Statistic</th>\n",
       "      <th>T2_P</th>\n",
       "      <th>T_Paired_Statistic</th>\n",
       "      <th>T_Paired_P</th>\n",
       "    </tr>\n",
       "  </thead>\n",
       "  <tbody>\n",
       "    <tr>\n",
       "      <th>Anjali,Evaluator</th>\n",
       "      <td>571685.0</td>\n",
       "      <td>e-15</td>\n",
       "      <td>43.606124</td>\n",
       "      <td>e-11</td>\n",
       "      <td>-9.044728</td>\n",
       "      <td>e-19</td>\n",
       "      <td>-18.99596</td>\n",
       "      <td>e-70</td>\n",
       "    </tr>\n",
       "  </tbody>\n",
       "</table>\n",
       "</div>"
      ],
      "text/plain": [
       "                 MWU_Statistic MWU_P ANOVA_Statistic ANOVA_P T2_Statistic  \\\n",
       "Anjali,Evaluator      571685.0  e-15       43.606124    e-11    -9.044728   \n",
       "\n",
       "                  T2_P T_Paired_Statistic T_Paired_P  \n",
       "Anjali,Evaluator  e-19          -18.99596       e-70  "
      ]
     },
     "execution_count": 33,
     "metadata": {},
     "output_type": "execute_result"
    }
   ],
   "source": [
    "test_table   "
   ]
  },
  {
   "cell_type": "markdown",
   "id": "4474c0dd",
   "metadata": {
    "papermill": {
     "duration": 0.068193,
     "end_time": "2021-11-27T15:22:10.369654",
     "exception": false,
     "start_time": "2021-11-27T15:22:10.301461",
     "status": "completed"
    },
    "tags": []
   },
   "source": [
    "# Evaluator vs Sanskriti"
   ]
  },
  {
   "cell_type": "markdown",
   "id": "98c74c8c",
   "metadata": {
    "papermill": {
     "duration": 0.076802,
     "end_time": "2021-11-27T15:22:10.519591",
     "exception": false,
     "start_time": "2021-11-27T15:22:10.442789",
     "status": "completed"
    },
    "tags": []
   },
   "source": [
    "## Statistical Test 1 : Mann-Whitney U"
   ]
  },
  {
   "cell_type": "code",
   "execution_count": 34,
   "id": "8c757416",
   "metadata": {
    "execution": {
     "iopub.execute_input": "2021-11-27T15:22:10.659963Z",
     "iopub.status.busy": "2021-11-27T15:22:10.659228Z",
     "iopub.status.idle": "2021-11-27T15:22:10.667851Z",
     "shell.execute_reply": "2021-11-27T15:22:10.668360Z",
     "shell.execute_reply.started": "2021-11-27T15:12:04.910736Z"
    },
    "papermill": {
     "duration": 0.08054,
     "end_time": "2021-11-27T15:22:10.668578",
     "exception": false,
     "start_time": "2021-11-27T15:22:10.588038",
     "status": "completed"
    },
    "tags": []
   },
   "outputs": [
    {
     "name": "stdout",
     "output_type": "stream",
     "text": [
      "Statistic :  626065.0\n",
      "Probability :  1.7942030765440324e-05\n"
     ]
    }
   ],
   "source": [
    "statistic_s, p_s = mannwhitneyu(Z, Y)\n",
    "print(\"Statistic : \", statistic_s)\n",
    "print(\"Probability : \", p_s)"
   ]
  },
  {
   "cell_type": "code",
   "execution_count": 35,
   "id": "c869510e",
   "metadata": {
    "execution": {
     "iopub.execute_input": "2021-11-27T15:22:10.809929Z",
     "iopub.status.busy": "2021-11-27T15:22:10.808882Z",
     "iopub.status.idle": "2021-11-27T15:22:10.814946Z",
     "shell.execute_reply": "2021-11-27T15:22:10.815457Z",
     "shell.execute_reply.started": "2021-11-27T15:12:04.920895Z"
    },
    "papermill": {
     "duration": 0.078609,
     "end_time": "2021-11-27T15:22:10.815683",
     "exception": false,
     "start_time": "2021-11-27T15:22:10.737074",
     "status": "completed"
    },
    "tags": []
   },
   "outputs": [],
   "source": [
    "test_table.loc['Sanskriti,Evaluator','MWU_Statistic'] = statistic_s\n",
    "test_table.loc['Sanskriti,Evaluator','MWU_P'] = p_value_fill(p_s)"
   ]
  },
  {
   "cell_type": "markdown",
   "id": "1303c31d",
   "metadata": {
    "papermill": {
     "duration": 0.067737,
     "end_time": "2021-11-27T15:22:10.952126",
     "exception": false,
     "start_time": "2021-11-27T15:22:10.884389",
     "status": "completed"
    },
    "tags": []
   },
   "source": [
    "## Statistical Test 2 : ANOVA"
   ]
  },
  {
   "cell_type": "code",
   "execution_count": 36,
   "id": "12fb7e3f",
   "metadata": {
    "execution": {
     "iopub.execute_input": "2021-11-27T15:22:11.098044Z",
     "iopub.status.busy": "2021-11-27T15:22:11.096999Z",
     "iopub.status.idle": "2021-11-27T15:22:11.102251Z",
     "shell.execute_reply": "2021-11-27T15:22:11.102747Z",
     "shell.execute_reply.started": "2021-11-27T15:12:04.928203Z"
    },
    "papermill": {
     "duration": 0.080492,
     "end_time": "2021-11-27T15:22:11.102953",
     "exception": false,
     "start_time": "2021-11-27T15:22:11.022461",
     "status": "completed"
    },
    "tags": []
   },
   "outputs": [],
   "source": [
    "Z_sample = random.sample(list(Z), len(Z)//2)"
   ]
  },
  {
   "cell_type": "code",
   "execution_count": 37,
   "id": "050d6674",
   "metadata": {
    "execution": {
     "iopub.execute_input": "2021-11-27T15:22:11.245669Z",
     "iopub.status.busy": "2021-11-27T15:22:11.244574Z",
     "iopub.status.idle": "2021-11-27T15:22:11.249950Z",
     "shell.execute_reply": "2021-11-27T15:22:11.250488Z",
     "shell.execute_reply.started": "2021-11-27T15:12:04.939492Z"
    },
    "papermill": {
     "duration": 0.078332,
     "end_time": "2021-11-27T15:22:11.250705",
     "exception": false,
     "start_time": "2021-11-27T15:22:11.172373",
     "status": "completed"
    },
    "tags": []
   },
   "outputs": [],
   "source": [
    "anova_stat_s, anova_p_s = f_oneway(Z_sample,Y_sample)"
   ]
  },
  {
   "cell_type": "code",
   "execution_count": 38,
   "id": "652e6d38",
   "metadata": {
    "execution": {
     "iopub.execute_input": "2021-11-27T15:22:11.393759Z",
     "iopub.status.busy": "2021-11-27T15:22:11.392694Z",
     "iopub.status.idle": "2021-11-27T15:22:11.398781Z",
     "shell.execute_reply": "2021-11-27T15:22:11.398089Z",
     "shell.execute_reply.started": "2021-11-27T15:12:04.951121Z"
    },
    "papermill": {
     "duration": 0.077914,
     "end_time": "2021-11-27T15:22:11.398945",
     "exception": false,
     "start_time": "2021-11-27T15:22:11.321031",
     "status": "completed"
    },
    "tags": []
   },
   "outputs": [
    {
     "name": "stdout",
     "output_type": "stream",
     "text": [
      "ANOVA Statistic: 9.615211990804736\n",
      "ANOVA P-value: 0.001960342153202432\n"
     ]
    }
   ],
   "source": [
    "print(\"ANOVA Statistic:\", anova_stat_s)\n",
    "print(\"ANOVA P-value:\", anova_p_s)"
   ]
  },
  {
   "cell_type": "code",
   "execution_count": 39,
   "id": "97608071",
   "metadata": {
    "execution": {
     "iopub.execute_input": "2021-11-27T15:22:11.542675Z",
     "iopub.status.busy": "2021-11-27T15:22:11.539860Z",
     "iopub.status.idle": "2021-11-27T15:22:11.546009Z",
     "shell.execute_reply": "2021-11-27T15:22:11.545454Z",
     "shell.execute_reply.started": "2021-11-27T15:12:04.962983Z"
    },
    "papermill": {
     "duration": 0.078526,
     "end_time": "2021-11-27T15:22:11.546217",
     "exception": false,
     "start_time": "2021-11-27T15:22:11.467691",
     "status": "completed"
    },
    "tags": []
   },
   "outputs": [],
   "source": [
    "test_table.loc['Sanskriti,Evaluator','ANOVA_Statistic'] = anova_stat_s\n",
    "test_table.loc['Sanskriti,Evaluator','ANOVA_P'] = p_value_fill(anova_p_s)"
   ]
  },
  {
   "cell_type": "markdown",
   "id": "08c2c2aa",
   "metadata": {
    "papermill": {
     "duration": 0.068357,
     "end_time": "2021-11-27T15:22:11.684059",
     "exception": false,
     "start_time": "2021-11-27T15:22:11.615702",
     "status": "completed"
    },
    "tags": []
   },
   "source": [
    "## Statistical Test 3 : T-test"
   ]
  },
  {
   "cell_type": "code",
   "execution_count": 40,
   "id": "aa15a5d3",
   "metadata": {
    "execution": {
     "iopub.execute_input": "2021-11-27T15:22:11.826950Z",
     "iopub.status.busy": "2021-11-27T15:22:11.826276Z",
     "iopub.status.idle": "2021-11-27T15:22:11.829943Z",
     "shell.execute_reply": "2021-11-27T15:22:11.830562Z",
     "shell.execute_reply.started": "2021-11-27T15:12:04.972677Z"
    },
    "papermill": {
     "duration": 0.076837,
     "end_time": "2021-11-27T15:22:11.830769",
     "exception": false,
     "start_time": "2021-11-27T15:22:11.753932",
     "status": "completed"
    },
    "tags": []
   },
   "outputs": [],
   "source": [
    "# two-sample t-test\n",
    "t_val_s, p_val_s = ttest_ind(Z, Y)"
   ]
  },
  {
   "cell_type": "code",
   "execution_count": 41,
   "id": "7b3dbcd4",
   "metadata": {
    "execution": {
     "iopub.execute_input": "2021-11-27T15:22:11.976573Z",
     "iopub.status.busy": "2021-11-27T15:22:11.973002Z",
     "iopub.status.idle": "2021-11-27T15:22:11.980324Z",
     "shell.execute_reply": "2021-11-27T15:22:11.981000Z",
     "shell.execute_reply.started": "2021-11-27T15:12:04.982625Z"
    },
    "papermill": {
     "duration": 0.080941,
     "end_time": "2021-11-27T15:22:11.981264",
     "exception": false,
     "start_time": "2021-11-27T15:22:11.900323",
     "status": "completed"
    },
    "tags": []
   },
   "outputs": [
    {
     "name": "stdout",
     "output_type": "stream",
     "text": [
      "T-test statistic: -4.051039506591671\n",
      "P-value: 5.26476936965127e-05\n"
     ]
    }
   ],
   "source": [
    "print(\"T-test statistic:\", t_val_s)\n",
    "print(\"P-value:\", p_val_s)"
   ]
  },
  {
   "cell_type": "code",
   "execution_count": 42,
   "id": "2edcf4cc",
   "metadata": {
    "execution": {
     "iopub.execute_input": "2021-11-27T15:22:12.130485Z",
     "iopub.status.busy": "2021-11-27T15:22:12.127586Z",
     "iopub.status.idle": "2021-11-27T15:22:12.132706Z",
     "shell.execute_reply": "2021-11-27T15:22:12.133279Z",
     "shell.execute_reply.started": "2021-11-27T15:12:04.994361Z"
    },
    "papermill": {
     "duration": 0.081231,
     "end_time": "2021-11-27T15:22:12.133478",
     "exception": false,
     "start_time": "2021-11-27T15:22:12.052247",
     "status": "completed"
    },
    "tags": []
   },
   "outputs": [],
   "source": [
    "test_table.loc['Sanskriti,Evaluator','T2_Statistic'] = t_val_s\n",
    "test_table.loc['Sanskriti,Evaluator','T2_P'] = p_value_fill(p_val_s)"
   ]
  },
  {
   "cell_type": "code",
   "execution_count": 43,
   "id": "5c36c367",
   "metadata": {
    "execution": {
     "iopub.execute_input": "2021-11-27T15:22:12.276633Z",
     "iopub.status.busy": "2021-11-27T15:22:12.275651Z",
     "iopub.status.idle": "2021-11-27T15:22:12.280028Z",
     "shell.execute_reply": "2021-11-27T15:22:12.280719Z",
     "shell.execute_reply.started": "2021-11-27T15:12:05.004029Z"
    },
    "papermill": {
     "duration": 0.078778,
     "end_time": "2021-11-27T15:22:12.280898",
     "exception": false,
     "start_time": "2021-11-27T15:22:12.202120",
     "status": "completed"
    },
    "tags": []
   },
   "outputs": [],
   "source": [
    "# paired t-test\n",
    "paired_t_s, paired_p_s = ttest_rel(Z, Y)"
   ]
  },
  {
   "cell_type": "code",
   "execution_count": 44,
   "id": "840dcb9a",
   "metadata": {
    "execution": {
     "iopub.execute_input": "2021-11-27T15:22:12.423135Z",
     "iopub.status.busy": "2021-11-27T15:22:12.422118Z",
     "iopub.status.idle": "2021-11-27T15:22:12.428298Z",
     "shell.execute_reply": "2021-11-27T15:22:12.428858Z",
     "shell.execute_reply.started": "2021-11-27T15:12:05.015630Z"
    },
    "papermill": {
     "duration": 0.079037,
     "end_time": "2021-11-27T15:22:12.429050",
     "exception": false,
     "start_time": "2021-11-27T15:22:12.350013",
     "status": "completed"
    },
    "tags": []
   },
   "outputs": [
    {
     "name": "stdout",
     "output_type": "stream",
     "text": [
      "Paired T-test statistic: -11.00060048181635\n",
      "Paired P-value: 7.404065218926756e-27\n"
     ]
    }
   ],
   "source": [
    "print(\"Paired T-test statistic:\", paired_t_s)\n",
    "print(\"Paired P-value:\", paired_p_s)"
   ]
  },
  {
   "cell_type": "code",
   "execution_count": 45,
   "id": "0a84e321",
   "metadata": {
    "execution": {
     "iopub.execute_input": "2021-11-27T15:22:12.573246Z",
     "iopub.status.busy": "2021-11-27T15:22:12.572499Z",
     "iopub.status.idle": "2021-11-27T15:22:12.576734Z",
     "shell.execute_reply": "2021-11-27T15:22:12.577361Z",
     "shell.execute_reply.started": "2021-11-27T15:12:05.027262Z"
    },
    "papermill": {
     "duration": 0.078631,
     "end_time": "2021-11-27T15:22:12.577561",
     "exception": false,
     "start_time": "2021-11-27T15:22:12.498930",
     "status": "completed"
    },
    "tags": []
   },
   "outputs": [],
   "source": [
    "test_table.loc['Sanskriti,Evaluator','T_Paired_Statistic'] = paired_t_s\n",
    "test_table.loc['Sanskriti,Evaluator','T_Paired_P'] = p_value_fill(paired_p_s)"
   ]
  },
  {
   "cell_type": "code",
   "execution_count": 46,
   "id": "fd662be9",
   "metadata": {
    "execution": {
     "iopub.execute_input": "2021-11-27T15:22:12.724437Z",
     "iopub.status.busy": "2021-11-27T15:22:12.723707Z",
     "iopub.status.idle": "2021-11-27T15:22:12.734546Z",
     "shell.execute_reply": "2021-11-27T15:22:12.733441Z",
     "shell.execute_reply.started": "2021-11-27T15:12:05.041698Z"
    },
    "papermill": {
     "duration": 0.08631,
     "end_time": "2021-11-27T15:22:12.734795",
     "exception": false,
     "start_time": "2021-11-27T15:22:12.648485",
     "status": "completed"
    },
    "tags": []
   },
   "outputs": [
    {
     "name": "stdout",
     "output_type": "stream",
     "text": [
      "Agreement between Sanskriti and Evaluator: 0.6416015938815515\n"
     ]
    }
   ],
   "source": [
    "print(\"Agreement between Sanskriti and Evaluator:\", cohen_kappa_score(Z_cat,Y_cat))"
   ]
  },
  {
   "cell_type": "code",
   "execution_count": 47,
   "id": "be653613",
   "metadata": {
    "execution": {
     "iopub.execute_input": "2021-11-27T15:22:12.881152Z",
     "iopub.status.busy": "2021-11-27T15:22:12.880491Z",
     "iopub.status.idle": "2021-11-27T15:22:12.892100Z",
     "shell.execute_reply": "2021-11-27T15:22:12.892666Z",
     "shell.execute_reply.started": "2021-11-27T15:12:05.058138Z"
    },
    "papermill": {
     "duration": 0.086525,
     "end_time": "2021-11-27T15:22:12.892866",
     "exception": false,
     "start_time": "2021-11-27T15:22:12.806341",
     "status": "completed"
    },
    "tags": []
   },
   "outputs": [
    {
     "data": {
      "text/html": [
       "<div>\n",
       "<style scoped>\n",
       "    .dataframe tbody tr th:only-of-type {\n",
       "        vertical-align: middle;\n",
       "    }\n",
       "\n",
       "    .dataframe tbody tr th {\n",
       "        vertical-align: top;\n",
       "    }\n",
       "\n",
       "    .dataframe thead th {\n",
       "        text-align: right;\n",
       "    }\n",
       "</style>\n",
       "<table border=\"1\" class=\"dataframe\">\n",
       "  <thead>\n",
       "    <tr style=\"text-align: right;\">\n",
       "      <th></th>\n",
       "      <th>MWU_Statistic</th>\n",
       "      <th>MWU_P</th>\n",
       "      <th>ANOVA_Statistic</th>\n",
       "      <th>ANOVA_P</th>\n",
       "      <th>T2_Statistic</th>\n",
       "      <th>T2_P</th>\n",
       "      <th>T_Paired_Statistic</th>\n",
       "      <th>T_Paired_P</th>\n",
       "    </tr>\n",
       "  </thead>\n",
       "  <tbody>\n",
       "    <tr>\n",
       "      <th>Anjali,Evaluator</th>\n",
       "      <td>571685.0</td>\n",
       "      <td>e-15</td>\n",
       "      <td>43.606124</td>\n",
       "      <td>e-11</td>\n",
       "      <td>-9.044728</td>\n",
       "      <td>e-19</td>\n",
       "      <td>-18.99596</td>\n",
       "      <td>e-70</td>\n",
       "    </tr>\n",
       "    <tr>\n",
       "      <th>Sanskriti,Evaluator</th>\n",
       "      <td>626065.0</td>\n",
       "      <td>e-05</td>\n",
       "      <td>9.615212</td>\n",
       "      <td>0.00196</td>\n",
       "      <td>-4.05104</td>\n",
       "      <td>e-05</td>\n",
       "      <td>-11.0006</td>\n",
       "      <td>e-27</td>\n",
       "    </tr>\n",
       "  </tbody>\n",
       "</table>\n",
       "</div>"
      ],
      "text/plain": [
       "                    MWU_Statistic MWU_P ANOVA_Statistic  ANOVA_P T2_Statistic  \\\n",
       "Anjali,Evaluator         571685.0  e-15       43.606124     e-11    -9.044728   \n",
       "Sanskriti,Evaluator      626065.0  e-05        9.615212  0.00196     -4.05104   \n",
       "\n",
       "                     T2_P T_Paired_Statistic T_Paired_P  \n",
       "Anjali,Evaluator     e-19          -18.99596       e-70  \n",
       "Sanskriti,Evaluator  e-05           -11.0006       e-27  "
      ]
     },
     "execution_count": 47,
     "metadata": {},
     "output_type": "execute_result"
    }
   ],
   "source": [
    "test_table"
   ]
  },
  {
   "cell_type": "markdown",
   "id": "f5fbb64a",
   "metadata": {
    "papermill": {
     "duration": 0.069775,
     "end_time": "2021-11-27T15:22:13.035021",
     "exception": false,
     "start_time": "2021-11-27T15:22:12.965246",
     "status": "completed"
    },
    "tags": []
   },
   "source": [
    "# Anjali vs Sanskriti"
   ]
  },
  {
   "cell_type": "markdown",
   "id": "17312c45",
   "metadata": {
    "papermill": {
     "duration": 0.070006,
     "end_time": "2021-11-27T15:22:13.176650",
     "exception": false,
     "start_time": "2021-11-27T15:22:13.106644",
     "status": "completed"
    },
    "tags": []
   },
   "source": [
    "## Statistical Test 1 : Mann-Whitney U Test"
   ]
  },
  {
   "cell_type": "code",
   "execution_count": 48,
   "id": "ec334741",
   "metadata": {
    "execution": {
     "iopub.execute_input": "2021-11-27T15:22:13.321489Z",
     "iopub.status.busy": "2021-11-27T15:22:13.320711Z",
     "iopub.status.idle": "2021-11-27T15:22:13.328441Z",
     "shell.execute_reply": "2021-11-27T15:22:13.329354Z",
     "shell.execute_reply.started": "2021-11-27T15:14:00.795229Z"
    },
    "papermill": {
     "duration": 0.08194,
     "end_time": "2021-11-27T15:22:13.329652",
     "exception": false,
     "start_time": "2021-11-27T15:22:13.247712",
     "status": "completed"
    },
    "tags": []
   },
   "outputs": [
    {
     "name": "stdout",
     "output_type": "stream",
     "text": [
      "Statistic :  629609.5\n",
      "Probability :  7.584265437894556e-05\n"
     ]
    }
   ],
   "source": [
    "statistic_as, p_as = mannwhitneyu(X,Z)\n",
    "print(\"Statistic : \", statistic_as)\n",
    "print(\"Probability : \", p_as)"
   ]
  },
  {
   "cell_type": "code",
   "execution_count": 49,
   "id": "b0601372",
   "metadata": {
    "execution": {
     "iopub.execute_input": "2021-11-27T15:22:13.478539Z",
     "iopub.status.busy": "2021-11-27T15:22:13.477803Z",
     "iopub.status.idle": "2021-11-27T15:22:13.482618Z",
     "shell.execute_reply": "2021-11-27T15:22:13.483195Z",
     "shell.execute_reply.started": "2021-11-27T15:14:34.936657Z"
    },
    "papermill": {
     "duration": 0.080444,
     "end_time": "2021-11-27T15:22:13.483407",
     "exception": false,
     "start_time": "2021-11-27T15:22:13.402963",
     "status": "completed"
    },
    "tags": []
   },
   "outputs": [],
   "source": [
    "test_table.loc['Anjali,Sanskriti','MWU_Statistic'] = statistic_as\n",
    "test_table.loc['Anjali,Sanskriti','MWU_P'] = p_value_fill(p_as)"
   ]
  },
  {
   "cell_type": "markdown",
   "id": "e0d38666",
   "metadata": {
    "papermill": {
     "duration": 0.071213,
     "end_time": "2021-11-27T15:22:13.625737",
     "exception": false,
     "start_time": "2021-11-27T15:22:13.554524",
     "status": "completed"
    },
    "tags": []
   },
   "source": [
    "## Statistical Test 2 : ANOVA"
   ]
  },
  {
   "cell_type": "code",
   "execution_count": 50,
   "id": "8620ff57",
   "metadata": {
    "execution": {
     "iopub.execute_input": "2021-11-27T15:22:13.770623Z",
     "iopub.status.busy": "2021-11-27T15:22:13.769950Z",
     "iopub.status.idle": "2021-11-27T15:22:13.774007Z",
     "shell.execute_reply": "2021-11-27T15:22:13.774570Z",
     "shell.execute_reply.started": "2021-11-27T15:15:09.058168Z"
    },
    "papermill": {
     "duration": 0.07812,
     "end_time": "2021-11-27T15:22:13.774784",
     "exception": false,
     "start_time": "2021-11-27T15:22:13.696664",
     "status": "completed"
    },
    "tags": []
   },
   "outputs": [],
   "source": [
    "anova_stat_as, anova_p_as = f_oneway(X_sample,Z_sample)"
   ]
  },
  {
   "cell_type": "code",
   "execution_count": 51,
   "id": "6b549702",
   "metadata": {
    "execution": {
     "iopub.execute_input": "2021-11-27T15:22:13.920585Z",
     "iopub.status.busy": "2021-11-27T15:22:13.919748Z",
     "iopub.status.idle": "2021-11-27T15:22:13.924906Z",
     "shell.execute_reply": "2021-11-27T15:22:13.925754Z",
     "shell.execute_reply.started": "2021-11-27T15:15:22.490847Z"
    },
    "papermill": {
     "duration": 0.079883,
     "end_time": "2021-11-27T15:22:13.926023",
     "exception": false,
     "start_time": "2021-11-27T15:22:13.846140",
     "status": "completed"
    },
    "tags": []
   },
   "outputs": [
    {
     "name": "stdout",
     "output_type": "stream",
     "text": [
      "ANOVA Statistic: 10.45267352180343\n",
      "ANOVA P-value: 0.0012588561231025607\n"
     ]
    }
   ],
   "source": [
    "print(\"ANOVA Statistic:\", anova_stat_as)\n",
    "print(\"ANOVA P-value:\", anova_p_as)"
   ]
  },
  {
   "cell_type": "code",
   "execution_count": 52,
   "id": "7386f2cc",
   "metadata": {
    "execution": {
     "iopub.execute_input": "2021-11-27T15:22:14.073780Z",
     "iopub.status.busy": "2021-11-27T15:22:14.073051Z",
     "iopub.status.idle": "2021-11-27T15:22:14.077097Z",
     "shell.execute_reply": "2021-11-27T15:22:14.077803Z",
     "shell.execute_reply.started": "2021-11-27T15:15:56.564114Z"
    },
    "papermill": {
     "duration": 0.07975,
     "end_time": "2021-11-27T15:22:14.078010",
     "exception": false,
     "start_time": "2021-11-27T15:22:13.998260",
     "status": "completed"
    },
    "tags": []
   },
   "outputs": [],
   "source": [
    "test_table.loc['Anjali,Sanskriti','ANOVA_Statistic'] = anova_stat_as\n",
    "test_table.loc['Anjali,Sanskriti','ANOVA_P'] = p_value_fill(anova_p_as)"
   ]
  },
  {
   "cell_type": "markdown",
   "id": "938f5a33",
   "metadata": {
    "papermill": {
     "duration": 0.071541,
     "end_time": "2021-11-27T15:22:14.222430",
     "exception": false,
     "start_time": "2021-11-27T15:22:14.150889",
     "status": "completed"
    },
    "tags": []
   },
   "source": [
    "## Statistical Test 3 : T-test"
   ]
  },
  {
   "cell_type": "code",
   "execution_count": 53,
   "id": "17aac333",
   "metadata": {
    "execution": {
     "iopub.execute_input": "2021-11-27T15:22:14.371768Z",
     "iopub.status.busy": "2021-11-27T15:22:14.371064Z",
     "iopub.status.idle": "2021-11-27T15:22:14.374747Z",
     "shell.execute_reply": "2021-11-27T15:22:14.375291Z",
     "shell.execute_reply.started": "2021-11-27T15:16:32.106462Z"
    },
    "papermill": {
     "duration": 0.078221,
     "end_time": "2021-11-27T15:22:14.375491",
     "exception": false,
     "start_time": "2021-11-27T15:22:14.297270",
     "status": "completed"
    },
    "tags": []
   },
   "outputs": [],
   "source": [
    "# two-sample t-test\n",
    "t_val_as, p_val_as = ttest_ind(X,Z)"
   ]
  },
  {
   "cell_type": "code",
   "execution_count": 54,
   "id": "ff151174",
   "metadata": {
    "execution": {
     "iopub.execute_input": "2021-11-27T15:22:14.523706Z",
     "iopub.status.busy": "2021-11-27T15:22:14.522981Z",
     "iopub.status.idle": "2021-11-27T15:22:14.527665Z",
     "shell.execute_reply": "2021-11-27T15:22:14.528265Z",
     "shell.execute_reply.started": "2021-11-27T15:16:43.529583Z"
    },
    "papermill": {
     "duration": 0.081678,
     "end_time": "2021-11-27T15:22:14.528473",
     "exception": false,
     "start_time": "2021-11-27T15:22:14.446795",
     "status": "completed"
    },
    "tags": []
   },
   "outputs": [
    {
     "name": "stdout",
     "output_type": "stream",
     "text": [
      "T-test statistic: -4.99482451220366\n",
      "P-value: 6.322683959931308e-07\n"
     ]
    }
   ],
   "source": [
    "print(\"T-test statistic:\", t_val_as)\n",
    "print(\"P-value:\", p_val_as)"
   ]
  },
  {
   "cell_type": "code",
   "execution_count": 55,
   "id": "9d934900",
   "metadata": {
    "execution": {
     "iopub.execute_input": "2021-11-27T15:22:14.675501Z",
     "iopub.status.busy": "2021-11-27T15:22:14.674749Z",
     "iopub.status.idle": "2021-11-27T15:22:14.678636Z",
     "shell.execute_reply": "2021-11-27T15:22:14.679152Z",
     "shell.execute_reply.started": "2021-11-27T15:17:13.457262Z"
    },
    "papermill": {
     "duration": 0.079119,
     "end_time": "2021-11-27T15:22:14.679383",
     "exception": false,
     "start_time": "2021-11-27T15:22:14.600264",
     "status": "completed"
    },
    "tags": []
   },
   "outputs": [],
   "source": [
    "test_table.loc['Anjali,Sanskriti','T2_Statistic'] = t_val_as\n",
    "test_table.loc['Anjali,Sanskriti','T2_P'] = p_value_fill(p_val_as)"
   ]
  },
  {
   "cell_type": "code",
   "execution_count": 56,
   "id": "83660235",
   "metadata": {
    "execution": {
     "iopub.execute_input": "2021-11-27T15:22:14.828323Z",
     "iopub.status.busy": "2021-11-27T15:22:14.827575Z",
     "iopub.status.idle": "2021-11-27T15:22:14.832027Z",
     "shell.execute_reply": "2021-11-27T15:22:14.832608Z",
     "shell.execute_reply.started": "2021-11-27T15:17:32.926674Z"
    },
    "papermill": {
     "duration": 0.080501,
     "end_time": "2021-11-27T15:22:14.832820",
     "exception": false,
     "start_time": "2021-11-27T15:22:14.752319",
     "status": "completed"
    },
    "tags": []
   },
   "outputs": [],
   "source": [
    "# paired t-test\n",
    "paired_t_as, paired_p_as = ttest_rel(X,Z)"
   ]
  },
  {
   "cell_type": "code",
   "execution_count": 57,
   "id": "eaa51522",
   "metadata": {
    "execution": {
     "iopub.execute_input": "2021-11-27T15:22:14.984644Z",
     "iopub.status.busy": "2021-11-27T15:22:14.983939Z",
     "iopub.status.idle": "2021-11-27T15:22:14.988627Z",
     "shell.execute_reply": "2021-11-27T15:22:14.989159Z",
     "shell.execute_reply.started": "2021-11-27T15:17:44.593501Z"
    },
    "papermill": {
     "duration": 0.084669,
     "end_time": "2021-11-27T15:22:14.989373",
     "exception": false,
     "start_time": "2021-11-27T15:22:14.904704",
     "status": "completed"
    },
    "tags": []
   },
   "outputs": [
    {
     "name": "stdout",
     "output_type": "stream",
     "text": [
      "Paired T-test statistic: -15.437909364284565\n",
      "Paired P-value: 4.344319895493998e-49\n"
     ]
    }
   ],
   "source": [
    "print(\"Paired T-test statistic:\", paired_t_as)\n",
    "print(\"Paired P-value:\", paired_p_as)"
   ]
  },
  {
   "cell_type": "code",
   "execution_count": 58,
   "id": "1668c077",
   "metadata": {
    "execution": {
     "iopub.execute_input": "2021-11-27T15:22:15.141623Z",
     "iopub.status.busy": "2021-11-27T15:22:15.140861Z",
     "iopub.status.idle": "2021-11-27T15:22:15.144524Z",
     "shell.execute_reply": "2021-11-27T15:22:15.145019Z",
     "shell.execute_reply.started": "2021-11-27T15:18:17.081657Z"
    },
    "papermill": {
     "duration": 0.0829,
     "end_time": "2021-11-27T15:22:15.145269",
     "exception": false,
     "start_time": "2021-11-27T15:22:15.062369",
     "status": "completed"
    },
    "tags": []
   },
   "outputs": [],
   "source": [
    "test_table.loc['Anjali,Sanskriti','T_Paired_Statistic'] = paired_t_as\n",
    "test_table.loc['Anjali,Sanskriti','T_Paired_P'] = p_value_fill(paired_p_as)"
   ]
  },
  {
   "cell_type": "code",
   "execution_count": 59,
   "id": "112e4f5a",
   "metadata": {
    "execution": {
     "iopub.execute_input": "2021-11-27T15:22:15.294424Z",
     "iopub.status.busy": "2021-11-27T15:22:15.293352Z",
     "iopub.status.idle": "2021-11-27T15:22:15.304999Z",
     "shell.execute_reply": "2021-11-27T15:22:15.305658Z",
     "shell.execute_reply.started": "2021-11-27T15:18:42.208139Z"
    },
    "papermill": {
     "duration": 0.087581,
     "end_time": "2021-11-27T15:22:15.305877",
     "exception": false,
     "start_time": "2021-11-27T15:22:15.218296",
     "status": "completed"
    },
    "tags": []
   },
   "outputs": [
    {
     "name": "stdout",
     "output_type": "stream",
     "text": [
      "Agreement between Sanskriti and Anjali: 0.5228787870329534\n"
     ]
    }
   ],
   "source": [
    "print(\"Agreement between Sanskriti and Anjali:\", cohen_kappa_score(Z_cat,X_cat))"
   ]
  },
  {
   "cell_type": "code",
   "execution_count": 60,
   "id": "28108051",
   "metadata": {
    "execution": {
     "iopub.execute_input": "2021-11-27T15:22:15.456045Z",
     "iopub.status.busy": "2021-11-27T15:22:15.454987Z",
     "iopub.status.idle": "2021-11-27T15:22:15.478633Z",
     "shell.execute_reply": "2021-11-27T15:22:15.479365Z",
     "shell.execute_reply.started": "2021-11-27T15:20:09.541623Z"
    },
    "papermill": {
     "duration": 0.100488,
     "end_time": "2021-11-27T15:22:15.479577",
     "exception": false,
     "start_time": "2021-11-27T15:22:15.379089",
     "status": "completed"
    },
    "tags": []
   },
   "outputs": [],
   "source": [
    "test_table.loc['Anjali,Sanskriti','CKS'] = cohen_kappa_score(Z_cat, X_cat)\n",
    "test_table.loc['Anjali,Evaluator','CKS'] = cohen_kappa_score(Y_cat, X_cat)\n",
    "test_table.loc['Sanskriti,Evaluator','CKS'] = cohen_kappa_score(Z_cat, Y_cat)"
   ]
  },
  {
   "cell_type": "code",
   "execution_count": 61,
   "id": "c66fff97",
   "metadata": {
    "execution": {
     "iopub.execute_input": "2021-11-27T15:22:15.628291Z",
     "iopub.status.busy": "2021-11-27T15:22:15.627247Z",
     "iopub.status.idle": "2021-11-27T15:22:15.641947Z",
     "shell.execute_reply": "2021-11-27T15:22:15.642558Z",
     "shell.execute_reply.started": "2021-11-27T15:20:19.432598Z"
    },
    "papermill": {
     "duration": 0.090759,
     "end_time": "2021-11-27T15:22:15.642774",
     "exception": false,
     "start_time": "2021-11-27T15:22:15.552015",
     "status": "completed"
    },
    "tags": []
   },
   "outputs": [
    {
     "data": {
      "text/html": [
       "<div>\n",
       "<style scoped>\n",
       "    .dataframe tbody tr th:only-of-type {\n",
       "        vertical-align: middle;\n",
       "    }\n",
       "\n",
       "    .dataframe tbody tr th {\n",
       "        vertical-align: top;\n",
       "    }\n",
       "\n",
       "    .dataframe thead th {\n",
       "        text-align: right;\n",
       "    }\n",
       "</style>\n",
       "<table border=\"1\" class=\"dataframe\">\n",
       "  <thead>\n",
       "    <tr style=\"text-align: right;\">\n",
       "      <th></th>\n",
       "      <th>MWU_Statistic</th>\n",
       "      <th>MWU_P</th>\n",
       "      <th>ANOVA_Statistic</th>\n",
       "      <th>ANOVA_P</th>\n",
       "      <th>T2_Statistic</th>\n",
       "      <th>T2_P</th>\n",
       "      <th>T_Paired_Statistic</th>\n",
       "      <th>T_Paired_P</th>\n",
       "      <th>CKS</th>\n",
       "    </tr>\n",
       "  </thead>\n",
       "  <tbody>\n",
       "    <tr>\n",
       "      <th>Anjali,Evaluator</th>\n",
       "      <td>571685.0</td>\n",
       "      <td>e-15</td>\n",
       "      <td>43.606124</td>\n",
       "      <td>e-11</td>\n",
       "      <td>-9.044728</td>\n",
       "      <td>e-19</td>\n",
       "      <td>-18.99596</td>\n",
       "      <td>e-70</td>\n",
       "      <td>0.440405</td>\n",
       "    </tr>\n",
       "    <tr>\n",
       "      <th>Sanskriti,Evaluator</th>\n",
       "      <td>626065.0</td>\n",
       "      <td>e-05</td>\n",
       "      <td>9.615212</td>\n",
       "      <td>0.00196</td>\n",
       "      <td>-4.05104</td>\n",
       "      <td>e-05</td>\n",
       "      <td>-11.0006</td>\n",
       "      <td>e-27</td>\n",
       "      <td>0.641602</td>\n",
       "    </tr>\n",
       "    <tr>\n",
       "      <th>Anjali,Sanskriti</th>\n",
       "      <td>629609.5</td>\n",
       "      <td>e-05</td>\n",
       "      <td>10.452674</td>\n",
       "      <td>0.001259</td>\n",
       "      <td>-4.994825</td>\n",
       "      <td>e-07</td>\n",
       "      <td>-15.437909</td>\n",
       "      <td>e-49</td>\n",
       "      <td>0.522879</td>\n",
       "    </tr>\n",
       "  </tbody>\n",
       "</table>\n",
       "</div>"
      ],
      "text/plain": [
       "                    MWU_Statistic MWU_P ANOVA_Statistic   ANOVA_P  \\\n",
       "Anjali,Evaluator         571685.0  e-15       43.606124      e-11   \n",
       "Sanskriti,Evaluator      626065.0  e-05        9.615212   0.00196   \n",
       "Anjali,Sanskriti         629609.5  e-05       10.452674  0.001259   \n",
       "\n",
       "                    T2_Statistic  T2_P T_Paired_Statistic T_Paired_P       CKS  \n",
       "Anjali,Evaluator       -9.044728  e-19          -18.99596       e-70  0.440405  \n",
       "Sanskriti,Evaluator     -4.05104  e-05           -11.0006       e-27  0.641602  \n",
       "Anjali,Sanskriti       -4.994825  e-07         -15.437909       e-49  0.522879  "
      ]
     },
     "execution_count": 61,
     "metadata": {},
     "output_type": "execute_result"
    }
   ],
   "source": [
    "test_table"
   ]
  },
  {
   "cell_type": "code",
   "execution_count": null,
   "id": "771ac727",
   "metadata": {
    "papermill": {
     "duration": 0.072243,
     "end_time": "2021-11-27T15:22:15.787659",
     "exception": false,
     "start_time": "2021-11-27T15:22:15.715416",
     "status": "completed"
    },
    "tags": []
   },
   "outputs": [],
   "source": []
  },
  {
   "cell_type": "code",
   "execution_count": null,
   "id": "1f9e498a",
   "metadata": {
    "papermill": {
     "duration": 0.07206,
     "end_time": "2021-11-27T15:22:15.932445",
     "exception": false,
     "start_time": "2021-11-27T15:22:15.860385",
     "status": "completed"
    },
    "tags": []
   },
   "outputs": [],
   "source": []
  }
 ],
 "metadata": {
  "kernelspec": {
   "display_name": "Python 3",
   "language": "python",
   "name": "python3"
  },
  "language_info": {
   "codemirror_mode": {
    "name": "ipython",
    "version": 3
   },
   "file_extension": ".py",
   "mimetype": "text/x-python",
   "name": "python",
   "nbconvert_exporter": "python",
   "pygments_lexer": "ipython3",
   "version": "3.7.10"
  },
  "papermill": {
   "default_parameters": {},
   "duration": 38.859741,
   "end_time": "2021-11-27T15:22:17.019681",
   "environment_variables": {},
   "exception": null,
   "input_path": "__notebook__.ipynb",
   "output_path": "__notebook__.ipynb",
   "parameters": {},
   "start_time": "2021-11-27T15:21:38.159940",
   "version": "2.3.3"
  }
 },
 "nbformat": 4,
 "nbformat_minor": 5
}
