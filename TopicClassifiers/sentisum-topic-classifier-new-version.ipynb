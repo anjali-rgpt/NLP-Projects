{
 "cells": [
  {
   "cell_type": "code",
   "execution_count": 1,
   "id": "8405c6c5",
   "metadata": {
    "_cell_guid": "b1076dfc-b9ad-4769-8c92-a6c4dae69d19",
    "_uuid": "8f2839f25d086af736a60e9eeb907d3b93b6e0e5",
    "execution": {
     "iopub.execute_input": "2022-01-09T21:27:59.086355Z",
     "iopub.status.busy": "2022-01-09T21:27:59.085298Z",
     "iopub.status.idle": "2022-01-09T21:28:08.613407Z",
     "shell.execute_reply": "2022-01-09T21:28:08.612708Z",
     "shell.execute_reply.started": "2022-01-09T21:24:21.420808Z"
    },
    "papermill": {
     "duration": 9.599055,
     "end_time": "2022-01-09T21:28:08.613566",
     "exception": false,
     "start_time": "2022-01-09T21:27:59.014511",
     "status": "completed"
    },
    "tags": []
   },
   "outputs": [
    {
     "name": "stderr",
     "output_type": "stream",
     "text": [
      "/opt/conda/lib/python3.7/site-packages/past/types/oldstr.py:36: DeprecationWarning: invalid escape sequence \\d\n",
      "  \"\"\"\n"
     ]
    }
   ],
   "source": [
    "import numpy as np # linear algebra\n",
    "import pandas as pd # data processing, CSV file I/O (e.g. pd.read_csv)\n",
    "import matplotlib.pyplot as plt #visualization\n",
    "%matplotlib inline\n",
    "import seaborn as sns\n",
    "from nltk import sent_tokenize, word_tokenize  #tokenization\n",
    "from nltk.tokenize import MWETokenizer #multi-word-tokenization\n",
    "import re  #regular expressions\n",
    "import spacy  #part-of-speech tagging\n",
    "from gensim.models.fasttext import FastText\n",
    "from sklearn.metrics.pairwise import cosine_similarity  #similarities\n",
    "import pyLDAvis.gensim  #topic model\n",
    "import warnings"
   ]
  },
  {
   "cell_type": "code",
   "execution_count": 2,
   "id": "88a8b8c9",
   "metadata": {
    "execution": {
     "iopub.execute_input": "2022-01-09T21:28:08.809902Z",
     "iopub.status.busy": "2022-01-09T21:28:08.809344Z",
     "iopub.status.idle": "2022-01-09T21:28:08.892624Z",
     "shell.execute_reply": "2022-01-09T21:28:08.893090Z",
     "shell.execute_reply.started": "2022-01-09T21:24:30.849907Z"
    },
    "papermill": {
     "duration": 0.210656,
     "end_time": "2022-01-09T21:28:08.893258",
     "exception": false,
     "start_time": "2022-01-09T21:28:08.682602",
     "status": "completed"
    },
    "tags": []
   },
   "outputs": [
    {
     "name": "stdout",
     "output_type": "stream",
     "text": [
      "[nltk_data] Downloading package stopwords to /usr/share/nltk_data...\n",
      "[nltk_data]   Package stopwords is already up-to-date!\n"
     ]
    }
   ],
   "source": [
    "import nltk\n",
    "nltk.download('stopwords')\n",
    "from nltk.corpus import stopwords"
   ]
  },
  {
   "cell_type": "code",
   "execution_count": 3,
   "id": "7be25170",
   "metadata": {
    "execution": {
     "iopub.execute_input": "2022-01-09T21:28:09.032273Z",
     "iopub.status.busy": "2022-01-09T21:28:09.031661Z",
     "iopub.status.idle": "2022-01-09T21:28:09.087325Z",
     "shell.execute_reply": "2022-01-09T21:28:09.087765Z",
     "shell.execute_reply.started": "2022-01-09T21:24:30.941163Z"
    },
    "papermill": {
     "duration": 0.128494,
     "end_time": "2022-01-09T21:28:09.087955",
     "exception": false,
     "start_time": "2022-01-09T21:28:08.959461",
     "status": "completed"
    },
    "tags": []
   },
   "outputs": [],
   "source": [
    "dataset = pd.read_csv('../input/sentisumtopics/sentisum-assessment-dataset.csv', usecols = [0], names = ['Review'])"
   ]
  },
  {
   "cell_type": "markdown",
   "id": "6d41c02c",
   "metadata": {
    "papermill": {
     "duration": 0.065615,
     "end_time": "2022-01-09T21:28:09.221640",
     "exception": false,
     "start_time": "2022-01-09T21:28:09.156025",
     "status": "completed"
    },
    "tags": []
   },
   "source": [
    "# Section 1 : Preprocessing"
   ]
  },
  {
   "cell_type": "code",
   "execution_count": 4,
   "id": "c6ee4d5c",
   "metadata": {
    "execution": {
     "iopub.execute_input": "2022-01-09T21:28:09.363052Z",
     "iopub.status.busy": "2022-01-09T21:28:09.362359Z",
     "iopub.status.idle": "2022-01-09T21:28:09.364666Z",
     "shell.execute_reply": "2022-01-09T21:28:09.365172Z",
     "shell.execute_reply.started": "2022-01-09T21:24:31.005317Z"
    },
    "papermill": {
     "duration": 0.077547,
     "end_time": "2022-01-09T21:28:09.365329",
     "exception": false,
     "start_time": "2022-01-09T21:28:09.287782",
     "status": "completed"
    },
    "tags": []
   },
   "outputs": [],
   "source": [
    "def normalize_data(data, keep_nonascii = False, keep_punctuation = False, remove_extra_spaces = True, lowercase = True, word_length = None):\n",
    "    \"\"\"\n",
    "    Performs specific cleaning operations on the data, as long as the data is a string.\n",
    "    :param data: string representing review\n",
    "    :param keep_nonascii: boolean value representing whether to keep non-ascii characters or not\n",
    "    :param keep_punctuation: boolean value representing whether to keep punctuation or not\n",
    "    :param remove_extra_spaces: boolean value representing whether to remove extra spaces between, before, and after words\n",
    "    :param lowercase: boolean value representing whether to lowercase data or not\n",
    "    :param word_length: if None, word length is not taken into account. If it is a number, only words greater than or equal to specific length will be kept.\n",
    "    :return: normalized string\n",
    "    \"\"\"\n",
    "    assert type(data) == type('Document'),\"Your data is not a string.\"\n",
    "    temp_data = data\n",
    "    if not keep_nonascii:\n",
    "        temp_data = temp_data.encode('ascii', errors = 'ignore')\n",
    "    if not keep_punctuation:\n",
    "        regular_expression = re.compile('[' + re.escape('!@#$^&*\\'()+=-_,./:;<>?\"[\\\\]^_`{|}~')+'0-9\\\\r\\\\t\\\\n]')\n",
    "        temp_data = regular_expression.sub(' ', temp_data.decode('utf-8'))\n",
    "    if remove_extra_spaces:\n",
    "        split_data = temp_data.split(' ')\n",
    "        just_words = [word.strip() for word in split_data if word not in ['','\\r','\\t',' ']]\n",
    "        temp_data = ' '.join(split_data)\n",
    "    if lowercase:\n",
    "        temp_data = temp_data.lower()\n",
    "    if word_length:\n",
    "        assert type(word_length) == type(5)\n",
    "        split_data = temp_data.split(' ')\n",
    "        select_words = [word.strip() for word in split_data if len(word)>=word_length]\n",
    "        temp_data = ' '.join(split_data)\n",
    "        \n",
    "    return temp_data\n",
    "        \n",
    "    "
   ]
  },
  {
   "cell_type": "code",
   "execution_count": 5,
   "id": "57cc56f9",
   "metadata": {
    "execution": {
     "iopub.execute_input": "2022-01-09T21:28:09.501607Z",
     "iopub.status.busy": "2022-01-09T21:28:09.500652Z",
     "iopub.status.idle": "2022-01-09T21:28:09.504657Z",
     "shell.execute_reply": "2022-01-09T21:28:09.505118Z",
     "shell.execute_reply.started": "2022-01-09T21:24:31.024736Z"
    },
    "papermill": {
     "duration": 0.073643,
     "end_time": "2022-01-09T21:28:09.505276",
     "exception": false,
     "start_time": "2022-01-09T21:28:09.431633",
     "status": "completed"
    },
    "tags": []
   },
   "outputs": [],
   "source": [
    "def tokenize(data):\n",
    "    \"\"\"\n",
    "    Function to tokenize data. Best used AFTER stopword removal, contraction replacement, and normalization. \n",
    "    Best used before lemmatization and POS tagging.\n",
    "    :param data: string representing review\n",
    "    :return: tokenized string as list of tokens\n",
    "    \"\"\"\n",
    "    assert type(data) == type('Document'), \"Your data is not a string.\"\n",
    "    return word_tokenize(data)"
   ]
  },
  {
   "cell_type": "code",
   "execution_count": 6,
   "id": "37b8c0ea",
   "metadata": {
    "execution": {
     "iopub.execute_input": "2022-01-09T21:28:09.641348Z",
     "iopub.status.busy": "2022-01-09T21:28:09.640437Z",
     "iopub.status.idle": "2022-01-09T21:28:09.645681Z",
     "shell.execute_reply": "2022-01-09T21:28:09.646172Z",
     "shell.execute_reply.started": "2022-01-09T21:24:31.042885Z"
    },
    "papermill": {
     "duration": 0.074621,
     "end_time": "2022-01-09T21:28:09.646337",
     "exception": false,
     "start_time": "2022-01-09T21:28:09.571716",
     "status": "completed"
    },
    "tags": []
   },
   "outputs": [],
   "source": [
    "def replace_contractions(data, contractions):\n",
    "    \"\"\"\n",
    "    Function to replace contractions in data. Best used BEFORE normalization.\n",
    "    :param data: string representing review\n",
    "    :param contractions: dictionary of predefined contractions and their expansions\n",
    "    :return: string with contractions replaced\n",
    "    \"\"\"\n",
    "    assert type(data) == type('Document'), \"Your data is not a string.\"\n",
    "    assert type(contractions) == type({}), \"Your contractions are not in a dictionary.\"\n",
    "    \n",
    "    contraction_list = contractions.keys()\n",
    "    temp_data = str(data.lower()).split()\n",
    "    for i in range(len(temp_data)):\n",
    "        if temp_data[i] in contraction_list:\n",
    "            temp_data[i] = contractions[temp_data[i]]\n",
    "    data = ' '.join(temp_data)\n",
    "    return data    "
   ]
  },
  {
   "cell_type": "code",
   "execution_count": 7,
   "id": "38c6f4d7",
   "metadata": {
    "execution": {
     "iopub.execute_input": "2022-01-09T21:28:09.787749Z",
     "iopub.status.busy": "2022-01-09T21:28:09.786830Z",
     "iopub.status.idle": "2022-01-09T21:28:09.790004Z",
     "shell.execute_reply": "2022-01-09T21:28:09.789396Z",
     "shell.execute_reply.started": "2022-01-09T21:24:31.065572Z"
    },
    "papermill": {
     "duration": 0.075975,
     "end_time": "2022-01-09T21:28:09.790181",
     "exception": false,
     "start_time": "2022-01-09T21:28:09.714206",
     "status": "completed"
    },
    "tags": []
   },
   "outputs": [],
   "source": [
    "def lemmatize(data, lemmatizer):\n",
    "    \"\"\"\n",
    "    Function to lemmatize data. Best used BEFORE tokenization and AFTER normalization.\n",
    "    :param data: string representing review\n",
    "    :param lemmatizer: NLTK/Spacy lemmatizer object\n",
    "    :return: string with lemmas only\n",
    "    \"\"\"\n",
    "        \n",
    "    assert type(data) == type('Document'), \"Your data is not a string.\"\n",
    "    lemmas = []\n",
    "    sentences = sent_tokenize(data)\n",
    "    for s in sentences:\n",
    "        processed_sentence = lemmatizer(s)\n",
    "        lemmas.extend([word.lemma_ for word in processed_sentence])\n",
    "    return ' '.join(lemmas)\n"
   ]
  },
  {
   "cell_type": "code",
   "execution_count": 8,
   "id": "dd7acfd1",
   "metadata": {
    "execution": {
     "iopub.execute_input": "2022-01-09T21:28:09.933170Z",
     "iopub.status.busy": "2022-01-09T21:28:09.932413Z",
     "iopub.status.idle": "2022-01-09T21:28:09.935300Z",
     "shell.execute_reply": "2022-01-09T21:28:09.934630Z",
     "shell.execute_reply.started": "2022-01-09T21:24:31.082758Z"
    },
    "papermill": {
     "duration": 0.077906,
     "end_time": "2022-01-09T21:28:09.935456",
     "exception": false,
     "start_time": "2022-01-09T21:28:09.857550",
     "status": "completed"
    },
    "tags": []
   },
   "outputs": [],
   "source": [
    "def clean_pos_tags(data, relevant_tags, general_category = True):\n",
    "    \"\"\"\n",
    "    Function to remove unnecessary words by filtering out based on part of speech. \n",
    "    Best used AFTER normalization and contraction replacement, but BEFORE other steps.\n",
    "    :param data: string representing review\n",
    "    :param relevant_tags: list of NLTK POS tags to keep\n",
    "    :param general_category: if True, you only need to specify general categories like JJ, NN, and it will take subcategories too.\n",
    "    :return: string with required words only\n",
    "    \"\"\"\n",
    "    assert type(data) == type('Document'), \"Your data is not a string.\"\n",
    "    assert type(relevant_tags) == type([]), \"Your POS tags are not in a list.\"\n",
    "    \n",
    "    tagged_data = nltk.pos_tag(data.split())\n",
    "    # print(tagged_data)\n",
    "    if general_category:\n",
    "        kept_words = [tag_pair[0] for tag_pair in tagged_data if tag_pair[1].startswith(tuple(relevant_tags))]\n",
    "    else:\n",
    "        kept_words = [tag_pair[0] for tag_pair in tagged_data if tag_pair[1] in relevant_tags]\n",
    "    return ' '.join(kept_words)"
   ]
  },
  {
   "cell_type": "code",
   "execution_count": 9,
   "id": "98b04ec5",
   "metadata": {
    "execution": {
     "iopub.execute_input": "2022-01-09T21:28:10.076651Z",
     "iopub.status.busy": "2022-01-09T21:28:10.075825Z",
     "iopub.status.idle": "2022-01-09T21:28:10.078201Z",
     "shell.execute_reply": "2022-01-09T21:28:10.077722Z",
     "shell.execute_reply.started": "2022-01-09T21:24:31.096375Z"
    },
    "papermill": {
     "duration": 0.076391,
     "end_time": "2022-01-09T21:28:10.078335",
     "exception": false,
     "start_time": "2022-01-09T21:28:10.001944",
     "status": "completed"
    },
    "tags": []
   },
   "outputs": [],
   "source": [
    "def remove_stopwords(data, stopwords): \n",
    "    \"\"\"\n",
    "    Function to remove stopwords from data. Best used AFTER normalization.\n",
    "    :param data: string representing review\n",
    "    :param stopwords: list of stopwords to be removed\n",
    "    :return: string with stopwords removed\n",
    "    \"\"\"\n",
    "\n",
    "    assert type(data) == type('Document'), \"Your data is not a string.\"\n",
    "    assert type(stopwords) == type([])\n",
    "\n",
    "    split_data = data.split(' ')\n",
    "    cleaned_data = [word.strip() for word in split_data if word not in stopwords and len(word)>3]\n",
    "    new_data = ' '.join(cleaned_data)\n",
    "    return new_data"
   ]
  },
  {
   "cell_type": "code",
   "execution_count": 10,
   "id": "246b7aba",
   "metadata": {
    "execution": {
     "iopub.execute_input": "2022-01-09T21:28:10.216335Z",
     "iopub.status.busy": "2022-01-09T21:28:10.215638Z",
     "iopub.status.idle": "2022-01-09T21:28:10.221375Z",
     "shell.execute_reply": "2022-01-09T21:28:10.220844Z",
     "shell.execute_reply.started": "2022-01-09T21:24:31.116312Z"
    },
    "papermill": {
     "duration": 0.075502,
     "end_time": "2022-01-09T21:28:10.221511",
     "exception": false,
     "start_time": "2022-01-09T21:28:10.146009",
     "status": "completed"
    },
    "tags": []
   },
   "outputs": [],
   "source": [
    "def replace_multi_words(data, multi_dict):\n",
    "    \n",
    "    \"\"\"\n",
    "    Function to replace common multi-words in data.\n",
    "    :param data: string representing review\n",
    "    :param multi_dict: dictionary representing mutli-words to combine.\n",
    "    :return: string with replaced multi-words\n",
    "    \"\"\"\n",
    "    \n",
    "    assert type(data) == type('Document'), \"Your data is not a string.\"\n",
    "    assert type(multi_dict) == type({}), \"Your multi-word dictionary is not a dictionary.\"\n",
    "    \n",
    "    new_data = str(data)\n",
    "    for replacement in multi_dict.keys():\n",
    "        if re.search(replacement, data):\n",
    "            new_data = re.sub(replacement, multi_dict[replacement], new_data)\n",
    "    return new_data"
   ]
  },
  {
   "cell_type": "code",
   "execution_count": 11,
   "id": "4f9eff00",
   "metadata": {
    "execution": {
     "iopub.execute_input": "2022-01-09T21:28:10.572967Z",
     "iopub.status.busy": "2022-01-09T21:28:10.572219Z",
     "iopub.status.idle": "2022-01-09T21:28:10.576880Z",
     "shell.execute_reply": "2022-01-09T21:28:10.577356Z",
     "shell.execute_reply.started": "2022-01-09T21:24:31.131491Z"
    },
    "papermill": {
     "duration": 0.288581,
     "end_time": "2022-01-09T21:28:10.577541",
     "exception": false,
     "start_time": "2022-01-09T21:28:10.288960",
     "status": "completed"
    },
    "tags": []
   },
   "outputs": [],
   "source": [
    "def generate_ngrams(data, column = 'Review', n = 2, frequency = 20, best_number = 10, min_pmi = 4, stopwords_list = stopwords.words('english')):\n",
    "    \"\"\"\n",
    "    Function to generate the most common co-occuring phrases in the data.\n",
    "    :param data: dataframe representing reviews list\n",
    "    :param column: column name to consider\n",
    "    :param n: integer representing the number of words to consider for an n-gram. Can take values 2 or 3.\n",
    "    :param frequency: integer value showing the minimum frequency of n-gram to be considered.\n",
    "    :param best_number: value determining how many n_grams to return\n",
    "    :param min_pmi: minimum pmi value to keep\n",
    "    :param stopwords_list: sequence of stopwords\n",
    "    :return: list of n-grams for the data\n",
    "    \"\"\"\n",
    "    \n",
    "    assert type(data) == type(pd.DataFrame(columns = ['x'])), \"Your data is not a dataframe.\"\n",
    "    assert type(column) == type('Document'), \"Your data is not a string.\"\n",
    "    assert column in data.columns, \"Invalid column name\"\n",
    "    assert type(n) == type(int(5)), \"Your n value is not an integer.\"\n",
    "    assert n in [2,3], \"Incorrect value of n.\"\n",
    "    assert type(frequency) == type(int(1)), \"Your frequency value is not an integer.\"\n",
    "    assert frequency > 0, \"Your frequency does not fall into the appropriate range.\"\n",
    "    assert type(min_pmi) == type(int(1.0)), \"Your minimum PMI is not a floating point number.\"\n",
    "    assert min_pmi > 0, \"Your minimum PMI does not fall into the appropriate range.\"\n",
    "    assert type(best_number) == type(int(5)) and best_number>0, \"Best number is not an integer greater than 0\"\n",
    "    assert type(stopwords_list) in [type([]), type({'x':1}.keys())], \"Stopwords are not in the right format\"\n",
    "    \n",
    "    final_list = []\n",
    "    \n",
    "    \n",
    "    if n == 2:\n",
    "        bigram_collocations = nltk.collocations.BigramAssocMeasures()\n",
    "        total_list = nltk.collocations.BigramCollocationFinder.from_documents([review.lower().split() for review in data[column]])\n",
    "        total_list.apply_freq_filter(frequency)        \n",
    "        scores = total_list.score_ngrams(bigram_collocations.pmi)\n",
    "    elif n == 3:\n",
    "        trigram_collocations = nltk.collocations.TrigramAssocMeasures()\n",
    "        total_list = nltk.collocations.TrigramCollocationFinder.from_documents([review.split() for review in data[column]])\n",
    "        total_list.apply_freq_filter(frequency)\n",
    "        scores = total_list.score_ngrams(trigram_collocations.pmi)\n",
    "    \n",
    "    ngram_df = pd.DataFrame(scores, columns = ['ngram', 'pmi'])\n",
    "    ngram_df = ngram_df.sort_values(by = 'pmi', axis = 0, ascending = False)\n",
    "    to_keep = []\n",
    "    \n",
    "    for i in range(len(ngram_df)):\n",
    "        ngram_val = ngram_df.loc[i, 'ngram']\n",
    "        # print(ngram_val)\n",
    "        tagged_ngram = nltk.pos_tag(ngram_val)\n",
    "        ngram_df.loc[i, 'pos'] = str(tagged_ngram)\n",
    "        # print(tagged_ngram)\n",
    "        if n == 2:\n",
    "            if (tagged_ngram[0][1] not in ['NN', 'JJ', 'VBG'] and tagged_ngram[1][1] not in ['NN']) or tagged_ngram[0][0] in stopwords_list or tagged_ngram[1][0] in stopwords_list or 'n' in ngram_val or 't' in ngram_val:\n",
    "                to_keep.append(False)\n",
    "            else:\n",
    "                to_keep.append(True)\n",
    "        elif n == 3:\n",
    "            if (tagged_ngram[0][1] not in ['NN', 'JJ'] and tagged_ngram[2][1] not in ['NN']) or tagged_ngram[0][0] in stopwords_list or tagged_ngram[1][0] in stopwords_list or tagged_ngram[2][0] in stopwords_list or 'n' in ngram_val or 't' in ngram_val:\n",
    "                to_keep.append(False)\n",
    "            else:\n",
    "                if tagged_ngram[0][0] == tagged_ngram[2][0]:\n",
    "                    to_keep.append(False)\n",
    "                else:\n",
    "                    to_keep.append(True)\n",
    "                \n",
    "    tagged_list = ngram_df[to_keep][ngram_df['pmi'] > min_pmi]\n",
    "    final_list = tagged_list['ngram']\n",
    "    tagged_list.reset_index(inplace = True)\n",
    "                     \n",
    "    return final_list[:best_number], tagged_list"
   ]
  },
  {
   "cell_type": "code",
   "execution_count": 12,
   "id": "6d67c7af",
   "metadata": {
    "execution": {
     "iopub.execute_input": "2022-01-09T21:28:10.721557Z",
     "iopub.status.busy": "2022-01-09T21:28:10.720732Z",
     "iopub.status.idle": "2022-01-09T21:28:10.733002Z",
     "shell.execute_reply": "2022-01-09T21:28:10.732443Z",
     "shell.execute_reply.started": "2022-01-09T21:24:31.169931Z"
    },
    "papermill": {
     "duration": 0.088633,
     "end_time": "2022-01-09T21:28:10.733164",
     "exception": false,
     "start_time": "2022-01-09T21:28:10.644531",
     "status": "completed"
    },
    "tags": []
   },
   "outputs": [],
   "source": [
    "contractions_dict = {\"aren t\" : \"are not\", \"can t\" : \"cannot\", \"couldnt\":\"could not\", \"couldn t\" : \"could not\", \"didn t\" : \"did not\", \"doesn t\" : \"does not\", \"don t\" : \"do not\", \"haven t\" : \"have not\", \"hasn t\" : \"has not\" , \"hadn t\" : \"had not\", \"i m\" : \"i am\", \"i ve\" : \"i have\", \"isn t\" : \"is not\", \"it's\" : \"it is\" , \"mustn t\" : \"must not\", \"shouldn t\" : \"should not\", \"wasn t\" : \"was not\", \"weren t\" : \"were not\", \"wouldn t\" : \"would not\", \"won t\":\"will not\", \"you re\" : \"you are\", \"you ll\" : \"you will\" , \"we ll\" : \"we will\", \"you ve\" : \"you have\", \"we ve\" : \"we have\"}\n",
    "replacements = {\"nt\":\"not\", \"timethanks\":\"time thanks\", \"s\" : \"\", \"f\":\"\", \"mot\":\"not\", \"tyer\":\"tyre\",\"ve\":\"have\", \"Ive\" : \"i have\", \"ive\":\"i have\", \"m\":\"am\",\"hassel\":\"hassle\", \"sevice\":\"service\", \"payby\":\"pay by\", \"cheapestefficient\":\"cheapest efficient\", \"hadn‚äôt\": \"had not\", \"excellenttttttttttttttytt\":\"excellent\", \"pricestyres\":\"prices. tyres\", \"defo\":\"definitely\", \"helpfu\":\"helpful\", \"fittingwhat\":\"fitting what\",  \"3tyres\":\"3 tyres\", \"appt\":\"appointment\", \"appts\":\"appointments\", \"inbtyre\":\"in tyre\", \"plus\":\"and\", \"on-line\":\"online\", \"definatly\":\"definitely\", \"comunication\":\"communication\", \"stocka\":\"stock. a\", \"fittedcompetitive\":\"fitted. competitive\",\"garrage\":\"garage\",  \"tire\":\"tyre\", \"v\":\"very\", \"hrs\":\"hours\", \"specialoffer\":\"special offer\", \"im\":\"i am\", \"bkack\":\"black\", \"min\":\"minutes\", \"mins\":\"minutes\",  \"tweeking\":\"tweaking\", \"serviceno\":\"service. no\", \"timesays\":\"time says\", \"sped\":\"speed\", \"70pound\":\"70 pound\", \"defiantly\":\"definitely\", \"tyreseasy\": \"tyres. easy\", \"fittinggreat\":\"fitting. great\", \"mebest\":\"me. best\", \"t5he\":\"the\", \"quality's\":\"quality\", \"tyreswithout\":\"tyres without\",  \"appoint\":\"appointment\", \"fortyres\":\"for tyres\", \"servicewould\":\"service. would\", \"trued\":\"tried\",  \"45minutes\":\"45 minutes\", \"welcombe\":\"welcome\", \"againshoutout\":\"again. shoutout\", \"def\":\"definitely\", \"andfitting\":\"and fitting\", \"aswell\":\"as well\", \"efficienct\":\"efficient\", \"ordergarage\":\"order. garage\", \"&\":\"and\",\"chap\":\"cheap\", \"tyers\":\"tyres\", \"ive\":\"i have\", \"alignmentwasted\":\"alignment. wasted\", \"offergreat\":\"offer. great\", \"fitterwould\":\"fitter. would\", \"reasonabke\":\"reasonable\", \"cant\":\"cannot\",\"pricesthe\":\"prices. the\",\"ture\":\"tyre\",\" t.he \":\" the \",\"coz\":\"because\",\"cos\":\"because\",\"ourchas3\":\"purchase\",\"exelent\":\"excellent\",\"competative\":\"competitive\", \"complaintsmy\":\"complaints. my\", \"[redacted]\":\"company\", \"fir\":\"for\", \"veiwe\" : \"waive\",\"tires\" : \"tyres\", \"tire\" : \"tyre\",  \"hassle-free\":\"hassle free\", \"extrau\":\"extra. you\", \"u\":\"you\", \"nurlly\":\"nearly\",\"tyresgreat\":\"tyres. great\", \"pricegreat\":\"price. great\", \"web-page\": \"webpage\", \"agreat\":\"a great\", \"reccomend\":\"recommend\", \"3td\": \"3rd\", \"1hour\":\"1 hour\", \"ordergood\":\"order. good\", \"pricesall\":\"prices. all\", \"garagewould\":\"garage. would\", \"a d\":\"and\", \"goodbadgreat\":\"good bad great\",\"effecient\":\"efficient\", \"mmet\":\"meet\", \"minuets\":\"minutes\", \"alsop\":\"also\",\"seribe\":\"service\", \"mitchelin\":\"michelin\",\"atsdisappointed\":\"ats. disappointed\", \"reg\":\"registration\", \"gd\":\"good\", \"priceoriginal\":\"price. original\", \"whats\":\"what is\", \"servicegreat\":\"service. great\",\"tyrestotally\":\"tyres totally\", \"rd\":\"road\", \"chse\":\"chose\", \"choicefitted\":\"choice. fitted\", \"orderingvery\":\"ordering. very\", \"fithassle\":\"fit hassle\", \"fittedi\":\"fitted\",\"servicd\":\"service\", \"competetive\":\"competitive\", \"2front\":\"2 front\", \"servicel\":\"service\", \".com\":\" \", \"gr8\":\"great\", \"prii\":\"price\", \"priceservice\":\"price service\", \"am/pm\":\"am pm\", \"s\":\"is\", \"d\":\"the\", \"pricr\":\"price\", \"a.m\":\"am\", \"p.m\":\"pm\",\"againsuperbthank\":\"again. superb. thank\", \"preffered\":\"preferred\", \"ya\":\"you\", \"simly\":\"simply\", \"amade\":\"made\", \"frist\":\"first\", \"budged\":\"budget\", \"cant\":\"cannot\", \"profesional\":\"professional\", \"i‚äôm\": \"i am\"}\n",
    "multi_words = {\"ca nt\":\"cannot\", \"fault less\":\"faultless\", \" dont bargains \":\" do not bargain \", \" a m \":\" am \", \" p m \":\" pm \", \" a t s \":\" ats \", \" web page \":\" webpage \", \" on line \": \" online \", \" web site \" : \" website \", \" straight forward \":\" straightforward \", \" bench mark \":\" benchmark \", \" findingself explantory \":\" finding self explanatory \", \" web site \":\" website \", \" ould ha e \":\" could have \" }\n",
    "multi_words.update(contractions_dict)\n",
    "stopwords_ngram = stopwords.words('english') + ['ive', 'use', 'used', 'using']"
   ]
  },
  {
   "cell_type": "code",
   "execution_count": 13,
   "id": "f8f5b549",
   "metadata": {
    "execution": {
     "iopub.execute_input": "2022-01-09T21:28:10.876405Z",
     "iopub.status.busy": "2022-01-09T21:28:10.875590Z",
     "iopub.status.idle": "2022-01-09T21:28:11.504336Z",
     "shell.execute_reply": "2022-01-09T21:28:11.504788Z",
     "shell.execute_reply.started": "2022-01-09T21:24:31.204652Z"
    },
    "papermill": {
     "duration": 0.705428,
     "end_time": "2022-01-09T21:28:11.504972",
     "exception": false,
     "start_time": "2022-01-09T21:28:10.799544",
     "status": "completed"
    },
    "tags": []
   },
   "outputs": [],
   "source": [
    "dataset['Normalized'] = dataset['Review'].apply(lambda x: replace_multi_words(normalize_data(replace_contractions(x, contractions = replacements), word_length = 3), multi_words))"
   ]
  },
  {
   "cell_type": "code",
   "execution_count": 14,
   "id": "a6af7f90",
   "metadata": {
    "execution": {
     "iopub.execute_input": "2022-01-09T21:28:11.673704Z",
     "iopub.status.busy": "2022-01-09T21:28:11.672873Z",
     "iopub.status.idle": "2022-01-09T21:28:11.691267Z",
     "shell.execute_reply": "2022-01-09T21:28:11.691718Z",
     "shell.execute_reply.started": "2022-01-09T21:24:32.080089Z"
    },
    "papermill": {
     "duration": 0.100264,
     "end_time": "2022-01-09T21:28:11.691890",
     "exception": false,
     "start_time": "2022-01-09T21:28:11.591626",
     "status": "completed"
    },
    "tags": []
   },
   "outputs": [
    {
     "data": {
      "text/html": [
       "<div>\n",
       "<style scoped>\n",
       "    .dataframe tbody tr th:only-of-type {\n",
       "        vertical-align: middle;\n",
       "    }\n",
       "\n",
       "    .dataframe tbody tr th {\n",
       "        vertical-align: top;\n",
       "    }\n",
       "\n",
       "    .dataframe thead th {\n",
       "        text-align: right;\n",
       "    }\n",
       "</style>\n",
       "<table border=\"1\" class=\"dataframe\">\n",
       "  <thead>\n",
       "    <tr style=\"text-align: right;\">\n",
       "      <th></th>\n",
       "      <th>Review</th>\n",
       "      <th>Normalized</th>\n",
       "    </tr>\n",
       "  </thead>\n",
       "  <tbody>\n",
       "    <tr>\n",
       "      <th>9180</th>\n",
       "      <td>Staff very friendly, offered a drink while i w...</td>\n",
       "      <td>staff very friendly  offered a drink while i w...</td>\n",
       "    </tr>\n",
       "    <tr>\n",
       "      <th>6781</th>\n",
       "      <td>quick and reliable</td>\n",
       "      <td>quick and reliable</td>\n",
       "    </tr>\n",
       "    <tr>\n",
       "      <th>683</th>\n",
       "      <td>I ordered my tyre and was given a installed da...</td>\n",
       "      <td>i ordered my tyre and was given a installed da...</td>\n",
       "    </tr>\n",
       "    <tr>\n",
       "      <th>9159</th>\n",
       "      <td>good priced tyres, convieniently fitted at a l...</td>\n",
       "      <td>good priced tyres  convieniently fitted at a l...</td>\n",
       "    </tr>\n",
       "    <tr>\n",
       "      <th>1859</th>\n",
       "      <td>Great value no hassle to arrange fitting</td>\n",
       "      <td>great value no hassle to arrange fitting</td>\n",
       "    </tr>\n",
       "    <tr>\n",
       "      <th>3913</th>\n",
       "      <td>Cheapest tyres around with local fitting.What ...</td>\n",
       "      <td>cheapest tyres around with local fitting what ...</td>\n",
       "    </tr>\n",
       "    <tr>\n",
       "      <th>8804</th>\n",
       "      <td>Good range of tyres at good prices. Arrangemen...</td>\n",
       "      <td>good range of tyres at good prices  arrangemen...</td>\n",
       "    </tr>\n",
       "    <tr>\n",
       "      <th>9087</th>\n",
       "      <td>Buying tyres from [REDACTED] was very easy. I ...</td>\n",
       "      <td>buying tyres from company was very easy  i vie...</td>\n",
       "    </tr>\n",
       "    <tr>\n",
       "      <th>8501</th>\n",
       "      <td>Good price, tyres were delivered promptly to f...</td>\n",
       "      <td>good price  tyres were delivered promptly to f...</td>\n",
       "    </tr>\n",
       "    <tr>\n",
       "      <th>4504</th>\n",
       "      <td>1 of the tyres was an old tyre. I have bought ...</td>\n",
       "      <td>of the tyres was an old tyre  i have bought ...</td>\n",
       "    </tr>\n",
       "  </tbody>\n",
       "</table>\n",
       "</div>"
      ],
      "text/plain": [
       "                                                 Review  \\\n",
       "9180  Staff very friendly, offered a drink while i w...   \n",
       "6781                                 quick and reliable   \n",
       "683   I ordered my tyre and was given a installed da...   \n",
       "9159  good priced tyres, convieniently fitted at a l...   \n",
       "1859           Great value no hassle to arrange fitting   \n",
       "3913  Cheapest tyres around with local fitting.What ...   \n",
       "8804  Good range of tyres at good prices. Arrangemen...   \n",
       "9087  Buying tyres from [REDACTED] was very easy. I ...   \n",
       "8501  Good price, tyres were delivered promptly to f...   \n",
       "4504  1 of the tyres was an old tyre. I have bought ...   \n",
       "\n",
       "                                             Normalized  \n",
       "9180  staff very friendly  offered a drink while i w...  \n",
       "6781                                 quick and reliable  \n",
       "683   i ordered my tyre and was given a installed da...  \n",
       "9159  good priced tyres  convieniently fitted at a l...  \n",
       "1859           great value no hassle to arrange fitting  \n",
       "3913  cheapest tyres around with local fitting what ...  \n",
       "8804  good range of tyres at good prices  arrangemen...  \n",
       "9087  buying tyres from company was very easy  i vie...  \n",
       "8501  good price  tyres were delivered promptly to f...  \n",
       "4504    of the tyres was an old tyre  i have bought ...  "
      ]
     },
     "execution_count": 14,
     "metadata": {},
     "output_type": "execute_result"
    }
   ],
   "source": [
    "dataset.sample(10)"
   ]
  },
  {
   "cell_type": "code",
   "execution_count": 15,
   "id": "b7237df6",
   "metadata": {
    "execution": {
     "iopub.execute_input": "2022-01-09T21:28:11.840429Z",
     "iopub.status.busy": "2022-01-09T21:28:11.828991Z",
     "iopub.status.idle": "2022-01-09T21:28:14.616687Z",
     "shell.execute_reply": "2022-01-09T21:28:14.616036Z",
     "shell.execute_reply.started": "2022-01-09T21:24:32.103226Z"
    },
    "papermill": {
     "duration": 2.857637,
     "end_time": "2022-01-09T21:28:14.616828",
     "exception": false,
     "start_time": "2022-01-09T21:28:11.759191",
     "status": "completed"
    },
    "tags": []
   },
   "outputs": [
    {
     "name": "stderr",
     "output_type": "stream",
     "text": [
      "/opt/conda/lib/python3.7/site-packages/ipykernel_launcher.py:64: UserWarning: Boolean Series key will be reindexed to match DataFrame index.\n"
     ]
    },
    {
     "name": "stdout",
     "output_type": "stream",
     "text": [
      "No such bigram\n"
     ]
    }
   ],
   "source": [
    "trigrams, _ = generate_ngrams(dataset, 'Normalized', n = 3, frequency = 16, best_number = 13, stopwords_list = stopwords_ngram)\n",
    "trigrams = [' '.join(gram) for gram in trigrams.values]\n",
    "trigrams.append('next day delivery')\n",
    "bigrams, _ = generate_ngrams(dataset, 'Normalized', n = 2, frequency = 30, best_number = 72, stopwords_list = stopwords_ngram)\n",
    "bigrams = [' '.join(gram) for gram in bigrams.values]\n",
    "try:\n",
    "    bigrams.remove('st class')\n",
    "    bigrams.remove('cannot fault')\n",
    "    bigrams.remove('cant fault')\n",
    "except:\n",
    "    print(\"No such bigram\")\n",
    "\n",
    "ngrams = bigrams + trigrams"
   ]
  },
  {
   "cell_type": "code",
   "execution_count": 16,
   "id": "c0eeac0f",
   "metadata": {
    "execution": {
     "iopub.execute_input": "2022-01-09T21:28:14.757369Z",
     "iopub.status.busy": "2022-01-09T21:28:14.756388Z",
     "iopub.status.idle": "2022-01-09T21:28:14.762334Z",
     "shell.execute_reply": "2022-01-09T21:28:14.762889Z",
     "shell.execute_reply.started": "2022-01-09T21:24:36.382608Z"
    },
    "papermill": {
     "duration": 0.07835,
     "end_time": "2022-01-09T21:28:14.763077",
     "exception": false,
     "start_time": "2022-01-09T21:28:14.684727",
     "status": "completed"
    },
    "tags": []
   },
   "outputs": [
    {
     "data": {
      "text/plain": [
       "['cost effective',\n",
       " 'wheel nuts',\n",
       " 'wheel alignment',\n",
       " '% discount',\n",
       " 'cannot fault',\n",
       " 'redacted com',\n",
       " 'wide range',\n",
       " 'several times',\n",
       " 'first class',\n",
       " 'phone call',\n",
       " 'whole process',\n",
       " 'many times',\n",
       " 'next day',\n",
       " 'competitive pricing',\n",
       " 'mobile fitter',\n",
       " 'following day',\n",
       " 'everything went',\n",
       " 'booking system',\n",
       " 'customer services',\n",
       " 'job done',\n",
       " 'whole experience',\n",
       " 'fast delivery',\n",
       " 'fitting station',\n",
       " 'fitting centres',\n",
       " 'friendly staff',\n",
       " 'ordering process',\n",
       " 'second time',\n",
       " 'competitive prices',\n",
       " 'local garages',\n",
       " 'fitting centre',\n",
       " 'time slot',\n",
       " 'reasonable prices',\n",
       " 'reasonable price',\n",
       " 'local garage',\n",
       " 'best price',\n",
       " 'chosen garage',\n",
       " 'quick delivery',\n",
       " 'first time',\n",
       " 'tyre fitters',\n",
       " 'local fitters',\n",
       " 'next time',\n",
       " 'local fitter',\n",
       " 'customer service',\n",
       " 'easy transaction',\n",
       " 'local ats',\n",
       " 'order online',\n",
       " 'mobile fitting',\n",
       " 'new tyres',\n",
       " 'good selection',\n",
       " 'good value',\n",
       " 'fitting date',\n",
       " 'competitive price',\n",
       " 'tyre fitter',\n",
       " 'arrange fitting',\n",
       " 'great value',\n",
       " 'class service',\n",
       " 'excellent service',\n",
       " 'good communication',\n",
       " 'good price',\n",
       " 'front tyres',\n",
       " 'correct tyres',\n",
       " 'easy process',\n",
       " 'fantastic service',\n",
       " 'great prices']"
      ]
     },
     "execution_count": 16,
     "metadata": {},
     "output_type": "execute_result"
    }
   ],
   "source": [
    "bigrams"
   ]
  },
  {
   "cell_type": "code",
   "execution_count": 17,
   "id": "25385aa2",
   "metadata": {
    "execution": {
     "iopub.execute_input": "2022-01-09T21:28:14.902996Z",
     "iopub.status.busy": "2022-01-09T21:28:14.902055Z",
     "iopub.status.idle": "2022-01-09T21:28:14.906967Z",
     "shell.execute_reply": "2022-01-09T21:28:14.907445Z",
     "shell.execute_reply.started": "2022-01-09T21:24:36.394650Z"
    },
    "papermill": {
     "duration": 0.076444,
     "end_time": "2022-01-09T21:28:14.907606",
     "exception": false,
     "start_time": "2022-01-09T21:28:14.831162",
     "status": "completed"
    },
    "tags": []
   },
   "outputs": [
    {
     "data": {
      "text/plain": [
       "['everything went smoothly',\n",
       " 'company several times',\n",
       " 'first class service',\n",
       " 'hassle free service',\n",
       " 'poor customer service',\n",
       " 'fast efficient service',\n",
       " 'new tyres fitted',\n",
       " 'excellent customer service',\n",
       " 'service would recommend',\n",
       " 'great customer service',\n",
       " 'good quality tyres',\n",
       " 'good customer service',\n",
       " 'tyre fitting company',\n",
       " 'next day delivery']"
      ]
     },
     "execution_count": 17,
     "metadata": {},
     "output_type": "execute_result"
    }
   ],
   "source": [
    "trigrams"
   ]
  },
  {
   "cell_type": "code",
   "execution_count": 18,
   "id": "b282454d",
   "metadata": {
    "execution": {
     "iopub.execute_input": "2022-01-09T21:28:15.045981Z",
     "iopub.status.busy": "2022-01-09T21:28:15.045398Z",
     "iopub.status.idle": "2022-01-09T21:28:15.051558Z",
     "shell.execute_reply": "2022-01-09T21:28:15.052105Z",
     "shell.execute_reply.started": "2022-01-09T21:24:36.405396Z"
    },
    "papermill": {
     "duration": 0.076934,
     "end_time": "2022-01-09T21:28:15.052268",
     "exception": false,
     "start_time": "2022-01-09T21:28:14.975334",
     "status": "completed"
    },
    "tags": []
   },
   "outputs": [],
   "source": [
    "def add_ngrams(data, review_column, preprocessed_column, ngram_list):\n",
    "    \"\"\"\n",
    "    Function to add collocated n-grams to the list of tokens.\n",
    "    :param data: dataframe representing list of reviews\n",
    "    :param review_column: column name containing reviews\n",
    "    :param preprocessed_column: column name of preprocessed data\n",
    "    :param ngram_list: list of selected n-grams\n",
    "    :return: Nothing\n",
    "    \"\"\"\n",
    "    \n",
    "    assert type(data) == type(pd.DataFrame(columns = ['x'])), \"Your data is not a dataframe.\"\n",
    "    assert type(review_column) == type('Document'), \"Your column name is not a string.\"\n",
    "    assert review_column in data.columns, \"Invalid column.\"\n",
    "    assert type(preprocessed_column) == type('Document'), \"Your column name is not a string.\"\n",
    "    assert preprocessed_column in data.columns, \"Invalid column.\"\n",
    "    assert type(ngram_list) == type([]), \"N-grams are not in a list.\"    \n",
    "\n",
    "    for i in data.index:\n",
    "        to_add = []\n",
    "        text = data.loc[i, review_column]\n",
    "        for gram in ngram_list:\n",
    "            if text.find(gram) != -1:\n",
    "                to_add.append('_'.join(gram.split()))\n",
    "        if preprocessed_column in data.columns:\n",
    "            data.loc[i, preprocessed_column].extend(to_add)\n",
    "            \n"
   ]
  },
  {
   "cell_type": "code",
   "execution_count": 19,
   "id": "041482d1",
   "metadata": {
    "execution": {
     "iopub.execute_input": "2022-01-09T21:28:15.191202Z",
     "iopub.status.busy": "2022-01-09T21:28:15.190502Z",
     "iopub.status.idle": "2022-01-09T21:28:15.199624Z",
     "shell.execute_reply": "2022-01-09T21:28:15.200053Z",
     "shell.execute_reply.started": "2022-01-09T21:24:36.418013Z"
    },
    "papermill": {
     "duration": 0.080086,
     "end_time": "2022-01-09T21:28:15.200259",
     "exception": false,
     "start_time": "2022-01-09T21:28:15.120173",
     "status": "completed"
    },
    "tags": []
   },
   "outputs": [],
   "source": [
    "def create_pipeline(data, \n",
    "                    order, \n",
    "                    keep_nonascii = False, \n",
    "                    keep_punctuation = False, \n",
    "                    remove_extra_spaces = True, \n",
    "                    lowercase = True, \n",
    "                    word_length = None,\n",
    "                    contractions = None,\n",
    "                    lemmatizer = None,\n",
    "                    stopwords = None,\n",
    "                    relevant_tags = None,\n",
    "                    general_category = True,\n",
    "                    multi_dict = None\n",
    "                    \n",
    "                   ):\n",
    "    \"\"\"\n",
    "    Function to set up a preprocessing pipeline on data. Tokenization is done at the end by default.\n",
    "    :param data: string representing review\n",
    "    :param order: list representing order of operations.\n",
    "    :param keep_nonascii: boolean value representing whether to keep non-ascii characters or not\n",
    "    :param keep_punctuation: boolean value representing whether to keep punctuation or not\n",
    "    :param remove_extra_spaces: boolean value representing whether to remove extra spaces between, before, and after words\n",
    "    :param lowercase: boolean value representing whether to lowercase data or not\n",
    "    :param word_length: if None, word length is not taken into account. If it is a number, only words greater than or equal to specific length will be kept.\n",
    "    :param contractions: dictionary of predefined contractions and their expansions\n",
    "    :param lemmatizer: NLTK/Spacy lemmatizer object\n",
    "    :param relevant_tags: list of NLTK POS tags to keep\n",
    "    :param general_category: if True, you only need to specify general categories like JJ, NN, and it will take subcategories too.\n",
    "    :param multi_dict: dictionary representing mutli-words to combine.\n",
    "    \n",
    "    *Allowed operations: 'norm'-> normalization, 'stop'->stopword removal, 'ctrc'->contraction replacement, 'lemm'->lemmatization, 'tags'->cleaning POS tags.\n",
    "    :return: list of words after preprocessing\n",
    "    \"\"\"\n",
    "    assert type(data) == type('Document'), \"Your data is not a string.\"\n",
    "    assert type(order) == type([]), \"Your operations order is not a list.\"\n",
    "    \n",
    "    allowed_ops = ['norm', 'stop', 'ctrc', 'lemm', 'tags', 'mult']\n",
    "    \n",
    "    pro_data = data\n",
    "    \n",
    "    for operation in order:\n",
    "        assert operation in allowed_ops, \"Operation not in allowed list.\"\n",
    "        if operation == 'norm':\n",
    "            pro_data = normalize_data(pro_data, keep_nonascii, keep_punctuation, \n",
    "                    remove_extra_spaces, \n",
    "                    lowercase, \n",
    "                    word_length)\n",
    "            # print(pro_data)\n",
    "            \n",
    "        elif operation == 'stop':\n",
    "            assert stopwords != None, \"No stopwords specified\"\n",
    "            pro_data = remove_stopwords(pro_data, stopwords)\n",
    "            # print(pro_data)\n",
    "        \n",
    "        elif operation == 'ctrc':\n",
    "            assert contractions != None, \"No contractions specified\"\n",
    "            pro_data = replace_contractions(pro_data, contractions)\n",
    "            #print(pro_data)\n",
    "            \n",
    "        elif operation == 'lemm':\n",
    "            assert lemmatizer != None, \"There is no lemmatizer specified\"\n",
    "            pro_data = lemmatize(pro_data, lemmatizer)\n",
    "            # print(pro_data)\n",
    "            \n",
    "        elif operation == 'tags':\n",
    "            assert relevant_tags != None, \"There are no tags specified\"\n",
    "            pro_data = clean_pos_tags(pro_data, relevant_tags, general_category)\n",
    "            # print(pro_data)\n",
    "            \n",
    "        elif operation == 'mult':\n",
    "            assert multi_dict != None, \"There is no multi-word dictionary specified\"\n",
    "            pro_data = replace_multi_words(pro_data, multi_dict)\n",
    "            # print(pro_data)\n",
    "    \n",
    "    \n",
    "    return tokenize(pro_data)\n",
    "    "
   ]
  },
  {
   "cell_type": "code",
   "execution_count": 20,
   "id": "bc47fcad",
   "metadata": {
    "execution": {
     "iopub.execute_input": "2022-01-09T21:28:15.339277Z",
     "iopub.status.busy": "2022-01-09T21:28:15.338571Z",
     "iopub.status.idle": "2022-01-09T21:28:15.957346Z",
     "shell.execute_reply": "2022-01-09T21:28:15.956703Z",
     "shell.execute_reply.started": "2022-01-09T21:24:36.436028Z"
    },
    "papermill": {
     "duration": 0.689588,
     "end_time": "2022-01-09T21:28:15.957492",
     "exception": false,
     "start_time": "2022-01-09T21:28:15.267904",
     "status": "completed"
    },
    "tags": []
   },
   "outputs": [],
   "source": [
    "stopword_eng = stopwords.words('english')\n",
    "stopword_eng.extend(['thank', 'nt', 's', 'ca'])\n",
    "lemmatizer_model = spacy.load('en_core_web_sm', disable = ['ner', 'parser'])\n",
    "pos_tags = ['NN']"
   ]
  },
  {
   "cell_type": "code",
   "execution_count": 21,
   "id": "e454054a",
   "metadata": {
    "execution": {
     "iopub.execute_input": "2022-01-09T21:28:16.100236Z",
     "iopub.status.busy": "2022-01-09T21:28:16.099570Z",
     "iopub.status.idle": "2022-01-09T21:28:54.252122Z",
     "shell.execute_reply": "2022-01-09T21:28:54.251375Z",
     "shell.execute_reply.started": "2022-01-09T21:24:37.371860Z"
    },
    "papermill": {
     "duration": 38.226769,
     "end_time": "2022-01-09T21:28:54.252263",
     "exception": false,
     "start_time": "2022-01-09T21:28:16.025494",
     "status": "completed"
    },
    "tags": []
   },
   "outputs": [],
   "source": [
    "dataset['Preprocessed'] = dataset['Review'].apply(lambda x: create_pipeline(x, ['ctrc', 'norm', 'mult', 'tags', 'stop', 'lemm', 'norm'], word_length = 3, contractions = replacements, stopwords = stopword_eng + ['everything', 'anything', 'nothing','ve','s','nt','ca','wife','friend','redacted'], lemmatizer = lemmatizer_model, relevant_tags = pos_tags, general_category = True, multi_dict = multi_words))"
   ]
  },
  {
   "cell_type": "code",
   "execution_count": 22,
   "id": "c7ec8585",
   "metadata": {
    "execution": {
     "iopub.execute_input": "2022-01-09T21:28:54.396091Z",
     "iopub.status.busy": "2022-01-09T21:28:54.395476Z",
     "iopub.status.idle": "2022-01-09T21:29:35.056921Z",
     "shell.execute_reply": "2022-01-09T21:29:35.056410Z",
     "shell.execute_reply.started": "2022-01-09T21:25:34.662034Z"
    },
    "papermill": {
     "duration": 40.735679,
     "end_time": "2022-01-09T21:29:35.057085",
     "exception": false,
     "start_time": "2022-01-09T21:28:54.321406",
     "status": "completed"
    },
    "tags": []
   },
   "outputs": [],
   "source": [
    "dataset['Preprocessed_Total'] = dataset['Review'].apply(lambda x: create_pipeline(x, ['ctrc', 'norm', 'mult', 'tags', 'stop', 'lemm', 'norm'], word_length = 3, contractions = replacements, stopwords = stopword_eng + ['everything', 'can', 'not', 'nothing', 'anything', 'wife', 'friend', 've', 's', 'ca', 'nt', 'redacted'], lemmatizer = lemmatizer_model, relevant_tags = ['NN', 'NNS', 'NNP', 'VB', 'VBZ', 'VBP', 'VBD','JJ'], general_category = False, multi_dict = multi_words))"
   ]
  },
  {
   "cell_type": "code",
   "execution_count": 23,
   "id": "20242513",
   "metadata": {
    "execution": {
     "iopub.execute_input": "2022-01-09T21:29:35.222176Z",
     "iopub.status.busy": "2022-01-09T21:29:35.216934Z",
     "iopub.status.idle": "2022-01-09T21:29:35.611335Z",
     "shell.execute_reply": "2022-01-09T21:29:35.611775Z",
     "shell.execute_reply.started": "2022-01-09T21:26:36.283520Z"
    },
    "papermill": {
     "duration": 0.485165,
     "end_time": "2022-01-09T21:29:35.611959",
     "exception": false,
     "start_time": "2022-01-09T21:29:35.126794",
     "status": "completed"
    },
    "tags": []
   },
   "outputs": [],
   "source": [
    "add_ngrams(dataset, 'Normalized', 'Preprocessed', ngrams)"
   ]
  },
  {
   "cell_type": "code",
   "execution_count": 24,
   "id": "abc724b5",
   "metadata": {
    "execution": {
     "iopub.execute_input": "2022-01-09T21:29:35.750638Z",
     "iopub.status.busy": "2022-01-09T21:29:35.749734Z",
     "iopub.status.idle": "2022-01-09T21:29:36.162349Z",
     "shell.execute_reply": "2022-01-09T21:29:36.161758Z",
     "shell.execute_reply.started": "2022-01-09T21:26:36.898463Z"
    },
    "papermill": {
     "duration": 0.483051,
     "end_time": "2022-01-09T21:29:36.162495",
     "exception": false,
     "start_time": "2022-01-09T21:29:35.679444",
     "status": "completed"
    },
    "tags": []
   },
   "outputs": [],
   "source": [
    "add_ngrams(dataset, 'Normalized', 'Preprocessed_Total', ngrams)"
   ]
  },
  {
   "cell_type": "code",
   "execution_count": 25,
   "id": "220f6693",
   "metadata": {
    "execution": {
     "iopub.execute_input": "2022-01-09T21:29:36.308198Z",
     "iopub.status.busy": "2022-01-09T21:29:36.307544Z",
     "iopub.status.idle": "2022-01-09T21:29:36.313627Z",
     "shell.execute_reply": "2022-01-09T21:29:36.314123Z",
     "shell.execute_reply.started": "2022-01-09T21:26:37.515434Z"
    },
    "papermill": {
     "duration": 0.083477,
     "end_time": "2022-01-09T21:29:36.314298",
     "exception": false,
     "start_time": "2022-01-09T21:29:36.230821",
     "status": "completed"
    },
    "tags": []
   },
   "outputs": [
    {
     "data": {
      "text/plain": [
       "['thursday', 'monday']"
      ]
     },
     "execution_count": 25,
     "metadata": {},
     "output_type": "execute_result"
    }
   ],
   "source": [
    "create_pipeline(dataset.loc[3274, 'Review'], ['ctrc', 'norm', 'mult', 'tags', 'stop', 'lemm', 'norm'], word_length = 3, contractions = replacements, stopwords = stopword_eng, lemmatizer = lemmatizer_model, relevant_tags = pos_tags, multi_dict = multi_words)"
   ]
  },
  {
   "cell_type": "code",
   "execution_count": 26,
   "id": "0a8f935f",
   "metadata": {
    "execution": {
     "iopub.execute_input": "2022-01-09T21:29:36.453934Z",
     "iopub.status.busy": "2022-01-09T21:29:36.453334Z",
     "iopub.status.idle": "2022-01-09T21:29:36.472097Z",
     "shell.execute_reply": "2022-01-09T21:29:36.471527Z",
     "shell.execute_reply.started": "2022-01-09T21:26:37.533617Z"
    },
    "papermill": {
     "duration": 0.089593,
     "end_time": "2022-01-09T21:29:36.472226",
     "exception": false,
     "start_time": "2022-01-09T21:29:36.382633",
     "status": "completed"
    },
    "tags": []
   },
   "outputs": [
    {
     "data": {
      "text/html": [
       "<div>\n",
       "<style scoped>\n",
       "    .dataframe tbody tr th:only-of-type {\n",
       "        vertical-align: middle;\n",
       "    }\n",
       "\n",
       "    .dataframe tbody tr th {\n",
       "        vertical-align: top;\n",
       "    }\n",
       "\n",
       "    .dataframe thead th {\n",
       "        text-align: right;\n",
       "    }\n",
       "</style>\n",
       "<table border=\"1\" class=\"dataframe\">\n",
       "  <thead>\n",
       "    <tr style=\"text-align: right;\">\n",
       "      <th></th>\n",
       "      <th>Review</th>\n",
       "      <th>Normalized</th>\n",
       "      <th>Preprocessed</th>\n",
       "      <th>Preprocessed_Total</th>\n",
       "    </tr>\n",
       "  </thead>\n",
       "  <tbody>\n",
       "    <tr>\n",
       "      <th>2773</th>\n",
       "      <td>I liked the choice of tyre and the information...</td>\n",
       "      <td>i liked the choice of tyre and the information...</td>\n",
       "      <td>[choice, tyre, information, choice, regard, pe...</td>\n",
       "      <td>[like, choice, tyre, information, available, m...</td>\n",
       "    </tr>\n",
       "    <tr>\n",
       "      <th>6219</th>\n",
       "      <td>I have all ready recommend it to a people and ...</td>\n",
       "      <td>i have all ready recommend it to a people and ...</td>\n",
       "      <td>[people]</td>\n",
       "      <td>[ready, recommend, people]</td>\n",
       "    </tr>\n",
       "    <tr>\n",
       "      <th>4391</th>\n",
       "      <td>Happy with the price and service received.</td>\n",
       "      <td>happy with the price and service received</td>\n",
       "      <td>[price, service]</td>\n",
       "      <td>[happy, price, service, receive]</td>\n",
       "    </tr>\n",
       "    <tr>\n",
       "      <th>3307</th>\n",
       "      <td>Good prices and an easy to use website.</td>\n",
       "      <td>good prices and an easy to use website</td>\n",
       "      <td>[price, website, good_price]</td>\n",
       "      <td>[good, price, easy, website, good_price]</td>\n",
       "    </tr>\n",
       "    <tr>\n",
       "      <th>2921</th>\n",
       "      <td>Great prices, easy website to navigate through...</td>\n",
       "      <td>great prices  easy website to navigate through...</td>\n",
       "      <td>[price, customer, service, tyre, problem, cust...</td>\n",
       "      <td>[great, price, easy, website, navigate, good, ...</td>\n",
       "    </tr>\n",
       "    <tr>\n",
       "      <th>7259</th>\n",
       "      <td>Very easy to use and great local fitting</td>\n",
       "      <td>very easy to use and great local fitting</td>\n",
       "      <td>[fit]</td>\n",
       "      <td>[easy, great, local, fitting]</td>\n",
       "    </tr>\n",
       "    <tr>\n",
       "      <th>7100</th>\n",
       "      <td>Ordered, Paid, Delivered, Fitted. Perfect... T...</td>\n",
       "      <td>ordered  paid  delivered  fitted  perfect    t...</td>\n",
       "      <td>[thank]</td>\n",
       "      <td>[pay, fit, perfect, thank]</td>\n",
       "    </tr>\n",
       "    <tr>\n",
       "      <th>4489</th>\n",
       "      <td>Was really easy and straight forward prices. F...</td>\n",
       "      <td>was really easy and straightforward prices  fr...</td>\n",
       "      <td>[price, right, tue, garage, convenient]</td>\n",
       "      <td>[easy, straightforward, price, right, tue, gar...</td>\n",
       "    </tr>\n",
       "    <tr>\n",
       "      <th>3549</th>\n",
       "      <td>Good selection of tyre fitting times. Clear in...</td>\n",
       "      <td>good selection of tyre fitting times  clear in...</td>\n",
       "      <td>[selection, tyre, times, instruction, informat...</td>\n",
       "      <td>[good, selection, tyre, time, clear, instructi...</td>\n",
       "    </tr>\n",
       "    <tr>\n",
       "      <th>7581</th>\n",
       "      <td>This company was recommended to me by a friend...</td>\n",
       "      <td>this company was recommended to me by a friend...</td>\n",
       "      <td>[company, tyre, guidance, range, tyre, fact, p...</td>\n",
       "      <td>[company, find, good, able, select, tyre, suit...</td>\n",
       "    </tr>\n",
       "  </tbody>\n",
       "</table>\n",
       "</div>"
      ],
      "text/plain": [
       "                                                 Review  \\\n",
       "2773  I liked the choice of tyre and the information...   \n",
       "6219  I have all ready recommend it to a people and ...   \n",
       "4391         Happy with the price and service received.   \n",
       "3307            Good prices and an easy to use website.   \n",
       "2921  Great prices, easy website to navigate through...   \n",
       "7259           Very easy to use and great local fitting   \n",
       "7100  Ordered, Paid, Delivered, Fitted. Perfect... T...   \n",
       "4489  Was really easy and straight forward prices. F...   \n",
       "3549  Good selection of tyre fitting times. Clear in...   \n",
       "7581  This company was recommended to me by a friend...   \n",
       "\n",
       "                                             Normalized  \\\n",
       "2773  i liked the choice of tyre and the information...   \n",
       "6219  i have all ready recommend it to a people and ...   \n",
       "4391         happy with the price and service received    \n",
       "3307            good prices and an easy to use website    \n",
       "2921  great prices  easy website to navigate through...   \n",
       "7259           very easy to use and great local fitting   \n",
       "7100  ordered  paid  delivered  fitted  perfect    t...   \n",
       "4489  was really easy and straightforward prices  fr...   \n",
       "3549  good selection of tyre fitting times  clear in...   \n",
       "7581  this company was recommended to me by a friend...   \n",
       "\n",
       "                                           Preprocessed  \\\n",
       "2773  [choice, tyre, information, choice, regard, pe...   \n",
       "6219                                           [people]   \n",
       "4391                                   [price, service]   \n",
       "3307                       [price, website, good_price]   \n",
       "2921  [price, customer, service, tyre, problem, cust...   \n",
       "7259                                              [fit]   \n",
       "7100                                            [thank]   \n",
       "4489            [price, right, tue, garage, convenient]   \n",
       "3549  [selection, tyre, times, instruction, informat...   \n",
       "7581  [company, tyre, guidance, range, tyre, fact, p...   \n",
       "\n",
       "                                     Preprocessed_Total  \n",
       "2773  [like, choice, tyre, information, available, m...  \n",
       "6219                         [ready, recommend, people]  \n",
       "4391                   [happy, price, service, receive]  \n",
       "3307           [good, price, easy, website, good_price]  \n",
       "2921  [great, price, easy, website, navigate, good, ...  \n",
       "7259                      [easy, great, local, fitting]  \n",
       "7100                         [pay, fit, perfect, thank]  \n",
       "4489  [easy, straightforward, price, right, tue, gar...  \n",
       "3549  [good, selection, tyre, time, clear, instructi...  \n",
       "7581  [company, find, good, able, select, tyre, suit...  "
      ]
     },
     "execution_count": 26,
     "metadata": {},
     "output_type": "execute_result"
    }
   ],
   "source": [
    "dataset.sample(10)"
   ]
  },
  {
   "cell_type": "code",
   "execution_count": 27,
   "id": "5e41d933",
   "metadata": {
    "execution": {
     "iopub.execute_input": "2022-01-09T21:29:36.612922Z",
     "iopub.status.busy": "2022-01-09T21:29:36.612309Z",
     "iopub.status.idle": "2022-01-09T21:29:36.631573Z",
     "shell.execute_reply": "2022-01-09T21:29:36.632008Z",
     "shell.execute_reply.started": "2022-01-09T21:26:37.567138Z"
    },
    "papermill": {
     "duration": 0.09104,
     "end_time": "2022-01-09T21:29:36.632196",
     "exception": false,
     "start_time": "2022-01-09T21:29:36.541156",
     "status": "completed"
    },
    "tags": []
   },
   "outputs": [
    {
     "name": "stderr",
     "output_type": "stream",
     "text": [
      "/opt/conda/lib/python3.7/site-packages/ipykernel_launcher.py:1: UserWarning: Boolean Series key will be reindexed to match DataFrame index.\n",
      "  \"\"\"Entry point for launching an IPython kernel.\n"
     ]
    },
    {
     "data": {
      "text/plain": [
       "48"
      ]
     },
     "execution_count": 27,
     "metadata": {},
     "output_type": "execute_result"
    }
   ],
   "source": [
    "not_good = dataset[dataset['Preprocessed'].str.len() == 0][dataset['Preprocessed_Total'].str.len() == 0]\n",
    "len(not_good)"
   ]
  },
  {
   "cell_type": "markdown",
   "id": "b10cb0ea",
   "metadata": {
    "papermill": {
     "duration": 0.06969,
     "end_time": "2022-01-09T21:29:36.771394",
     "exception": false,
     "start_time": "2022-01-09T21:29:36.701704",
     "status": "completed"
    },
    "tags": []
   },
   "source": [
    "# Step 2 : Topic Modelling"
   ]
  },
  {
   "cell_type": "code",
   "execution_count": 28,
   "id": "8d8e06f7",
   "metadata": {
    "execution": {
     "iopub.execute_input": "2022-01-09T21:29:36.938410Z",
     "iopub.status.busy": "2022-01-09T21:29:36.937748Z",
     "iopub.status.idle": "2022-01-09T21:29:52.032710Z",
     "shell.execute_reply": "2022-01-09T21:29:52.032023Z",
     "shell.execute_reply.started": "2022-01-09T21:26:37.600783Z"
    },
    "papermill": {
     "duration": 15.19084,
     "end_time": "2022-01-09T21:29:52.032867",
     "exception": false,
     "start_time": "2022-01-09T21:29:36.842027",
     "status": "completed"
    },
    "tags": []
   },
   "outputs": [
    {
     "name": "stdout",
     "output_type": "stream",
     "text": [
      "Collecting whylogs\r\n",
      "  Downloading whylogs-0.6.21-py3-none-any.whl (2.1 MB)\r\n",
      "\u001b[K     |████████████████████████████████| 2.1 MB 4.4 MB/s \r\n",
      "\u001b[?25hRequirement already satisfied: matplotlib<4.0.0,>=3.0.3 in /opt/conda/lib/python3.7/site-packages (from whylogs) (3.4.3)\r\n",
      "Requirement already satisfied: botocore>=1.17.44 in /opt/conda/lib/python3.7/site-packages (from whylogs) (1.22.4)\r\n",
      "Requirement already satisfied: smart-open>=4.1.2 in /opt/conda/lib/python3.7/site-packages (from whylogs) (5.2.1)\r\n",
      "Collecting scikit-learn<0.25.0,>=0.24.2\r\n",
      "  Downloading scikit_learn-0.24.2-cp37-cp37m-manylinux2010_x86_64.whl (22.3 MB)\r\n",
      "\u001b[K     |████████████████████████████████| 22.3 MB 52.2 MB/s \r\n",
      "\u001b[?25hRequirement already satisfied: tqdm<5.0.0,>=4.60.0 in /opt/conda/lib/python3.7/site-packages (from whylogs) (4.62.3)\r\n",
      "Requirement already satisfied: protobuf>=3.15.5 in /opt/conda/lib/python3.7/site-packages (from whylogs) (3.19.0)\r\n",
      "Requirement already satisfied: boto3>=1.14.1 in /opt/conda/lib/python3.7/site-packages (from whylogs) (1.19.4)\r\n",
      "Requirement already satisfied: pandas>=1.0.0 in /opt/conda/lib/python3.7/site-packages (from whylogs) (1.3.3)\r\n",
      "Requirement already satisfied: numpy>=1.18.0 in /opt/conda/lib/python3.7/site-packages (from whylogs) (1.19.5)\r\n",
      "Requirement already satisfied: click>=7.1.2 in /opt/conda/lib/python3.7/site-packages (from whylogs) (8.0.1)\r\n",
      "Requirement already satisfied: jsonschema>=3.2.0 in /opt/conda/lib/python3.7/site-packages (from whylogs) (3.2.0)\r\n",
      "Collecting whylabs-client<0.2.0,>=0.1.1.dev0\r\n",
      "  Downloading whylabs_client-0.1.1.dev0-py3-none-any.whl (183 kB)\r\n",
      "\u001b[K     |████████████████████████████████| 183 kB 72.1 MB/s \r\n",
      "\u001b[?25hCollecting whylabs-datasketches>=2.2.0b1\r\n",
      "  Downloading whylabs_datasketches-2.2.0b1-cp37-cp37m-manylinux2010_x86_64.whl (410 kB)\r\n",
      "\u001b[K     |████████████████████████████████| 410 kB 56.4 MB/s \r\n",
      "\u001b[?25hCollecting python-dateutil>=2.8.1\r\n",
      "  Downloading python_dateutil-2.8.2-py2.py3-none-any.whl (247 kB)\r\n",
      "\u001b[K     |████████████████████████████████| 247 kB 68.0 MB/s \r\n",
      "\u001b[?25hCollecting puremagic<2.0,>=1.10\r\n",
      "  Downloading puremagic-1.11-py3-none-any.whl (31 kB)\r\n",
      "Collecting marshmallow>=3.7.1\r\n",
      "  Downloading marshmallow-3.14.1-py3-none-any.whl (47 kB)\r\n",
      "\u001b[K     |████████████████████████████████| 47 kB 3.2 MB/s \r\n",
      "\u001b[?25hRequirement already satisfied: pyyaml>=5.3.1 in /opt/conda/lib/python3.7/site-packages (from whylogs) (5.4.1)\r\n",
      "Requirement already satisfied: requests>=2.22.0 in /opt/conda/lib/python3.7/site-packages (from whylogs) (2.25.1)\r\n",
      "Requirement already satisfied: jmespath<1.0.0,>=0.7.1 in /opt/conda/lib/python3.7/site-packages (from boto3>=1.14.1->whylogs) (0.10.0)\r\n",
      "Requirement already satisfied: s3transfer<0.6.0,>=0.5.0 in /opt/conda/lib/python3.7/site-packages (from boto3>=1.14.1->whylogs) (0.5.0)\r\n",
      "Requirement already satisfied: urllib3<1.27,>=1.25.4 in /opt/conda/lib/python3.7/site-packages (from botocore>=1.17.44->whylogs) (1.26.6)\r\n",
      "Requirement already satisfied: importlib-metadata in /opt/conda/lib/python3.7/site-packages (from click>=7.1.2->whylogs) (4.8.1)\r\n",
      "Requirement already satisfied: attrs>=17.4.0 in /opt/conda/lib/python3.7/site-packages (from jsonschema>=3.2.0->whylogs) (21.2.0)\r\n",
      "Requirement already satisfied: setuptools in /opt/conda/lib/python3.7/site-packages (from jsonschema>=3.2.0->whylogs) (58.0.4)\r\n",
      "Requirement already satisfied: pyrsistent>=0.14.0 in /opt/conda/lib/python3.7/site-packages (from jsonschema>=3.2.0->whylogs) (0.17.3)\r\n",
      "Requirement already satisfied: six>=1.11.0 in /opt/conda/lib/python3.7/site-packages (from jsonschema>=3.2.0->whylogs) (1.16.0)\r\n",
      "Requirement already satisfied: pyparsing>=2.2.1 in /opt/conda/lib/python3.7/site-packages (from matplotlib<4.0.0,>=3.0.3->whylogs) (2.4.7)\r\n",
      "Requirement already satisfied: kiwisolver>=1.0.1 in /opt/conda/lib/python3.7/site-packages (from matplotlib<4.0.0,>=3.0.3->whylogs) (1.3.2)\r\n",
      "Requirement already satisfied: cycler>=0.10 in /opt/conda/lib/python3.7/site-packages (from matplotlib<4.0.0,>=3.0.3->whylogs) (0.10.0)\r\n",
      "Requirement already satisfied: pillow>=6.2.0 in /opt/conda/lib/python3.7/site-packages (from matplotlib<4.0.0,>=3.0.3->whylogs) (8.2.0)\r\n",
      "Requirement already satisfied: pytz>=2017.3 in /opt/conda/lib/python3.7/site-packages (from pandas>=1.0.0->whylogs) (2021.1)\r\n",
      "Requirement already satisfied: chardet<5,>=3.0.2 in /opt/conda/lib/python3.7/site-packages (from requests>=2.22.0->whylogs) (4.0.0)\r\n",
      "Requirement already satisfied: certifi>=2017.4.17 in /opt/conda/lib/python3.7/site-packages (from requests>=2.22.0->whylogs) (2021.10.8)\r\n",
      "Requirement already satisfied: idna<3,>=2.5 in /opt/conda/lib/python3.7/site-packages (from requests>=2.22.0->whylogs) (2.10)\r\n",
      "Requirement already satisfied: scipy>=0.19.1 in /opt/conda/lib/python3.7/site-packages (from scikit-learn<0.25.0,>=0.24.2->whylogs) (1.7.1)\r\n",
      "Requirement already satisfied: joblib>=0.11 in /opt/conda/lib/python3.7/site-packages (from scikit-learn<0.25.0,>=0.24.2->whylogs) (1.0.1)\r\n",
      "Requirement already satisfied: threadpoolctl>=2.0.0 in /opt/conda/lib/python3.7/site-packages (from scikit-learn<0.25.0,>=0.24.2->whylogs) (2.2.0)\r\n",
      "Requirement already satisfied: zipp>=0.5 in /opt/conda/lib/python3.7/site-packages (from importlib-metadata->click>=7.1.2->whylogs) (3.5.0)\r\n",
      "Requirement already satisfied: typing-extensions>=3.6.4 in /opt/conda/lib/python3.7/site-packages (from importlib-metadata->click>=7.1.2->whylogs) (3.10.0.2)\r\n",
      "Installing collected packages: python-dateutil, whylabs-datasketches, whylabs-client, scikit-learn, puremagic, marshmallow, whylogs\r\n",
      "  Attempting uninstall: python-dateutil\r\n",
      "    Found existing installation: python-dateutil 2.8.0\r\n",
      "    Uninstalling python-dateutil-2.8.0:\r\n",
      "      Successfully uninstalled python-dateutil-2.8.0\r\n",
      "  Attempting uninstall: scikit-learn\r\n",
      "    Found existing installation: scikit-learn 0.23.2\r\n",
      "    Uninstalling scikit-learn-0.23.2:\r\n",
      "      Successfully uninstalled scikit-learn-0.23.2\r\n",
      "\u001b[31mERROR: pip's dependency resolver does not currently take into account all the packages that are installed. This behaviour is the source of the following dependency conflicts.\r\n",
      "explainable-ai-sdk 1.3.2 requires xai-image-widget, which is not installed.\r\n",
      "beatrix-jupyterlab 3.1.1 requires google-cloud-bigquery-storage, which is not installed.\r\n",
      "pysal 2.5.0 requires python-dateutil<=2.8.0, but you have python-dateutil 2.8.2 which is incompatible.\r\n",
      "pdpbox 0.2.1 requires matplotlib==3.1.1, but you have matplotlib 3.4.3 which is incompatible.\r\n",
      "hypertools 0.7.0 requires scikit-learn!=0.22,<0.24,>=0.19.1, but you have scikit-learn 0.24.2 which is incompatible.\r\n",
      "apache-beam 2.32.0 requires dill<0.3.2,>=0.3.1.1, but you have dill 0.3.4 which is incompatible.\r\n",
      "apache-beam 2.32.0 requires pyarrow<5.0.0,>=0.15.1, but you have pyarrow 5.0.0 which is incompatible.\r\n",
      "apache-beam 2.32.0 requires typing-extensions<3.8.0,>=3.7.0, but you have typing-extensions 3.10.0.2 which is incompatible.\r\n",
      "aiobotocore 1.4.2 requires botocore<1.20.107,>=1.20.106, but you have botocore 1.22.4 which is incompatible.\u001b[0m\r\n",
      "Successfully installed marshmallow-3.14.1 puremagic-1.11 python-dateutil-2.8.2 scikit-learn-0.24.2 whylabs-client-0.1.1.dev0 whylabs-datasketches-2.2.0b1 whylogs-0.6.21\r\n",
      "\u001b[33mWARNING: Running pip as the 'root' user can result in broken permissions and conflicting behaviour with the system package manager. It is recommended to use a virtual environment instead: https://pip.pypa.io/warnings/venv\u001b[0m\r\n"
     ]
    }
   ],
   "source": [
    "! pip install whylogs"
   ]
  },
  {
   "cell_type": "code",
   "execution_count": 29,
   "id": "28ee73eb",
   "metadata": {
    "execution": {
     "iopub.execute_input": "2022-01-09T21:29:52.218962Z",
     "iopub.status.busy": "2022-01-09T21:29:52.218267Z",
     "iopub.status.idle": "2022-01-09T21:29:57.640475Z",
     "shell.execute_reply": "2022-01-09T21:29:57.639771Z",
     "shell.execute_reply.started": "2022-01-09T21:26:47.828582Z"
    },
    "papermill": {
     "duration": 5.522221,
     "end_time": "2022-01-09T21:29:57.640612",
     "exception": false,
     "start_time": "2022-01-09T21:29:52.118391",
     "status": "completed"
    },
    "tags": []
   },
   "outputs": [
    {
     "name": "stdout",
     "output_type": "stream",
     "text": [
      "\u001b[32m\r\n",
      "██╗    ██╗██╗  ██╗██╗   ██╗██╗      ██████╗  ██████╗ ███████╗\r\n",
      "██║    ██║██║  ██║╚██╗ ██╔╝██║     ██╔═══██╗██╔════╝ ██╔════╝\r\n",
      "██║ █╗ ██║███████║ ╚████╔╝ ██║     ██║   ██║██║  ███╗███████╗\r\n",
      "██║███╗██║██╔══██║  ╚██╔╝  ██║     ██║   ██║██║   ██║╚════██║\r\n",
      "╚███╔███╔╝██║  ██║   ██║   ███████╗╚██████╔╝╚██████╔╝███████║\r\n",
      " ╚══╝╚══╝ ╚═╝  ╚═╝   ╚═╝   ╚══════╝ ╚═════╝  ╚═════╝ ╚══════╝\r\n",
      "                       / \\__\r\n",
      "                      (    @\\___\r\n",
      "                      /         O\r\n",
      "                     /   (_____/\r\n",
      "                    /_____/   U\r\n",
      "\r\n",
      "Welcome to whylogs!\r\n",
      "\r\n",
      "Join us our community slack at  http://join.slack.whylabs.ai/\r\n",
      "\r\n",
      "This CLI will guide you through initializing a basic whylogs configurations.\r\n",
      "\r\n",
      "\u001b[0m\r\n",
      "Project path: /kaggle/working\u001b[0m\r\n",
      "\u001b[33mWARNING: we will override the content in the non-empty path\u001b[0m\r\n",
      "Would you like to proceed with the above path? [y/N]: \r\n",
      "Great. We will now generate the default configuration for whylogs'\r\n",
      "We'll need a few details from you before we can proceed\r\n",
      "\u001b[0m\r\n",
      "\"Project\" is a collection of related datasets that are used for multiple models or applications.\u001b[0m\r\n",
      "Project name (alphanumeric, dash, and underscore characters only): \u001b[32mUsing project name: NewProj\u001b[0m\r\n",
      "\"Pipeline\" is a series of one or multiple datasets to build a single model or application. A project might contain multiple pipelines \u001b[0m\r\n",
      "Pipeline name (leave blank for default pipeline name) [default-pipeline]: \u001b[32mUsing pipeline name: NewPipeline\u001b[0m\r\n",
      "Specify the whylogs output path [output]: \u001b[32mUsing output path: /kaggle/working/logs/\u001b[0m\r\n",
      "Config YAML file was written to: /kaggle/working/.whylogs.yaml\r\n",
      "\u001b[0m\r\n",
      "\u001b[32mTo get started with a whylogs session, use whylogs.get_or_created_session() in the project folder.\u001b[0m\r\n",
      "\u001b[0m"
     ]
    }
   ],
   "source": [
    "! { echo \"y\"; echo \"NewProj\"; echo \"NewPipeline\"; echo \"/kaggle/working/logs/\";} | whylogs init"
   ]
  },
  {
   "cell_type": "code",
   "execution_count": 30,
   "id": "c8275be7",
   "metadata": {
    "execution": {
     "iopub.execute_input": "2022-01-09T21:29:57.815684Z",
     "iopub.status.busy": "2022-01-09T21:29:57.815027Z",
     "iopub.status.idle": "2022-01-09T21:29:57.877563Z",
     "shell.execute_reply": "2022-01-09T21:29:57.878021Z",
     "shell.execute_reply.started": "2022-01-09T21:26:55.665041Z"
    },
    "papermill": {
     "duration": 0.153578,
     "end_time": "2022-01-09T21:29:57.878213",
     "exception": false,
     "start_time": "2022-01-09T21:29:57.724635",
     "status": "completed"
    },
    "tags": []
   },
   "outputs": [
    {
     "name": "stdout",
     "output_type": "stream",
     "text": [
      "Error creating session\n"
     ]
    },
    {
     "name": "stderr",
     "output_type": "stream",
     "text": [
      "/opt/conda/lib/python3.7/site-packages/marshmallow/fields.py:176: RemovedInMarshmallow4Warning: The 'default' argument to fields is deprecated. Use 'dump_default' instead.\n",
      "  RemovedInMarshmallow4Warning,\n",
      "/opt/conda/lib/python3.7/site-packages/marshmallow/fields.py:184: RemovedInMarshmallow4Warning: The 'missing' argument to fields is deprecated. Use 'load_default' instead.\n",
      "  RemovedInMarshmallow4Warning,\n"
     ]
    }
   ],
   "source": [
    "from whylogs import get_or_create_session\n",
    "import datetime\n",
    "\n",
    "try:\n",
    "    session = get_or_create_session()\n",
    "except:\n",
    "    print(\"Error creating session\")"
   ]
  },
  {
   "cell_type": "markdown",
   "id": "de7ce5f4",
   "metadata": {
    "papermill": {
     "duration": 0.084357,
     "end_time": "2022-01-09T21:29:58.046740",
     "exception": false,
     "start_time": "2022-01-09T21:29:57.962383",
     "status": "completed"
    },
    "tags": []
   },
   "source": [
    "## Model 1 : Latent Dirichlet Allocation"
   ]
  },
  {
   "cell_type": "code",
   "execution_count": 31,
   "id": "c65b27e1",
   "metadata": {
    "execution": {
     "iopub.execute_input": "2022-01-09T21:29:58.219583Z",
     "iopub.status.busy": "2022-01-09T21:29:58.218934Z",
     "iopub.status.idle": "2022-01-09T21:29:58.221075Z",
     "shell.execute_reply": "2022-01-09T21:29:58.220517Z",
     "shell.execute_reply.started": "2022-01-09T21:26:55.742020Z"
    },
    "papermill": {
     "duration": 0.090645,
     "end_time": "2022-01-09T21:29:58.221211",
     "exception": false,
     "start_time": "2022-01-09T21:29:58.130566",
     "status": "completed"
    },
    "tags": []
   },
   "outputs": [],
   "source": [
    "from gensim import models, corpora\n",
    "from gensim.models.coherencemodel import CoherenceModel"
   ]
  },
  {
   "cell_type": "code",
   "execution_count": 32,
   "id": "b5d87814",
   "metadata": {
    "execution": {
     "iopub.execute_input": "2022-01-09T21:29:58.391867Z",
     "iopub.status.busy": "2022-01-09T21:29:58.391283Z",
     "iopub.status.idle": "2022-01-09T21:29:58.526173Z",
     "shell.execute_reply": "2022-01-09T21:29:58.527005Z",
     "shell.execute_reply.started": "2022-01-09T21:26:55.747889Z"
    },
    "papermill": {
     "duration": 0.222235,
     "end_time": "2022-01-09T21:29:58.527248",
     "exception": false,
     "start_time": "2022-01-09T21:29:58.305013",
     "status": "completed"
    },
    "tags": []
   },
   "outputs": [],
   "source": [
    "dictionary = corpora.Dictionary(dataset.Preprocessed)\n",
    "dictionary.filter_extremes(no_below = 15, no_above = 0.2)"
   ]
  },
  {
   "cell_type": "code",
   "execution_count": 33,
   "id": "5c449acc",
   "metadata": {
    "execution": {
     "iopub.execute_input": "2022-01-09T21:29:58.700258Z",
     "iopub.status.busy": "2022-01-09T21:29:58.699655Z",
     "iopub.status.idle": "2022-01-09T21:29:58.882631Z",
     "shell.execute_reply": "2022-01-09T21:29:58.883211Z",
     "shell.execute_reply.started": "2022-01-09T21:26:55.963127Z"
    },
    "papermill": {
     "duration": 0.27015,
     "end_time": "2022-01-09T21:29:58.883401",
     "exception": false,
     "start_time": "2022-01-09T21:29:58.613251",
     "status": "completed"
    },
    "tags": []
   },
   "outputs": [],
   "source": [
    "dictionary_total = corpora.Dictionary(dataset.Preprocessed_Total)\n",
    "# dictionary_total.filter_extremes(no_below = 20, no_above = 0.13)"
   ]
  },
  {
   "cell_type": "code",
   "execution_count": 34,
   "id": "9968cf25",
   "metadata": {
    "execution": {
     "iopub.execute_input": "2022-01-09T21:29:59.056705Z",
     "iopub.status.busy": "2022-01-09T21:29:59.056144Z",
     "iopub.status.idle": "2022-01-09T21:29:59.206037Z",
     "shell.execute_reply": "2022-01-09T21:29:59.205494Z",
     "shell.execute_reply.started": "2022-01-09T21:26:56.243046Z"
    },
    "papermill": {
     "duration": 0.237447,
     "end_time": "2022-01-09T21:29:59.206208",
     "exception": false,
     "start_time": "2022-01-09T21:29:58.968761",
     "status": "completed"
    },
    "tags": []
   },
   "outputs": [],
   "source": [
    "bag_of_words_corpus = [dictionary.doc2bow(document) for document in dataset['Preprocessed']]\n",
    "bag_total_corpus = [dictionary_total.doc2bow(document) for document in dataset['Preprocessed_Total']]"
   ]
  },
  {
   "cell_type": "code",
   "execution_count": 35,
   "id": "83c4f119",
   "metadata": {
    "execution": {
     "iopub.execute_input": "2022-01-09T21:29:59.380518Z",
     "iopub.status.busy": "2022-01-09T21:29:59.379909Z",
     "iopub.status.idle": "2022-01-09T21:29:59.382223Z",
     "shell.execute_reply": "2022-01-09T21:29:59.382707Z",
     "shell.execute_reply.started": "2022-01-09T21:26:56.460582Z"
    },
    "papermill": {
     "duration": 0.092291,
     "end_time": "2022-01-09T21:29:59.382870",
     "exception": false,
     "start_time": "2022-01-09T21:29:59.290579",
     "status": "completed"
    },
    "tags": []
   },
   "outputs": [],
   "source": [
    "NUM_TOPICS = 12\n",
    "passes = [10, 20, 30, 40]\n",
    "iterations = [100, 200]\n",
    "\n",
    "perfect_params = [0,0]\n",
    "\n",
    "best_coherence = -9999"
   ]
  },
  {
   "cell_type": "code",
   "execution_count": 36,
   "id": "3d5acf54",
   "metadata": {
    "execution": {
     "iopub.execute_input": "2022-01-09T21:29:59.555540Z",
     "iopub.status.busy": "2022-01-09T21:29:59.554874Z",
     "iopub.status.idle": "2022-01-09T21:29:59.557837Z",
     "shell.execute_reply": "2022-01-09T21:29:59.558339Z",
     "shell.execute_reply.started": "2022-01-09T21:26:56.468478Z"
    },
    "papermill": {
     "duration": 0.091057,
     "end_time": "2022-01-09T21:29:59.558519",
     "exception": false,
     "start_time": "2022-01-09T21:29:59.467462",
     "status": "completed"
    },
    "tags": []
   },
   "outputs": [],
   "source": [
    "warnings.filterwarnings(\"ignore\", category = DeprecationWarning)"
   ]
  },
  {
   "cell_type": "markdown",
   "id": "a1526eeb",
   "metadata": {
    "papermill": {
     "duration": 0.084154,
     "end_time": "2022-01-09T21:29:59.727610",
     "exception": false,
     "start_time": "2022-01-09T21:29:59.643456",
     "status": "completed"
    },
    "tags": []
   },
   "source": [
    "Note : The below cells have been commented because they were used for training to get the optimal model, but were not necessary later (randomness creates variations)"
   ]
  },
  {
   "cell_type": "code",
   "execution_count": 37,
   "id": "01817eef",
   "metadata": {
    "execution": {
     "iopub.execute_input": "2022-01-09T21:29:59.899978Z",
     "iopub.status.busy": "2022-01-09T21:29:59.899356Z",
     "iopub.status.idle": "2022-01-09T21:29:59.902462Z",
     "shell.execute_reply": "2022-01-09T21:29:59.902995Z",
     "shell.execute_reply.started": "2022-01-09T21:26:56.484061Z"
    },
    "papermill": {
     "duration": 0.090618,
     "end_time": "2022-01-09T21:29:59.903174",
     "exception": false,
     "start_time": "2022-01-09T21:29:59.812556",
     "status": "completed"
    },
    "tags": []
   },
   "outputs": [],
   "source": [
    "# scores_lda= []\n",
    "\n",
    "# pairs = []\n",
    "\n",
    "# for num_pass in passes:\n",
    "#     for iteration in iterations:\n",
    "#         new_lda = models.LdaModel(corpus = bag_of_words_corpus, num_topics = NUM_TOPICS, chunksize = 5000, id2word = dictionary, passes = num_pass, iterations = iteration, random_state = 1) \n",
    "#         coherence_model = CoherenceModel(model = new_lda, texts = dataset['Preprocessed'], coherence = 'c_uci', topn = 10)\n",
    "#         coherence_score = coherence_model.get_coherence()\n",
    "#         scores_lda.append(coherence_score)\n",
    "#         pairs.append(str(num_pass) + ',' + str(iteration))\n",
    "#         print(\"\\nPasses:\", num_pass)\n",
    "#         print(\"Iterations to convergence:\", iteration)\n",
    "#         print(\"Coherence score:\", coherence_score)\n",
    "#         if coherence_score > best_coherence:\n",
    "#             best_coherence = coherence_score\n",
    "#             perfect_params = [num_pass, iteration]"
   ]
  },
  {
   "cell_type": "code",
   "execution_count": 38,
   "id": "a8dc13e3",
   "metadata": {
    "execution": {
     "iopub.execute_input": "2022-01-09T21:30:00.073777Z",
     "iopub.status.busy": "2022-01-09T21:30:00.073169Z",
     "iopub.status.idle": "2022-01-09T21:30:00.075958Z",
     "shell.execute_reply": "2022-01-09T21:30:00.076448Z",
     "shell.execute_reply.started": "2022-01-09T21:26:56.499257Z"
    },
    "papermill": {
     "duration": 0.089726,
     "end_time": "2022-01-09T21:30:00.076614",
     "exception": false,
     "start_time": "2022-01-09T21:29:59.986888",
     "status": "completed"
    },
    "tags": []
   },
   "outputs": [],
   "source": [
    "# plt.figure(figsize = (12,12))\n",
    "# plt.plot(pairs, scores_lda)\n",
    "# plt.title('Coherence scores')\n",
    "# plt.show()"
   ]
  },
  {
   "cell_type": "code",
   "execution_count": 39,
   "id": "520c5948",
   "metadata": {
    "execution": {
     "iopub.execute_input": "2022-01-09T21:30:00.248831Z",
     "iopub.status.busy": "2022-01-09T21:30:00.248237Z",
     "iopub.status.idle": "2022-01-09T21:30:00.250852Z",
     "shell.execute_reply": "2022-01-09T21:30:00.250364Z",
     "shell.execute_reply.started": "2022-01-09T21:26:56.514070Z"
    },
    "papermill": {
     "duration": 0.090582,
     "end_time": "2022-01-09T21:30:00.250989",
     "exception": false,
     "start_time": "2022-01-09T21:30:00.160407",
     "status": "completed"
    },
    "tags": []
   },
   "outputs": [],
   "source": [
    "# tuned_lda_model = models.LdaModel(corpus = bag_of_words_corpus, num_topics = NUM_TOPICS, chunksize = 5000, id2word = dictionary, passes = perfect_params[0], iterations = perfect_params[1], random_state = 1)"
   ]
  },
  {
   "cell_type": "code",
   "execution_count": 40,
   "id": "63ef3388",
   "metadata": {
    "execution": {
     "iopub.execute_input": "2022-01-09T21:30:00.423370Z",
     "iopub.status.busy": "2022-01-09T21:30:00.422751Z",
     "iopub.status.idle": "2022-01-09T21:30:00.425494Z",
     "shell.execute_reply": "2022-01-09T21:30:00.425030Z",
     "shell.execute_reply.started": "2022-01-09T21:26:56.531896Z"
    },
    "papermill": {
     "duration": 0.090521,
     "end_time": "2022-01-09T21:30:00.425631",
     "exception": false,
     "start_time": "2022-01-09T21:30:00.335110",
     "status": "completed"
    },
    "tags": []
   },
   "outputs": [],
   "source": [
    "# try:\n",
    "#     logger_lda = session.logger(tuned_lda_model)\n",
    "# except:\n",
    "#     print(\"No session logging\")"
   ]
  },
  {
   "cell_type": "code",
   "execution_count": 41,
   "id": "8c97c793",
   "metadata": {
    "execution": {
     "iopub.execute_input": "2022-01-09T21:30:00.609620Z",
     "iopub.status.busy": "2022-01-09T21:30:00.607737Z",
     "iopub.status.idle": "2022-01-09T21:30:00.611622Z",
     "shell.execute_reply": "2022-01-09T21:30:00.612295Z",
     "shell.execute_reply.started": "2022-01-09T21:26:56.548069Z"
    },
    "papermill": {
     "duration": 0.102106,
     "end_time": "2022-01-09T21:30:00.612468",
     "exception": false,
     "start_time": "2022-01-09T21:30:00.510362",
     "status": "completed"
    },
    "tags": []
   },
   "outputs": [],
   "source": [
    "# print(\"Noun Model Results:\")\n",
    "# for id in range(NUM_TOPICS):\n",
    "#     print(\"Topic \" + str(id+1) + \":\" + tuned_lda_model.print_topic(id,10))"
   ]
  },
  {
   "cell_type": "code",
   "execution_count": 42,
   "id": "3d7f11bc",
   "metadata": {
    "execution": {
     "iopub.execute_input": "2022-01-09T21:30:00.814330Z",
     "iopub.status.busy": "2022-01-09T21:30:00.811796Z",
     "iopub.status.idle": "2022-01-09T21:30:00.870619Z",
     "shell.execute_reply": "2022-01-09T21:30:00.871199Z",
     "shell.execute_reply.started": "2022-01-09T21:26:56.560422Z"
    },
    "papermill": {
     "duration": 0.146345,
     "end_time": "2022-01-09T21:30:00.871393",
     "exception": false,
     "start_time": "2022-01-09T21:30:00.725048",
     "status": "completed"
    },
    "tags": []
   },
   "outputs": [],
   "source": [
    "try:\n",
    "    final_model = models.LdaModel.load('../input/lda-model-saved/lda_model')\n",
    "    final_dictionary = corpora.Dictionary.load('../input/lda-model-saved/model_dictionary')\n",
    "    final_corpus = corpora.MmCorpus('../input/lda-model-saved/tuned_corpus')\n",
    "except Exception as e:\n",
    "    print(\"Error loading\"+ str(e))"
   ]
  },
  {
   "cell_type": "code",
   "execution_count": 43,
   "id": "0ea3aa01",
   "metadata": {
    "execution": {
     "iopub.execute_input": "2022-01-09T21:30:01.044414Z",
     "iopub.status.busy": "2022-01-09T21:30:01.043772Z",
     "iopub.status.idle": "2022-01-09T21:30:04.834981Z",
     "shell.execute_reply": "2022-01-09T21:30:04.834467Z",
     "shell.execute_reply.started": "2022-01-09T21:26:56.612714Z"
    },
    "papermill": {
     "duration": 3.879344,
     "end_time": "2022-01-09T21:30:04.835147",
     "exception": false,
     "start_time": "2022-01-09T21:30:00.955803",
     "status": "completed"
    },
    "tags": []
   },
   "outputs": [
    {
     "name": "stderr",
     "output_type": "stream",
     "text": [
      "/opt/conda/lib/python3.7/site-packages/pyLDAvis/_prepare.py:248: FutureWarning: In a future version of pandas all arguments of DataFrame.drop except for the argument 'labels' will be keyword-only\n",
      "  by='saliency', ascending=False).head(R).drop('saliency', 1)\n"
     ]
    },
    {
     "data": {
      "text/html": [
       "\n",
       "<link rel=\"stylesheet\" type=\"text/css\" href=\"https://cdn.jsdelivr.net/gh/bmabey/pyLDAvis@3.2.2/pyLDAvis/js/ldavis.v1.0.0.css\">\n",
       "\n",
       "\n",
       "<div id=\"ldavis_el191400462721983528425604681\"></div>\n",
       "<script type=\"text/javascript\">\n",
       "\n",
       "var ldavis_el191400462721983528425604681_data = {\"mdsDat\": {\"x\": [-0.1336568531544284, -0.05027071416574453, -0.1834104288767125, -0.16105724491243295, 0.055926885048473325, 0.061128039245454874, 0.3217121960748128, 0.007090714894438324, -0.21181681395387275, 0.22758477664993454, -0.1323690538569623, 0.19913849700704128], \"y\": [-0.14376987547841533, 0.10030145342752654, -0.055566681936492425, -0.3048392779688318, 0.09260355481056697, -0.018855895157477494, -0.13688846225010778, 0.22419043742137504, 0.076303346742302, 0.10953283202636865, 0.16637136863169116, -0.10938280026850526], \"topics\": [1, 2, 3, 4, 5, 6, 7, 8, 9, 10, 11, 12], \"cluster\": [1, 1, 1, 1, 1, 1, 1, 1, 1, 1, 1, 1], \"Freq\": [6.856030202851708, 7.458793673569855, 15.053791280949532, 6.562846419553374, 6.4760090240762915, 11.405154430565254, 5.5911558108495, 9.412558105840564, 10.672715523684566, 6.236641322593007, 6.851420673897953, 7.422883531568394]}, \"tinfo\": {\"Term\": [\"time\", \"fitter\", \"choice\", \"garage\", \"company\", \"order\", \"value\", \"customer\", \"first_class\", \"book\", \"experience\", \"staff\", \"process\", \"problem\", \"appointment\", \"fit\", \"quality\", \"online\", \"class\", \"minute\", \"date\", \"friendly_staff\", \"hassle\", \"first_class_service\", \"website\", \"communication\", \"wheel\", \"fitting\", \"purchase\", \"centre\", \"easy\", \"information\", \"%_discount\", \"cost_effective\", \"much_cheaper\", \"availability\", \"everything_worked\", \"result\", \"idea\", \"choice\", \"many_thanks\", \"right\", \"discount\", \"speedy\", \"book\", \"thank\", \"superb\", \"recommendation\", \"cost\", \"issue\", \"shop\", \"slot\", \"grip\", \"budget\", \"extra\", \"garage\", \"someone\", \"need\", \"facility\", \"return\", \"company\", \"time\", \"problem\", \"next_day\", \"convenient\", \"start\", \"type\", \"brilliant\", \"week_later\", \"product\", \"whole_process\", \"amount\", \"quality_product\", \"e_mail\", \"extra_cost\", \"office\", \"today\", \"performance\", \"buying\", \"internet\", \"pound\", \"mail\", \"manufacturer\", \"alternative\", \"journey\", \"repair\", \"quality\", \"payment\", \"instruction\", \"cost\", \"min\", \"quote\", \"week\", \"budget\", \"hour\", \"search\", \"refund\", \"appointment\", \"process\", \"company\", \"email\", \"fitting\", \"replacement\", \"s\", \"weekend\", \"point\", \"list\", \"none\", \"phone_call\", \"sport\", \"email_saying\", \"phone\", \"morning\", \"confirmation_email\", \"arrange\", \"order\", \"wednesday\", \"monday\", \"pilot\", \"saturday\", \"half\", \"mean\", \"following_day\", \"call\", \"be\", \"plan\", \"reply\", \"message\", \"email\", \"tuesday\", \"afternoon\", \"appointment\", \"name\", \"day\", \"garage\", \"do\", \"online\", \"confirmation\", \"people\", \"refund\", \"reason\", \"week\", \"company\", \"search\", \"complaint\", \"date\", \"hour\", \"fitting\", \"nt\", \"minute\", \"quick\", \"everything_went\", \"efficient\", \"brand\", \"trouble_free\", \"alloy_wheels\", \"area\", \"offer\", \"trouble\", \"booking_system\", \"wide_choice\", \"everything_went_smoothly\", \"saved_money\", \"procedure\", \"advice\", \"center\", \"new_tyres_fitted\", \"system\", \"house\", \"booking\", \"save\", \"mind\", \"alloy\", \"change\", \"selection\", \"rest\", \"online\", \"part\", \"whilst\", \"wheel\", \"garage\", \"order\", \"review\", \"problem\", \"excellent\", \"ordering_process\", \"fitting_station\", \"round\", \"future\", \"kwik_fit\", \"fast\", \"like_clockwork\", \"station\", \"cheap\", \"ca\", \"clockwork\", \"regard\", \"guy\", \"straightforward\", \"fast_delivery\", \"hassle_free_service\", \"everyone\", \"recommend\", \"manner\", \"bonus\", \"market\", \"process\", \"perfect\", \"choose\", \"communication\", \"prompt\", \"reminder\", \"pleasure\", \"place\", \"dealer\", \"reason\", \"nt\", \"delivery\", \"fitting\", \"work\", \"company\", \"garage\", \"quality\", \"value\", \"centre\", \"fitting_centres\", \"valve\", \"rate\", \"appointed_time\", \"two_front\", \"arrival\", \"saving\", \"mark\", \"winter\", \"time\", \"location\", \"advance\", \"slot\", \"shop\", \"check\", \"lady\", \"paperwork\", \"compensation\", \"contact\", \"fact\", \"holiday\", \"notice\", \"brake\", \"question\", \"schedule\", \"line\", \"explanation\", \"coffee\", \"times\", \"selection\", \"fitting\", \"book\", \"vehicle\", \"dealer\", \"problem\", \"website\", \"issue\", \"hour\", \"company\", \"number\", \"team\", \"first_class\", \"class\", \"hassle\", \"first_class_service\", \"local_tyre_fitter\", \"transaction\", \"lot\", \"competitive_pricing\", \"drive\", \"pricing\", \"tire\", \"charge\", \"puncture\", \"plenty\", \"smooth_transaction\", \"seamless\", \"stress\", \"help\", \"site\", \"line\", \"credit\", \"delivery\", \"pleasure\", \"speedy\", \"purchase\", \"variety\", \"need\", \"stock\", \"explanation\", \"fitting\", \"fitter\", \"money\", \"many_years\", \"road\", \"agent\", \"suit\", \"difference\", \"correct\", \"excellent_customer_service\", \"customer_services\", \"wrong_size\", \"anyone_else\", \"polite\", \"customer_care\", \"last_minute\", \"poor_customer_service\", \"value\", \"customer\", \"branch\", \"option\", \"helpful\", \"support\", \"year\", \"date\", \"anyone\", \"need\", \"brake\", \"confirmation\", \"response\", \"size\", \"thank\", \"issue\", \"day\", \"fitting\", \"company\", \"work\", \"staff\", \"website\", \"online\", \"time\", \"home\", \"motor\", \"other\", \"apology\", \"family\", \"several_times\", \"can\", \"not\", \"friend\", \"convenience\", \"partner\", \"company_several_times\", \"high_street\", \"run_flats\", \"street\", \"info\", \"past\", \"flat\", \"wo\", \"fault\", \"rating\", \"speed\", \"team\", \"tracking\", \"pressure\", \"star\", \"situation\", \"access\", \"business\", \"thing\", \"website\", \"company\", \"car\", \"garage\", \"review\", \"number\", \"anyone\", \"issue\", \"time\", \"year\", \"friendly_staff\", \"fuss\", \"job_done\", \"hesitation\", \"installation\", \"depot\", \"hill\", \"wide_range\", \"spot\", \"fitment\", \"discount_code\", \"pair\", \"sale\", \"code\", \"efficiency\", \"professional\", \"range\", \"purchase\", \"staff\", \"supply\", \"one\", \"rear\", \"mechanic\", \"complaint\", \"size\", \"mistake\", \"buy\", \"front\", \"response\", \"user\", \"work\", \"date\", \"delivery\", \"fitting\", \"stock\", \"discount\", \"experience\", \"wheel_alignment\", \"whole_experience\", \"wheel_nuts\", \"alignment\", \"bad_experience\", \"nuts\", \"visit\", \"avon\", \"michelin\", \"auto\", \"hand\", \"damage\", \"level\", \"noise\", \"aspect\", \"condition\", \"shame\", \"locking_wheel\", \"mile\", \"weather\", \"facility\", \"wheel\", \"care\", \"something\", \"room\", \"grip\", \"car\", \"coffee\", \"hold\", \"nt\", \"year\", \"detail\", \"alloy\", \"customer\", \"company\", \"range\", \"website\", \"garage\", \"pressure\", \"issue\", \"fit\", \"mobile_fitter\", \"deal\", \"address\", \"supplier\", \"simple\", \"look\", \"many_times\", \"saturday_morning\", \"fitter\", \"standard\", \"premium\", \"till\", \"problem\", \"ease\", \"arrangement\", \"whilst\", \"case\", \"return\", \"night\", \"people\", \"retailer\", \"buy\", \"occasion\", \"do\", \"site\", \"communication\", \"mind\", \"save\", \"supply\", \"work\", \"delivery\", \"time\", \"company\", \"place\"], \"Freq\": [2400.0, 873.0, 715.0, 2292.0, 2105.0, 828.0, 553.0, 569.0, 327.0, 445.0, 297.0, 355.0, 348.0, 352.0, 477.0, 250.0, 316.0, 414.0, 214.0, 227.0, 406.0, 212.0, 193.0, 191.0, 446.0, 251.0, 238.0, 905.0, 214.0, 219.0, 169.63721024046862, 92.35163931019864, 89.35798742228921, 88.38388708188921, 78.16798613058793, 75.61427999624696, 72.62725393362464, 46.872001675999456, 40.70464731678153, 690.1959654026666, 16.151019003519284, 9.656114822928227, 70.09663190321909, 8.559621016682984, 289.0165632875081, 87.84847517121482, 9.822321275812733, 5.680277052532107, 50.608415362714744, 89.25722060495359, 18.460018484940278, 44.67530767182106, 1.5057935631663497, 17.797709582461827, 1.8637532089587134, 214.03530514142108, 1.446656659120306, 0.6150645633419253, 0.07060302332101379, 0.07060221505654363, 18.091629383098727, 4.262142677372213, 0.9676827735079474, 179.181389567208, 153.17355534995258, 129.87809768145777, 101.57982877629433, 94.79615659611834, 92.13812067183305, 84.63773678916498, 81.08151588170142, 48.179414209339605, 20.793318914245358, 20.207378485475896, 18.61363695327636, 17.601671982274553, 15.404164731798318, 15.162047825916705, 13.190099188446718, 12.085649613787355, 12.000766989921033, 11.369625533739182, 11.075789333307036, 9.29903444296198, 9.212904503964863, 8.080715698677322, 261.40052573344747, 21.068633592069645, 7.749750961509155, 104.93409780120042, 13.246086908543461, 13.290159939925339, 129.43685810879862, 67.75535355592986, 110.48360209330211, 46.49902240845822, 58.3994075924143, 117.72400318748537, 77.1287028867733, 192.5954347156664, 51.13558059157341, 66.4499632358309, 17.511539317995773, 117.63270322612682, 85.7236868446933, 64.17263962109234, 45.94598514366245, 44.76705400995664, 44.35900065829227, 21.99397932788171, 18.567831439415023, 75.79031045413694, 85.89820722293523, 17.11392072857447, 15.583787691388412, 784.9018161961467, 16.25023651687217, 16.505441785188538, 10.554940141805115, 19.54199730885507, 8.394220161229649, 8.899083836659935, 32.09479309566822, 51.147757968736144, 11.052027536156132, 39.10769151383964, 9.165521235129665, 13.16241799061476, 183.2475292425048, 11.706830249566192, 14.056041722366682, 356.47909425300287, 9.819896932705857, 152.9619476166325, 1247.3927749805805, 81.33808527185346, 196.3849593588877, 59.51505875388071, 55.38624265620756, 54.3715289024265, 41.36394139134197, 68.35945042736529, 289.44118335195424, 37.57907909989919, 43.27325828237764, 80.46869096469827, 46.558529426745814, 82.50772136322205, 40.168716624393845, 226.09433388526648, 141.42789002684663, 131.70494165219594, 116.759759367467, 100.59701031260839, 94.79959736850765, 84.030870506304, 67.4945641943352, 63.99784141027363, 59.96792987829621, 164.6882832482421, 28.834485727488286, 20.482984083193227, 17.686867859078323, 13.672748683647505, 12.718811770679013, 8.43211398858887, 29.064839181248384, 119.94413745811174, 12.439943712721469, 83.00931035677357, 10.977429277627905, 5.66286890668372, 54.10899265789261, 24.58021255080032, 99.82299326845023, 5.405907859395869, 168.0101698931006, 5.753198999812682, 3.6785453985924783, 47.395954228736485, 169.5477269742638, 42.518539404907926, 13.408671821945589, 9.328586465526328, 163.14272890993138, 141.97255704936427, 97.87690184300422, 99.72246481268758, 87.77784361011958, 71.21533342585413, 68.30674159921624, 67.43690372163019, 55.26560715385738, 48.85554310370095, 38.75958211242529, 34.979652916056864, 34.10944977756382, 36.65687973627677, 31.591110393659807, 26.566203279994674, 14.996858822973861, 11.304601856412713, 8.435159163712578, 7.795456483811453, 6.509600851354877, 7.622653898344965, 270.5211990390139, 8.600244277500918, 87.09977411679056, 173.59980264047195, 13.55803630152774, 6.445788596087541, 5.320853889476724, 78.55673589180785, 17.222362556861803, 32.5728740388803, 41.498573260611785, 44.282352658493096, 82.97887065970178, 35.984146042630016, 63.433994489700794, 62.542347759129996, 31.02771573689681, 31.46465963089351, 218.62356465618882, 126.00388266275607, 29.154524092560468, 20.680119800292932, 19.446441796120354, 17.824413565285525, 16.59927306658023, 12.716012498449137, 12.592276037297887, 10.243952303901361, 2081.7299587964517, 56.78046416482033, 11.60983844241855, 209.05614147714343, 77.35807559092034, 18.869655149491308, 8.309360900610203, 13.246675173042751, 12.556371115098052, 10.868526598174084, 15.572224701504728, 11.06420174688969, 10.365554858916317, 5.212994443190693, 7.7372050842214, 6.663310943249906, 6.220990477961169, 5.431361036267913, 6.508692092168929, 5.160125014230374, 67.97143159792297, 313.53334455811273, 155.42136154752458, 17.693879451620774, 11.586344784776083, 57.474185858242905, 61.829682957857315, 43.12500724867153, 29.867950326030474, 42.13974262785755, 11.803742702965518, 11.92946165602303, 326.69194576198925, 213.69026770107456, 192.67719105096666, 190.6231679352145, 89.05524796590835, 82.79449333004315, 65.50134601991155, 59.13677561119276, 53.68121193437648, 52.40549913843791, 50.49564594947375, 54.22389618985002, 45.07824186287821, 29.010076043476285, 22.249215376524585, 8.87266904270659, 8.986608393296352, 7.277691025498785, 99.80706105895761, 6.817117109039647, 4.522183917451233, 100.78301858166691, 2.3072036151087354, 3.0564179850474704, 43.949561147411295, 3.0197222057071493, 4.239418993376397, 4.04842002761319, 1.0433713157449405, 76.43390264274792, 47.930739466212806, 168.89750248532712, 88.0928825143429, 60.54757420380138, 57.233525261693984, 54.29946217968466, 46.60805958121335, 43.43853652893131, 43.14765613291378, 33.92008849724793, 22.42768324833716, 18.682073082136068, 16.589175081159333, 16.471272790066514, 16.828548414641464, 16.233981098815175, 521.4800592178836, 481.18254540465176, 7.25552596393645, 112.53346102145647, 13.087818698234265, 9.936629931103536, 93.30946863087637, 225.71764868209914, 69.63163736693335, 12.782726165420295, 4.449351933118238, 43.76833323421505, 52.35726048454179, 21.27593435231951, 47.88959987931983, 85.75438332855671, 62.220351475271265, 151.89884617939612, 239.99749706251578, 60.13426344033964, 49.90255878263871, 51.81534738532141, 49.08764164230745, 73.60634149685347, 138.3070890843172, 96.9808791885266, 63.68884994438227, 51.82716601541068, 46.59343558600817, 46.33596034993091, 44.190000131470555, 44.190000131470555, 43.69314730890618, 33.896925844421396, 95.46692156175436, 26.530423845496387, 20.7294653432316, 18.90215013484253, 16.13016648396831, 12.60357931421506, 12.522272780822467, 9.495689945167456, 8.449775344374133, 50.74790752492316, 26.72476852352561, 11.28414765879121, 65.70592997432969, 8.30363796801772, 114.3395490476399, 121.53473238020058, 9.645020196096574, 14.855729014157479, 62.34643452039704, 35.68038039047464, 281.59939946067703, 1047.9719807440058, 69.71496242816063, 524.3825123035016, 44.84337421326988, 26.580309430468574, 44.58747957331516, 66.79141580232451, 84.27917354520962, 21.893308607956072, 211.28734485645103, 113.34871510172873, 81.98923659396674, 56.33588621268069, 52.52407441636093, 52.37779571903359, 49.06184628452159, 39.518715405074616, 27.98227551158052, 26.75060929149958, 21.360960300238276, 17.482170098842175, 24.55092820950181, 16.997407720873227, 10.208392447914251, 9.167563255392787, 143.78751207376575, 169.31159989306815, 280.02111075732523, 9.134910254379912, 21.45402449016636, 8.11096194443393, 9.890090743077433, 70.20956182481413, 34.089070678865546, 14.742988866459035, 31.468949938442197, 15.528660368953975, 63.556203535588764, 5.532553054880791, 110.8216791219967, 99.90802525651475, 65.42619288114936, 106.61547642472928, 17.39976156426714, 21.008566669500656, 296.59404681883797, 102.86658438618437, 64.32197750204328, 55.89134120025656, 55.601053988531056, 55.51194344831619, 51.92743174278234, 53.49095201153304, 47.47770351592511, 68.01725818300754, 31.275221122660472, 28.64582290765642, 28.501126752771615, 28.249837831583946, 27.780834631528858, 26.970261365997608, 26.501118055030233, 26.1400816121598, 10.297441329231017, 63.589278785502806, 7.31879067703594, 5.174600506027068, 190.10465525099679, 32.19163688315783, 25.26468219130791, 5.288762086410243, 5.453631387847667, 84.08195957286479, 8.512763329958094, 4.949949607074706, 75.08230573803735, 49.91069786984999, 25.13441068082845, 26.282818474126, 86.19255419790923, 155.16153609131058, 35.686516022335866, 50.27763479001047, 67.88361949092634, 27.580986753831525, 28.452811086566662, 249.232712867828, 158.49661686180568, 100.58222543965488, 63.60926693182582, 53.62586379535921, 51.10623470272567, 36.49360964734952, 28.690862496621673, 15.51753512602557, 824.3471831329787, 12.799797124537262, 35.62979746454651, 7.627415790133955, 283.25686731838795, 38.86355193745989, 14.05316151086765, 6.981755265165982, 29.404691627382306, 3.7403243183990105, 24.194301602081847, 51.69437569036208, 5.628522962401955, 23.866519871652347, 23.49577461590837, 44.132011765211274, 51.01428472798721, 77.41533186024316, 2.018968782366016, 3.4881719073770894, 2.72788791399297, 41.07856062571105, 29.161350803299456, 122.5857985723449, 56.377380362894996, 6.493682346014417], \"Total\": [2400.0, 873.0, 715.0, 2292.0, 2105.0, 828.0, 553.0, 569.0, 327.0, 445.0, 297.0, 355.0, 348.0, 352.0, 477.0, 250.0, 316.0, 414.0, 214.0, 227.0, 406.0, 212.0, 193.0, 191.0, 446.0, 251.0, 238.0, 905.0, 214.0, 219.0, 170.6018028007316, 93.23118635359454, 90.23752280809005, 89.26326670699055, 79.04737374402903, 76.49374780278409, 73.50685638290659, 47.751782814918194, 41.58401769614534, 715.7104518185946, 17.030380122777363, 10.53678356940074, 91.89032779593853, 12.415987618735997, 445.49070516202255, 137.01233564768597, 19.020744851393843, 11.583470166622991, 156.3301844328258, 318.3972417186206, 96.61079335785537, 254.5277670558908, 8.703542136090512, 110.10977168103395, 11.695994348566641, 2292.1456400681172, 16.040680478515693, 27.15237653854307, 6.073682142132437, 7.350438467339065, 2105.7212219256194, 2400.5726907423964, 352.6216452105075, 180.039826098684, 154.03230900329015, 130.73609495204678, 102.43795246014501, 95.66639942406859, 92.99608405832367, 85.50114095203915, 81.93994754379995, 49.03736344179082, 21.651274607435596, 21.065445597146567, 19.47155690400932, 18.4613507959374, 16.26242489834316, 16.020024732320582, 14.074683930278676, 12.943569971440636, 12.862288085609155, 12.227608077823133, 11.934107509476869, 10.15826838697828, 10.076038500631574, 9.334568251104812, 316.918383747663, 26.940468429378516, 10.719927354377727, 156.3301844328258, 19.74921889688804, 20.387064100359176, 198.57603816683138, 110.10977168103395, 187.73016375046788, 84.86375767366755, 113.54515084791835, 477.7605709947281, 348.4721191595578, 2105.7212219256194, 239.87429028205148, 905.4799887977999, 35.52458391160205, 118.49887290617497, 86.59357373025699, 65.03887394767345, 46.81211937638569, 45.63312582714771, 45.36082360133898, 22.863432282418486, 19.43415063089349, 79.38291389498833, 90.23735657646155, 17.98072188195483, 16.452907991421473, 828.945717310536, 17.230184212518104, 17.746231105871626, 11.423041894990765, 21.22038664581722, 9.271821242231153, 10.015056721241603, 36.45621293782347, 58.261415375768024, 12.823133152629289, 45.407044114506846, 11.052439254319852, 16.50771125906879, 239.87429028205148, 15.4696140780685, 18.62517366396631, 477.7605709947281, 13.265992948715851, 221.07408655972964, 2292.1456400681172, 126.26938045797125, 414.8945745468193, 104.10968111980768, 107.87770947180195, 113.54515084791835, 88.40547684423078, 198.57603816683138, 2105.7212219256194, 84.86375767366755, 114.25441318172786, 406.78388131838096, 187.73016375046788, 905.4799887977999, 157.82237713485048, 227.09208560180673, 142.2959284735627, 132.57264000601572, 117.62892785259359, 101.47628173373106, 95.66727736478492, 84.89855027719827, 68.37529487986444, 64.8665803437813, 60.835644703057476, 167.45731302574876, 29.702183259684947, 21.35066047689433, 18.554603536630772, 14.567420711994554, 13.594105001750416, 9.299794376067961, 32.71553848718591, 138.40455606896035, 16.472129033081004, 115.01127538698107, 15.324917050891276, 8.480295637079259, 81.20866257045766, 39.871370424366575, 168.5761576169083, 9.869914664026028, 414.8945745468193, 15.384203343611654, 11.458865901308199, 238.3218126231294, 2292.1456400681172, 828.945717310536, 88.28702640900102, 352.6216452105075, 164.0272248926399, 142.88152641510646, 98.7614439035416, 100.70582157188937, 88.68459547879144, 72.09979543633825, 69.19116633864778, 68.32180509099989, 56.15015368536002, 49.739976145693056, 39.64400095222273, 35.86434020892617, 34.99386275829667, 37.643135136301545, 32.50171156036546, 27.450605686829032, 15.881262289387886, 12.195306093075269, 9.319559549601804, 8.679900380775404, 7.394050607272145, 9.68547787001326, 348.4721191595578, 11.40227131045191, 117.68139934746469, 251.86548761542974, 20.54267690626582, 10.135029175514179, 8.446607634286018, 127.09103240278432, 29.608216450551332, 88.40547684423078, 157.82237713485048, 240.6639671486878, 905.4799887977999, 272.217612186173, 2105.7212219256194, 2292.1456400681172, 316.918383747663, 553.7497060873362, 219.48846979519263, 126.866425873706, 30.017085182076055, 21.544290674477395, 20.308994450458346, 18.69806615480627, 17.461959796597814, 13.579875178557758, 13.454850230428754, 11.106506071039801, 2400.5726907423964, 66.57425179307802, 13.920187363735769, 254.5277670558908, 96.61079335785537, 23.834777834116217, 10.543431300434246, 17.223746144819486, 16.35603503273642, 15.532251554394056, 23.923131503993815, 17.899968901338546, 16.86793158428791, 10.441532957466695, 15.587924899378578, 14.097047969838208, 13.826586524510555, 12.236753642485027, 15.833719025726403, 12.579016952269761, 168.5761576169083, 905.4799887977999, 445.49070516202255, 49.841721926689225, 29.608216450551332, 352.6216452105075, 446.3551911692863, 318.3972417186206, 187.73016375046788, 2105.7212219256194, 50.45968651628179, 78.40745327971747, 327.5625994758627, 214.56089897149027, 193.54813819321186, 191.49371235685157, 89.92584584637396, 83.66503842112965, 66.3988090271821, 60.0073352890849, 54.55409511150783, 53.276084939480896, 51.36620906446333, 55.18293910121872, 46.071121505530115, 30.04760263366723, 23.119728773011705, 9.743215374752818, 9.929175588557433, 10.350137499559713, 151.62801325730592, 13.826586524510555, 9.673939648399227, 240.6639671486878, 8.446607634286018, 12.415987618735997, 214.0384708342613, 17.95132857243118, 27.15237653854307, 44.546736156989226, 12.236753642485027, 905.4799887977999, 873.1221853196674, 169.7738358805258, 88.95950363341245, 61.41448298104734, 58.100175400983616, 55.16610616795137, 47.474756943894775, 44.30519754964692, 44.01429939756845, 34.78706373597695, 23.294294172809153, 19.548713704284012, 17.455827351294406, 17.338194347979556, 17.71743026644539, 17.10071505831168, 553.7497060873362, 569.011457189843, 9.067085894507533, 140.8875606636002, 16.649203394900518, 15.161981740778177, 165.84713772856696, 406.78388131838096, 129.19147135266388, 27.15237653854307, 10.441532957466695, 104.10968111980768, 139.88401930610453, 58.041847622437125, 137.01233564768597, 318.3972417186206, 221.07408655972964, 905.4799887977999, 2105.7212219256194, 272.217612186173, 355.5151246499152, 446.3551911692863, 414.8945745468193, 2400.5726907423964, 139.16936154968835, 97.84024536905022, 64.73589982841487, 52.68663482819779, 47.45295506370539, 47.1953179497922, 45.04937051307307, 45.04937051307307, 44.5525694256655, 34.75867834571297, 98.34160707479207, 27.389766682343456, 21.588804315693377, 19.761499694406254, 16.989515515649074, 13.463083696899282, 13.383085569086363, 10.355033550033752, 9.309249121374055, 57.01073005191749, 30.039549642089437, 13.16409800930143, 78.40745327971747, 10.066951087713917, 142.7303184008153, 158.38607161239435, 12.771790365216566, 20.453766006879796, 87.89057237323328, 54.89433062749749, 446.3551911692863, 2105.7212219256194, 154.6105606998447, 2292.1456400681172, 88.28702640900102, 50.45968651628179, 129.19147135266388, 318.3972417186206, 2400.5726907423964, 165.84713772856696, 212.14275807492214, 114.20415150721682, 82.84504427810394, 57.19132440743159, 53.3794938570234, 53.23343367781575, 49.9172616036012, 40.37413976775974, 28.837903036398718, 27.61476799831122, 22.216373007986743, 18.33805978660912, 25.762924113673268, 17.852821003527804, 11.063965624309702, 10.025260809679844, 180.2798274337271, 214.0384708342613, 355.5151246499152, 12.648985959558043, 30.5908828790552, 12.480198112569235, 15.72767440408354, 114.25441318172786, 58.041847622437125, 26.099923870732155, 56.170419499635855, 33.66842312437373, 139.88401930610453, 12.773373062543895, 272.217612186173, 406.78388131838096, 240.6639671486878, 905.4799887977999, 44.546736156989226, 91.89032779593853, 297.50881377699375, 103.7656372241827, 65.22099298312378, 56.790407355038525, 56.50018199721824, 56.41098026897389, 52.82650668115651, 54.48344376392366, 48.37673168534472, 69.65280385690998, 32.17506101689867, 29.545448686676703, 29.40015605424176, 29.14889199116843, 28.679894517511805, 27.869306913188044, 27.400159612556525, 27.174732901131733, 11.20209379350854, 71.30221854304286, 8.217854162887036, 6.073682142132437, 238.3218126231294, 40.81832176365281, 33.76487934014445, 7.683293743833831, 8.703542136090512, 154.6105606998447, 15.833719025726403, 10.368518397678436, 157.82237713485048, 165.84713772856696, 74.92614028439499, 81.20866257045766, 569.011457189843, 2105.7212219256194, 180.2798274337271, 446.3551911692863, 2292.1456400681172, 142.7303184008153, 318.3972417186206, 250.1743384821062, 159.37736819371221, 101.46318352303607, 64.49001898996578, 54.50691763974328, 51.98806375200013, 37.46298495694455, 29.572360995421082, 16.398587551666562, 873.1221853196674, 13.680622627814605, 39.66864428941709, 8.514736329201197, 352.6216452105075, 49.648090070877764, 21.832605193122085, 11.458865901308199, 49.81481188942344, 7.350438467339065, 50.487768547851196, 107.87770947180195, 12.205490682797414, 56.170419499635855, 64.87203941079588, 126.26938045797125, 151.62801325730592, 251.86548761542974, 8.480295637079259, 15.324917050891276, 12.648985959558043, 272.217612186173, 240.6639671486878, 2400.5726907423964, 2105.7212219256194, 127.09103240278432], \"Category\": [\"Default\", \"Default\", \"Default\", \"Default\", \"Default\", \"Default\", \"Default\", \"Default\", \"Default\", \"Default\", \"Default\", \"Default\", \"Default\", \"Default\", \"Default\", \"Default\", \"Default\", \"Default\", \"Default\", \"Default\", \"Default\", \"Default\", \"Default\", \"Default\", \"Default\", \"Default\", \"Default\", \"Default\", \"Default\", \"Default\", \"Topic1\", \"Topic1\", \"Topic1\", \"Topic1\", \"Topic1\", \"Topic1\", \"Topic1\", \"Topic1\", \"Topic1\", \"Topic1\", \"Topic1\", \"Topic1\", \"Topic1\", \"Topic1\", \"Topic1\", \"Topic1\", \"Topic1\", \"Topic1\", \"Topic1\", \"Topic1\", \"Topic1\", \"Topic1\", \"Topic1\", \"Topic1\", \"Topic1\", \"Topic1\", \"Topic1\", \"Topic1\", \"Topic1\", \"Topic1\", \"Topic1\", \"Topic1\", \"Topic1\", \"Topic2\", \"Topic2\", \"Topic2\", \"Topic2\", \"Topic2\", \"Topic2\", \"Topic2\", \"Topic2\", \"Topic2\", \"Topic2\", \"Topic2\", \"Topic2\", \"Topic2\", \"Topic2\", \"Topic2\", \"Topic2\", \"Topic2\", \"Topic2\", \"Topic2\", \"Topic2\", \"Topic2\", \"Topic2\", \"Topic2\", \"Topic2\", \"Topic2\", \"Topic2\", \"Topic2\", \"Topic2\", \"Topic2\", \"Topic2\", \"Topic2\", \"Topic2\", \"Topic2\", \"Topic2\", \"Topic2\", \"Topic2\", \"Topic2\", \"Topic2\", \"Topic2\", \"Topic2\", \"Topic3\", \"Topic3\", \"Topic3\", \"Topic3\", \"Topic3\", \"Topic3\", \"Topic3\", \"Topic3\", \"Topic3\", \"Topic3\", \"Topic3\", \"Topic3\", \"Topic3\", \"Topic3\", \"Topic3\", \"Topic3\", \"Topic3\", \"Topic3\", \"Topic3\", \"Topic3\", \"Topic3\", \"Topic3\", \"Topic3\", \"Topic3\", \"Topic3\", \"Topic3\", \"Topic3\", \"Topic3\", \"Topic3\", \"Topic3\", \"Topic3\", \"Topic3\", \"Topic3\", \"Topic3\", \"Topic3\", \"Topic3\", \"Topic3\", \"Topic3\", \"Topic3\", \"Topic3\", \"Topic3\", \"Topic3\", \"Topic3\", \"Topic3\", \"Topic3\", \"Topic3\", \"Topic4\", \"Topic4\", \"Topic4\", \"Topic4\", \"Topic4\", \"Topic4\", \"Topic4\", \"Topic4\", \"Topic4\", \"Topic4\", \"Topic4\", \"Topic4\", \"Topic4\", \"Topic4\", \"Topic4\", \"Topic4\", \"Topic4\", \"Topic4\", \"Topic4\", \"Topic4\", \"Topic4\", \"Topic4\", \"Topic4\", \"Topic4\", \"Topic4\", \"Topic4\", \"Topic4\", \"Topic4\", \"Topic4\", \"Topic4\", \"Topic4\", \"Topic4\", \"Topic4\", \"Topic4\", \"Topic4\", \"Topic5\", \"Topic5\", \"Topic5\", \"Topic5\", \"Topic5\", \"Topic5\", \"Topic5\", \"Topic5\", \"Topic5\", \"Topic5\", \"Topic5\", \"Topic5\", \"Topic5\", \"Topic5\", \"Topic5\", \"Topic5\", \"Topic5\", \"Topic5\", \"Topic5\", \"Topic5\", \"Topic5\", \"Topic5\", \"Topic5\", \"Topic5\", \"Topic5\", \"Topic5\", \"Topic5\", \"Topic5\", \"Topic5\", \"Topic5\", \"Topic5\", \"Topic5\", \"Topic5\", \"Topic5\", \"Topic5\", \"Topic5\", \"Topic5\", \"Topic5\", \"Topic5\", \"Topic5\", \"Topic6\", \"Topic6\", \"Topic6\", \"Topic6\", \"Topic6\", \"Topic6\", \"Topic6\", \"Topic6\", \"Topic6\", \"Topic6\", \"Topic6\", \"Topic6\", \"Topic6\", \"Topic6\", \"Topic6\", \"Topic6\", \"Topic6\", \"Topic6\", \"Topic6\", \"Topic6\", \"Topic6\", \"Topic6\", \"Topic6\", \"Topic6\", \"Topic6\", \"Topic6\", \"Topic6\", \"Topic6\", \"Topic6\", \"Topic6\", \"Topic6\", \"Topic6\", \"Topic6\", \"Topic6\", \"Topic6\", \"Topic6\", \"Topic6\", \"Topic6\", \"Topic6\", \"Topic6\", \"Topic6\", \"Topic6\", \"Topic7\", \"Topic7\", \"Topic7\", \"Topic7\", \"Topic7\", \"Topic7\", \"Topic7\", \"Topic7\", \"Topic7\", \"Topic7\", \"Topic7\", \"Topic7\", \"Topic7\", \"Topic7\", \"Topic7\", \"Topic7\", \"Topic7\", \"Topic7\", \"Topic7\", \"Topic7\", \"Topic7\", \"Topic7\", \"Topic7\", \"Topic7\", \"Topic7\", \"Topic7\", \"Topic7\", \"Topic7\", \"Topic7\", \"Topic7\", \"Topic7\", \"Topic8\", \"Topic8\", \"Topic8\", \"Topic8\", \"Topic8\", \"Topic8\", \"Topic8\", \"Topic8\", \"Topic8\", \"Topic8\", \"Topic8\", \"Topic8\", \"Topic8\", \"Topic8\", \"Topic8\", \"Topic8\", \"Topic8\", \"Topic8\", \"Topic8\", \"Topic8\", \"Topic8\", \"Topic8\", \"Topic8\", \"Topic8\", \"Topic8\", \"Topic8\", \"Topic8\", \"Topic8\", \"Topic8\", \"Topic8\", \"Topic8\", \"Topic8\", \"Topic8\", \"Topic8\", \"Topic8\", \"Topic8\", \"Topic8\", \"Topic8\", \"Topic8\", \"Topic9\", \"Topic9\", \"Topic9\", \"Topic9\", \"Topic9\", \"Topic9\", \"Topic9\", \"Topic9\", \"Topic9\", \"Topic9\", \"Topic9\", \"Topic9\", \"Topic9\", \"Topic9\", \"Topic9\", \"Topic9\", \"Topic9\", \"Topic9\", \"Topic9\", \"Topic9\", \"Topic9\", \"Topic9\", \"Topic9\", \"Topic9\", \"Topic9\", \"Topic9\", \"Topic9\", \"Topic9\", \"Topic9\", \"Topic9\", \"Topic9\", \"Topic9\", \"Topic9\", \"Topic9\", \"Topic9\", \"Topic9\", \"Topic9\", \"Topic9\", \"Topic9\", \"Topic9\", \"Topic10\", \"Topic10\", \"Topic10\", \"Topic10\", \"Topic10\", \"Topic10\", \"Topic10\", \"Topic10\", \"Topic10\", \"Topic10\", \"Topic10\", \"Topic10\", \"Topic10\", \"Topic10\", \"Topic10\", \"Topic10\", \"Topic10\", \"Topic10\", \"Topic10\", \"Topic10\", \"Topic10\", \"Topic10\", \"Topic10\", \"Topic10\", \"Topic10\", \"Topic10\", \"Topic10\", \"Topic10\", \"Topic10\", \"Topic10\", \"Topic10\", \"Topic10\", \"Topic10\", \"Topic10\", \"Topic10\", \"Topic10\", \"Topic11\", \"Topic11\", \"Topic11\", \"Topic11\", \"Topic11\", \"Topic11\", \"Topic11\", \"Topic11\", \"Topic11\", \"Topic11\", \"Topic11\", \"Topic11\", \"Topic11\", \"Topic11\", \"Topic11\", \"Topic11\", \"Topic11\", \"Topic11\", \"Topic11\", \"Topic11\", \"Topic11\", \"Topic11\", \"Topic11\", \"Topic11\", \"Topic11\", \"Topic11\", \"Topic11\", \"Topic11\", \"Topic11\", \"Topic11\", \"Topic11\", \"Topic11\", \"Topic11\", \"Topic11\", \"Topic11\", \"Topic11\", \"Topic11\", \"Topic11\", \"Topic11\", \"Topic11\", \"Topic11\", \"Topic12\", \"Topic12\", \"Topic12\", \"Topic12\", \"Topic12\", \"Topic12\", \"Topic12\", \"Topic12\", \"Topic12\", \"Topic12\", \"Topic12\", \"Topic12\", \"Topic12\", \"Topic12\", \"Topic12\", \"Topic12\", \"Topic12\", \"Topic12\", \"Topic12\", \"Topic12\", \"Topic12\", \"Topic12\", \"Topic12\", \"Topic12\", \"Topic12\", \"Topic12\", \"Topic12\", \"Topic12\", \"Topic12\", \"Topic12\", \"Topic12\", \"Topic12\", \"Topic12\", \"Topic12\", \"Topic12\"], \"logprob\": [30.0, 29.0, 28.0, 27.0, 26.0, 25.0, 24.0, 23.0, 22.0, 21.0, 20.0, 19.0, 18.0, 17.0, 16.0, 15.0, 14.0, 13.0, 12.0, 11.0, 10.0, 9.0, 8.0, 7.0, 6.0, 5.0, 4.0, 3.0, 2.0, 1.0, -2.6612, -3.2693, -3.3022, -3.3132, -3.436, -3.4692, -3.5095, -3.9475, -4.0885, -1.2579, -5.0129, -5.5273, -3.545, -5.6478, -2.1284, -3.3193, -5.5102, -6.0579, -3.8708, -3.3034, -4.8793, -3.9955, -7.3856, -4.9158, -7.1723, -2.4287, -7.4256, -8.2809, -10.4456, -10.4456, -4.8994, -6.3451, -7.8277, -2.6907, -2.8476, -3.0125, -3.2583, -3.3274, -3.3559, -3.4408, -3.4837, -4.0042, -4.8445, -4.8731, -4.9552, -5.0111, -5.1445, -5.1603, -5.2997, -5.3871, -5.3942, -5.4482, -5.4744, -5.6492, -5.6585, -5.7897, -2.3131, -4.8314, -5.8315, -3.2258, -5.2954, -5.2921, -3.0159, -3.6632, -3.1743, -4.0397, -3.8118, -3.1108, -3.5337, -2.6186, -3.9447, -3.6827, -5.0163, -3.8138, -4.1302, -4.4198, -4.7539, -4.7799, -4.7891, -5.4906, -5.6599, -4.2534, -4.1282, -5.7415, -5.8351, -1.9158, -5.7933, -5.7777, -6.2248, -5.6088, -6.4538, -6.3954, -5.1127, -4.6467, -6.1788, -4.9151, -6.3659, -6.004, -3.3705, -6.1212, -5.9383, -2.7051, -6.297, -3.5512, -1.4526, -4.1828, -3.3013, -4.4951, -4.567, -4.5855, -4.859, -4.3566, -2.9134, -4.9549, -4.8138, -4.1935, -4.7407, -4.1685, -4.8883, -2.3302, -2.7994, -2.8706, -2.9911, -3.1401, -3.1994, -3.32, -3.5391, -3.5923, -3.6574, -2.6471, -4.3896, -4.7316, -4.8784, -5.1358, -5.2081, -5.6191, -4.3816, -2.9641, -5.2303, -3.3322, -5.3553, -6.0172, -3.7602, -4.5492, -3.1478, -6.0637, -2.6271, -6.0014, -6.4487, -3.8926, -2.618, -4.0012, -5.1553, -5.5181, -2.6432, -2.7822, -3.1541, -3.1355, -3.263, -3.4721, -3.5138, -3.5267, -3.7257, -3.849, -4.0805, -4.1831, -4.2083, -4.1363, -4.285, -4.4582, -5.03, -5.3126, -5.6054, -5.6843, -5.8646, -5.7067, -2.1375, -5.5861, -3.2708, -2.5811, -5.1309, -5.8744, -6.0662, -3.374, -4.8916, -4.2544, -4.0122, -3.9473, -3.3193, -4.1548, -3.5879, -3.602, -4.303, -4.289, -2.9165, -3.4675, -4.9312, -5.2746, -5.3362, -5.4232, -5.4945, -5.761, -5.7707, -5.9771, -0.6629, -4.2646, -5.852, -2.9612, -3.9554, -5.3663, -6.1864, -5.7201, -5.7736, -5.9179, -5.5583, -5.9001, -5.9653, -6.6527, -6.2578, -6.4072, -6.4759, -6.6116, -6.4307, -6.6629, -4.0847, -2.5559, -3.2577, -5.4306, -5.854, -4.2525, -4.1794, -4.5397, -4.907, -4.5628, -5.8354, -5.8248, -1.8019, -2.2264, -2.3299, -2.3406, -3.1017, -3.1746, -3.4089, -3.5111, -3.6079, -3.6319, -3.669, -3.5978, -3.7825, -4.2233, -4.4886, -5.408, -5.3952, -5.6061, -2.9877, -5.6715, -6.0819, -2.978, -6.7549, -6.4737, -3.8079, -6.4858, -6.1465, -6.1926, -7.5485, -3.2545, -3.7212, -2.9825, -3.6334, -4.0084, -4.0647, -4.1173, -4.27, -4.3404, -4.3472, -4.5878, -5.0015, -5.1842, -5.303, -5.3102, -5.2887, -5.3247, -1.8551, -1.9355, -6.13, -3.3885, -5.5401, -5.8156, -3.5759, -2.6925, -3.8686, -5.5637, -6.619, -4.3329, -4.1537, -5.0542, -4.2429, -3.6603, -3.9811, -3.0886, -2.6312, -4.0152, -4.2017, -4.1641, -4.2182, -3.8131, -3.308, -3.6629, -4.0834, -4.2895, -4.396, -4.4015, -4.4489, -4.4489, -4.4602, -4.7141, -3.6787, -4.9591, -5.2059, -5.2982, -5.4567, -5.7035, -5.7099, -5.9866, -6.1033, -4.3106, -4.9518, -5.814, -4.0523, -6.1207, -3.4983, -3.4372, -5.971, -5.5391, -4.1047, -4.6628, -2.597, -1.2828, -3.993, -1.9752, -4.4343, -4.9573, -4.44, -4.0359, -3.8033, -5.1513, -2.347, -2.9697, -3.2936, -3.6689, -3.7389, -3.7417, -3.8071, -4.0234, -4.3686, -4.4136, -4.6386, -4.839, -4.4994, -4.8671, -5.377, -5.4845, -2.7319, -2.5684, -2.0653, -5.4881, -4.6343, -5.607, -5.4087, -3.4487, -4.1712, -5.0094, -4.2512, -4.9575, -3.5483, -5.9895, -2.9923, -3.0959, -3.5193, -3.031, -4.8437, -4.6553, -2.1018, -3.1608, -3.6303, -3.7708, -3.776, -3.7776, -3.8444, -3.8147, -3.9339, -3.5744, -4.3514, -4.4392, -4.4443, -4.4531, -4.4699, -4.4995, -4.517, -4.5307, -5.4623, -3.6418, -5.8038, -6.1504, -2.5466, -4.3225, -4.5648, -6.1286, -6.0979, -3.3624, -5.6526, -6.1948, -3.4756, -3.884, -4.57, -4.5253, -3.3376, -2.7497, -4.2194, -3.8766, -3.5764, -4.4771, -4.446, -2.3559, -2.8086, -3.2633, -3.7216, -3.8923, -3.9404, -4.2772, -4.5177, -5.1323, -1.1597, -5.3249, -4.3011, -5.8426, -2.228, -4.2143, -5.2315, -5.931, -4.4932, -6.5551, -4.6882, -3.929, -6.1465, -4.7018, -4.7175, -4.0871, -3.9422, -3.5251, -7.1717, -6.6249, -6.8708, -4.1588, -4.5015, -3.0655, -3.8422, -6.0035], \"loglift\": [30.0, 29.0, 28.0, 27.0, 26.0, 25.0, 24.0, 23.0, 22.0, 21.0, 20.0, 19.0, 18.0, 17.0, 16.0, 15.0, 14.0, 13.0, 12.0, 11.0, 10.0, 9.0, 8.0, 7.0, 6.0, 5.0, 4.0, 3.0, 2.0, 1.0, 2.6744, 2.6706, 2.6702, 2.6701, 2.6689, 2.6685, 2.668, 2.6614, 2.6587, 2.6437, 2.627, 2.5928, 2.4093, 2.3081, 2.2473, 2.2356, 2.0192, 1.9675, 1.5522, 1.4083, 1.025, 0.9401, 0.9256, 0.8576, 0.8434, 0.3089, 0.2742, -1.1075, -1.7746, -1.9654, -2.0769, -3.6536, -3.2182, 2.591, 2.5902, 2.5892, 2.5874, 2.5866, 2.5865, 2.5856, 2.5852, 2.5781, 2.5553, 2.5542, 2.5507, 2.5481, 2.5416, 2.5407, 2.5309, 2.5272, 2.5264, 2.523, 2.5211, 2.5074, 2.5062, 2.4515, 2.4032, 2.3499, 2.2713, 2.1971, 2.1964, 2.1679, 2.1678, 2.1102, 2.0656, 1.9942, 1.9309, 1.195, 1.0877, 0.204, 1.0501, -0.0162, 1.8884, 1.8862, 1.8834, 1.8801, 1.8749, 1.8744, 1.8712, 1.8548, 1.8479, 1.8472, 1.8443, 1.8441, 1.8393, 1.8389, 1.835, 1.8211, 1.8145, 1.8111, 1.7941, 1.7754, 1.7661, 1.7633, 1.7449, 1.7442, 1.7063, 1.6671, 1.6243, 1.6148, 1.6121, 1.6007, 1.5927, 1.5252, 1.2851, 1.4537, 1.1456, 1.3343, 1.2269, 1.1572, 1.134, 0.8271, -0.0909, 1.0789, 0.9226, 0.2731, 0.4992, -0.502, 0.5252, 2.7193, 2.7176, 2.7172, 2.7163, 2.715, 2.7146, 2.7135, 2.7108, 2.7103, 2.7094, 2.7071, 2.6941, 2.6823, 2.6759, 2.6604, 2.6572, 2.6258, 2.6054, 2.5806, 2.443, 2.3977, 2.3901, 2.3199, 2.3177, 2.24, 2.1998, 2.1217, 1.8197, 1.7402, 1.5875, 1.1087, 0.1196, -0.2465, 0.8391, -0.9086, 2.7317, 2.7307, 2.7281, 2.7273, 2.7268, 2.7247, 2.7242, 2.724, 2.7212, 2.7191, 2.7145, 2.7121, 2.7115, 2.7105, 2.7086, 2.7043, 2.6798, 2.6612, 2.6374, 2.6296, 2.6097, 2.4976, 2.4839, 2.455, 2.4361, 2.3649, 2.3215, 2.2845, 2.2749, 2.256, 2.1952, 1.7386, 1.4013, 1.0443, 0.3472, 0.7135, -0.7653, -0.8643, 0.4133, -0.1308, 2.1672, 2.1643, 2.1419, 2.1302, 2.1277, 2.1233, 2.1204, 2.1054, 2.1048, 2.0903, 2.0286, 2.012, 1.9896, 1.9743, 1.9489, 1.9375, 1.933, 1.9086, 1.9067, 1.8141, 1.7417, 1.69, 1.6842, 1.4765, 1.4706, 1.4218, 1.3724, 1.3589, 1.2821, 1.28, 1.2628, 1.1105, 1.1181, 1.1355, 1.2329, 0.357, 0.1944, 0.1719, 0.3329, -1.7403, 0.7183, 0.2882, 2.8813, 2.8799, 2.8795, 2.8794, 2.8743, 2.8735, 2.8704, 2.8694, 2.8679, 2.8675, 2.8669, 2.8665, 2.8622, 2.8488, 2.8456, 2.7904, 2.7842, 2.5318, 2.4658, 2.1768, 2.1235, 2.0136, 1.5863, 1.4822, 1.3009, 1.1015, 1.0269, 0.4858, 0.422, 0.4119, -0.0183, 2.358, 2.3533, 2.3489, 2.3481, 2.3473, 2.3447, 2.3434, 2.3432, 2.3379, 2.3252, 2.3178, 2.3122, 2.3118, 2.3117, 2.3111, 2.3031, 2.1955, 2.1402, 2.1384, 2.1224, 1.9406, 1.788, 1.7741, 1.745, 1.6098, 1.5101, 1.4966, 1.3804, 1.3595, 1.312, 1.0513, 1.0953, 0.5779, 0.1913, 0.8531, 0.3996, 0.2097, 0.2287, -1.1216, 2.2313, 2.2287, 2.2212, 2.221, 2.2192, 2.2191, 2.2182, 2.2182, 2.218, 2.2124, 2.2078, 2.2056, 2.1969, 2.193, 2.1856, 2.1715, 2.171, 2.1508, 2.1406, 2.1211, 2.1206, 2.0834, 2.0607, 2.0449, 2.0157, 1.9726, 1.9567, 1.9177, 1.8941, 1.8067, 1.7769, 1.5397, 1.441, 0.7625, 1.5601, 1.5965, 1.1736, 0.6758, -1.1118, 0.2126, 2.7707, 2.7672, 2.7643, 2.7597, 2.7586, 2.7585, 2.7574, 2.7533, 2.7446, 2.7429, 2.7355, 2.7269, 2.7265, 2.7256, 2.6942, 2.6853, 2.5486, 2.5403, 2.536, 2.4493, 2.4199, 2.3438, 2.3108, 2.2878, 2.2425, 2.2036, 2.1953, 2.0009, 1.9858, 1.938, 1.876, 1.3707, 1.4722, 0.6355, 1.8346, 1.2991, 2.6776, 2.672, 2.6668, 2.6648, 2.6647, 2.6646, 2.6635, 2.6623, 2.662, 2.657, 2.6523, 2.6498, 2.6497, 2.6494, 2.6489, 2.6479, 2.6474, 2.6419, 2.5965, 2.5662, 2.5649, 2.5205, 2.4547, 2.4433, 2.3907, 2.3073, 2.2133, 2.0716, 2.0601, 1.9413, 1.9378, 1.4799, 1.5884, 1.5526, 0.7934, 0.0728, 1.061, 0.4972, -0.8387, 1.0369, 0.2657, 2.5968, 2.5951, 2.5919, 2.5869, 2.5843, 2.5835, 2.5744, 2.5703, 2.5454, 2.5431, 2.5341, 2.4932, 2.4906, 2.3816, 2.3557, 2.16, 2.1051, 2.0734, 1.925, 1.865, 1.865, 1.8266, 1.7447, 1.585, 1.5494, 1.5113, 1.4209, 1.1654, 1.1205, 1.0666, 0.7095, 0.49, -0.374, -1.0197, -0.3735]}, \"token.table\": {\"Topic\": [1, 9, 10, 12, 3, 6, 4, 3, 6, 8, 11, 4, 11, 4, 2, 2, 3, 8, 9, 8, 9, 6, 2, 3, 6, 4, 3, 3, 8, 10, 12, 6, 11, 11, 1, 11, 11, 3, 9, 5, 1, 6, 3, 4, 6, 3, 4, 6, 8, 6, 8, 4, 2, 1, 2, 11, 9, 11, 10, 12, 2, 5, 3, 8, 9, 9, 11, 8, 11, 3, 12, 4, 6, 3, 4, 7, 5, 6, 9, 1, 4, 7, 11, 3, 5, 11, 12, 7, 5, 10, 6, 11, 5, 12, 1, 2, 3, 5, 6, 8, 9, 11, 12, 9, 6, 8, 7, 3, 10, 11, 3, 8, 3, 2, 6, 9, 2, 8, 1, 2, 1, 7, 8, 10, 3, 8, 11, 8, 8, 11, 3, 8, 10, 2, 3, 6, 8, 12, 5, 6, 5, 7, 10, 12, 10, 3, 9, 11, 8, 1, 10, 10, 3, 12, 7, 2, 10, 12, 1, 10, 4, 2, 3, 11, 3, 5, 4, 4, 1, 5, 8, 11, 3, 6, 7, 1, 4, 6, 9, 2, 11, 6, 9, 9, 5, 5, 5, 9, 7, 7, 12, 10, 7, 12, 2, 3, 5, 6, 7, 8, 10, 11, 6, 5, 9, 3, 6, 9, 10, 6, 8, 10, 11, 10, 5, 1, 3, 4, 5, 6, 9, 10, 11, 1, 5, 11, 5, 3, 11, 7, 5, 7, 8, 3, 5, 8, 10, 9, 10, 4, 5, 11, 6, 9, 9, 2, 3, 6, 4, 9, 1, 9, 1, 10, 2, 3, 2, 1, 6, 8, 9, 11, 12, 10, 2, 5, 6, 12, 8, 11, 5, 6, 7, 3, 7, 2, 6, 11, 12, 7, 2, 5, 2, 1, 12, 8, 6, 5, 8, 3, 9, 10, 3, 6, 11, 9, 11, 2, 6, 4, 12, 4, 3, 10, 12, 12, 3, 8, 3, 12, 9, 1, 3, 5, 1, 2, 3, 7, 8, 9, 4, 6, 2, 3, 12, 11, 3, 9, 3, 6, 3, 5, 11, 3, 6, 9, 11, 3, 9, 12, 4, 2, 6, 10, 3, 4, 6, 8, 6, 8, 9, 10, 3, 4, 9, 5, 9, 10, 4, 6, 8, 2, 3, 4, 4, 9, 9, 2, 3, 7, 10, 3, 12, 5, 10, 2, 2, 3, 6, 8, 3, 3, 3, 5, 8, 10, 11, 12, 3, 4, 5, 7, 7, 3, 8, 8, 2, 3, 12, 9, 11, 7, 1, 3, 4, 6, 12, 4, 2, 5, 2, 10, 5, 10, 12, 7, 7, 10, 2, 5, 11, 2, 6, 9, 4, 2, 4, 9, 10, 11, 6, 4, 9, 10, 11, 12, 3, 5, 9, 5, 1, 9, 2, 3, 5, 5, 6, 2, 2, 5, 6, 9, 10, 2, 3, 8, 10, 11, 2, 4, 1, 3, 4, 9, 12, 5, 11, 12, 3, 4, 9, 1, 8, 9, 11, 5, 9, 3, 10, 3, 12, 12, 4, 12, 4, 6, 3, 4, 6, 7, 2, 3, 4, 6, 9, 11, 1, 6, 12, 7, 12, 9, 10, 8, 9, 10, 1, 6, 7, 1, 3, 8, 3, 11, 8, 9, 1, 7, 3, 10, 8, 10, 11, 12, 3, 9, 11, 2, 5, 3, 4, 7, 8, 10, 5, 9, 7, 8, 1, 3, 12, 10, 12, 3, 8, 9, 3, 4, 6, 9, 1, 3, 8, 3, 6, 8, 9, 12, 1, 2, 3, 6, 8, 9, 11, 12, 2, 6, 12, 7, 2, 9, 11, 7, 4, 4, 3, 6, 6, 2, 9, 10, 5, 8, 6, 2, 6, 7, 9, 2, 3, 6, 9, 10, 11, 11, 6, 8, 9, 11, 3, 2, 3, 2, 3, 4, 11, 11, 11, 4, 12, 11, 2, 4, 10, 6, 9, 3, 5, 6, 8, 10, 11, 12, 8, 8, 9, 11], \"Freq\": [0.986285939932971, 0.7333612790404771, 0.24445375968015903, 0.9924016305524422, 0.1436762270319944, 0.8620573621919664, 0.9562968653196429, 0.7516708435897955, 0.214763098168513, 0.9810641638619736, 0.9911472498045605, 0.6649536920171406, 0.3201628887489936, 0.9894161882121137, 0.885977772701591, 0.9788454482667648, 0.1083662865157958, 0.541831432578979, 0.3483202066579151, 0.9719309560421991, 0.9869675709895538, 0.9355460727683244, 0.2469856391755319, 0.7451431148007572, 0.006279295911242337, 0.9798860848456912, 0.9724724655569934, 0.2748183254781787, 0.04580305424636312, 0.04580305424636312, 0.6412427594490837, 0.9735447909639662, 0.968807731175522, 0.9634791363322819, 0.9935452528217461, 0.9715414490110792, 0.9927145341737674, 0.8578246727278607, 0.07798406115707825, 0.9467070719147377, 0.6487228502217398, 0.3479309404303449, 0.2695387899637978, 0.721668373128878, 0.008694799676251542, 0.01194334223965766, 0.9853257347717569, 0.4788568901106156, 0.38308551208849245, 0.11028901806320802, 0.7720231264424562, 0.995306472353995, 0.9930341329026654, 0.16347322971609105, 0.6175655344830107, 0.2179643062881214, 0.7054226446121297, 0.2844446147629555, 0.5518919081635303, 0.42727115470724925, 0.9236441872796359, 0.9837553996379211, 0.8753649335682261, 0.10298410983155601, 0.9767062114049174, 0.45275044397449304, 0.5433005327693916, 0.19599041935927167, 0.7839616774370867, 0.3814126618037884, 0.5821561680163087, 0.8602340736250207, 0.9977745081750835, 0.35112913980614485, 0.6270163210824016, 0.9785633182921096, 0.9851231101614203, 0.7971544829255385, 0.16782199640537654, 0.9640770205978335, 0.0013972130733301935, 0.0013972130733301935, 0.03073868761326426, 0.04248759810577252, 0.7392842070404418, 0.21243799052886259, 0.008497519621154503, 0.9973858285727782, 0.9758997320488542, 0.9522304624373211, 0.44209449394842104, 0.5684072065051128, 0.6908449492122495, 0.30571874189277704, 0.008548140092134103, 0.091655057654549, 0.13724513814593087, 0.02991849032246936, 0.019945660214979573, 0.11397520122845471, 0.4976917120309189, 0.07360898412671033, 0.026594213619972766, 0.9857696238575586, 0.7948136558756843, 0.18341853597131175, 0.983213130790893, 0.37635307733458107, 0.6126678003121087, 0.9853957196521896, 0.5763152797572495, 0.4226312051553163, 0.9454570351294369, 0.25752866453340467, 0.7082038274668628, 0.9781729806246633, 0.9932981008337147, 0.9705407577026519, 0.3262325838418902, 0.6716553196744798, 0.9858478548501114, 0.5168525111511693, 0.20674100446046773, 0.3101115066907016, 0.0017574338571997568, 0.8453256853130829, 0.15113931171917908, 0.9228181250525954, 0.9773748154788079, 0.9863893221007571, 0.1966646262893237, 0.5555775692673395, 0.24583078286165463, 0.00904674098680327, 0.6920756854904502, 0.013570111480204905, 0.28044897059090135, 0.9954349596873145, 0.5741649460173223, 0.40529290307105104, 0.18282753551060588, 0.41967229742207257, 0.2700861320043041, 0.12049996658653568, 0.9768297178558712, 0.4003943067950633, 0.2535830609702068, 0.33366192232921943, 0.9899998025380975, 0.7617776721337797, 0.22853330164013388, 0.9452488033240413, 0.6414856848605576, 0.34846135967733993, 0.9898431985651075, 0.9494221191650991, 0.20141761718777035, 0.7855287070323044, 0.9964724710357573, 0.9038350569372738, 0.9946532892539688, 0.21261136381073875, 0.7628995995561803, 0.020844251353993995, 0.9776604267848298, 0.9019863803374327, 0.9956805566669734, 0.9367391712141171, 0.9931046380181692, 0.993737473195, 0.9769552301990183, 0.998289752257978, 0.40860510443230635, 0.40860510443230635, 0.08172102088646127, 0.17099871463644326, 0.3419974292728865, 0.2564980719546649, 0.17099871463644326, 0.9757822701936987, 0.8232238505396212, 0.6688087634902187, 0.33440438174510934, 0.9904546500192181, 0.9827844159640589, 0.9835848544848235, 0.08770278850045757, 0.8945684427046672, 0.9982824673001041, 0.9974217829359768, 0.9953059195070473, 0.9777377091001157, 0.05497512353603321, 0.9437396207019034, 0.07288951806392517, 0.09166409089857257, 0.09166409089857257, 0.3467774041223107, 0.08393338443724717, 0.16786676887449434, 0.11816937019454535, 0.02760966593330499, 0.993170566067901, 0.9922900691459585, 0.8691425244074331, 0.8777653360368616, 0.1097206670046077, 0.9875973612119623, 0.9946132590841562, 0.17820852428507095, 0.17820852428507095, 0.47522273142685584, 0.14850710357089245, 0.9894561494365577, 0.9922805592662916, 0.09336230484623151, 0.5440317483329471, 0.07416631693392223, 0.027485164510806473, 0.0008725449051049674, 0.22860676513750144, 0.0017450898102099347, 0.029666526773568888, 0.22979149968226237, 0.11489574984113118, 0.5744787492056559, 0.9829149422870113, 0.8628294043851621, 0.9815386561747269, 0.997167949026383, 0.9445093045294795, 0.6763195175231029, 0.19323414786374368, 0.06006293372007755, 0.1201258674401551, 0.7808181383610082, 0.9791694908314313, 0.9727264045250824, 0.9816243605090904, 0.2893373850473868, 0.19289159003159123, 0.48222897507897805, 0.6145262073152221, 0.33519611308103026, 0.9915975647465276, 0.5859473928026435, 0.2503593405611295, 0.15980383440072096, 0.7285032782283566, 0.18212581955708915, 0.9859557174005465, 0.9656034451448938, 0.9867942648619201, 0.9928906433987578, 0.7462737139476059, 0.18656842848690147, 0.9271012577269966, 0.27952503457505634, 0.13505142119918453, 0.27010284239836907, 0.21042895861268288, 0.08794046031574806, 0.015703653627812154, 0.9897997003264649, 0.8932081789322136, 0.9847462058708705, 0.7587662661272814, 0.09484578326591017, 0.9595070924137281, 0.9605853974992764, 0.9806532469503794, 0.4339465846732112, 0.5062710154520796, 0.982651514453854, 0.9897043409749446, 0.135187399897084, 0.8561868660148654, 0.8926902581189655, 0.9609485213571227, 0.9939937322216301, 0.8996035798653368, 0.9216695640561411, 0.9217279123105692, 0.9394975264586564, 0.9806454075307107, 0.9892141525725412, 0.966194329729506, 0.8259788631357481, 0.10324735789196851, 0.8986469323644767, 0.31791095565290933, 0.6358219113058187, 0.7875107454922455, 0.181733248959749, 0.9762708209090133, 0.09817366335907662, 0.8975877792829863, 0.6582538817293914, 0.25317456989591974, 0.707522503551125, 0.2358408345170417, 0.9951910010473829, 0.3448285920133426, 0.5747143200222377, 0.07662857600296502, 0.9913578181813235, 0.9579498823485555, 0.9954419603202559, 0.9530421021046747, 0.04432753963277556, 0.991412068051538, 0.9867500500722436, 0.753807124627486, 0.2261421373882458, 0.036829188729778035, 0.14731675491911214, 0.11048756618933411, 0.14731675491911214, 0.4787794534871145, 0.07365837745955607, 0.8864289368600422, 0.09169954519241816, 0.9942244662127476, 0.4951694384414227, 0.4753626609037658, 0.9762936883503297, 0.98612574055203, 0.9767062114049174, 0.35570454919255556, 0.5928409153209259, 0.2534494836928113, 0.25978572078513157, 0.47521778192402114, 0.21799580535346047, 0.23781360584013872, 0.5350806131403121, 0.984354318824354, 0.40078900303037385, 0.23122442482521569, 0.3545441180653307, 0.986640573016358, 0.9750099111903056, 0.26151582586318217, 0.6864790428908532, 0.47240916614560874, 0.40492214241052177, 0.002410250847681677, 0.11810229153640218, 0.0354892935646646, 0.80205803456142, 0.10646788069399381, 0.049685010990530444, 0.9469860132058886, 0.05187311919471746, 0.0012063516091794758, 0.9938303681572843, 0.9886322762120338, 0.9270337319116932, 0.05805937869682185, 0.7547719230586841, 0.17417813609046556, 0.3250087045993362, 0.26000696367946896, 0.3900104455192034, 0.02033727187800514, 0.9660204142052442, 0.9713753926843856, 0.7794964684838053, 0.07423775890321954, 0.03711887945160977, 0.07423775890321954, 0.5098365572396251, 0.4820272904811001, 0.7893164225753982, 0.1754036494611996, 0.9363281424739207, 0.012597169226149216, 0.9573848611873403, 0.02519433845229843, 0.012597169226149216, 0.9700000243977314, 0.962965915832255, 0.031473503081814354, 0.6216016858658334, 0.015736751540907177, 0.10228888501589664, 0.18097264272043254, 0.04721025462272153, 0.858897573285113, 0.1321380881977097, 0.5919536240447902, 0.23678144961791608, 0.9651352340338317, 0.9840268767797353, 0.9738868091370871, 0.9356333899162489, 0.932959977270769, 0.07562648166426873, 0.9075177799712248, 0.7987090709057706, 0.19617415776632963, 0.976047696805603, 0.0028359007836941535, 0.0028359007836941535, 0.025523107053247382, 0.16164634467056677, 0.8025599217854454, 0.9610486493654055, 0.22096459305182856, 0.7776805807408512, 0.9941387805301889, 0.8977322556346955, 0.6815080655690882, 0.14603744262194746, 0.1947165901625966, 0.9767506960862339, 0.20557052117079921, 0.7895776835878424, 0.8235558849997596, 0.09781698250954998, 0.07572927678158708, 0.9699198029102669, 0.513217766421169, 0.4490655456185229, 0.9908927227401066, 0.6376592498068895, 0.19620284609442754, 0.09810142304721377, 0.7987582529328526, 0.19968956323321316, 0.9747361988982913, 0.0998683414280152, 0.8988150728521369, 0.6410154652867991, 0.16025386632169977, 0.08012693316084989, 0.4637721718558391, 0.3732800407620168, 0.15836122941418895, 0.8584096659741624, 0.5179794926470831, 0.4316495772059026, 0.5108100131698696, 0.4755817363995337, 0.9715989410725732, 0.5920061892368064, 0.2960030946184032, 0.8570294613308058, 0.5066913674426273, 0.028149520413479293, 0.08444856124043788, 0.22519616330783435, 0.14074760206739648, 0.09047776486164802, 0.8142998837548322, 0.3717365304339001, 0.45752188361095397, 0.1644219269226866, 0.40527199435464656, 0.5065899929433082, 0.9842564450874632, 0.16386067975282856, 0.16386067975282856, 0.16386067975282856, 0.4915820392584857, 0.1360463058691532, 0.1360463058691532, 0.5441852234766128, 0.3284740825413438, 0.14724700251853343, 0.5097011625641542, 0.9490562213919264, 0.9932510547849885, 0.26030502889533347, 0.6507625722383336, 0.9929912535256413, 0.9614654906670972, 0.9957900620154424, 0.9703867421917236, 0.9424898958635245, 0.04712449479317623, 0.9756937876258706, 0.7177852880685089, 0.19575962401868427, 0.9701096530822734, 0.9572989316224817, 0.14187367484874594, 0.2837473496974919, 0.4965578619706108, 0.9237197017445924, 0.5420452883654642, 0.44777654256277477, 0.593203697448434, 0.40337851426493515, 0.9746729548243787, 0.9567711334861801, 0.18631458633536238, 0.7970123971012725, 0.9809944113957867, 0.6595087401844704, 0.3363494574940799, 0.7829755824394503, 0.15659511648789007, 0.36180791722216077, 0.034457896878301024, 0.5857842469311174, 0.17679799937159163, 0.8211284859702811, 0.9515682565308121, 0.06234149488479394, 0.6234149488479394, 0.24936597953917575, 0.23693258072711287, 0.7404143147722277, 0.07596418678237009, 0.835606054606071, 0.7248718568645158, 0.24162395228817193, 0.9622352290875221, 0.9709443840163714, 0.14064099255759166, 0.7875895583225133, 0.07032049627879583, 0.9502491482784705, 0.0883916108119727, 0.7702697513614765, 0.13890110270452855, 0.9943696119092682, 0.9795164641613457, 0.29182833853834084, 0.04489666746743705, 0.0897933349348741, 0.1795866698697482, 0.38162167347321496, 0.9845635341562358, 0.9417572846772687, 0.9064196639217226, 0.9788619090787158, 0.5257417665884518, 0.4205934132707615, 0.9906999393527682, 0.711519486919761, 0.237173162306587, 0.13190887802093815, 0.6595443901046907, 0.19786331703140722, 0.13005352216173768, 0.8670234810782512, 0.15304667474902126, 0.8417567111196169, 0.6422779349319577, 0.007298612896954065, 0.3503334190537951, 0.018216817448523243, 0.20038499193375564, 0.10930090469113944, 0.6558054281468366, 0.9395475902834578, 0.001666269059639668, 0.000416567264909917, 0.009997614357838008, 0.8672930455424471, 0.030825977603333856, 0.034991650252433025, 0.003332538119279336, 0.05123777358391979, 0.39748734094024724, 0.39748734094024724, 0.15899493637609888, 0.9734025716644036, 0.9223716692784373, 0.7946795340809293, 0.09933494176011616, 0.992051178919178, 0.9862638966491387, 0.9930250198065055, 0.7757142446761214, 0.19392856116903034, 0.9626663982774051, 0.9957247050567961, 0.4697271402488157, 0.4697271402488157, 0.055981971022682125, 0.9408582871876576, 0.9661164574805757, 0.3899432831255886, 0.16711854991096656, 0.16711854991096656, 0.2785309165182776, 0.1404445859694836, 0.0802540491254192, 0.36114322106438634, 0.30095268422032195, 0.1203810736881288, 0.9727725771089029, 0.851803872550205, 0.13890283170580547, 0.11649914917261103, 0.631783847436083, 0.11201841266597215, 0.9286029564545022, 0.6496252075067694, 0.3424380938795374, 0.98928896771934, 0.9931452912186532, 0.19721233017946002, 0.7972413347680299, 0.9926214761970905, 0.9860820270209173, 0.3490746845674615, 0.6108806979930577, 0.9812791414653911, 0.9885288241941147, 0.976359203848896, 0.9907331829257076, 0.9003731629044877, 0.8593603947746961, 0.0551029739756196, 0.13224713754148704, 0.025714721188622478, 0.2204118959024784, 0.407762007419585, 0.007347063196749279, 0.15061479553336024, 0.9444372873800164, 0.5607573412102419, 0.1326522742647884, 0.3014824415108827], \"Term\": [\"%_discount\", \"access\", \"access\", \"address\", \"advance\", \"advance\", \"advice\", \"afternoon\", \"afternoon\", \"agent\", \"alignment\", \"alloy\", \"alloy\", \"alloy_wheels\", \"alternative\", \"amount\", \"anyone\", \"anyone\", \"anyone\", \"anyone_else\", \"apology\", \"appointed_time\", \"appointment\", \"appointment\", \"appointment\", \"area\", \"arrange\", \"arrangement\", \"arrangement\", \"arrangement\", \"arrangement\", \"arrival\", \"aspect\", \"auto\", \"availability\", \"avon\", \"bad_experience\", \"be\", \"be\", \"bonus\", \"book\", \"book\", \"booking\", \"booking\", \"booking\", \"booking_system\", \"booking_system\", \"brake\", \"brake\", \"branch\", \"branch\", \"brand\", \"brilliant\", \"budget\", \"budget\", \"budget\", \"business\", \"business\", \"buy\", \"buy\", \"buying\", \"ca\", \"call\", \"call\", \"can\", \"car\", \"car\", \"care\", \"care\", \"case\", \"case\", \"center\", \"centre\", \"change\", \"change\", \"charge\", \"cheap\", \"check\", \"check\", \"choice\", \"choice\", \"choice\", \"choice\", \"choose\", \"choose\", \"choose\", \"choose\", \"class\", \"clockwork\", \"code\", \"coffee\", \"coffee\", \"communication\", \"communication\", \"company\", \"company\", \"company\", \"company\", \"company\", \"company\", \"company\", \"company\", \"company\", \"company_several_times\", \"compensation\", \"compensation\", \"competitive_pricing\", \"complaint\", \"complaint\", \"condition\", \"confirmation\", \"confirmation\", \"confirmation_email\", \"contact\", \"contact\", \"convenience\", \"convenient\", \"correct\", \"cost\", \"cost\", \"cost_effective\", \"credit\", \"credit\", \"credit\", \"customer\", \"customer\", \"customer\", \"customer_care\", \"customer_services\", \"damage\", \"date\", \"date\", \"date\", \"day\", \"day\", \"day\", \"day\", \"deal\", \"dealer\", \"dealer\", \"delivery\", \"delivery\", \"delivery\", \"delivery\", \"depot\", \"detail\", \"detail\", \"detail\", \"difference\", \"discount\", \"discount\", \"discount_code\", \"do\", \"do\", \"drive\", \"e_mail\", \"ease\", \"ease\", \"easy\", \"efficiency\", \"efficient\", \"email\", \"email\", \"email\", \"email_saying\", \"everyone\", \"everything_went\", \"everything_went_smoothly\", \"everything_worked\", \"excellent\", \"excellent_customer_service\", \"experience\", \"explanation\", \"explanation\", \"explanation\", \"extra\", \"extra\", \"extra\", \"extra\", \"extra_cost\", \"facility\", \"fact\", \"fact\", \"family\", \"fast\", \"fast_delivery\", \"fault\", \"fault\", \"first_class\", \"first_class_service\", \"fit\", \"fitment\", \"fitter\", \"fitter\", \"fitting\", \"fitting\", \"fitting\", \"fitting\", \"fitting\", \"fitting\", \"fitting\", \"fitting\", \"fitting_centres\", \"fitting_station\", \"flat\", \"following_day\", \"following_day\", \"friend\", \"friendly_staff\", \"front\", \"front\", \"front\", \"front\", \"fuss\", \"future\", \"garage\", \"garage\", \"garage\", \"garage\", \"garage\", \"garage\", \"garage\", \"garage\", \"grip\", \"grip\", \"grip\", \"guy\", \"half\", \"hand\", \"hassle\", \"hassle_free_service\", \"help\", \"help\", \"helpful\", \"helpful\", \"helpful\", \"hesitation\", \"high_street\", \"hill\", \"hold\", \"hold\", \"hold\", \"holiday\", \"holiday\", \"home\", \"hour\", \"hour\", \"hour\", \"house\", \"house\", \"idea\", \"info\", \"information\", \"installation\", \"instruction\", \"instruction\", \"internet\", \"issue\", \"issue\", \"issue\", \"issue\", \"issue\", \"issue\", \"job_done\", \"journey\", \"kwik_fit\", \"lady\", \"lady\", \"last_minute\", \"level\", \"like_clockwork\", \"line\", \"line\", \"list\", \"local_tyre_fitter\", \"location\", \"location\", \"locking_wheel\", \"look\", \"lot\", \"mail\", \"manner\", \"manufacturer\", \"many_thanks\", \"many_times\", \"many_years\", \"mark\", \"market\", \"market\", \"mean\", \"mechanic\", \"mechanic\", \"message\", \"message\", \"michelin\", \"mile\", \"mile\", \"min\", \"min\", \"mind\", \"mind\", \"minute\", \"mistake\", \"mistake\", \"mistake\", \"mobile_fitter\", \"monday\", \"money\", \"morning\", \"morning\", \"motor\", \"much_cheaper\", \"name\", \"name\", \"need\", \"need\", \"need\", \"need\", \"need\", \"need\", \"new_tyres_fitted\", \"new_tyres_fitted\", \"next_day\", \"night\", \"night\", \"noise\", \"none\", \"not\", \"notice\", \"notice\", \"nt\", \"nt\", \"nt\", \"number\", \"number\", \"number\", \"nuts\", \"occasion\", \"occasion\", \"occasion\", \"offer\", \"office\", \"one\", \"one\", \"online\", \"online\", \"online\", \"online\", \"option\", \"option\", \"option\", \"option\", \"order\", \"order\", \"order\", \"ordering_process\", \"other\", \"pair\", \"paperwork\", \"paperwork\", \"paperwork\", \"part\", \"part\", \"part\", \"partner\", \"partner\", \"past\", \"payment\", \"payment\", \"payment\", \"payment\", \"people\", \"people\", \"perfect\", \"perfect\", \"performance\", \"phone\", \"phone\", \"phone\", \"phone\", \"phone_call\", \"pilot\", \"place\", \"place\", \"place\", \"place\", \"place\", \"place\", \"plan\", \"plan\", \"pleasure\", \"pleasure\", \"plenty\", \"point\", \"polite\", \"poor_customer_service\", \"pound\", \"premium\", \"premium\", \"pressure\", \"pressure\", \"pricing\", \"problem\", \"problem\", \"problem\", \"problem\", \"problem\", \"procedure\", \"process\", \"process\", \"product\", \"professional\", \"prompt\", \"prompt\", \"prompt\", \"puncture\", \"purchase\", \"purchase\", \"quality\", \"quality\", \"quality\", \"quality_product\", \"question\", \"question\", \"quick\", \"quote\", \"quote\", \"quote\", \"range\", \"range\", \"rate\", \"rating\", \"rating\", \"rear\", \"rear\", \"rear\", \"reason\", \"reason\", \"reason\", \"recommend\", \"recommendation\", \"recommendation\", \"refund\", \"refund\", \"regard\", \"reminder\", \"reminder\", \"repair\", \"replacement\", \"replacement\", \"replacement\", \"replacement\", \"replacement\", \"reply\", \"reply\", \"response\", \"response\", \"response\", \"rest\", \"rest\", \"result\", \"retailer\", \"retailer\", \"retailer\", \"retailer\", \"return\", \"return\", \"return\", \"review\", \"review\", \"review\", \"right\", \"road\", \"room\", \"room\", \"round\", \"run_flats\", \"s\", \"sale\", \"saturday\", \"saturday\", \"saturday_morning\", \"save\", \"save\", \"saved_money\", \"saving\", \"schedule\", \"schedule\", \"schedule\", \"seamless\", \"search\", \"search\", \"selection\", \"selection\", \"several_times\", \"shame\", \"shop\", \"shop\", \"simple\", \"site\", \"site\", \"situation\", \"situation\", \"size\", \"size\", \"size\", \"slot\", \"slot\", \"smooth_transaction\", \"someone\", \"someone\", \"someone\", \"something\", \"something\", \"speed\", \"speed\", \"speedy\", \"speedy\", \"sport\", \"spot\", \"staff\", \"staff\", \"staff\", \"standard\", \"star\", \"star\", \"star\", \"start\", \"station\", \"stock\", \"stock\", \"stock\", \"stock\", \"stock\", \"straightforward\", \"street\", \"stress\", \"suit\", \"superb\", \"superb\", \"supplier\", \"supply\", \"supply\", \"support\", \"support\", \"support\", \"system\", \"system\", \"team\", \"team\", \"thank\", \"thank\", \"thank\", \"thing\", \"thing\", \"thing\", \"thing\", \"till\", \"time\", \"time\", \"time\", \"time\", \"time\", \"time\", \"time\", \"time\", \"times\", \"times\", \"times\", \"tire\", \"today\", \"tracking\", \"tracking\", \"transaction\", \"trouble\", \"trouble_free\", \"tuesday\", \"tuesday\", \"two_front\", \"type\", \"user\", \"user\", \"value\", \"value\", \"valve\", \"variety\", \"variety\", \"variety\", \"variety\", \"vehicle\", \"vehicle\", \"vehicle\", \"vehicle\", \"vehicle\", \"visit\", \"weather\", \"website\", \"website\", \"website\", \"website\", \"wednesday\", \"week\", \"week\", \"week_later\", \"weekend\", \"wheel\", \"wheel\", \"wheel_alignment\", \"wheel_nuts\", \"whilst\", \"whilst\", \"whole_experience\", \"whole_process\", \"wide_choice\", \"wide_range\", \"winter\", \"wo\", \"work\", \"work\", \"work\", \"work\", \"work\", \"work\", \"work\", \"wrong_size\", \"year\", \"year\", \"year\"]}, \"R\": 30, \"lambda.step\": 0.01, \"plot.opts\": {\"xlab\": \"PC1\", \"ylab\": \"PC2\"}, \"topic.order\": [1, 2, 3, 4, 5, 6, 7, 8, 9, 10, 11, 12]};\n",
       "\n",
       "function LDAvis_load_lib(url, callback){\n",
       "  var s = document.createElement('script');\n",
       "  s.src = url;\n",
       "  s.async = true;\n",
       "  s.onreadystatechange = s.onload = callback;\n",
       "  s.onerror = function(){console.warn(\"failed to load library \" + url);};\n",
       "  document.getElementsByTagName(\"head\")[0].appendChild(s);\n",
       "}\n",
       "\n",
       "if(typeof(LDAvis) !== \"undefined\"){\n",
       "   // already loaded: just create the visualization\n",
       "   !function(LDAvis){\n",
       "       new LDAvis(\"#\" + \"ldavis_el191400462721983528425604681\", ldavis_el191400462721983528425604681_data);\n",
       "   }(LDAvis);\n",
       "}else if(typeof define === \"function\" && define.amd){\n",
       "   // require.js is available: use it to load d3/LDAvis\n",
       "   require.config({paths: {d3: \"https://d3js.org/d3.v5\"}});\n",
       "   require([\"d3\"], function(d3){\n",
       "      window.d3 = d3;\n",
       "      LDAvis_load_lib(\"https://cdn.jsdelivr.net/gh/bmabey/pyLDAvis@3.2.2/pyLDAvis/js/ldavis.v3.0.0.js\", function(){\n",
       "        new LDAvis(\"#\" + \"ldavis_el191400462721983528425604681\", ldavis_el191400462721983528425604681_data);\n",
       "      });\n",
       "    });\n",
       "}else{\n",
       "    // require.js not available: dynamically load d3 & LDAvis\n",
       "    LDAvis_load_lib(\"https://d3js.org/d3.v5.js\", function(){\n",
       "         LDAvis_load_lib(\"https://cdn.jsdelivr.net/gh/bmabey/pyLDAvis@3.2.2/pyLDAvis/js/ldavis.v3.0.0.js\", function(){\n",
       "                 new LDAvis(\"#\" + \"ldavis_el191400462721983528425604681\", ldavis_el191400462721983528425604681_data);\n",
       "            })\n",
       "         });\n",
       "}\n",
       "</script>"
      ],
      "text/plain": [
       "<IPython.core.display.HTML object>"
      ]
     },
     "execution_count": 43,
     "metadata": {},
     "output_type": "execute_result"
    }
   ],
   "source": [
    "topic_vis = pyLDAvis.gensim.prepare(final_model, final_corpus , final_dictionary, sort_topics = False)\n",
    "pyLDAvis.display(topic_vis)"
   ]
  },
  {
   "cell_type": "code",
   "execution_count": 44,
   "id": "2593c159",
   "metadata": {
    "execution": {
     "iopub.execute_input": "2022-01-09T21:30:05.013978Z",
     "iopub.status.busy": "2022-01-09T21:30:05.013106Z",
     "iopub.status.idle": "2022-01-09T21:30:05.016145Z",
     "shell.execute_reply": "2022-01-09T21:30:05.016551Z",
     "shell.execute_reply.started": "2022-01-09T21:27:01.667661Z"
    },
    "papermill": {
     "duration": 0.094105,
     "end_time": "2022-01-09T21:30:05.016736",
     "exception": false,
     "start_time": "2022-01-09T21:30:04.922631",
     "status": "completed"
    },
    "tags": []
   },
   "outputs": [],
   "source": [
    "# dictionary.save('model_dictionary')\n",
    "# corpora.MmCorpus.serialize('tuned_corpus',bag_of_words_corpus)\n",
    "# tuned_lda_model.save('lda_model')"
   ]
  },
  {
   "cell_type": "code",
   "execution_count": 45,
   "id": "c9c09940",
   "metadata": {
    "execution": {
     "iopub.execute_input": "2022-01-09T21:30:05.195722Z",
     "iopub.status.busy": "2022-01-09T21:30:05.194758Z",
     "iopub.status.idle": "2022-01-09T21:30:05.196738Z",
     "shell.execute_reply": "2022-01-09T21:30:05.197217Z",
     "shell.execute_reply.started": "2022-01-09T21:27:01.674705Z"
    },
    "papermill": {
     "duration": 0.095179,
     "end_time": "2022-01-09T21:30:05.197381",
     "exception": false,
     "start_time": "2022-01-09T21:30:05.102202",
     "status": "completed"
    },
    "tags": []
   },
   "outputs": [],
   "source": [
    "def predict_topics(data, model, dictionary, threshold = 0.25, print_topics = False):\n",
    "    \"\"\"\n",
    "    Function to predict topics for a given review. \n",
    "    :param data: list representing pre-processed data\n",
    "    :param model: the topic model\n",
    "    :param threshold: value between 0 and 1 representing the minimum probability that topic contains this document.\n",
    "    :param print_topics: if True, function will print list of topics for document.\n",
    "    :return: list of topics\n",
    "    \"\"\"\n",
    "    assert type(data) == type([]), \"Your data is not a list\"\n",
    "    assert threshold >=0 and threshold <=1, \"Threshold is invalid\"\n",
    "    \n",
    "    converted_document = [dictionary.doc2bow(data)][0]\n",
    "    topics_list = model.get_document_topics(converted_document)\n",
    "    if print_topics:\n",
    "        print(topics_list)\n",
    "        \n",
    "    topics = []\n",
    "    for topic in topics_list:\n",
    "        if topic[1] >= threshold:\n",
    "            topics.append(topic[0])\n",
    "    return topics\n",
    "    \n",
    "    "
   ]
  },
  {
   "cell_type": "code",
   "execution_count": 46,
   "id": "f1addfea",
   "metadata": {
    "execution": {
     "iopub.execute_input": "2022-01-09T21:30:05.461660Z",
     "iopub.status.busy": "2022-01-09T21:30:05.406887Z",
     "iopub.status.idle": "2022-01-09T21:30:07.472608Z",
     "shell.execute_reply": "2022-01-09T21:30:07.472041Z",
     "shell.execute_reply.started": "2022-01-09T21:27:01.695276Z"
    },
    "papermill": {
     "duration": 2.188654,
     "end_time": "2022-01-09T21:30:07.472746",
     "exception": false,
     "start_time": "2022-01-09T21:30:05.284092",
     "status": "completed"
    },
    "tags": []
   },
   "outputs": [],
   "source": [
    "dataset['Topics'] = dataset['Preprocessed'].apply(lambda x : predict_topics(x, final_model, final_dictionary))"
   ]
  },
  {
   "cell_type": "code",
   "execution_count": 47,
   "id": "8137a38a",
   "metadata": {
    "execution": {
     "iopub.execute_input": "2022-01-09T21:30:07.653308Z",
     "iopub.status.busy": "2022-01-09T21:30:07.652689Z",
     "iopub.status.idle": "2022-01-09T21:30:07.655617Z",
     "shell.execute_reply": "2022-01-09T21:30:07.655124Z",
     "shell.execute_reply.started": "2022-01-09T21:27:04.694026Z"
    },
    "papermill": {
     "duration": 0.09407,
     "end_time": "2022-01-09T21:30:07.655748",
     "exception": false,
     "start_time": "2022-01-09T21:30:07.561678",
     "status": "completed"
    },
    "tags": []
   },
   "outputs": [],
   "source": [
    "# lda_model_maps = {0: 'length of fitting', 1: 'ease of booking', 2 : 'booking confusion', 3: 'tyre quality', 4: 'location', 5: 'discount', 6: 'garage service', 7: 'delivery punctuality', 8:'mobile fitter', 9: 'booking confusion', 10 : 'change of date', 11:'value for money'}\n",
    "lda_model_maps = {0: 'discounts', 1: 'tyre quality', 2: 'booking confusion', 3: 'ease of booking', 4: 'length of fitting', 5: 'delivery punctuality', 6: 'mobile tyre fitter', 7: 'value for money', 8: 'location', 9: 'wait time', 10: 'change of date ', 11: 'garage service'}"
   ]
  },
  {
   "cell_type": "code",
   "execution_count": 48,
   "id": "3ece1cad",
   "metadata": {
    "execution": {
     "iopub.execute_input": "2022-01-09T21:30:07.835314Z",
     "iopub.status.busy": "2022-01-09T21:30:07.830398Z",
     "iopub.status.idle": "2022-01-09T21:30:07.841286Z",
     "shell.execute_reply": "2022-01-09T21:30:07.841823Z",
     "shell.execute_reply.started": "2022-01-09T21:27:04.704949Z"
    },
    "papermill": {
     "duration": 0.100229,
     "end_time": "2022-01-09T21:30:07.841986",
     "exception": false,
     "start_time": "2022-01-09T21:30:07.741757",
     "status": "completed"
    },
    "tags": []
   },
   "outputs": [
    {
     "data": {
      "text/plain": [
       "array([['Delivery date has been modified twice as there was no available tyres on stock which caused me an serious issue with my holiday booking!!!',\n",
       "        list([5, 9])],\n",
       "       ['Good tyres, Good service', list([])],\n",
       "       ['Easy to use website, good pricing and well organised ordering / fitting arrangements.',\n",
       "        list([6, 11])],\n",
       "       ['It is so easy to purchase and get them fitted. You order them in from your home and turn up and they are waiting at the garage to be fitted 😁😁😁',\n",
       "        list([2, 8])],\n",
       "       ['great service and low price from our local garage', list([2])]],\n",
       "      dtype=object)"
      ]
     },
     "execution_count": 48,
     "metadata": {},
     "output_type": "execute_result"
    }
   ],
   "source": [
    "dataset.sample(5).loc[:,['Review', 'Topics']].values"
   ]
  },
  {
   "cell_type": "code",
   "execution_count": 49,
   "id": "16cf306c",
   "metadata": {
    "execution": {
     "iopub.execute_input": "2022-01-09T21:30:08.021032Z",
     "iopub.status.busy": "2022-01-09T21:30:08.020463Z",
     "iopub.status.idle": "2022-01-09T21:30:08.024852Z",
     "shell.execute_reply": "2022-01-09T21:30:08.025387Z",
     "shell.execute_reply.started": "2022-01-09T21:27:04.733316Z"
    },
    "papermill": {
     "duration": 0.095515,
     "end_time": "2022-01-09T21:30:08.025556",
     "exception": false,
     "start_time": "2022-01-09T21:30:07.930041",
     "status": "completed"
    },
    "tags": []
   },
   "outputs": [
    {
     "name": "stdout",
     "output_type": "stream",
     "text": [
      "env: TOKENIZERS_PARALLELISM=false\n"
     ]
    }
   ],
   "source": [
    "%env TOKENIZERS_PARALLELISM = false"
   ]
  },
  {
   "cell_type": "code",
   "execution_count": 50,
   "id": "f404afea",
   "metadata": {
    "execution": {
     "iopub.execute_input": "2022-01-09T21:30:08.206123Z",
     "iopub.status.busy": "2022-01-09T21:30:08.205506Z",
     "iopub.status.idle": "2022-01-09T21:37:25.065860Z",
     "shell.execute_reply": "2022-01-09T21:37:25.066450Z"
    },
    "papermill": {
     "duration": 436.952982,
     "end_time": "2022-01-09T21:37:25.066875",
     "exception": false,
     "start_time": "2022-01-09T21:30:08.113893",
     "status": "completed"
    },
    "tags": []
   },
   "outputs": [
    {
     "name": "stdout",
     "output_type": "stream",
     "text": [
      "\n",
      "Passes: 10\n",
      "Iterations to convergence: 100\n",
      "Coherence score: -0.16961560164184952\n",
      "\n",
      "Passes: 10\n",
      "Iterations to convergence: 200\n",
      "Coherence score: -0.22190386956555744\n",
      "\n",
      "Passes: 20\n",
      "Iterations to convergence: 100\n",
      "Coherence score: -0.2317757240766789\n",
      "\n",
      "Passes: 20\n",
      "Iterations to convergence: 200\n",
      "Coherence score: -0.23376154483183553\n",
      "\n",
      "Passes: 30\n",
      "Iterations to convergence: 100\n",
      "Coherence score: -0.24215722663303182\n",
      "\n",
      "Passes: 30\n",
      "Iterations to convergence: 200\n",
      "Coherence score: -0.21097128459260328\n"
     ]
    },
    {
     "name": "stderr",
     "output_type": "stream",
     "text": [
      "/opt/conda/lib/python3.7/site-packages/past/builtins/misc.py:45: DeprecationWarning: the imp module is deprecated in favour of importlib; see the module's documentation for alternative uses\n",
      "  from imp import reload\n",
      "/opt/conda/lib/python3.7/site-packages/past/builtins/misc.py:45: DeprecationWarning: the imp module is deprecated in favour of importlib; see the module's documentation for alternative uses\n",
      "  from imp import reload\n",
      "/opt/conda/lib/python3.7/site-packages/past/builtins/misc.py:45: DeprecationWarning: the imp module is deprecated in favour of importlib; see the module's documentation for alternative uses\n",
      "  from imp import reload\n",
      "/opt/conda/lib/python3.7/site-packages/past/builtins/misc.py:45: DeprecationWarning: the imp module is deprecated in favour of importlib; see the module's documentation for alternative uses\n",
      "  from imp import reload\n"
     ]
    },
    {
     "name": "stdout",
     "output_type": "stream",
     "text": [
      "\n",
      "Passes: 40\n",
      "Iterations to convergence: 100\n",
      "Coherence score: -0.24215722663303177\n",
      "\n",
      "Passes: 40\n",
      "Iterations to convergence: 200\n",
      "Coherence score: -0.20650536410527262\n"
     ]
    }
   ],
   "source": [
    "scores_lda_total= []\n",
    "\n",
    "pairs_total = []\n",
    "\n",
    "best_coherence_total = -9999\n",
    "\n",
    "perfect_params_total = [0,0]\n",
    "\n",
    "for num_pass in passes:\n",
    "    for iteration in iterations:\n",
    "        new_lda = models.LdaModel(corpus = bag_total_corpus, num_topics = NUM_TOPICS, chunksize = 5000, id2word = dictionary_total, passes = num_pass, iterations = iteration, random_state = 1) \n",
    "        coherence_model = CoherenceModel(model = new_lda, texts = dataset['Preprocessed_Total'], coherence = 'c_uci', topn = 10)\n",
    "        coherence_score = coherence_model.get_coherence()\n",
    "        scores_lda_total.append(coherence_score)\n",
    "        pairs_total.append(str(num_pass) + ',' + str(iteration))\n",
    "        print(\"\\nPasses:\", num_pass)\n",
    "        print(\"Iterations to convergence:\", iteration)\n",
    "        print(\"Coherence score:\", coherence_score)\n",
    "        if coherence_score > best_coherence_total:\n",
    "            best_coherence_total = coherence_score\n",
    "            perfect_params_total = [num_pass, iteration]"
   ]
  },
  {
   "cell_type": "code",
   "execution_count": 51,
   "id": "93bf4dc0",
   "metadata": {
    "execution": {
     "iopub.execute_input": "2022-01-09T21:37:25.254988Z",
     "iopub.status.busy": "2022-01-09T21:37:25.254332Z",
     "iopub.status.idle": "2022-01-09T21:37:25.522576Z",
     "shell.execute_reply": "2022-01-09T21:37:25.523046Z"
    },
    "papermill": {
     "duration": 0.363953,
     "end_time": "2022-01-09T21:37:25.523249",
     "exception": false,
     "start_time": "2022-01-09T21:37:25.159296",
     "status": "completed"
    },
    "tags": []
   },
   "outputs": [
    {
     "data": {
      "image/png": "[encoded data removed]",
      "text/plain": [
       "<Figure size 864x864 with 1 Axes>"
      ]
     },
     "metadata": {
      "needs_background": "light"
     },
     "output_type": "display_data"
    }
   ],
   "source": [
    "plt.figure(figsize = (12,12))\n",
    "plt.plot(pairs_total, scores_lda_total)\n",
    "plt.title('Coherence scores Total')\n",
    "plt.show()"
   ]
  },
  {
   "cell_type": "code",
   "execution_count": 52,
   "id": "cb054f83",
   "metadata": {
    "execution": {
     "iopub.execute_input": "2022-01-09T21:37:25.712398Z",
     "iopub.status.busy": "2022-01-09T21:37:25.711808Z",
     "iopub.status.idle": "2022-01-09T21:37:49.793593Z",
     "shell.execute_reply": "2022-01-09T21:37:49.792771Z"
    },
    "papermill": {
     "duration": 24.177725,
     "end_time": "2022-01-09T21:37:49.793825",
     "exception": false,
     "start_time": "2022-01-09T21:37:25.616100",
     "status": "completed"
    },
    "tags": []
   },
   "outputs": [],
   "source": [
    "tuned_lda_model_total = models.LdaModel(corpus = bag_total_corpus, num_topics = NUM_TOPICS, chunksize = 5000, id2word = dictionary_total, passes = perfect_params_total[0], iterations = perfect_params_total[1], random_state = 1)"
   ]
  },
  {
   "cell_type": "code",
   "execution_count": 53,
   "id": "8e0dbb8b",
   "metadata": {
    "execution": {
     "iopub.execute_input": "2022-01-09T21:37:49.994751Z",
     "iopub.status.busy": "2022-01-09T21:37:49.994008Z",
     "iopub.status.idle": "2022-01-09T21:37:50.003969Z",
     "shell.execute_reply": "2022-01-09T21:37:50.004585Z"
    },
    "papermill": {
     "duration": 0.111332,
     "end_time": "2022-01-09T21:37:50.004766",
     "exception": false,
     "start_time": "2022-01-09T21:37:49.893434",
     "status": "completed"
    },
    "tags": []
   },
   "outputs": [
    {
     "name": "stdout",
     "output_type": "stream",
     "text": [
      "Larger Model Results:\n",
      "Topic 1:0.047*\"time\" + 0.046*\"appointment\" + 0.040*\"garage\" + 0.035*\"tyre\" + 0.032*\"order\" + 0.031*\"fitting\" + 0.023*\"company\" + 0.021*\"email\" + 0.020*\"take\" + 0.018*\"staff\"\n",
      "Topic 2:0.076*\"tyre\" + 0.041*\"first\" + 0.033*\"experience\" + 0.028*\"time\" + 0.026*\"fit\" + 0.022*\"car\" + 0.019*\"know\" + 0.019*\"first_time\" + 0.017*\"buy\" + 0.015*\"whole\"\n",
      "Topic 3:0.169*\"excellent\" + 0.124*\"service\" + 0.086*\"price\" + 0.067*\"excellent_service\" + 0.046*\"competitive\" + 0.033*\"tyre\" + 0.030*\"competitive_price\" + 0.021*\"company\" + 0.018*\"competitive_prices\" + 0.018*\"fitter\"\n",
      "Topic 4:0.075*\"tyre\" + 0.052*\"easy\" + 0.044*\"great\" + 0.041*\"hassle\" + 0.041*\"service\" + 0.035*\"free\" + 0.033*\"garage\" + 0.033*\"order\" + 0.031*\"online\" + 0.029*\"company\"\n",
      "Topic 5:0.096*\"tyre\" + 0.067*\"fitter\" + 0.045*\"choose\" + 0.039*\"price\" + 0.034*\"time\" + 0.033*\"great\" + 0.031*\"easy\" + 0.022*\"go\" + 0.020*\"find\" + 0.020*\"turn\"\n",
      "Topic 6:0.051*\"tyre\" + 0.048*\"company\" + 0.043*\"garage\" + 0.026*\"service\" + 0.020*\"class\" + 0.015*\"class_service\" + 0.015*\"fitting\" + 0.015*\"star\" + 0.014*\"alloy\" + 0.014*\"time\"\n",
      "Topic 7:0.120*\"garage\" + 0.091*\"tyre\" + 0.089*\"easy\" + 0.048*\"local\" + 0.043*\"order\" + 0.043*\"local_garage\" + 0.042*\"service\" + 0.041*\"quick\" + 0.037*\"company\" + 0.025*\"recommend\"\n",
      "Topic 8:0.202*\"service\" + 0.104*\"great\" + 0.090*\"good\" + 0.072*\"price\" + 0.035*\"efficient\" + 0.034*\"customer\" + 0.030*\"customer_service\" + 0.024*\"recommend\" + 0.023*\"quick\" + 0.017*\"easy\"\n",
      "Topic 9:0.188*\"good\" + 0.076*\"price\" + 0.072*\"tyre\" + 0.061*\"good_price\" + 0.033*\"easy\" + 0.032*\"time\" + 0.030*\"choice\" + 0.027*\"value\" + 0.024*\"good_value\" + 0.020*\"website\"\n",
      "Topic 10:0.082*\"simple\" + 0.065*\"great\" + 0.062*\"convenient\" + 0.057*\"value\" + 0.056*\"easy\" + 0.046*\"issue\" + 0.043*\"process\" + 0.041*\"fault\" + 0.036*\"money\" + 0.028*\"not\"\n",
      "Topic 11:0.116*\"tyre\" + 0.029*\"company\" + 0.024*\"nt\" + 0.016*\"customer\" + 0.015*\"check\" + 0.013*\"say\" + 0.013*\"fitter\" + 0.012*\"do\" + 0.011*\"pressure\" + 0.011*\"call\"\n",
      "Topic 12:0.075*\"time\" + 0.060*\"fitting\" + 0.035*\"problem\" + 0.031*\"centre\" + 0.023*\"tyre\" + 0.019*\"fitting_centre\" + 0.018*\"service\" + 0.018*\"slot\" + 0.017*\"choose\" + 0.017*\"torque\"\n"
     ]
    }
   ],
   "source": [
    "print(\"Larger Model Results:\")\n",
    "for id in range(NUM_TOPICS):\n",
    "    print(\"Topic \" + str(id+1) + \":\" + tuned_lda_model_total.print_topic(id,10))"
   ]
  },
  {
   "cell_type": "code",
   "execution_count": 54,
   "id": "e9b2aa0b",
   "metadata": {
    "execution": {
     "iopub.execute_input": "2022-01-09T21:37:50.199458Z",
     "iopub.status.busy": "2022-01-09T21:37:50.198840Z",
     "iopub.status.idle": "2022-01-09T21:37:55.181341Z",
     "shell.execute_reply": "2022-01-09T21:37:55.181799Z"
    },
    "papermill": {
     "duration": 5.080543,
     "end_time": "2022-01-09T21:37:55.181964",
     "exception": false,
     "start_time": "2022-01-09T21:37:50.101421",
     "status": "completed"
    },
    "tags": []
   },
   "outputs": [
    {
     "data": {
      "text/html": [
       "\n",
       "<link rel=\"stylesheet\" type=\"text/css\" href=\"https://cdn.jsdelivr.net/gh/bmabey/pyLDAvis@3.2.2/pyLDAvis/js/ldavis.v1.0.0.css\">\n",
       "\n",
       "\n",
       "<div id=\"ldavis_el191400462340593443697104377\"></div>\n",
       "<script type=\"text/javascript\">\n",
       "\n",
       "var ldavis_el191400462340593443697104377_data = {\"mdsDat\": {\"x\": [0.14496947325830353, 0.16699659130292313, -0.18492908808065128, -0.05304443596167874, -7.401276586186199e-05, 0.17621896009212357, 0.0034557416969979546, -0.25548511026491527, -0.08784844734302806, -0.18997348996804145, 0.22144136433813397, 0.05827245369569474], \"y\": [-0.1828169195999398, 0.2729035176515934, -0.06278920922791542, -0.0508508624632493, 0.05602632999026391, -0.11567077353804152, -0.12355319822673685, -0.0466905070467117, 0.03035979499721004, 0.16485987939129407, 0.03737911345607741, 0.020842834616156408], \"topics\": [1, 2, 3, 4, 5, 6, 7, 8, 9, 10, 11, 12], \"cluster\": [1, 1, 1, 1, 1, 1, 1, 1, 1, 1, 1, 1], \"Freq\": [9.571293557887637, 4.357986060595028, 9.140327952170844, 7.63624409865565, 6.771361124827174, 5.539509827596406, 8.257176572540502, 10.37980907654755, 12.611025661934452, 4.9136561267820085, 15.453566269078372, 5.368043671384371]}, \"tinfo\": {\"Term\": [\"good\", \"excellent\", \"service\", \"great\", \"garage\", \"price\", \"easy\", \"good_price\", \"excellent_service\", \"time\", \"value\", \"simple\", \"fitter\", \"tyre\", \"order\", \"fitting\", \"competitive\", \"convenient\", \"appointment\", \"choose\", \"quick\", \"local_garage\", \"customer\", \"company\", \"local\", \"issue\", \"efficient\", \"hassle\", \"recommend\", \"process\", \"refund\", \"address\", \"full\", \"point\", \"agent\", \"pleased\", \"pay\", \"none\", \"update\", \"aspect\", \"tyres\", \"goodyear\", \"competitor\", \"formula\", \"specify\", \"appropriate\", \"asymmetric\", \"kid\", \"precise\", \"allround\", \"eagle\", \"next_day\", \"sport\", \"tire\", \"text\", \"slow\", \"late\", \"mistake\", \"manage\", \"amade\", \"fitting_date\", \"appointment\", \"week\", \"wait\", \"hour\", \"email\", \"next\", \"take\", \"receive\", \"purchase\", \"confirmation\", \"staff\", \"ask\", \"polite\", \"order\", \"time\", \"date\", \"fitting\", \"garage\", \"book\", \"company\", \"tyre\", \"online\", \"second\", \"service\", \"helpful\", \"price\", \"first_time\", \"whole\", \"jobsheet\", \"rim\", \"satisfaction\", \"ve\", \"costco\", \"whole_experience\", \"lack\", \"minimum\", \"resolution\", \"sidewall\", \"pitstop\", \"sceptical\", \"forget\", \"volvo\", \"guildford\", \"harborne\", \"almighty\", \"amateur\", \"backtrack\", \"brush\", \"culprit\", \"die\", \"disclose\", \"file\", \"gearbox\", \"invite\", \"kumhos\", \"latter\", \"whole_process\", \"hundred\", \"integrity\", \"manager\", \"first\", \"hand\", \"car\", \"mile\", \"know\", \"experience\", \"year\", \"clear\", \"buy\", \"s\", \"occasion\", \"last\", \"range\", \"tyre\", \"fit\", \"home\", \"promise\", \"michelin\", \"do\", \"time\", \"look\", \"need\", \"want\", \"wheel\", \"fitter\", \"nt\", \"process\", \"excellent\", \"excellent_service\", \"competitive_prices\", \"competitive_price\", \"local_fitter\", \"pleasant\", \"particular\", \"outstanding\", \"thankyou\", \"recomend\", \"simplicity\", \"professionalism\", \"primacy\", \"proficient\", \"local_fitters\", \"fast_delivery\", \"rate\", \"informative\", \"asap\", \"competitive\", \"fabulous\", \"effortless\", \"prompt\", \"installer\", \"sensible\", \"user\", \"driveway\", \"handforth\", \"speedy\", \"estate\", \"many\", \"courteous\", \"delivery\", \"reasonable\", \"reasonable_price\", \"service\", \"price\", \"year\", \"website\", \"polite\", \"fitter\", \"recommend\", \"company\", \"tyre\", \"fitting\", \"quick\", \"great\", \"easy\", \"friendly\", \"efficient\", \"communication\", \"local\", \"selection\", \"free\", \"transaction\", \"order_online\", \"trouble\", \"easy_transaction\", \"love\", \"read\", \"reservation\", \"daughter\", \"unbelievable\", \"moan\", \"reviews\", \"neglect\", \"corrosion\", \"friend\", \"faultless\", \"partner\", \"pick\", \"street\", \"stress\", \"include\", \"hassle\", \"head\", \"hassle_free_service\", \"family\", \"drop\", \"venue\", \"collect\", \"reputable\", \"describe\", \"saving\", \"brilliant\", \"start\", \"place\", \"finish\", \"suit\", \"online\", \"book\", \"order\", \"easy\", \"great\", \"tyre\", \"recommend\", \"new_tyres\", \"garage\", \"company\", \"service\", \"time\", \"local\", \"choose\", \"price\", \"choice\", \"need\", \"fit\", \"experience\", \"brand\", \"decent\", \"mobile_fitter\", \"cheap\", \"disappoint\", \"lot\", \"everything_went\", \"road\", \"noise\", \"list\", \"clockwork\", \"condition\", \"worth\", \"comparison\", \"vast\", \"important\", \"notification\", \"example\", \"respect\", \"tue\", \"morley\", \"yorkshire\", \"grip\", \"mine\", \"everything_went_smoothly\", \"cover\", \"information\", \"dunlop\", \"timing\", \"amount\", \"level\", \"second_time\", \"thank\", \"fitter\", \"choose\", \"turn\", \"go\", \"site\", \"find\", \"tyre\", \"mobile\", \"want\", \"second\", \"time\", \"great\", \"price\", \"easy\", \"choice\", \"keep\", \"come\", \"budget\", \"company\", \"able\", \"service\", \"available\", \"class_service\", \"march\", \"first_class_service\", \"plan\", \"spec\", \"entire\", \"paisley\", \"complete\", \"damage\", \"balance\", \"internet\", \"installation\", \"seat\", \"allow\", \"minor\", \"story\", \"useless\", \"young\", \"absolute\", \"accommodate\", \"gripe\", \"opportunity\", \"safety\", \"extensive\", \"personal\", \"remain\", \"reference\", \"doorstep\", \"pirelli\", \"serious\", \"alloy\", \"supplier\", \"weekend\", \"class\", \"star\", \"first_class\", \"fine\", \"that\", \"unable\", \"sunday\", \"anyone\", \"replace\", \"company\", \"tell\", \"garage\", \"tyre\", \"wheel\", \"correct\", \"buy\", \"service\", \"issue\", \"purchase\", \"fitting\", \"time\", \"appointment\", \"fitter\", \"recommend\", \"date\", \"website\", \"effective\", \"cost_effective\", \"easy_process\", \"re\", \"likely\", \"fashion\", \"local_garages\", \"quick_delivery\", \"ca\", \"local_garage\", \"result\", \"cost\", \"hang\", \"circumstance\", \"end\", \"economic\", \"motorworx\", \"forward\", \"swap\", \"print\", \"barney\", \"organise\", \"perfect\", \"gentleman\", \"honest\", \"slick\", \"tier\", \"outcome\", \"house\", \"awesome\", \"future\", \"spot\", \"garage\", \"local\", \"find\", \"quick\", \"next_time\", \"happy\", \"technical\", \"easy\", \"order\", \"quote\", \"complaint\", \"you\", \"professional\", \"recommend\", \"go\", \"fit\", \"tyre\", \"online\", \"process\", \"company\", \"service\", \"helpful\", \"efficient\", \"time\", \"need\", \"minute\", \"choice\", \"nt\", \"fantastic\", \"great_customer_service\", \"good_customer_service\", \"fantastic_service\", \"knowledgeable\", \"flawless\", \"heath\", \"hayward\", \"lavender\", \"hill\", \"mechanical\", \"excellent_customer_service\", \"amazing\", \"great_prices\", \"best_price\", \"keen\", \"fast_efficient_service\", \"regard\", \"finance\", \"welcome\", \"thorough\", \"knowledgable\", \"bunch\", \"tudor\", \"pushy\", \"rip\", \"anywhere\", \"exellent\", \"recomende\", \"customer_service\", \"overall\", \"efficient\", \"people\", \"round\", \"customer\", \"great\", \"service\", \"fuss\", \"guy\", \"friendly\", \"professional\", \"nice\", \"ordering_process\", \"good\", \"price\", \"quick\", \"recommend\", \"helpful\", \"please\", \"happy\", \"staff\", \"easy\", \"good_price\", \"fit\", \"tyre\", \"fast\", \"good_value\", \"shop\", \"alignment\", \"type\", \"wheel_alignment\", \"good_selection\", \"exceptional\", \"euromaster\", \"massive\", \"negative\", \"patient\", \"variety\", \"wide\", \"good_quality_tyres\", \"wide_range\", \"mcconechy\", \"retailer\", \"stem\", \"outlet\", \"what\", \"valve\", \"ability\", \"nominate\", \"flash\", \"advertise\", \"good_price\", \"search\", \"plate\", \"encounter\", \"downside\", \"info\", \"good\", \"chosen_garage\", \"expensive\", \"area\", \"quality\", \"selection\", \"value\", \"choice\", \"show\", \"website\", \"price\", \"good_communication\", \"able\", \"different\", \"tyre\", \"book\", \"time\", \"easy\", \"make\", \"fit\", \"garage\", \"local\", \"offer\", \"company\", \"range\", \"say\", \"fitting\", \"site\", \"online\", \"problem\", \"choose\", \"communication\", \"simple\", \"fault\", \"can\", \"not\", \"great_value\", \"reliable\", \"cannot_fault\", \"pricing\", \"ease\", \"aylesbury\", \"competitive_pricing\", \"unbeatable\", \"repeat\", \"worry\", \"dealership\", \"task\", \"quibble\", \"guess\", \"delight\", \"interest\", \"money\", \"broad\", \"convenient\", \"run\", \"kwikfit\", \"climate\", \"straightforward\", \"arecommende\", \"extras\", \"phil\", \"location\", \"issue\", \"fair\", \"process\", \"value\", \"fast\", \"sale\", \"great\", \"easy\", \"save\", \"choice\", \"fitting\", \"price\", \"option\", \"purchase\", \"able\", \"competitive\", \"tyre\", \"service\", \"pressure\", \"call\", \"seem\", \"avon\", \"bother\", \"copy\", \"charge\", \"other\", \"night\", \"correct_tyres\", \"would\", \"straight\", \"hesitation\", \"apology\", \"difference\", \"shame\", \"chase\", \"leave\", \"wear\", \"timely\", \"suggest\", \"kwik\", \"source\", \"circle\", \"page\", \"form\", \"sorry\", \"representative\", \"petrol\", \"relevant\", \"phone\", \"rectify\", \"visit\", \"business\", \"nt\", \"whilst\", \"check\", \"do\", \"return\", \"drive\", \"wrong\", \"say\", \"tyre\", \"day\", \"premium\", \"correct\", \"customer\", \"tell\", \"company\", \"need\", \"saturday\", \"work\", \"happen\", \"think\", \"fitter\", \"date\", \"tyre_fitter\", \"email\", \"minute\", \"service\", \"order\", \"customer_service\", \"garage\", \"centre\", \"fitting_centre\", \"torque\", \"nuts\", \"there\", \"station\", \"fitting_station\", \"fitting_centres\", \"seamless\", \"wheel_nuts\", \"nut\", \"park\", \"stuff\", \"wrench\", \"watch\", \"necessary\", \"jack\", \"tighten\", \"seal\", \"crack\", \"pothole\", \"enquire\", \"mishap\", \"ultra\", \"mobile_fitting\", \"arrange_fitting\", \"hesitatation\", \"pleasure\", \"%_discount\", \"times\", \"smooth\", \"idea\", \"discount\", \"time_slot\", \"problem\", \"fitting\", \"system\", \"time\", \"slot\", \"care\", \"booking\", \"mobile\", \"use\", \"continue\", \"deal\", \"choose\", \"want\", \"tyre\", \"service\", \"response\", \"arrange\", \"wheel\", \"price\", \"book\", \"easy\"], \"Freq\": [3343.0, 1530.0, 4534.0, 2185.0, 2231.0, 3223.0, 2394.0, 876.0, 605.0, 2072.0, 610.0, 400.0, 935.0, 6153.0, 1056.0, 1119.0, 456.0, 360.0, 545.0, 612.0, 741.0, 370.0, 619.0, 1966.0, 825.0, 382.0, 536.0, 329.0, 846.0, 417.0, 132.10534956619355, 90.75748179902565, 71.78576769015012, 78.60021540078206, 68.50361732293003, 63.48912645405148, 58.84921283955347, 53.69438766670149, 59.02811771021516, 51.99445877659363, 51.401256237015566, 51.08552387803822, 48.02761146328701, 47.80082710447365, 47.39064862229097, 45.65510088219174, 42.51143889462271, 42.435531314492664, 42.25779831941511, 41.745107156904744, 42.24530859279476, 93.98686252058135, 26.275963960975147, 62.56571492703945, 21.46971670506102, 20.47368193343764, 30.219098415892336, 27.892658845778485, 14.817266475906552, 14.095428563233472, 45.54855712607653, 435.29242797162897, 154.1391921985948, 152.93841622411747, 161.67022861228142, 199.70624381227353, 166.90763136388892, 190.29275227792957, 103.06558532602679, 156.3474287316408, 75.33324654958797, 171.82661877820803, 97.4218148906587, 96.45168693998451, 298.1218003871814, 439.95349702430366, 160.16869473412925, 293.2973031515407, 373.8143898085562, 157.7019230628156, 221.17475780291926, 332.8722993818095, 125.4162308654014, 78.4676172378828, 170.43298556474215, 86.6982016976338, 78.76138794352596, 82.16869714197473, 65.39486486901389, 60.77914718475549, 44.31274725704932, 42.515019658061966, 42.35300897833158, 40.924576505507765, 30.560677138056896, 24.82836233544125, 23.658834827984062, 22.05531905081303, 21.84548908333665, 21.568715322498676, 21.46873190967049, 20.938922525130586, 20.673131213238012, 20.67289050202825, 20.297431162968056, 20.29410734234659, 20.29410734234659, 20.29410734234659, 20.29410734234659, 20.29410734234659, 20.29410734234659, 20.29410734234659, 20.29410734234659, 20.29410734234659, 20.29410734234659, 20.29410734234659, 20.29410734234659, 21.2963485827261, 21.575599663097872, 20.654227359564693, 61.164265061107386, 174.8696490774347, 26.09485032411736, 93.02958692644118, 52.97843104555524, 83.50704344454508, 142.1461315714965, 65.10466744637819, 36.43962518595263, 73.06035346242328, 57.251267647068, 31.36555123384546, 45.77585016778587, 53.600801913955664, 326.0606006402264, 111.41025478534102, 44.141553444666506, 26.179275769087926, 46.41422431978198, 56.639074850987015, 120.56605869175057, 39.04059806820915, 51.15843765966489, 48.97570852807703, 44.16488638459944, 53.35062272994291, 42.889181162516195, 42.336941505079956, 1529.3403361880196, 604.6483232306433, 164.4599140619502, 267.96402808497396, 85.95342001306373, 64.16370686701384, 47.38651537522385, 44.056007137956335, 40.943052137321196, 37.90471987422519, 37.23157120160519, 36.44720153955156, 36.37867079749964, 35.12183911803005, 21.98984024641982, 16.473617217360385, 18.06122048122302, 12.095308895778206, 34.88478350219812, 417.74936839867553, 7.795046377914913, 6.083821463915214, 85.89319844993948, 3.9280717801054927, 3.9119122677321094, 11.520247450912155, 3.37476749954358, 3.3062854030012057, 15.756205864131223, 2.745192318989419, 59.61062180335469, 51.0647091090788, 121.77978915339548, 85.11556868897044, 75.1250242499224, 1115.8620624596845, 780.4693040147374, 61.9283526195902, 148.95423730505132, 54.61182396765782, 164.17823499989237, 139.331896775568, 186.75791335633704, 299.70907999449383, 130.3872907440369, 104.83310303301899, 153.64949978272622, 153.3553338127913, 81.13273310896291, 87.89792775494429, 59.720441802113434, 62.73991748801768, 51.77792274925729, 265.0280582129795, 80.67942530450027, 81.90528477111212, 56.45806836283913, 47.92559945509325, 43.32249652528946, 39.27943862298871, 38.185094976995416, 35.769076559313376, 33.873522239183124, 33.44598071024168, 33.11372725615844, 32.8818724951866, 32.83876966737449, 37.632898650014646, 16.179245528545692, 80.61695906818969, 130.01952719845326, 13.781059794293867, 11.909930292761533, 12.409903587863868, 307.2257371856353, 36.382909613727335, 8.898399192048043, 37.58510698812431, 47.495931430936416, 7.243170465069944, 39.59387872541641, 5.8808084586877225, 5.741852540966379, 12.44467266335252, 157.83432362678303, 108.23112682396665, 99.81243419741443, 90.16483822845446, 85.06425140889759, 233.80933695752384, 214.19631658430404, 249.2338436408421, 395.2534723266999, 335.5740484168635, 566.6400448626009, 181.29636360748444, 79.52626737017786, 252.43735068750263, 218.70586426923506, 306.36310419102074, 211.93690311591405, 130.52462780743235, 111.85696636500795, 211.66192795278945, 114.04054303874133, 77.86053621724344, 86.61745054395448, 76.24875829002177, 92.14916538758756, 88.44778520629806, 80.1004555409578, 85.13918702419217, 65.96308373209209, 57.690887002844896, 56.01324639688275, 50.811915969690915, 38.69310054222895, 39.57897477104578, 37.321349413864965, 37.15844190935521, 36.675663082423874, 35.297902815223615, 34.59767606858744, 34.27451343360822, 33.44432659254443, 31.528932289118963, 31.432932556081443, 30.121222947708205, 29.73736427035463, 29.013297325088413, 10.8142915398289, 35.48359704900311, 8.739594280163473, 8.287322429855333, 83.85340585253005, 6.2709061028880395, 4.8626747019570145, 32.47142582089218, 30.570658534353992, 59.67768658155004, 89.78483729801042, 448.2057079192327, 303.8877611426577, 135.90391816357058, 144.34113556959466, 82.54757136174311, 136.47685589045895, 642.6994902292304, 78.14719867602655, 111.90734478576063, 67.535389869117, 226.49628647785178, 222.0113245659855, 261.95217541261496, 210.20573550036474, 131.2291322933615, 53.28044713951361, 60.968697698734616, 53.86815213808575, 124.54468842939261, 62.984452100981805, 80.261866994305, 55.20205628881021, 82.49129990534736, 61.95155145153726, 58.89161635056173, 55.566260658801596, 45.45884996347339, 44.50437512185482, 41.135535696279355, 37.66090896964465, 34.656247727098155, 28.374393349847796, 27.75030972299345, 27.523900573945365, 27.008753210930948, 28.30779597424544, 24.607813152512794, 24.114777372683935, 23.998413636309465, 23.732993045524864, 23.613138677533577, 25.64396214456954, 22.81379168658492, 22.813610653097122, 22.805747170331408, 22.536649814907324, 22.385823421898166, 22.154505970540093, 22.050121041569422, 21.616298510854758, 21.608024515532207, 21.50692368701622, 79.08289318873481, 36.78100717616124, 47.4031904186911, 107.99967306709189, 80.92299915126046, 77.55575588009853, 78.21023528453071, 41.18444278542629, 28.231756809835872, 23.784852765360093, 50.48714432889265, 35.06614578998185, 262.0481663860152, 69.72869399240882, 234.82544179157807, 276.9349325526699, 68.97305511480967, 55.019932189839736, 52.28182363481843, 141.09902005029946, 62.68773050408197, 55.20954309528381, 81.78481034480134, 78.26645765644511, 58.878699228742306, 61.58833708059826, 59.80286753464321, 49.41935782251782, 50.770683567061546, 62.298280251492464, 51.47247003649342, 47.56428471061972, 37.29715100693656, 36.83023040631218, 34.483244802037426, 27.230603659835733, 17.471291527405178, 67.50387560724714, 346.89912619670935, 52.157442998487745, 139.10250790562088, 4.604217778822528, 4.24248372634332, 41.75417669563515, 3.6099940563709727, 3.5381973936703677, 3.346744773216982, 3.3435170494511484, 3.342926281935279, 3.342252374640337, 18.82998555123634, 113.73037571093029, 2.517649954368766, 6.060668029972004, 5.431503238535893, 2.2581402984774726, 2.254261946554837, 11.298937318902318, 5.494990674173731, 142.62930683558037, 18.785350416816613, 983.3343288338588, 388.2051424265546, 168.14448885905927, 331.1141298280873, 44.72764666486871, 131.62750633623992, 35.56839089950973, 727.1880086150094, 350.9151024836932, 16.808512610663236, 47.05356132353524, 35.368711004061524, 107.99570350554747, 207.610111537321, 103.29720189166515, 164.18923216569678, 742.4979813425964, 155.15472217536544, 116.7139516766235, 301.52833300498673, 342.9328931521714, 74.89772515090179, 88.04134318348109, 134.4495383856034, 75.17861028153494, 59.90669751955412, 64.55449812073554, 58.69317980251772, 158.87711360310198, 83.59371027481424, 76.87680825702685, 62.658492050824755, 47.010445257651654, 34.75526322443056, 34.224936475249855, 33.97779815678963, 32.947896304782084, 40.50307869455877, 32.54263055070099, 20.106994904058745, 42.61718570199311, 130.37184479645873, 162.7717583730186, 8.229814100118919, 6.0668234892315756, 36.76309275228462, 5.392519648341848, 5.214144333089561, 3.987815235154322, 3.6511395913731577, 3.335726789217093, 3.3337530031687845, 3.151796505453961, 2.9034156871832906, 2.9018029158600056, 2.8027095994470934, 2.7332651772130934, 305.84654379336325, 72.36364284126688, 359.6092603592486, 80.54776603391291, 102.736575491789, 352.70980731908344, 1068.1787532575481, 2070.3502215697417, 52.56649113915648, 31.447362638009796, 177.7647829157273, 155.01202366645575, 65.22427774926312, 48.55844295467367, 927.5019512637175, 739.0201252341557, 235.82733117361087, 243.2802517380853, 115.20388010259757, 70.58161921503627, 94.21741630123039, 88.97461056419819, 179.2522328594296, 111.97346898284553, 85.14056610226763, 110.54814821015009, 57.40211765448315, 293.5985683767839, 104.94960458442601, 94.70314557636704, 91.258823434756, 83.1231152115552, 70.71584570165084, 49.6162496566697, 45.06412118644139, 43.52234401350639, 41.52971012928755, 36.971628941089584, 15.866030838204372, 42.77598172796655, 13.842237334228198, 16.953919796238118, 10.800655309625025, 11.979157057211095, 9.260327134469817, 8.919903354627532, 8.80121904474241, 24.30820390579936, 6.958175860208511, 6.242413766640211, 39.9416172696827, 5.72183791406043, 763.5460960534384, 76.0974742469075, 5.838372308862164, 5.341733943139784, 5.143715735033323, 12.174326972486021, 2339.407597526316, 50.3550310064042, 42.258356476023486, 54.36289646480375, 211.22353944612394, 111.26335156124607, 333.4144094465966, 374.5625680583583, 40.35852230139117, 251.0080583646307, 944.6288099268156, 55.49959567854436, 103.28402771134674, 53.36125516330118, 892.9173080293921, 194.59273091744677, 400.14380322138385, 409.58660757300044, 78.92019448066952, 144.1673411645674, 246.9166981278054, 155.49957476935302, 71.48307007240078, 193.00053703858734, 69.10406677117791, 86.20348277813184, 126.79148801683417, 67.67306355570176, 99.02146370680111, 83.139571530857, 81.39677475806987, 76.06249513575666, 399.3975636532713, 200.82756654306124, 134.42513104052207, 134.42513104052207, 133.31489222116213, 125.1879625188764, 83.08037172215855, 76.10149637568857, 69.1437271647572, 43.632416359895636, 38.25028394671233, 11.078955904996239, 9.419467339292815, 8.028179020071844, 6.602678044154319, 6.302612214716758, 5.518913492855532, 5.439639395102722, 4.745435935056968, 4.644591771627082, 174.49347832335692, 4.41637037264226, 300.2428749036947, 3.944582541121882, 3.9440270123454497, 3.6161075637524496, 120.87767891812722, 3.1451588209895527, 3.0547535097433745, 3.050937465252645, 56.99425119300074, 222.7418327612014, 69.2437981112896, 207.55880440642028, 275.4369866957562, 62.4021985902215, 14.56786773419857, 317.4023349853702, 272.5681083085057, 35.4212928083215, 81.52792634252157, 93.4161810924139, 132.7119063034947, 25.585539627019347, 32.66056640299554, 31.09280482641607, 37.910534420943854, 63.71931010626425, 53.051443234133146, 172.3519372507834, 168.5020088624867, 139.62009855107027, 96.12250728286794, 92.05261387777722, 81.99462030346793, 76.09968019843741, 66.8485877863353, 61.84805400573548, 60.8132851901524, 59.07466957671706, 56.655342471894414, 56.47845784975223, 54.22524971408646, 53.017608055868116, 53.1990557215452, 51.924636428555736, 66.890867959011, 49.542485858472254, 49.10131459168574, 58.91932337362973, 51.48455346365674, 47.97837909704557, 46.808287410488575, 45.46624402570436, 45.011131113822906, 45.57227877235254, 43.8597290560858, 43.776925642539716, 43.31764090675612, 137.0368539766606, 48.28279064984327, 91.16645873105577, 94.23862115016006, 369.4618177415599, 63.9144192013341, 229.40669718502178, 179.53012042979333, 111.23625351067098, 97.25712957490148, 111.39203005535435, 196.52427449211476, 1777.2945738260123, 150.31153361550233, 65.6695016047668, 115.1311863829043, 248.61799960249428, 112.28165638718107, 437.1605400160652, 163.27776146970254, 78.6622897154897, 147.61447969337877, 77.5161157746632, 71.11008634138658, 193.1568123811141, 122.2296745661776, 84.90937728159969, 108.86334283700502, 100.13690440477968, 133.5663090489681, 107.01070448332884, 95.61146774621145, 99.10661683226284, 165.37899454418374, 99.94782161128236, 88.4012132185115, 61.14106679033419, 53.460854379770375, 53.26685361613742, 46.895234618772285, 45.26102353994358, 38.54593750208873, 34.47017457930346, 34.27029320767408, 56.179830083067024, 32.1152999322016, 29.816945834645107, 29.12812155823825, 28.638941452465954, 28.555325630950552, 28.150878168044237, 27.517353844396933, 27.516889325782092, 27.028519656742073, 26.655795356048344, 26.34434056648364, 26.800384187449254, 39.409225581024494, 14.845223024971206, 25.29805686173677, 6.863612158685293, 37.16220573209552, 5.309649141414382, 69.992271328668, 31.9896624719488, 63.75575806459863, 80.52488006042357, 186.58882554753276, 316.0160856279652, 61.026503651526745, 396.9073572166897, 93.17179962619744, 50.68987235836091, 56.16249958538347, 76.97108039756876, 56.80447913615839, 37.2576173614155, 75.63653324218758, 91.92967685010781, 74.11532372895049, 121.78048312676252, 96.2445013130095, 45.87996988578465, 49.438562985409646, 50.85816152249358, 67.81509234764938, 51.43343323516464, 46.93679915142593], \"Total\": [3343.0, 1530.0, 4534.0, 2185.0, 2231.0, 3223.0, 2394.0, 876.0, 605.0, 2072.0, 610.0, 400.0, 935.0, 6153.0, 1056.0, 1119.0, 456.0, 360.0, 545.0, 612.0, 741.0, 370.0, 619.0, 1966.0, 825.0, 382.0, 536.0, 329.0, 846.0, 417.0, 132.95522822648607, 91.58991405277192, 72.61467188137568, 79.51169177105042, 69.33293880765284, 64.31746352070405, 59.678564416301874, 54.522612634481035, 59.94999934179849, 52.82266950545586, 52.22954016794288, 51.91557479682156, 48.855842469981766, 48.62905917141424, 48.21890851816344, 46.48333332455988, 43.339647363592924, 43.26546233294452, 43.086070631682404, 42.57331795924868, 43.09348648944277, 96.33792686364657, 27.106022033909667, 64.91120218854738, 22.29811806174491, 21.305337728316292, 31.78310313041448, 29.409969293530857, 15.645695934365335, 14.932788583009204, 48.894922069905775, 545.8996998664451, 189.93009559483352, 192.50204476066492, 205.37307558692834, 309.3046123074285, 258.77033842371395, 307.37316683850975, 146.05582832428402, 261.42189190579717, 99.35299457409722, 363.2181366201478, 153.37570251745748, 152.96371608692613, 1056.506467384137, 2072.3274302330724, 389.47719267155077, 1119.9452149777915, 2231.6844052238994, 649.1662351390232, 1966.7371632665393, 6153.674252302208, 630.1370872877868, 149.58964235621403, 4534.03766962891, 277.7707286954079, 3223.461999105984, 83.04699957532449, 66.32039412062905, 61.68945293254917, 45.22079826048481, 43.39317981434374, 43.239367333803884, 41.80261686950204, 31.438791748922945, 25.706438028105516, 24.53691435051407, 22.933417958223913, 22.723533425107558, 22.4468165952428, 22.34687572810244, 21.816964720282805, 21.55118057228273, 21.550940976586578, 21.17547163122088, 21.172704620474043, 21.172704620474043, 21.172704620474043, 21.172704620474043, 21.172704620474043, 21.172704620474043, 21.172704620474043, 21.172704620474043, 21.172704620474043, 21.172704620474043, 21.172704620474043, 21.172704620474043, 22.22636065040827, 22.543219740278232, 21.56908164854267, 70.62141811343973, 224.5750649298065, 28.51547044227666, 132.4488205797815, 77.62173281218107, 154.4463695369008, 395.8252267444043, 148.46976735458261, 56.94339420379825, 186.2616995413738, 133.17760649784125, 45.561966137963125, 94.51481278505386, 148.33027934767344, 6153.674252302208, 680.6788703618025, 99.99752057965208, 34.82061146265267, 128.6963054058702, 240.79575713427352, 2072.3274302330724, 113.8958296642602, 409.90162353457697, 350.30835410235846, 277.25760195653186, 935.9213441387698, 474.50097744841463, 417.64332939394495, 1530.2455185375677, 605.4942500584345, 165.33698749649173, 269.74050004273954, 86.81912364826673, 65.01195721455038, 48.237258764396366, 44.90133131583081, 41.788353578381326, 38.749999779492384, 38.07698805372449, 37.29375538583118, 37.223969149736895, 35.96711534444963, 22.843176344789025, 17.31952556142273, 19.284855556151243, 12.940780303754265, 37.62186192672173, 456.4046316897745, 8.641308222670263, 6.929731109221527, 102.76116548147972, 4.777410663698745, 4.7689296271003405, 14.190135232740916, 4.221365782661682, 4.151573629001591, 20.295089304737512, 3.5904785854932846, 90.84066028495384, 89.82986254624089, 238.56928945988577, 164.4185420534611, 145.75038191291912, 4534.03766962891, 3223.461999105984, 148.46976735458261, 580.3259620914366, 152.96371608692613, 935.9213441387698, 846.8194981230264, 1966.7371632665393, 6153.674252302208, 1119.9452149777915, 741.3249229579577, 2185.976766699509, 2394.6840951343615, 396.01501742839093, 536.3550034127414, 305.5262512128036, 825.4164249350756, 163.80602733572073, 265.87825078766423, 81.57423728039613, 82.91656741816702, 57.307419625805785, 48.77456796765027, 44.17152512575992, 40.128409496298374, 39.03403345869744, 36.65088581993971, 34.72277162221191, 34.29522826625311, 33.96266151618572, 33.73096011689729, 33.68803169412409, 38.65693602735048, 17.048741590806923, 84.96845156696278, 137.37170989865172, 14.635415763834992, 12.758905929612794, 13.2951469832424, 329.7492755222632, 39.08134691787773, 9.747338381445497, 41.181175023659975, 52.42716333485328, 8.117828110012438, 45.038497904234475, 6.729800401142584, 6.591008863443411, 14.581245589185281, 204.26675835463644, 161.5472093844685, 153.9003043350499, 138.8390613001411, 140.47047186398595, 630.1370872877868, 649.1662351390232, 1056.506467384137, 2394.6840951343615, 2185.976766699509, 6153.674252302208, 846.8194981230264, 190.79990666214687, 2231.6844052238994, 1966.7371632665393, 4534.03766962891, 2072.3274302330724, 825.4164249350756, 612.2013511174625, 3223.461999105984, 816.2493765207108, 409.90162353457697, 680.6788703618025, 395.8252267444043, 93.04352242975735, 89.30658167651784, 80.95807037685506, 86.0950727488807, 66.81958329368483, 58.547694339584346, 56.86974183467037, 51.669115717318014, 39.549585388798704, 40.4809781895579, 38.17784156019265, 38.01500109463858, 37.532137827134825, 36.16075003529412, 35.45419183413158, 35.13220807916572, 34.30309109019935, 32.385399755923395, 32.28939018450737, 30.977702261852333, 30.593823168681517, 30.261863517756506, 11.670932414203772, 38.567314391007734, 9.596059997959022, 9.143803269845057, 95.06478631300712, 7.127416569628791, 5.71915747118476, 38.94248886676703, 37.11058026304345, 84.30409778370841, 133.41867783376802, 935.9213441387698, 612.2013511174625, 243.02090612672873, 333.39342765523367, 151.6246317918107, 335.14989864557907, 6153.674252302208, 174.21427330818835, 350.30835410235846, 149.58964235621403, 2072.3274302330724, 2185.976766699509, 3223.461999105984, 2394.6840951343615, 816.2493765207108, 95.51291364730085, 149.155616307697, 110.94332253737923, 1966.7371632665393, 238.5752899582906, 4534.03766962891, 175.82770587493403, 83.36867038862324, 62.82891951673139, 59.76897876206741, 56.44530191086933, 46.33624630249732, 45.38171633359223, 42.01386001601726, 38.55028268813091, 35.53412992002899, 29.25178214687189, 28.627785920321834, 28.4014447177348, 27.886165641676076, 29.229346700790806, 25.485167581570558, 24.992364420265616, 24.88275028041518, 24.610395123340275, 24.490580035828916, 26.600004237072493, 23.6911304085082, 23.690990750710785, 23.683130951499837, 23.41403528665547, 23.263172317922578, 23.032114346396295, 22.9274599484063, 22.493681382343883, 22.48543186006281, 22.384292702608672, 83.4347865356024, 39.54448366935392, 53.55685819309867, 143.06307658567897, 116.25444447281198, 111.7266588123329, 115.39658774708997, 52.02362516966935, 32.38573928183893, 25.299449216733052, 88.08701648949281, 49.32940919209029, 1966.7371632665393, 182.80708320614977, 2231.6844052238994, 6153.674252302208, 277.25760195653186, 170.93463040283052, 186.2616995413738, 4534.03766962891, 382.6833245967288, 261.42189190579717, 1119.9452149777915, 2072.3274302330724, 545.8996998664451, 935.9213441387698, 846.8194981230264, 389.47719267155077, 580.3259620914366, 63.14257422208917, 52.31672989018266, 48.42407107791144, 38.141639639538425, 37.674520485876315, 35.32750423668844, 28.079487795436137, 18.31586709598253, 71.50924290276235, 370.3334123856329, 58.35547746677958, 162.94667059476802, 5.449557432224987, 5.086756689272504, 51.3234499020301, 4.454231703051223, 4.382432371890731, 4.1910036093495195, 4.187769006961805, 4.187201879002736, 4.187481187975651, 23.683051952718845, 147.0483147230275, 3.3619369203973384, 8.095325612732776, 7.445709671967153, 3.102374691377848, 3.0985094140895275, 15.693546465295427, 7.81953565409947, 204.86461291786395, 28.907245864739686, 2231.6844052238994, 825.4164249350756, 335.14989864557907, 741.3249229579577, 85.2234927135494, 305.1014746385188, 66.08054411253319, 2394.6840951343615, 1056.506467384137, 29.393329738967434, 112.64545475073808, 77.90222201942889, 338.93068794880287, 846.8194981230264, 333.39342765523367, 680.6788703618025, 6153.674252302208, 630.1370872877868, 417.64332939394495, 1966.7371632665393, 4534.03766962891, 277.7707286954079, 536.3550034127414, 2072.3274302330724, 409.90162353457697, 247.82828233616044, 816.2493765207108, 474.50097744841463, 159.74370304040136, 84.44269100793994, 77.7357810977954, 63.507381819111544, 47.85932421582241, 35.60420403788066, 35.07384537195824, 34.82670733015229, 33.79680792295612, 41.548476947493796, 33.39148486931312, 20.957305960282056, 44.47389292921681, 138.81824336394897, 178.92621193771978, 9.07869248544489, 6.9165276595015674, 42.14524802424573, 6.241402196508673, 6.063456303703994, 4.856589392276661, 4.500163746595634, 4.184598349836713, 4.182633584075392, 4.000716426665179, 3.752303613781956, 3.7506980754602988, 3.651583705707593, 3.582133782915607, 403.69456386700847, 101.99145735655911, 536.3550034127414, 117.23146337920328, 165.16780620752456, 619.8091858600565, 2185.976766699509, 4534.03766962891, 84.26835387720546, 50.75204387211454, 396.01501742839093, 338.93068794880287, 123.67638540382345, 86.49396618777965, 3343.9136587194444, 3223.461999105984, 741.3249229579577, 846.8194981230264, 277.7707286954079, 163.15822873942398, 305.1014746385188, 363.2181366201478, 2394.6840951343615, 876.3114565396492, 680.6788703618025, 6153.674252302208, 168.09055478358337, 294.44475938473886, 105.79433802122408, 95.5475412558917, 92.10323791228974, 83.96729767450753, 71.55997838530494, 50.4605614128046, 45.90827973728389, 44.36653285648428, 42.37384541207715, 37.81576529619921, 16.720381739031815, 45.19818803014522, 14.686384626535299, 18.072119387353226, 11.644825526756266, 12.950764783062795, 10.10445273430103, 9.764237464411801, 9.650139328591884, 27.25173060687726, 7.8027815611802875, 7.086804836691929, 45.629614376643765, 6.565968438933822, 876.3114565396492, 87.70855576046857, 6.740352709087335, 6.185872557835822, 5.993316310545584, 14.46431950737837, 3343.9136587194444, 62.52313264337307, 53.44163789646048, 70.76851085498546, 305.3409174487239, 163.80602733572073, 610.1267979260534, 816.2493765207108, 58.1720464932748, 580.3259620914366, 3223.461999105984, 98.58440790420543, 238.5752899582906, 95.24855212418282, 6153.674252302208, 649.1662351390232, 2072.3274302330724, 2394.6840951343615, 181.96984216474885, 680.6788703618025, 2231.6844052238994, 825.4164249350756, 154.79949975526173, 1966.7371632665393, 148.33027934767344, 292.9753893369733, 1119.9452149777915, 151.6246317918107, 630.1370872877868, 345.08778806924227, 612.2013511174625, 305.5262512128036, 400.7812131363356, 201.70886727264843, 135.24934738679354, 135.2493533065499, 134.13882524614937, 126.0128646616323, 83.90417031446404, 76.92962341427699, 69.99151624828791, 44.45619051739342, 39.07417884657539, 11.902758002624756, 10.369052259775701, 8.851972005398862, 7.456374755647666, 7.1553718966896165, 6.349569943315814, 6.2634399793692115, 5.569210048593271, 5.468382657629322, 205.4688682050746, 5.240146782050489, 360.3917454299603, 4.768356658646866, 4.767802927418135, 4.439888154343667, 150.3103960324945, 3.968950010777487, 3.878530401624915, 3.874720062733166, 73.07938202550505, 382.6833245967288, 120.7384997522017, 417.64332939394495, 610.1267979260534, 168.09055478358337, 26.95332685963524, 2185.976766699509, 2394.6840951343615, 126.13228650240163, 816.2493765207108, 1119.9452149777915, 3223.461999105984, 139.48536776540982, 261.42189190579717, 238.5752899582906, 456.4046316897745, 6153.674252302208, 4534.03766962891, 173.18448665708397, 169.33398074534657, 140.45555808454927, 96.9607023843547, 92.88425323562646, 82.82624841111542, 77.0004348300078, 67.68085704561271, 62.680904520599206, 61.645069785305054, 59.912818867966266, 57.48703145260686, 57.31123846469019, 55.056869004192, 53.84926112151569, 54.04834132924122, 52.75657522369189, 67.97166123012401, 50.37410790163237, 49.93300119112769, 59.92262823567586, 52.36142871205202, 48.81000666068544, 47.63993970975466, 46.2978563430192, 45.84278070921396, 46.43588173010637, 44.691330420044785, 44.60852607145251, 44.1493073113388, 146.6119329855891, 49.51493319126338, 98.5158921848525, 103.69333754152969, 474.50097744841463, 67.81455186906169, 287.2053664349223, 240.79575713427352, 137.3761006800257, 117.19800089646395, 139.7270757458197, 292.9753893369733, 6153.674252302208, 229.09611385450245, 72.8392372894312, 170.93463040283052, 619.8091858600565, 182.80708320614977, 1966.7371632665393, 409.90162353457697, 103.45073801797083, 376.08677496113285, 103.88379406267059, 86.39934029846548, 935.9213441387698, 389.47719267155077, 139.7845602230366, 309.3046123074285, 247.82828233616044, 4534.03766962891, 1056.506467384137, 403.69456386700847, 2231.6844052238994, 166.39472388033676, 100.81420766087443, 89.27926414296326, 62.015116039604635, 54.324496580476, 54.13063959663164, 47.75895971904607, 46.12889435419526, 39.409638171815075, 35.33382085983431, 35.13396102429239, 57.66649421639029, 32.97896131687569, 30.68059531799738, 29.991768568668338, 29.502590652307667, 29.418980402459642, 29.01452560178572, 28.38100453089447, 28.380565044808126, 27.892171003484883, 27.5195342916313, 27.209281732261374, 27.705443564772963, 40.83057967202661, 15.710429509296588, 27.740940614961907, 7.727883999072372, 41.92803817284183, 6.17339613656268, 82.26188497059809, 39.06737519319157, 84.17298805953023, 117.6852439125602, 345.08778806924227, 1119.9452149777915, 101.72787368767015, 2072.3274302330724, 216.84070040497096, 79.77238960275187, 98.47717288573831, 174.21427330818835, 103.03134220360644, 48.06495118183458, 215.9608587680504, 612.2013511174625, 350.30835410235846, 6153.674252302208, 4534.03766962891, 133.70125594232144, 206.75199748343567, 277.25760195653186, 3223.461999105984, 649.1662351390232, 2394.6840951343615], \"Category\": [\"Default\", \"Default\", \"Default\", \"Default\", \"Default\", \"Default\", \"Default\", \"Default\", \"Default\", \"Default\", \"Default\", \"Default\", \"Default\", \"Default\", \"Default\", \"Default\", \"Default\", \"Default\", \"Default\", \"Default\", \"Default\", \"Default\", \"Default\", \"Default\", \"Default\", \"Default\", \"Default\", \"Default\", \"Default\", \"Default\", \"Topic1\", \"Topic1\", \"Topic1\", \"Topic1\", \"Topic1\", \"Topic1\", \"Topic1\", \"Topic1\", \"Topic1\", \"Topic1\", \"Topic1\", \"Topic1\", \"Topic1\", \"Topic1\", \"Topic1\", \"Topic1\", \"Topic1\", \"Topic1\", \"Topic1\", \"Topic1\", \"Topic1\", \"Topic1\", \"Topic1\", \"Topic1\", \"Topic1\", \"Topic1\", \"Topic1\", \"Topic1\", \"Topic1\", \"Topic1\", \"Topic1\", \"Topic1\", \"Topic1\", \"Topic1\", \"Topic1\", \"Topic1\", \"Topic1\", \"Topic1\", \"Topic1\", \"Topic1\", \"Topic1\", \"Topic1\", \"Topic1\", \"Topic1\", \"Topic1\", \"Topic1\", \"Topic1\", \"Topic1\", \"Topic1\", \"Topic1\", \"Topic1\", \"Topic1\", \"Topic1\", \"Topic1\", \"Topic1\", \"Topic1\", \"Topic1\", \"Topic2\", \"Topic2\", \"Topic2\", \"Topic2\", \"Topic2\", \"Topic2\", \"Topic2\", \"Topic2\", \"Topic2\", \"Topic2\", \"Topic2\", \"Topic2\", \"Topic2\", \"Topic2\", \"Topic2\", \"Topic2\", \"Topic2\", \"Topic2\", \"Topic2\", \"Topic2\", \"Topic2\", \"Topic2\", \"Topic2\", \"Topic2\", \"Topic2\", \"Topic2\", \"Topic2\", \"Topic2\", \"Topic2\", \"Topic2\", \"Topic2\", \"Topic2\", \"Topic2\", \"Topic2\", \"Topic2\", \"Topic2\", \"Topic2\", \"Topic2\", \"Topic2\", \"Topic2\", \"Topic2\", \"Topic2\", \"Topic2\", \"Topic2\", \"Topic2\", \"Topic2\", \"Topic2\", \"Topic2\", \"Topic2\", \"Topic2\", \"Topic2\", \"Topic2\", \"Topic2\", \"Topic2\", \"Topic2\", \"Topic2\", \"Topic2\", \"Topic2\", \"Topic2\", \"Topic2\", \"Topic2\", \"Topic3\", \"Topic3\", \"Topic3\", \"Topic3\", \"Topic3\", \"Topic3\", \"Topic3\", \"Topic3\", \"Topic3\", \"Topic3\", \"Topic3\", \"Topic3\", \"Topic3\", \"Topic3\", \"Topic3\", \"Topic3\", \"Topic3\", \"Topic3\", \"Topic3\", \"Topic3\", \"Topic3\", \"Topic3\", \"Topic3\", \"Topic3\", \"Topic3\", \"Topic3\", \"Topic3\", \"Topic3\", \"Topic3\", \"Topic3\", \"Topic3\", \"Topic3\", \"Topic3\", \"Topic3\", \"Topic3\", \"Topic3\", \"Topic3\", \"Topic3\", \"Topic3\", \"Topic3\", \"Topic3\", \"Topic3\", \"Topic3\", \"Topic3\", \"Topic3\", \"Topic3\", \"Topic3\", \"Topic3\", \"Topic3\", \"Topic3\", \"Topic3\", \"Topic3\", \"Topic3\", \"Topic4\", \"Topic4\", \"Topic4\", \"Topic4\", \"Topic4\", \"Topic4\", \"Topic4\", \"Topic4\", \"Topic4\", \"Topic4\", \"Topic4\", \"Topic4\", \"Topic4\", \"Topic4\", \"Topic4\", \"Topic4\", \"Topic4\", \"Topic4\", \"Topic4\", \"Topic4\", \"Topic4\", \"Topic4\", \"Topic4\", \"Topic4\", \"Topic4\", \"Topic4\", \"Topic4\", \"Topic4\", \"Topic4\", \"Topic4\", \"Topic4\", \"Topic4\", \"Topic4\", \"Topic4\", \"Topic4\", \"Topic4\", \"Topic4\", \"Topic4\", \"Topic4\", \"Topic4\", \"Topic4\", \"Topic4\", \"Topic4\", \"Topic4\", \"Topic4\", \"Topic4\", \"Topic4\", \"Topic4\", \"Topic4\", \"Topic4\", \"Topic4\", \"Topic4\", \"Topic4\", \"Topic4\", \"Topic4\", \"Topic5\", \"Topic5\", \"Topic5\", \"Topic5\", \"Topic5\", \"Topic5\", \"Topic5\", \"Topic5\", \"Topic5\", \"Topic5\", \"Topic5\", \"Topic5\", \"Topic5\", \"Topic5\", \"Topic5\", \"Topic5\", \"Topic5\", \"Topic5\", \"Topic5\", \"Topic5\", \"Topic5\", \"Topic5\", \"Topic5\", \"Topic5\", \"Topic5\", \"Topic5\", \"Topic5\", \"Topic5\", \"Topic5\", \"Topic5\", \"Topic5\", \"Topic5\", \"Topic5\", \"Topic5\", \"Topic5\", \"Topic5\", \"Topic5\", \"Topic5\", \"Topic5\", \"Topic5\", \"Topic5\", \"Topic5\", \"Topic5\", \"Topic5\", \"Topic5\", \"Topic5\", \"Topic5\", \"Topic5\", \"Topic5\", \"Topic5\", \"Topic5\", \"Topic5\", \"Topic5\", \"Topic5\", \"Topic5\", \"Topic6\", \"Topic6\", \"Topic6\", \"Topic6\", \"Topic6\", \"Topic6\", \"Topic6\", \"Topic6\", \"Topic6\", \"Topic6\", \"Topic6\", \"Topic6\", \"Topic6\", \"Topic6\", \"Topic6\", \"Topic6\", \"Topic6\", \"Topic6\", \"Topic6\", \"Topic6\", \"Topic6\", \"Topic6\", \"Topic6\", \"Topic6\", \"Topic6\", \"Topic6\", \"Topic6\", \"Topic6\", \"Topic6\", \"Topic6\", \"Topic6\", \"Topic6\", \"Topic6\", \"Topic6\", \"Topic6\", \"Topic6\", \"Topic6\", \"Topic6\", \"Topic6\", \"Topic6\", \"Topic6\", \"Topic6\", \"Topic6\", \"Topic6\", \"Topic6\", \"Topic6\", \"Topic6\", \"Topic6\", \"Topic6\", \"Topic6\", \"Topic6\", \"Topic6\", \"Topic6\", \"Topic6\", \"Topic6\", \"Topic6\", \"Topic6\", \"Topic6\", \"Topic6\", \"Topic7\", \"Topic7\", \"Topic7\", \"Topic7\", \"Topic7\", \"Topic7\", \"Topic7\", \"Topic7\", \"Topic7\", \"Topic7\", \"Topic7\", \"Topic7\", \"Topic7\", \"Topic7\", \"Topic7\", \"Topic7\", \"Topic7\", \"Topic7\", \"Topic7\", \"Topic7\", \"Topic7\", \"Topic7\", \"Topic7\", \"Topic7\", \"Topic7\", \"Topic7\", \"Topic7\", \"Topic7\", \"Topic7\", \"Topic7\", \"Topic7\", \"Topic7\", \"Topic7\", \"Topic7\", \"Topic7\", \"Topic7\", \"Topic7\", \"Topic7\", \"Topic7\", \"Topic7\", \"Topic7\", \"Topic7\", \"Topic7\", \"Topic7\", \"Topic7\", \"Topic7\", \"Topic7\", \"Topic7\", \"Topic7\", \"Topic7\", \"Topic7\", \"Topic7\", \"Topic7\", \"Topic7\", \"Topic7\", \"Topic7\", \"Topic7\", \"Topic7\", \"Topic7\", \"Topic7\", \"Topic8\", \"Topic8\", \"Topic8\", \"Topic8\", \"Topic8\", \"Topic8\", \"Topic8\", \"Topic8\", \"Topic8\", \"Topic8\", \"Topic8\", \"Topic8\", \"Topic8\", \"Topic8\", \"Topic8\", \"Topic8\", \"Topic8\", \"Topic8\", \"Topic8\", \"Topic8\", \"Topic8\", \"Topic8\", \"Topic8\", \"Topic8\", \"Topic8\", \"Topic8\", \"Topic8\", \"Topic8\", \"Topic8\", \"Topic8\", \"Topic8\", \"Topic8\", \"Topic8\", \"Topic8\", \"Topic8\", \"Topic8\", \"Topic8\", \"Topic8\", \"Topic8\", \"Topic8\", \"Topic8\", \"Topic8\", \"Topic8\", \"Topic8\", \"Topic8\", \"Topic8\", \"Topic8\", \"Topic8\", \"Topic8\", \"Topic8\", \"Topic8\", \"Topic8\", \"Topic8\", \"Topic8\", \"Topic8\", \"Topic8\", \"Topic9\", \"Topic9\", \"Topic9\", \"Topic9\", \"Topic9\", \"Topic9\", \"Topic9\", \"Topic9\", \"Topic9\", \"Topic9\", \"Topic9\", \"Topic9\", \"Topic9\", \"Topic9\", \"Topic9\", \"Topic9\", \"Topic9\", \"Topic9\", \"Topic9\", \"Topic9\", \"Topic9\", \"Topic9\", \"Topic9\", \"Topic9\", \"Topic9\", \"Topic9\", \"Topic9\", \"Topic9\", \"Topic9\", \"Topic9\", \"Topic9\", \"Topic9\", \"Topic9\", \"Topic9\", \"Topic9\", \"Topic9\", \"Topic9\", \"Topic9\", \"Topic9\", \"Topic9\", \"Topic9\", \"Topic9\", \"Topic9\", \"Topic9\", \"Topic9\", \"Topic9\", \"Topic9\", \"Topic9\", \"Topic9\", \"Topic9\", \"Topic9\", \"Topic9\", \"Topic9\", \"Topic9\", \"Topic9\", \"Topic9\", \"Topic9\", \"Topic9\", \"Topic9\", \"Topic9\", \"Topic9\", \"Topic9\", \"Topic9\", \"Topic10\", \"Topic10\", \"Topic10\", \"Topic10\", \"Topic10\", \"Topic10\", \"Topic10\", \"Topic10\", \"Topic10\", \"Topic10\", \"Topic10\", \"Topic10\", \"Topic10\", \"Topic10\", \"Topic10\", \"Topic10\", \"Topic10\", \"Topic10\", \"Topic10\", \"Topic10\", \"Topic10\", \"Topic10\", \"Topic10\", \"Topic10\", \"Topic10\", \"Topic10\", \"Topic10\", \"Topic10\", \"Topic10\", \"Topic10\", \"Topic10\", \"Topic10\", \"Topic10\", \"Topic10\", \"Topic10\", \"Topic10\", \"Topic10\", \"Topic10\", \"Topic10\", \"Topic10\", \"Topic10\", \"Topic10\", \"Topic10\", \"Topic10\", \"Topic10\", \"Topic10\", \"Topic10\", \"Topic10\", \"Topic10\", \"Topic11\", \"Topic11\", \"Topic11\", \"Topic11\", \"Topic11\", \"Topic11\", \"Topic11\", \"Topic11\", \"Topic11\", \"Topic11\", \"Topic11\", \"Topic11\", \"Topic11\", \"Topic11\", \"Topic11\", \"Topic11\", \"Topic11\", \"Topic11\", \"Topic11\", \"Topic11\", \"Topic11\", \"Topic11\", \"Topic11\", \"Topic11\", \"Topic11\", \"Topic11\", \"Topic11\", \"Topic11\", \"Topic11\", \"Topic11\", \"Topic11\", \"Topic11\", \"Topic11\", \"Topic11\", \"Topic11\", \"Topic11\", \"Topic11\", \"Topic11\", \"Topic11\", \"Topic11\", \"Topic11\", \"Topic11\", \"Topic11\", \"Topic11\", \"Topic11\", \"Topic11\", \"Topic11\", \"Topic11\", \"Topic11\", \"Topic11\", \"Topic11\", \"Topic11\", \"Topic11\", \"Topic11\", \"Topic11\", \"Topic11\", \"Topic11\", \"Topic11\", \"Topic11\", \"Topic11\", \"Topic11\", \"Topic11\", \"Topic11\", \"Topic12\", \"Topic12\", \"Topic12\", \"Topic12\", \"Topic12\", \"Topic12\", \"Topic12\", \"Topic12\", \"Topic12\", \"Topic12\", \"Topic12\", \"Topic12\", \"Topic12\", \"Topic12\", \"Topic12\", \"Topic12\", \"Topic12\", \"Topic12\", \"Topic12\", \"Topic12\", \"Topic12\", \"Topic12\", \"Topic12\", \"Topic12\", \"Topic12\", \"Topic12\", \"Topic12\", \"Topic12\", \"Topic12\", \"Topic12\", \"Topic12\", \"Topic12\", \"Topic12\", \"Topic12\", \"Topic12\", \"Topic12\", \"Topic12\", \"Topic12\", \"Topic12\", \"Topic12\", \"Topic12\", \"Topic12\", \"Topic12\", \"Topic12\", \"Topic12\", \"Topic12\", \"Topic12\", \"Topic12\", \"Topic12\", \"Topic12\", \"Topic12\", \"Topic12\", \"Topic12\", \"Topic12\", \"Topic12\"], \"logprob\": [30.0, 29.0, 28.0, 27.0, 26.0, 25.0, 24.0, 23.0, 22.0, 21.0, 20.0, 19.0, 18.0, 17.0, 16.0, 15.0, 14.0, 13.0, 12.0, 11.0, 10.0, 9.0, 8.0, 7.0, 6.0, 5.0, 4.0, 3.0, 2.0, 1.0, -4.2713, -4.6467, -4.8812, -4.7905, -4.928, -5.004, -5.0799, -5.1716, -5.0769, -5.2038, -5.2153, -5.2214, -5.2831, -5.2879, -5.2965, -5.3338, -5.4051, -5.4069, -5.4111, -5.4233, -5.4114, -4.6118, -5.8863, -5.0187, -6.0883, -6.1358, -5.7464, -5.8266, -6.4591, -6.5091, -5.3361, -3.0789, -4.1171, -4.1249, -4.0694, -3.8581, -4.0375, -3.9064, -4.5196, -4.1028, -4.833, -4.0084, -4.5759, -4.5859, -3.4574, -3.0682, -4.0787, -3.4737, -3.2312, -4.0942, -3.756, -3.3472, -4.3233, -4.7922, -4.0166, -4.6925, -4.7885, -3.9594, -4.1877, -4.2609, -4.5769, -4.6183, -4.6221, -4.6564, -4.9484, -5.1562, -5.2044, -5.2746, -5.2842, -5.2969, -5.3016, -5.3265, -5.3393, -5.3393, -5.3577, -5.3578, -5.3578, -5.3578, -5.3578, -5.3578, -5.3578, -5.3578, -5.3578, -5.3578, -5.3578, -5.3578, -5.3578, -5.3096, -5.2966, -5.3402, -4.2546, -3.2041, -5.1064, -3.8352, -4.3983, -3.9432, -3.4113, -4.1922, -4.7725, -4.0769, -4.3207, -4.9224, -4.5444, -4.3866, -2.5811, -3.6549, -4.5808, -5.1032, -4.5306, -4.3315, -3.576, -4.7036, -4.4332, -4.4768, -4.5802, -4.3913, -4.6095, -4.6225, -1.7763, -2.7042, -4.0062, -3.518, -4.655, -4.9474, -5.2505, -5.3234, -5.3967, -5.4738, -5.4917, -5.513, -5.5149, -5.55, -6.0183, -6.3071, -6.2151, -6.616, -5.5568, -3.074, -7.0554, -7.3032, -4.6557, -7.7407, -7.7448, -6.6647, -7.8925, -7.913, -6.3516, -8.099, -5.021, -5.1758, -4.3066, -4.6648, -4.7897, -2.0915, -2.4489, -4.9829, -4.1052, -5.1086, -4.0079, -4.172, -3.879, -3.406, -4.2383, -4.4565, -4.0742, -4.0761, -4.7128, -4.6327, -5.0192, -4.9698, -5.1619, -3.3492, -4.5386, -4.5235, -4.8956, -5.0594, -5.1604, -5.2584, -5.2866, -5.352, -5.4064, -5.4191, -5.4291, -5.4361, -5.4374, -5.3012, -6.1453, -4.5393, -4.0614, -6.3058, -6.4517, -6.4106, -3.2015, -5.335, -6.7432, -5.3024, -5.0684, -6.949, -5.2504, -7.1574, -7.1813, -6.4078, -3.8675, -4.2448, -4.3258, -4.4274, -4.4856, -3.4745, -3.5622, -3.4107, -2.9495, -3.1132, -2.5893, -3.7289, -4.553, -3.3979, -3.5413, -3.2043, -3.5728, -4.0575, -4.2118, -3.5741, -4.1925, -4.5741, -4.4676, -4.5951, -4.2854, -4.3264, -4.4256, -4.3646, -4.6198, -4.7538, -4.7833, -4.8807, -5.1532, -5.1306, -5.1893, -5.1937, -5.2067, -5.245, -5.2651, -5.2744, -5.299, -5.3579, -5.361, -5.4036, -5.4164, -5.4411, -6.428, -5.2398, -6.641, -6.6941, -4.3798, -6.9729, -7.2273, -5.3285, -5.3888, -4.7199, -4.3114, -2.7036, -3.0922, -3.8969, -3.8367, -4.3955, -3.8927, -2.3432, -4.4503, -4.0912, -4.5962, -3.3861, -3.4061, -3.2407, -3.4608, -3.9319, -4.8333, -4.6985, -4.8223, -3.9842, -4.666, -4.4236, -4.7979, -4.1954, -4.4817, -4.5324, -4.5905, -4.7912, -4.8125, -4.8912, -4.9794, -5.0626, -5.2626, -5.2848, -5.293, -5.3119, -5.2649, -5.405, -5.4252, -5.4301, -5.4412, -5.4463, -5.3637, -5.4807, -5.4807, -5.481, -5.4929, -5.4996, -5.51, -5.5147, -5.5346, -5.535, -5.5397, -4.2376, -5.0031, -4.7494, -3.9259, -4.2146, -4.2571, -4.2487, -4.89, -5.2676, -5.439, -4.6863, -5.0508, -3.0395, -4.3634, -3.1492, -2.9843, -4.3743, -4.6004, -4.6514, -3.6586, -4.4699, -4.5969, -4.204, -4.2479, -4.5326, -4.4876, -4.517, -4.7077, -4.6807, -4.8753, -5.0662, -5.1451, -5.3883, -5.4009, -5.4668, -5.7029, -6.1467, -4.795, -3.1582, -5.053, -4.072, -7.4803, -7.5621, -5.2754, -7.7235, -7.7436, -7.7992, -7.8002, -7.8004, -7.8006, -6.0718, -4.2734, -8.0839, -7.2054, -7.315, -8.1927, -8.1944, -6.5825, -7.3034, -4.047, -6.0742, -2.1163, -3.0457, -3.8824, -3.2048, -5.2066, -4.1273, -5.4358, -2.418, -3.1467, -6.1853, -5.1559, -5.4414, -4.3251, -3.6716, -4.3696, -3.9062, -2.3972, -3.9628, -4.2475, -3.2984, -3.1697, -4.6911, -4.5294, -4.106, -4.6874, -4.9144, -4.8397, -4.9349, -4.1679, -4.81, -4.8938, -5.0983, -5.3856, -5.6877, -5.7031, -5.7103, -5.7411, -5.5346, -5.7535, -6.2349, -5.4838, -4.3656, -4.1437, -7.1282, -7.4332, -5.6315, -7.551, -7.5846, -7.8528, -7.941, -8.0313, -8.0319, -8.088, -8.1701, -8.1707, -8.2054, -8.2305, -3.5129, -4.9543, -3.351, -4.8472, -4.6038, -3.3704, -2.2623, -1.6005, -5.2739, -5.7877, -4.0555, -4.1925, -5.0582, -5.3532, -2.4035, -2.6307, -3.7729, -3.7418, -4.4893, -4.9792, -4.6904, -4.7477, -4.0472, -4.5177, -4.7917, -4.5306, -5.1859, -3.7485, -4.7772, -4.88, -4.917, -5.0104, -5.172, -5.5264, -5.6226, -5.6574, -5.7043, -5.8206, -6.6665, -5.6747, -6.803, -6.6002, -7.0511, -6.9476, -7.205, -7.2424, -7.2558, -6.2399, -7.4908, -7.5994, -5.7433, -7.6864, -2.7927, -5.0987, -7.6663, -7.7552, -7.7929, -6.9314, -1.6731, -5.5116, -5.6869, -5.435, -4.0778, -4.7188, -3.6213, -3.505, -5.7329, -3.9052, -2.5799, -5.4143, -4.7932, -5.4536, -2.6362, -4.1598, -3.4389, -3.4156, -5.0623, -4.4597, -3.9217, -4.3841, -5.1613, -4.168, -5.1951, -4.974, -4.5882, -5.216, -4.8354, -5.0102, -5.0314, -5.0992, -2.4982, -3.1857, -3.5872, -3.5872, -3.5955, -3.6584, -4.0684, -4.1561, -4.252, -4.7124, -4.844, -6.0831, -6.2454, -6.4052, -6.6007, -6.6472, -6.78, -6.7945, -6.931, -6.9525, -3.3263, -7.0028, -2.7836, -7.1158, -7.116, -7.2028, -3.6934, -7.3423, -7.3715, -7.3727, -4.4452, -3.0822, -4.2505, -3.1528, -2.8698, -4.3546, -5.8093, -2.728, -2.8803, -4.9209, -4.0872, -3.9511, -3.6, -5.2461, -5.002, -5.0512, -4.8529, -4.3337, -4.5169, -4.4844, -4.507, -4.6951, -5.0684, -5.1116, -5.2273, -5.3019, -5.4316, -5.5093, -5.5262, -5.5552, -5.597, -5.6001, -5.6408, -5.6634, -5.6599, -5.6842, -5.4309, -5.7312, -5.7401, -5.5578, -5.6927, -5.7632, -5.7879, -5.817, -5.8271, -5.8147, -5.853, -5.8549, -5.8654, -4.7137, -5.7569, -5.1213, -5.0882, -3.7219, -5.4764, -4.1985, -4.4436, -4.9223, -5.0566, -4.9209, -4.3532, -2.1511, -4.6213, -5.4494, -4.8879, -4.1181, -4.913, -3.5537, -4.5385, -5.2688, -4.6394, -5.2835, -5.3698, -4.3705, -4.8281, -5.1924, -4.9439, -5.0274, -4.7394, -4.9611, -5.0737, -5.0378, -3.4684, -3.972, -4.0947, -4.4634, -4.5977, -4.6013, -4.7287, -4.7642, -4.9248, -5.0365, -5.0423, -4.5481, -5.1073, -5.1815, -5.2049, -5.2218, -5.2248, -5.239, -5.2618, -5.2618, -5.2797, -5.2936, -5.3054, -5.2882, -4.9026, -5.8789, -5.3459, -6.6504, -4.9613, -6.9071, -4.3282, -5.1112, -4.4216, -4.188, -3.3477, -2.8208, -4.4653, -2.5929, -4.0422, -4.6509, -4.5484, -4.2332, -4.537, -4.9588, -4.2507, -4.0556, -4.271, -3.7744, -4.0097, -4.7506, -4.6759, -4.6476, -4.3598, -4.6363, -4.7278], \"loglift\": [30.0, 29.0, 28.0, 27.0, 26.0, 25.0, 24.0, 23.0, 22.0, 21.0, 20.0, 19.0, 18.0, 17.0, 16.0, 15.0, 14.0, 13.0, 12.0, 11.0, 10.0, 9.0, 8.0, 7.0, 6.0, 5.0, 4.0, 3.0, 2.0, 1.0, 2.34, 2.3373, 2.3349, 2.3349, 2.3344, 2.3334, 2.3324, 2.3311, 2.3309, 2.3306, 2.3304, 2.3303, 2.3293, 2.3292, 2.3291, 2.3284, 2.3271, 2.327, 2.327, 2.3268, 2.3265, 2.3217, 2.3153, 2.3096, 2.3085, 2.3066, 2.2959, 2.2934, 2.292, 2.2887, 2.2755, 2.12, 2.1376, 2.1163, 2.1071, 1.9089, 1.9079, 1.8669, 1.9978, 1.8323, 2.0696, 1.5979, 1.8926, 1.8852, 1.0812, 0.7966, 1.4578, 1.0066, 0.5596, 0.9314, 0.1612, -0.5706, 0.7321, 1.7012, -0.9346, 1.182, -1.3654, 3.1225, 3.1191, 3.1183, 3.1129, 3.1127, 3.1124, 3.1119, 3.1048, 3.0984, 3.0967, 3.0941, 3.0938, 3.0933, 3.0931, 3.0921, 3.0916, 3.0916, 3.0908, 3.0908, 3.0908, 3.0908, 3.0908, 3.0908, 3.0908, 3.0908, 3.0908, 3.0908, 3.0908, 3.0908, 3.0908, 3.0904, 3.0893, 3.0898, 2.9894, 2.883, 3.0445, 2.7799, 2.7512, 2.5182, 2.109, 2.3088, 2.6868, 2.1973, 2.2889, 2.7598, 2.4082, 2.1153, 0.1954, 1.3233, 2.3154, 2.8479, 2.1133, 1.6859, 0.2889, 2.0625, 1.0522, 1.1657, 1.2961, 0.2685, 0.7295, 0.8442, 2.3919, 2.3911, 2.3872, 2.3859, 2.3825, 2.3793, 2.3747, 2.3735, 2.372, 2.3704, 2.37, 2.3695, 2.3695, 2.3687, 2.3544, 2.3424, 2.3269, 2.3249, 2.3169, 2.304, 2.2894, 2.2623, 2.2132, 2.1967, 2.1944, 2.184, 2.1686, 2.1648, 2.1393, 2.124, 1.9712, 1.8277, 1.72, 1.7341, 1.7297, 0.9905, 0.9742, 1.5181, 1.0325, 1.3625, 0.6519, 0.5878, 0.0382, -0.6295, 0.2419, 0.4364, -0.2627, -0.3558, 0.8071, 0.5839, 0.7601, -0.1844, 1.2408, 2.5691, 2.5612, 2.56, 2.5573, 2.5547, 2.5529, 2.5509, 2.5503, 2.5479, 2.5475, 2.5472, 2.547, 2.5468, 2.5467, 2.5454, 2.5199, 2.5197, 2.5173, 2.5121, 2.5034, 2.5034, 2.5015, 2.5007, 2.4811, 2.4809, 2.4735, 2.4583, 2.4434, 2.4374, 2.4343, 2.4138, 2.3144, 2.1717, 2.1393, 2.1406, 2.0707, 1.5808, 1.4635, 1.1279, 0.7708, 0.6983, 0.1872, 1.0309, 1.6971, 0.3929, 0.3759, -0.1223, 0.2921, 0.7279, 0.8724, -0.151, 0.6041, 0.9113, 0.5107, 0.9253, 2.6828, 2.6828, 2.6818, 2.6813, 2.6796, 2.6777, 2.6773, 2.6757, 2.6706, 2.6699, 2.6698, 2.6697, 2.6694, 2.6683, 2.668, 2.6678, 2.6671, 2.6657, 2.6656, 2.6644, 2.6641, 2.6503, 2.6162, 2.6091, 2.599, 2.5941, 2.567, 2.5644, 2.5302, 2.5107, 2.4986, 2.347, 2.2964, 1.9562, 1.9921, 2.1113, 1.8553, 2.0844, 1.794, 0.4333, 1.8908, 1.5513, 1.8972, 0.4788, 0.4054, 0.1824, 0.2595, 0.8647, 2.1088, 1.7978, 1.97, -0.067, 1.3607, -1.3416, 1.534, 2.8827, 2.8792, 2.8785, 2.8776, 2.8741, 2.8737, 2.8721, 2.8699, 2.8682, 2.8628, 2.8621, 2.8619, 2.8613, 2.8612, 2.8582, 2.8575, 2.8571, 2.857, 2.8568, 2.8567, 2.8555, 2.8555, 2.8555, 2.8551, 2.8548, 2.8544, 2.8542, 2.8535, 2.8535, 2.8533, 2.8397, 2.8208, 2.7712, 2.6121, 2.531, 2.5282, 2.5043, 2.6596, 2.756, 2.8315, 2.3367, 2.552, 0.8777, 1.9294, 0.6416, -0.2078, 1.502, 1.7597, 1.6228, -0.5766, 1.0842, 1.3383, 0.2763, -0.383, 0.6663, 0.1722, 0.2428, 0.8288, 0.457, 2.4806, 2.4778, 2.4762, 2.4717, 2.4714, 2.4699, 2.4634, 2.4469, 2.4364, 2.4287, 2.3818, 2.3359, 2.3255, 2.3126, 2.2877, 2.2839, 2.2801, 2.2691, 2.2689, 2.2689, 2.2686, 2.2648, 2.2372, 2.2049, 2.2046, 2.1787, 2.1765, 2.176, 2.1655, 2.1413, 2.132, 2.0631, 1.6745, 1.7397, 1.8043, 1.6881, 1.8494, 1.6534, 1.8747, 1.3023, 1.3919, 1.9352, 1.6211, 1.7045, 1.3504, 1.0883, 1.3224, 1.072, 0.3793, 1.0926, 1.2192, 0.6188, -0.0877, 1.1834, 0.6871, -0.2412, 0.798, 1.0741, -0.0431, 0.4041, 2.2599, 2.2552, 2.2542, 2.2519, 2.2474, 2.2412, 2.2408, 2.2406, 2.2399, 2.2398, 2.2396, 2.2239, 2.2227, 2.2025, 2.1707, 2.1671, 2.1342, 2.1287, 2.1191, 2.1144, 2.0682, 2.0562, 2.0386, 2.0385, 2.0268, 2.0088, 2.0087, 2.0007, 1.9948, 1.9877, 1.9221, 1.8655, 1.89, 1.7905, 1.7015, 1.5492, 1.4814, 1.7934, 1.7867, 1.4643, 1.483, 1.6255, 1.688, 0.9829, 0.7924, 1.12, 1.018, 1.3852, 1.4274, 1.0903, 0.8587, -0.3269, 0.2078, 0.1865, -1.754, 1.1909, 2.0677, 2.0626, 2.0617, 2.0614, 2.0605, 2.0587, 2.0537, 2.052, 2.0514, 2.0505, 2.048, 2.0182, 2.0155, 2.0114, 2.0067, 1.9953, 1.9926, 1.9834, 1.9802, 1.9785, 1.9563, 1.956, 1.9437, 1.9375, 1.933, 1.9329, 1.9286, 1.9269, 1.9239, 1.9177, 1.8982, 1.7134, 1.8542, 1.8358, 1.8069, 1.7021, 1.6838, 1.4663, 1.2916, 1.705, 1.2325, 0.8432, 1.4961, 1.2334, 1.4912, 0.1403, 0.8658, 0.426, 0.3047, 1.2352, 0.5185, -0.1309, 0.4014, 1.2979, -0.2508, 1.3068, 0.8472, -0.1079, 1.2639, 0.22, 0.6473, 0.0529, 0.6801, 3.0097, 3.0088, 3.007, 3.007, 3.007, 3.0066, 3.0033, 3.0023, 3.001, 2.9944, 2.9918, 2.9414, 2.9171, 2.9155, 2.8916, 2.8863, 2.8729, 2.8721, 2.8531, 2.8499, 2.8497, 2.8421, 2.8306, 2.8235, 2.8235, 2.8079, 2.7952, 2.7805, 2.7744, 2.7741, 2.7646, 2.472, 2.4572, 2.3139, 2.2178, 2.0222, 2.3979, 1.0835, 0.84, 1.7431, 0.7094, 0.5292, -0.1769, 1.3172, 0.9332, 0.9754, 0.525, -1.5572, -1.435, 1.8625, 1.8624, 1.8614, 1.8586, 1.8583, 1.8572, 1.8556, 1.855, 1.854, 1.8537, 1.8532, 1.8528, 1.8527, 1.8521, 1.8518, 1.8515, 1.8514, 1.8513, 1.8507, 1.8505, 1.8504, 1.8504, 1.8501, 1.8497, 1.8492, 1.849, 1.8486, 1.8485, 1.8485, 1.8483, 1.7998, 1.8421, 1.7898, 1.7717, 1.6171, 1.8081, 1.6426, 1.5737, 1.6563, 1.6808, 1.6407, 1.468, 0.6254, 1.4459, 1.7637, 1.4721, 0.9538, 1.3799, 0.3635, 0.9469, 1.5934, 0.9321, 1.5745, 1.6726, 0.2893, 0.7084, 1.3688, 0.8231, 0.9611, -1.6574, -0.4225, 0.427, -1.247, 2.9186, 2.9161, 2.9148, 2.9105, 2.9087, 2.9086, 2.9065, 2.9057, 2.9025, 2.9, 2.8998, 2.8986, 2.8982, 2.8962, 2.8955, 2.895, 2.8949, 2.8945, 2.8938, 2.8938, 2.8933, 2.8928, 2.8924, 2.8915, 2.8893, 2.8681, 2.8325, 2.8061, 2.804, 2.774, 2.7632, 2.7248, 2.6469, 2.5453, 2.3098, 1.6595, 2.4137, 1.272, 2.08, 2.4713, 2.3631, 2.1079, 2.3293, 2.67, 1.8755, 1.0287, 1.3715, -0.9979, -0.9278, 1.8551, 1.4939, 1.2288, -0.9367, 0.3893, -1.0075]}, \"token.table\": {\"Topic\": [11, 12, 9, 1, 4, 5, 6, 9, 10, 11, 6, 6, 1, 9, 1, 9, 6, 6, 11, 1, 2, 1, 2, 6, 8, 5, 11, 4, 6, 8, 11, 8, 11, 1, 5, 6, 9, 11, 12, 1, 1, 9, 10, 3, 7, 8, 11, 12, 12, 1, 3, 1, 5, 11, 1, 1, 1, 5, 7, 9, 11, 11, 7, 8, 10, 2, 6, 7, 3, 5, 8, 1, 4, 5, 6, 9, 11, 12, 1, 6, 11, 12, 11, 5, 4, 9, 10, 2, 5, 9, 8, 2, 11, 2, 6, 8, 11, 7, 11, 11, 10, 10, 2, 4, 11, 2, 11, 12, 12, 11, 11, 5, 6, 11, 12, 1, 2, 3, 4, 5, 7, 9, 10, 11, 12, 1, 2, 4, 5, 9, 11, 12, 1, 9, 11, 7, 5, 6, 6, 2, 9, 11, 10, 5, 1, 4, 11, 5, 6, 11, 1, 3, 8, 9, 12, 1, 2, 3, 4, 5, 6, 7, 9, 10, 11, 12, 5, 3, 10, 3, 10, 3, 10, 1, 1, 3, 7, 6, 5, 1, 6, 9, 12, 4, 10, 11, 6, 11, 11, 4, 7, 11, 7, 2, 3, 11, 12, 5, 12, 2, 2, 8, 11, 12, 8, 11, 12, 6, 1, 4, 5, 6, 11, 12, 4, 1, 4, 11, 12, 4, 9, 11, 12, 10, 5, 10, 1, 3, 5, 6, 7, 8, 11, 4, 2, 11, 1, 5, 9, 11, 12, 5, 2, 5, 11, 12, 2, 6, 11, 12, 6, 9, 2, 11, 3, 1, 4, 5, 1, 10, 3, 4, 5, 7, 8, 9, 10, 12, 7, 4, 7, 7, 3, 7, 8, 3, 1, 11, 9, 7, 11, 12, 6, 3, 9, 5, 5, 5, 3, 8, 3, 9, 8, 9, 11, 1, 2, 3, 4, 6, 8, 11, 6, 10, 3, 10, 11, 4, 11, 8, 8, 7, 3, 7, 8, 10, 12, 3, 8, 10, 4, 2, 8, 5, 7, 11, 6, 9, 12, 3, 4, 1, 2, 5, 6, 11, 5, 6, 6, 2, 2, 3, 4, 6, 7, 8, 9, 10, 11, 12, 2, 3, 5, 6, 8, 9, 11, 12, 1, 2, 3, 4, 5, 6, 9, 10, 11, 12, 12, 12, 1, 11, 12, 9, 10, 8, 2, 11, 1, 7, 4, 4, 1, 3, 8, 11, 12, 1, 2, 8, 7, 11, 12, 1, 4, 6, 7, 8, 9, 11, 12, 2, 7, 1, 5, 6, 7, 9, 11, 2, 3, 4, 6, 8, 9, 11, 12, 8, 9, 8, 8, 9, 9, 9, 9, 1, 3, 4, 5, 8, 9, 10, 12, 8, 4, 8, 10, 5, 6, 10, 2, 4, 8, 10, 11, 12, 2, 6, 12, 3, 7, 7, 11, 3, 5, 6, 7, 8, 9, 11, 2, 4, 6, 4, 8, 4, 11, 8, 1, 7, 8, 11, 12, 11, 8, 2, 4, 8, 11, 7, 9, 1, 11, 6, 7, 11, 2, 11, 12, 5, 4, 9, 11, 5, 11, 3, 6, 3, 2, 10, 6, 2, 6, 10, 11, 12, 12, 2, 8, 1, 2, 5, 11, 1, 2, 11, 12, 8, 8, 2, 11, 10, 2, 2, 6, 11, 12, 1, 11, 2, 8, 11, 2, 5, 7, 5, 1, 3, 4, 6, 7, 9, 11, 12, 3, 3, 4, 6, 7, 7, 5, 9, 10, 12, 2, 6, 11, 5, 4, 1, 4, 5, 9, 10, 11, 12, 1, 2, 11, 1, 3, 11, 12, 6, 9, 9, 8, 1, 2, 3, 6, 11, 2, 11, 5, 7, 2, 6, 1, 5, 7, 11, 12, 1, 9, 4, 5, 11, 12, 5, 11, 12, 1, 9, 10, 11, 5, 7, 12, 2, 4, 7, 8, 11, 12, 9, 4, 2, 4, 5, 7, 10, 11, 1, 7, 9, 11, 12, 1, 11, 7, 12, 4, 7, 8, 9, 11, 5, 9, 1, 10, 5, 2, 6, 7, 11, 12, 12, 12, 2, 11, 12, 1, 3, 5, 9, 11, 12, 1, 3, 4, 5, 7, 9, 6, 3, 5, 8, 9, 10, 11, 1, 3, 4, 5, 7, 11, 12, 4, 3, 8, 7, 9, 11, 7, 9, 3, 6, 8, 11, 6, 11, 12, 3, 4, 11, 9, 1, 1, 8, 11, 7, 12, 6, 11, 10, 1, 11, 1, 4, 6, 2, 2, 4, 9, 11, 12, 6, 9, 3, 1, 4, 7, 8, 9, 1, 12, 1, 1, 3, 8, 12, 1, 4, 11, 11, 1, 2, 3, 4, 5, 7, 8, 9, 10, 11, 12, 10, 3, 7, 2, 3, 6, 9, 11, 12, 1, 2, 3, 5, 7, 8, 10, 2, 7, 8, 11, 12, 3, 3, 2, 11, 3, 8, 9, 1, 4, 6, 10, 11, 8, 5, 8, 9, 10, 1, 3, 7, 8, 12, 7, 1, 7, 11, 2, 3, 4, 9, 11, 3, 7, 4, 3, 5, 12, 3, 5, 12, 1, 6, 11, 3, 8, 1, 3, 4, 6, 7, 8, 11, 6, 1, 1, 8, 11, 10, 6, 10, 6, 11, 11, 4, 4, 2, 5, 1, 2, 11, 12, 7, 11, 9, 2, 11, 12, 4, 2, 8, 5, 3, 7, 8, 11, 10, 2, 6, 9, 11, 6, 10, 11, 2, 6, 11, 4, 7, 10, 11, 12, 4, 11, 1, 9, 11, 2, 12, 12, 4, 9, 6, 1, 5, 6, 11, 5, 6, 11, 3, 9, 3, 6, 1, 2, 3, 4, 5, 6, 7, 8, 9, 10, 11, 12, 11, 9, 6, 9, 11, 12, 2, 10, 3, 5, 9, 10, 3, 7, 1, 4, 5, 12, 1, 2, 12, 11, 11, 6, 1, 3, 9, 1, 3, 7, 8, 1, 8, 9, 11, 6, 11, 3, 4, 11, 12, 9, 6, 11, 2, 5, 10, 4, 4, 12, 11, 4, 9, 6, 11, 6, 9, 7, 1, 6, 11, 12, 1, 5, 6, 11, 12, 10, 5, 7, 6, 11, 1, 1, 3, 5, 8, 3, 6, 11, 12, 2, 6, 11, 12, 8, 7, 12, 1, 2, 3, 4, 5, 6, 7, 9, 10, 11, 12, 5, 12, 11, 12, 5, 1, 5, 12, 4, 4, 8, 5, 4, 5, 6, 11, 12, 9, 1, 2, 3, 4, 5, 6, 7, 8, 9, 10, 11, 12, 2, 5, 11, 1, 12, 6, 11, 10, 4, 1, 6, 8, 12, 6, 2, 3, 3, 9, 10, 2, 9, 9, 5, 2, 4, 6, 11, 2, 1, 6, 11, 2, 4, 5, 6, 7, 9, 11, 12, 12, 11, 2, 3, 5, 6, 7, 8, 9, 11, 12, 1, 6, 11, 6, 11, 8, 9, 2, 6, 9, 11, 12, 9, 12, 4, 11, 2, 2, 2, 3, 9, 9, 1, 4, 5, 6, 8, 9, 10, 11, 12, 10, 5, 11, 12, 1, 6, 11, 2, 3, 6, 11, 5, 7, 11, 6], \"Freq\": [0.09540155405102954, 0.8824643749720233, 0.8971159765417226, 0.004191548924345128, 0.025149293546070768, 0.26406758223374305, 0.12574646773035383, 0.4317295392075482, 0.12993801665469898, 0.016766195697380512, 0.9799686232375381, 0.9774434533271139, 0.9935591810640632, 0.9138027475767575, 0.9951979706416817, 0.9942694364638301, 0.957941355536436, 0.9468472717466588, 0.047941634012489055, 0.9865333972842458, 0.9446124318316879, 0.9375342001379068, 0.9446124318316879, 0.02248510157614417, 0.9668593677741993, 0.8217245720857957, 0.1540733572660867, 0.13622892996303698, 0.5676205415126541, 0.2497530382655678, 0.034057232490759246, 0.7998511049524639, 0.9808040481903987, 0.7968496778921534, 0.02747757509972943, 0.10807846205893576, 0.06228250355938671, 0.001831838339981962, 0.003663676679963924, 0.9896020080749135, 0.2260892564602105, 0.7630512405532105, 0.7558674188018617, 0.04836712642063431, 0.13542795397777607, 0.2611824826714253, 0.31922303437618643, 0.23699891946110813, 0.9547797525919839, 0.05316057998127566, 0.9303101496723241, 0.6324339410211295, 0.013039875072600607, 0.3455566894239161, 0.9844258248748505, 0.9921631258154112, 0.06824862976108885, 0.3128062197383239, 0.005687385813424071, 0.3753674636859887, 0.23318281835038693, 0.9900918376132791, 0.639424157798769, 0.2557696631195076, 0.9897384253557456, 0.9446124318316879, 0.9572066364850269, 0.716421128915038, 0.005588896054805417, 0.07824454476727584, 0.9109900569332829, 0.24338912199609897, 0.3296536209314252, 0.00924262488592781, 0.029268312138771395, 0.3003853087926538, 0.00924262488592781, 0.07856231153038638, 0.07108246302035906, 0.27417521450709925, 0.08123710059469608, 0.5686597041628725, 0.9904800522712573, 0.9887845773407262, 0.7734983473213458, 0.2251957213720374, 0.7633373961396527, 0.9446124318316879, 0.4867350171688451, 0.5047622400269505, 0.7169146831301176, 0.08679439020270185, 0.9065191865615526, 0.39192168964282814, 0.27917709399215157, 0.22012040103227334, 0.1020070151125169, 0.9509260235416813, 0.04195261868566241, 0.9980276803044699, 0.9907626364863662, 0.9892237738472914, 0.7021580078471199, 0.28690327202355437, 0.007550086105883009, 0.11282099038048035, 0.23817764635879185, 0.6393189454893887, 0.991617980138963, 0.9870074132410234, 0.9856591293031446, 0.9872806571396394, 0.06267292364148289, 0.7973388618833102, 0.13579133455654627, 0.0024502315806047706, 0.023277200015745323, 0.033078126338164406, 0.13966320009447195, 0.16049016852961248, 0.07963252636965505, 0.45941842136339456, 0.1004594948047956, 0.0012251157903023853, 0.0012251157903023853, 0.02613519223829693, 0.009800697089361349, 0.1829463456680785, 0.49656865252764165, 0.1323094107063782, 0.001633449514893558, 0.15027735537020734, 0.17593488257767118, 0.7997040117166871, 0.9865671595377015, 0.786355676975002, 0.23765740826661, 0.7549117674351141, 0.983582916912994, 0.6322067818991851, 0.31610339094959256, 0.03512259899439917, 0.9009235955835257, 0.9691485554955847, 0.06660968148580157, 0.8881290864773543, 0.044406454323867715, 0.40896884415107454, 0.22124544027845017, 0.3687424004640836, 0.23893200571218484, 0.1963824704483711, 0.17019814105525494, 0.24875112923460338, 0.1440138116621388, 0.11236885341249297, 0.010169127005655473, 0.09508133750287867, 0.11135194071192742, 0.0635570437853467, 0.1332155637740867, 0.15355381778539764, 0.0981320756045753, 0.0005084563502827736, 0.22219542507357207, 0.0005084563502827736, 0.9679002776723052, 0.9158539834541409, 0.08325945304128554, 0.993547501978888, 0.0037072667984286867, 0.9919135608024786, 0.9725092406728968, 0.9824822902090448, 0.44387055039761725, 0.12428375411133283, 0.4172383173737602, 0.9857255861757834, 0.9732999851266155, 0.754884141353839, 0.2314978033485106, 0.2080518081079285, 0.7697916899993356, 0.1637107418473497, 0.8324275009187273, 0.9900243168444107, 0.32176042894517676, 0.6727718059762786, 0.989535744098406, 0.9795763759553783, 0.8530398288755406, 0.14115047528156427, 0.9748315712211642, 0.9807998415025638, 0.5677399314036266, 0.11132155517718166, 0.31170035449610867, 0.8749094620597149, 0.9865906459505905, 0.9446124318316879, 0.008066998866855975, 0.5695301200000319, 0.40173654356942756, 0.020974197053825534, 0.7579988124408022, 0.23780354900103598, 0.004954240604188249, 0.9849685381003821, 0.4108071101737895, 0.028242988824448027, 0.1155394997363783, 0.12580967749072303, 0.3132404215075145, 0.005135088877172369, 0.9822409252770202, 0.1484093266706095, 0.004364980196194397, 0.6547470294291595, 0.18332916824016468, 0.032413280998841776, 0.2593062479907342, 0.35654609098725953, 0.3519156222731393, 0.9387940157779765, 0.9853697045392413, 0.8977933955396336, 0.18024113706064515, 0.5113818307302026, 0.05449150655321831, 0.11736632180693174, 0.0880247413551988, 0.008383308700495124, 0.037724889152228054, 0.910331047084248, 0.9446124318316879, 0.9842289178379021, 0.209976945097543, 0.010498847254877151, 0.556438904508489, 0.1889792505877887, 0.020997694509754302, 0.9877343848422011, 0.9446124318316879, 0.07128177504826821, 0.1663241417792925, 0.7603389338481943, 0.2367151343460567, 0.012458691281371406, 0.7475214768822843, 0.0041528970937904685, 0.978052441752314, 0.8342626587557564, 0.1621188062481129, 0.8276591687403658, 0.7106704688614833, 0.07629632704809765, 0.8964818428151474, 0.8418197451187409, 0.9746252489988098, 0.9858337652699135, 0.063891517177933, 0.16494868813910807, 0.0876942392638296, 0.30358910449906723, 0.0747488991820262, 0.17121256237223875, 0.11400251104297848, 0.01962680593047615, 0.9912425562644426, 0.9841194294501183, 0.8980224349936564, 0.9819048520563884, 0.16407043737835952, 0.16407043737835952, 0.6711972438205617, 0.8658344610248562, 0.646611760839871, 0.35240340965772976, 0.8082934061850914, 0.8183393766430866, 0.17535843785209002, 0.981121254228881, 0.9915887638363805, 0.8355432092314901, 0.9802153393139181, 0.9847064219633904, 0.9378849238035404, 0.9880995831816803, 0.9991860662080174, 0.9543211344961835, 0.9991837246045081, 0.9908728440605947, 0.8215613393473254, 0.7859040563347278, 0.18712001341303044, 0.17684572702891677, 0.3587441891158026, 0.03536914540578335, 0.1920039322028239, 0.01515820517390715, 0.09852833363039648, 0.12379200892024173, 0.9823167906947059, 0.7734888448323485, 0.925785748390758, 0.5714829995536843, 0.42240047793098406, 0.9227517179431552, 0.07284881983761753, 0.9953443983941372, 0.9920106638853933, 0.9624229261202721, 0.059491742488892385, 0.04759339399111391, 0.3391029321866866, 0.3688488034311328, 0.17847522746667716, 0.9238128344368842, 0.8674873137762286, 0.9964856910743033, 0.9384856890920072, 0.9446124318316879, 0.8011020348595559, 0.4057885756481161, 0.5012682405064963, 0.08652844627790711, 0.6759298651962694, 0.025997302507548826, 0.2859703275830371, 0.3457240314829989, 0.6482325590306229, 0.013358562318295152, 0.7792494685672171, 0.1914727265622305, 0.008905708212196767, 0.008905708212196767, 0.29536370594801414, 0.6981323958771244, 0.9871341492193029, 0.9873926863019915, 0.1630724925264684, 0.0029382431085850165, 0.12781357522344822, 0.027913309531557656, 0.24093593490397133, 0.1248753321148632, 0.21155350381812119, 0.04554276818306775, 0.051419254400237785, 0.0029382431085850165, 0.056628690361549924, 0.17522840036404128, 0.4786727034334786, 0.06624488306445463, 0.0010684658558783005, 0.006410795135269803, 0.206213910184512, 0.008547726847026404, 0.2616199400484158, 0.0026787024578336094, 0.11607710650612307, 0.008929008192778698, 0.0383947352289484, 0.07321786718078532, 0.11339840404828946, 0.08303977619284189, 0.019643818024113135, 0.28215665889180686, 0.9919236813960457, 0.9755273918874539, 0.940792991432385, 0.04090404310575587, 0.9841085374658318, 0.8766236696594707, 0.10957795870743384, 0.9830299804697831, 0.9625536947619808, 0.9816158466791136, 0.9870641303341516, 0.715818996983786, 0.9966967934193097, 0.9830059985383817, 0.16161003291137246, 0.20453769790345577, 0.4494779040347547, 0.13635846526897052, 0.0479779785205637, 0.9915351558376546, 0.3678723811927396, 0.6289431033295225, 0.6980219666211107, 0.2294198072111343, 0.0683378149139549, 0.16758641998149262, 0.1129191920730913, 0.10530162752847799, 0.44047446749146324, 0.0008961840640721531, 0.11067873191291092, 0.04436111117157158, 0.017475589249406988, 0.9446124318316879, 0.89234273903195, 0.0929832367063261, 0.43192213179712774, 0.10498107370069076, 0.30894430260489, 0.00599891849718233, 0.0509908072260498, 0.005981015672413929, 0.0011962031344827859, 0.010466777426724376, 0.00029905078362069647, 0.2775191272000063, 0.6994797828888091, 0.003887660187069054, 0.0008971523508620894, 0.4260308591680283, 0.557897553672418, 0.9905348465352172, 0.12780843975526926, 0.8718361426163009, 0.9532638805267879, 0.9921746987919725, 0.9984894980448346, 0.9823641594953965, 0.07044905615923654, 0.15370703162015242, 0.10155643160617214, 0.4885687790783417, 0.022873070181570303, 0.14501526495115571, 0.017383533337993428, 0.9947574976276121, 0.05762931302210669, 0.9364763366092338, 0.9915100997488268, 0.9425125268151469, 0.9708274617297284, 0.7982833740674797, 0.9744354097027534, 0.0788145598644113, 0.6108128389491876, 0.13792547976271977, 0.059110919898308474, 0.09851819983051412, 0.9117857638937195, 0.03506868322668152, 0.03506868322668152, 0.722617558566935, 0.9175056987992072, 0.2502796536706662, 0.7508389610119984, 0.032775980554823274, 0.11471593194188147, 0.09832794166446983, 0.43264294332366726, 0.3080942172153388, 0.006555196110964655, 0.0032775980554823276, 0.9444889987957681, 0.9310103851290273, 0.06671735658905081, 0.9233289794403681, 0.9762622598135615, 0.9211555598543567, 0.0511753088807976, 0.9693833008451138, 0.3132079481830523, 0.2700068518819416, 0.41401050621897717, 0.07209560871635738, 0.9011951089544672, 0.9771207445552227, 0.9867991082275549, 0.4400109097200287, 0.16000396717091953, 0.12000297537818964, 0.2700066946009267, 0.7411684578274244, 0.12352807630457072, 0.7888083651521799, 0.20937505988607244, 0.06372046001274417, 0.700925060140186, 0.19116138003823255, 0.9759031874534029, 0.153580832352557, 0.8190977725469708, 0.9677729314191, 0.9025849819580902, 0.8296276913600187, 0.13827128189333646, 0.8836079399939366, 0.1051914214278496, 0.9273011146413378, 0.985865341649887, 0.8372736366153498, 0.9736158609895604, 0.9143471320581693, 0.978070748395663, 0.9446124318316879, 0.16462697993540565, 0.5827272464380231, 0.20121075325438467, 0.05226253331282719, 0.9857581603193627, 0.9888238118547912, 0.881184158712913, 0.052348942243175905, 0.23033534586997398, 0.5548987877776647, 0.15704682672952772, 0.9707512120590253, 0.543878112848295, 0.2136664014761159, 0.2395653592307966, 0.8888565450592755, 0.9820447900194479, 0.9446124318316879, 0.9739993971604778, 0.8389608507090883, 0.9725190231593678, 0.4866961976067547, 0.021160704243771943, 0.12696422546263167, 0.370312324266009, 0.9438977646991252, 0.031463258823304176, 0.9446124318316879, 0.9764235745348336, 0.9857049068311812, 0.16167895940918758, 0.8353412902808025, 0.9820961095940376, 0.9881184148439879, 0.018172645402809676, 0.07632511069180065, 0.1587077698512045, 0.02786472295097484, 0.4700657610860103, 0.1877840024957, 0.010903587241685806, 0.04967189743434645, 0.9905651702776307, 0.9630884806883974, 0.0027002694505962837, 0.059405927913118245, 0.9369934993569105, 0.9615560011884693, 0.027367500169910994, 0.15052125093451046, 0.7799737548424633, 0.027367500169910994, 0.3424181562658036, 0.30729834536674683, 0.3424181562658036, 0.9906453303454164, 0.9734778203282659, 0.20333039562952168, 0.005495416098095181, 0.038467912686666265, 0.43413787174951923, 0.027477080490475904, 0.2857616371009494, 0.005495416098095181, 0.9587301237941687, 0.863760621487595, 0.12744009169489107, 0.11008286342956408, 0.6604971805773845, 0.09907457708660768, 0.1210911497725205, 0.9868067201679213, 0.9917385282805414, 0.9446255742282568, 0.9882759071408383, 0.4429031573224951, 0.35743061819008376, 0.08547253913241133, 0.007770230830219212, 0.10101300079284975, 0.6827984648093657, 0.3091917576495241, 0.9075042053786488, 0.05185738316449422, 0.9781180981909886, 0.9809627470560012, 0.2299979625516824, 0.12105155923772758, 0.24210311847545515, 0.4035051974590919, 0.9555562787669049, 0.9520581174547162, 0.03400207562338273, 0.962232988910366, 0.44772450912800077, 0.10332104056800018, 0.4419844513186674, 0.9881658447095478, 0.02449144753840242, 0.9551664539976944, 0.004866917352179693, 0.024334586760898464, 0.8468436192792665, 0.11680601645231263, 0.9805900960658815, 0.9127351344099038, 0.9829645247690018, 0.12442009758397049, 0.1902895610107784, 0.18297073174113307, 0.10002400001848608, 0.39765639031739586, 0.002439609756548441, 0.9911774490032335, 0.9783296972762088, 0.10482185421303372, 0.4192874168521349, 0.16771496674085395, 0.06289311252782023, 0.12054513234498877, 0.1153040396343371, 0.6453599010507611, 0.1816282356250645, 0.0038644305452141385, 0.019322152726070692, 0.14298393017292313, 0.9757320201943354, 0.010380127874407823, 0.5280234189797011, 0.46935415020417875, 0.008085617935346654, 0.016171235870693308, 0.5255651657975325, 0.444708986444066, 0.9891369704089794, 0.9861038900055231, 0.846643887938751, 0.9904147543701799, 0.9907625931214756, 0.9620124295279134, 0.09062152038385368, 0.00421495443645831, 0.12434115587552017, 0.7776590935265583, 0.002107477218229155, 0.9677246461476876, 0.9836311514928658, 0.6803920600382123, 0.21948130968974588, 0.08779252387589835, 0.10335950713856328, 0.08397959955008266, 0.17441916829632553, 0.45865781292737456, 0.15503926070784493, 0.019379907588480617, 0.198369533426481, 0.00793478133705924, 0.3713477665743724, 0.017456518941530327, 0.24597822144883644, 0.15710867047377294, 0.9708331847333125, 0.007169210763969354, 0.0931997399316016, 0.16489184757129513, 0.4373218566021306, 0.1863994798632032, 0.1075381614595403, 0.2820616902969224, 0.00378606295700567, 0.23568241907360293, 0.042593208266313784, 0.3322270244772475, 0.10127718409990166, 0.0009465157392514174, 0.9889459073535382, 0.42777550424352684, 0.5665135056198058, 0.8022614668891429, 0.16889715092403007, 0.989940182862137, 0.6454716551467004, 0.9217309628942091, 0.9799264010794926, 0.28433753915895976, 0.7059414765325898, 0.9719672476107009, 0.9758684392333687, 0.017341092320395896, 0.9711011699421701, 0.9743505581351655, 0.9532949995701018, 0.04707629627506675, 0.9784279046104297, 0.9886296793004539, 0.25590399654877943, 0.6909407906817046, 0.051180799309755894, 0.7752553996604751, 0.21761555078188774, 0.9457007711304535, 0.9863585254873073, 0.7742494816216084, 0.06138654485160246, 0.9344396271855041, 0.043677115211178494, 0.9463374962422006, 0.9784112725482047, 0.9800944337319754, 0.13645197188357588, 0.6497712946836947, 0.025990851787347787, 0.15594511072408673, 0.03248856473418473, 0.9921109127634309, 0.8901611323559978, 0.9844342908918932, 0.061290197112710484, 0.27580588700719716, 0.1899996110494025, 0.43516039950024443, 0.03677411826762629, 0.979516239469239, 0.9058106980953978, 0.9935645719559859, 0.627599815536942, 0.35956239431803966, 0.0065374980785098125, 0.9680135689913341, 0.9747929988564846, 0.08237318543244256, 0.9061050397568681, 0.9931605498855719, 0.02450781179424804, 0.0012409018629999007, 0.24197586328498066, 0.06576779873899474, 0.0812790720264935, 0.00031022546574997517, 0.22925661918923168, 0.29316306513372653, 0.0412599869447467, 0.00031022546574997517, 0.021095331670998314, 0.9879159240222608, 0.9671187899169654, 0.7164689180724452, 0.02028469346645046, 0.05505845369465125, 0.0028978133523500657, 0.24051850824505547, 0.1361972275604531, 0.5418910968894624, 0.0023943875781546197, 0.10056427828249404, 0.05028213914124702, 0.06704285218832935, 0.2801433466440905, 0.0023943875781546197, 0.4980326162561609, 0.09146412851433122, 0.3186492219208959, 0.45732064257165617, 0.0029504557585268137, 0.1298200533751798, 0.9653090611968053, 0.9731111228913476, 0.7466841881248024, 0.22974898096147767, 0.8368920262538232, 0.12650693420115933, 0.029193907892575227, 0.596736558146455, 0.06120374955348256, 0.21038788909009631, 0.12623273345405778, 0.00382523434709266, 0.7498656940553688, 0.12445105725596492, 0.1801265302388966, 0.6910308705528578, 0.944945886660591, 0.052608510508976615, 0.14163829752416782, 0.44649787124285284, 0.3183489353876534, 0.03911914884000826, 0.9281569860118085, 0.0680426483750343, 0.5783625111877916, 0.34021324187517155, 0.3640524391748002, 0.14157594856797784, 0.006741711836570373, 0.46517811672335574, 0.02022513550971112, 0.9333748934540805, 0.9700684173431554, 0.9718800343581406, 0.5169733227068881, 0.2615276808987787, 0.21287136817342453, 0.5145784114981595, 0.2538586830057587, 0.21955345557254805, 0.7052097898572848, 0.1848608187004533, 0.10270045483358517, 0.9806451668707027, 0.8374896589033058, 0.016532448805242406, 0.16414359885204957, 0.2137409452677768, 0.07085335202246745, 0.24562495367788714, 0.2869560756909932, 0.9694045191293789, 0.9595480724644873, 0.9928154143373823, 0.11863733717081344, 0.8779162950640195, 0.9739677158865949, 0.9919622122364091, 0.9551880330709723, 0.86796746457855, 0.7095158967687791, 0.2635344759426894, 0.9845309948585752, 0.89155690248723, 0.9735094386340688, 0.9592987857316232, 0.9600676823829883, 0.5385140138927395, 0.09723169695285573, 0.014958722608131652, 0.34405061998702796, 0.8910903013277955, 0.08568175974305726, 0.9265862056033772, 0.15286501724861792, 0.8080008054569804, 0.029117146142593888, 0.9716552981065121, 0.9730036110054346, 0.799508864096499, 0.9870499870565088, 0.302722432101433, 0.0605444864202866, 0.623608210128952, 0.00605444864202866, 0.8388634253577615, 0.42799988300528546, 0.22526309631857128, 0.3303858746005712, 0.0075087698772857096, 0.971155378361974, 0.5565175712117266, 0.4452140569693813, 0.990939133383957, 0.23199447833645098, 0.7636484911908178, 0.031712736769612414, 0.15063549965565898, 0.27748644673410866, 0.41226557800496144, 0.11099457869364346, 0.822974959622122, 0.06858124663517683, 0.03413255981204018, 0.29354001438354554, 0.6724114282971916, 0.9397286786533355, 0.9865753683778274, 0.9896056347934694, 0.12541535890798294, 0.8665061160915185, 0.968222033352922, 0.5214264755995645, 0.4545769274457741, 0.006684954815379031, 0.013369909630758061, 0.7117091763906508, 0.2846836705562603, 0.9967565677659047, 0.31744863632780684, 0.6776307429305108, 0.8387626391610492, 0.9828320372810401, 0.0374941745938149, 0.0006616619045967335, 0.24613822850998487, 0.06748951426886682, 0.017644317455912894, 0.031098109516046475, 0.07565001109222654, 0.45654671417174614, 0.004631633332177134, 0.011689360314542293, 0.029554231738654096, 0.02117318094709547, 0.980603635496321, 0.9924916773800814, 0.05157116142281201, 0.6876154856374935, 0.22347503283218537, 0.017190387140937336, 0.9681592905657834, 0.9955556471262796, 0.9717155135221063, 0.5474044620531296, 0.4484759448146122, 0.006595234482567827, 0.13430553218653776, 0.6715276609326888, 0.1383504108959808, 0.23058401815996799, 0.19830225561757248, 0.42888627377754046, 0.9387318922158456, 0.13371927963882183, 0.8509408704288661, 0.9906132560884751, 0.9834049057539288, 0.9711619647872662, 0.9747213581637939, 0.7883680509976911, 0.19709201274942278, 0.9591964459954311, 0.24215381959090124, 0.6572746531753034, 0.06918680559740036, 0.4735446351895059, 0.2450318170457327, 0.12389249176469631, 0.15693048956861533, 0.6967475554789924, 0.3010637585403053, 0.3033169077120002, 0.6685352251611433, 0.01857042292114287, 0.9791127611818946, 0.8906964322222216, 0.9602932958411515, 0.9915279770010672, 0.17297539415955798, 0.019958699326102846, 0.8050008728194814, 0.9565836889031097, 0.9405195136793499, 0.9703155806676439, 0.9846030078646224, 0.6051093790181283, 0.39154136289408303, 0.9486372527085057, 0.03952655219618774, 0.9356551550747433, 0.0505759543283645, 0.7163718903819095, 0.09830147468433759, 0.27524412911614526, 0.00983014746843376, 0.5996389955744593, 0.6181411407971854, 0.006506748850496688, 0.11386810488369203, 0.14314847471092715, 0.11386810488369203, 0.8385308390156294, 0.45399141915222274, 0.5447897029826673, 0.3829173288710136, 0.6126677261936218, 0.9417835147275507, 0.029980809770756157, 0.007495202442689039, 0.6745682198420135, 0.2848176928221835, 0.9811346102233334, 0.7881034792612586, 0.19222036079542892, 0.9756187969728555, 0.12731578692615747, 0.02314832489566499, 0.8217655337961073, 0.02314832489566499, 0.8236232625226916, 0.644667456048562, 0.9650338724916708, 0.2123216599755733, 0.058388456493282656, 0.00048254922721721204, 0.10230043617004896, 0.10905612535108992, 0.03763883972294254, 0.06466159644710641, 0.1930196908868848, 0.0009650984544344241, 0.029435502860249936, 0.1915720432052332, 0.30590071280939773, 0.6882766038211449, 0.9813149386403502, 0.809926965546063, 0.874254647680512, 0.9705566662747068, 0.030811322738879585, 0.9856712064638574, 0.9929605559360328, 0.9771858577066861, 0.7172514492835205, 0.9684385157560143, 0.04114872320813945, 0.5596226356306965, 0.008229744641627889, 0.24689233924883666, 0.14402053122848807, 0.9880217249979815, 0.05411401162084885, 0.05297647984503521, 0.048751361820584545, 0.0921400738409048, 0.10449041883545288, 0.04501375741433973, 0.12057836823624578, 0.018038003873616284, 0.14511655368594, 0.010400290521724703, 0.28877056651726246, 0.019825553807037717, 0.08584639090936161, 0.3004623681827656, 0.6080786022746447, 0.9764589126385314, 0.9745377271032064, 0.8645780711172977, 0.09263336476256762, 0.9241555610535237, 0.9791845066380139, 0.9841534720228741, 0.24264461148721128, 0.19411568918976901, 0.5532297141908418, 0.9645236048882434, 0.14094298378393164, 0.8456579027035899, 0.0016390035700762627, 0.5457881888353955, 0.45072598177097223, 0.07338983453385815, 0.8806780144062979, 0.9569159514253095, 0.9871893333161714, 0.9713370613349617, 0.8622996083603051, 0.07105452576996808, 0.9237088350095851, 0.974424576396914, 0.7947967523681255, 0.13506350040242654, 0.06233700018573533, 0.13987676692883672, 0.16842304589390544, 0.3197183244087697, 0.002854627896506872, 0.002854627896506872, 0.0913480926882199, 0.06280181372315119, 0.21124246434150853, 0.9669319744716751, 0.9925734088956393, 0.05169508510679585, 0.2567522560304194, 0.0809889666673135, 0.08788164468155295, 0.025847542553397926, 0.024124373049838065, 0.4325155453935253, 0.013785356028478895, 0.025847542553397926, 0.8108246327033867, 0.15268775550907931, 0.03159057010532675, 0.8775720157172404, 0.09335872507630216, 0.8246121930400722, 0.9326290215659767, 0.15869718157231366, 0.24886603473840094, 0.2596862971183314, 0.14787691919238316, 0.1839444604588181, 0.9884800666295445, 0.9622508738829734, 0.044238292775162585, 0.9437502458701351, 0.9800906774132343, 0.9860429830628596, 0.9448240461091526, 0.02212478073972885, 0.9513655718083406, 0.9406755032780777, 0.018612725748528177, 0.1675145317367536, 0.07710986381533103, 0.08774570710020427, 0.1409249235245705, 0.09040466792142259, 0.015953764927309867, 0.39352620154031004, 0.007976882463654933, 0.9037534229797338, 0.9858218087766346, 0.9847642143165071, 0.9778167499377648, 0.014313618096740534, 0.17892022620925668, 0.7944058043690996, 0.4377995679400769, 0.41759343403515026, 0.006735377968308875, 0.12797218139786862, 0.9583018568233218, 0.44928115132930313, 0.5391373815951638, 0.9751976707289278], \"Term\": [\"%_discount\", \"%_discount\", \"ability\", \"able\", \"able\", \"able\", \"able\", \"able\", \"able\", \"able\", \"absolute\", \"accommodate\", \"address\", \"advertise\", \"agent\", \"alignment\", \"allow\", \"alloy\", \"alloy\", \"allround\", \"almighty\", \"amade\", \"amateur\", \"amazing\", \"amazing\", \"amount\", \"amount\", \"anyone\", \"anyone\", \"anyone\", \"anyone\", \"anywhere\", \"apology\", \"appointment\", \"appointment\", \"appointment\", \"appointment\", \"appointment\", \"appointment\", \"appropriate\", \"area\", \"area\", \"arecommende\", \"arrange\", \"arrange\", \"arrange\", \"arrange\", \"arrange\", \"arrange_fitting\", \"asap\", \"asap\", \"ask\", \"ask\", \"ask\", \"aspect\", \"asymmetric\", \"available\", \"available\", \"available\", \"available\", \"available\", \"avon\", \"awesome\", \"awesome\", \"aylesbury\", \"backtrack\", \"balance\", \"barney\", \"best_price\", \"best_price\", \"best_price\", \"book\", \"book\", \"book\", \"book\", \"book\", \"book\", \"book\", \"booking\", \"booking\", \"booking\", \"booking\", \"bother\", \"brand\", \"brilliant\", \"brilliant\", \"broad\", \"brush\", \"budget\", \"budget\", \"bunch\", \"business\", \"business\", \"buy\", \"buy\", \"buy\", \"buy\", \"ca\", \"ca\", \"call\", \"can\", \"cannot_fault\", \"car\", \"car\", \"car\", \"care\", \"care\", \"care\", \"centre\", \"charge\", \"chase\", \"cheap\", \"check\", \"check\", \"check\", \"choice\", \"choice\", \"choice\", \"choice\", \"choice\", \"choice\", \"choice\", \"choice\", \"choice\", \"choice\", \"choose\", \"choose\", \"choose\", \"choose\", \"choose\", \"choose\", \"choose\", \"chosen_garage\", \"chosen_garage\", \"circle\", \"circumstance\", \"class\", \"class\", \"class_service\", \"clear\", \"clear\", \"clear\", \"climate\", \"clockwork\", \"collect\", \"collect\", \"collect\", \"come\", \"come\", \"come\", \"communication\", \"communication\", \"communication\", \"communication\", \"communication\", \"company\", \"company\", \"company\", \"company\", \"company\", \"company\", \"company\", \"company\", \"company\", \"company\", \"company\", \"comparison\", \"competitive\", \"competitive\", \"competitive_price\", \"competitive_price\", \"competitive_prices\", \"competitive_pricing\", \"competitor\", \"complaint\", \"complaint\", \"complaint\", \"complete\", \"condition\", \"confirmation\", \"confirmation\", \"continue\", \"continue\", \"convenient\", \"convenient\", \"copy\", \"correct\", \"correct\", \"correct_tyres\", \"corrosion\", \"cost\", \"cost\", \"cost_effective\", \"costco\", \"courteous\", \"courteous\", \"courteous\", \"cover\", \"crack\", \"culprit\", \"customer\", \"customer\", \"customer\", \"customer\", \"customer_service\", \"customer_service\", \"customer_service\", \"damage\", \"date\", \"date\", \"date\", \"date\", \"date\", \"date\", \"daughter\", \"day\", \"day\", \"day\", \"day\", \"deal\", \"deal\", \"deal\", \"deal\", \"dealership\", \"decent\", \"delight\", \"delivery\", \"delivery\", \"delivery\", \"delivery\", \"delivery\", \"delivery\", \"delivery\", \"describe\", \"die\", \"difference\", \"different\", \"different\", \"different\", \"different\", \"different\", \"disappoint\", \"disclose\", \"discount\", \"discount\", \"discount\", \"do\", \"do\", \"do\", \"do\", \"doorstep\", \"downside\", \"drive\", \"drive\", \"driveway\", \"drop\", \"drop\", \"dunlop\", \"eagle\", \"ease\", \"easy\", \"easy\", \"easy\", \"easy\", \"easy\", \"easy\", \"easy\", \"easy\", \"easy_process\", \"easy_transaction\", \"economic\", \"effective\", \"efficient\", \"efficient\", \"efficient\", \"effortless\", \"email\", \"email\", \"encounter\", \"end\", \"end\", \"enquire\", \"entire\", \"estate\", \"euromaster\", \"everything_went\", \"everything_went_smoothly\", \"example\", \"excellent\", \"excellent_customer_service\", \"excellent_service\", \"exceptional\", \"exellent\", \"expensive\", \"expensive\", \"experience\", \"experience\", \"experience\", \"experience\", \"experience\", \"experience\", \"experience\", \"extensive\", \"extras\", \"fabulous\", \"fair\", \"fair\", \"family\", \"family\", \"fantastic\", \"fantastic_service\", \"fashion\", \"fast\", \"fast\", \"fast\", \"fast\", \"fast\", \"fast_delivery\", \"fast_efficient_service\", \"fault\", \"faultless\", \"file\", \"finance\", \"find\", \"find\", \"find\", \"fine\", \"fine\", \"fine\", \"finish\", \"finish\", \"first\", \"first\", \"first\", \"first\", \"first\", \"first_class\", \"first_class\", \"first_class_service\", \"first_time\", \"fit\", \"fit\", \"fit\", \"fit\", \"fit\", \"fit\", \"fit\", \"fit\", \"fit\", \"fit\", \"fitter\", \"fitter\", \"fitter\", \"fitter\", \"fitter\", \"fitter\", \"fitter\", \"fitter\", \"fitting\", \"fitting\", \"fitting\", \"fitting\", \"fitting\", \"fitting\", \"fitting\", \"fitting\", \"fitting\", \"fitting\", \"fitting_centre\", \"fitting_centres\", \"fitting_date\", \"fitting_date\", \"fitting_station\", \"flash\", \"flash\", \"flawless\", \"forget\", \"form\", \"formula\", \"forward\", \"free\", \"friend\", \"friendly\", \"friendly\", \"friendly\", \"friendly\", \"friendly\", \"full\", \"fuss\", \"fuss\", \"future\", \"future\", \"future\", \"garage\", \"garage\", \"garage\", \"garage\", \"garage\", \"garage\", \"garage\", \"garage\", \"gearbox\", \"gentleman\", \"go\", \"go\", \"go\", \"go\", \"go\", \"go\", \"good\", \"good\", \"good\", \"good\", \"good\", \"good\", \"good\", \"good\", \"good_communication\", \"good_communication\", \"good_customer_service\", \"good_price\", \"good_price\", \"good_quality_tyres\", \"good_selection\", \"good_value\", \"goodyear\", \"great\", \"great\", \"great\", \"great\", \"great\", \"great\", \"great\", \"great_customer_service\", \"great_prices\", \"great_prices\", \"great_value\", \"grip\", \"gripe\", \"guess\", \"guildford\", \"guy\", \"guy\", \"guy\", \"guy\", \"guy\", \"hand\", \"hand\", \"hand\", \"handforth\", \"hang\", \"happen\", \"happen\", \"happy\", \"happy\", \"happy\", \"happy\", \"happy\", \"happy\", \"happy\", \"harborne\", \"hassle\", \"hassle\", \"hassle_free_service\", \"hayward\", \"head\", \"head\", \"heath\", \"helpful\", \"helpful\", \"helpful\", \"hesitatation\", \"hesitatation\", \"hesitation\", \"hill\", \"home\", \"home\", \"home\", \"home\", \"honest\", \"honest\", \"hour\", \"hour\", \"house\", \"house\", \"house\", \"hundred\", \"idea\", \"idea\", \"important\", \"include\", \"info\", \"info\", \"information\", \"information\", \"informative\", \"installation\", \"installer\", \"integrity\", \"interest\", \"internet\", \"invite\", \"issue\", \"issue\", \"issue\", \"issue\", \"jack\", \"jobsheet\", \"keen\", \"keep\", \"keep\", \"keep\", \"keep\", \"kid\", \"know\", \"know\", \"know\", \"knowledgable\", \"knowledgeable\", \"kumhos\", \"kwik\", \"kwikfit\", \"lack\", \"last\", \"last\", \"last\", \"last\", \"late\", \"late\", \"latter\", \"lavender\", \"leave\", \"level\", \"level\", \"likely\", \"list\", \"local\", \"local\", \"local\", \"local\", \"local\", \"local\", \"local\", \"local\", \"local_fitter\", \"local_fitters\", \"local_garage\", \"local_garage\", \"local_garage\", \"local_garages\", \"location\", \"location\", \"location\", \"location\", \"look\", \"look\", \"look\", \"lot\", \"love\", \"make\", \"make\", \"make\", \"make\", \"make\", \"make\", \"make\", \"manage\", \"manager\", \"manager\", \"many\", \"many\", \"many\", \"many\", \"march\", \"massive\", \"mcconechy\", \"mechanical\", \"michelin\", \"michelin\", \"michelin\", \"michelin\", \"michelin\", \"mile\", \"mile\", \"mine\", \"mine\", \"minimum\", \"minor\", \"minute\", \"minute\", \"minute\", \"minute\", \"mishap\", \"mistake\", \"mistake\", \"moan\", \"mobile\", \"mobile\", \"mobile\", \"mobile_fitter\", \"mobile_fitting\", \"mobile_fitting\", \"money\", \"money\", \"money\", \"money\", \"morley\", \"motorworx\", \"necessary\", \"need\", \"need\", \"need\", \"need\", \"need\", \"need\", \"negative\", \"neglect\", \"new_tyres\", \"new_tyres\", \"new_tyres\", \"new_tyres\", \"new_tyres\", \"new_tyres\", \"next\", \"next\", \"next\", \"next\", \"next\", \"next_day\", \"next_day\", \"next_time\", \"next_time\", \"nice\", \"nice\", \"nice\", \"nice\", \"night\", \"noise\", \"nominate\", \"none\", \"not\", \"notification\", \"nt\", \"nt\", \"nt\", \"nt\", \"nt\", \"nut\", \"nuts\", \"occasion\", \"occasion\", \"occasion\", \"offer\", \"offer\", \"offer\", \"offer\", \"offer\", \"offer\", \"online\", \"online\", \"online\", \"online\", \"online\", \"online\", \"opportunity\", \"option\", \"option\", \"option\", \"option\", \"option\", \"option\", \"order\", \"order\", \"order\", \"order\", \"order\", \"order\", \"order\", \"order_online\", \"ordering_process\", \"ordering_process\", \"organise\", \"organise\", \"other\", \"outcome\", \"outlet\", \"outstanding\", \"overall\", \"overall\", \"page\", \"paisley\", \"park\", \"park\", \"particular\", \"partner\", \"partner\", \"patient\", \"pay\", \"people\", \"people\", \"people\", \"perfect\", \"perfect\", \"personal\", \"petrol\", \"phil\", \"phone\", \"phone\", \"pick\", \"pick\", \"pirelli\", \"pitstop\", \"place\", \"place\", \"place\", \"place\", \"place\", \"plan\", \"plate\", \"pleasant\", \"please\", \"please\", \"please\", \"please\", \"please\", \"pleased\", \"pleasure\", \"point\", \"polite\", \"polite\", \"polite\", \"pothole\", \"precise\", \"premium\", \"premium\", \"pressure\", \"price\", \"price\", \"price\", \"price\", \"price\", \"price\", \"price\", \"price\", \"price\", \"price\", \"price\", \"pricing\", \"primacy\", \"print\", \"problem\", \"problem\", \"problem\", \"problem\", \"problem\", \"problem\", \"process\", \"process\", \"process\", \"process\", \"process\", \"process\", \"process\", \"professional\", \"professional\", \"professional\", \"professional\", \"professional\", \"professionalism\", \"proficient\", \"promise\", \"promise\", \"prompt\", \"prompt\", \"prompt\", \"purchase\", \"purchase\", \"purchase\", \"purchase\", \"purchase\", \"pushy\", \"quality\", \"quality\", \"quality\", \"quibble\", \"quick\", \"quick\", \"quick\", \"quick\", \"quick\", \"quick_delivery\", \"quote\", \"quote\", \"quote\", \"range\", \"range\", \"range\", \"range\", \"range\", \"rate\", \"re\", \"read\", \"reasonable\", \"reasonable\", \"reasonable\", \"reasonable_price\", \"reasonable_price\", \"reasonable_price\", \"receive\", \"receive\", \"receive\", \"recomend\", \"recomende\", \"recommend\", \"recommend\", \"recommend\", \"recommend\", \"recommend\", \"recommend\", \"rectify\", \"reference\", \"refund\", \"regard\", \"regard\", \"relevant\", \"reliable\", \"remain\", \"repeat\", \"replace\", \"replace\", \"representative\", \"reputable\", \"reservation\", \"resolution\", \"respect\", \"response\", \"response\", \"response\", \"response\", \"result\", \"result\", \"retailer\", \"return\", \"return\", \"return\", \"reviews\", \"rim\", \"rip\", \"road\", \"round\", \"round\", \"round\", \"round\", \"run\", \"s\", \"s\", \"s\", \"s\", \"safety\", \"sale\", \"sale\", \"satisfaction\", \"saturday\", \"saturday\", \"save\", \"save\", \"save\", \"save\", \"save\", \"saving\", \"saving\", \"say\", \"say\", \"say\", \"sceptical\", \"seal\", \"seamless\", \"search\", \"search\", \"seat\", \"second\", \"second\", \"second\", \"second\", \"second_time\", \"second_time\", \"seem\", \"selection\", \"selection\", \"sensible\", \"serious\", \"service\", \"service\", \"service\", \"service\", \"service\", \"service\", \"service\", \"service\", \"service\", \"service\", \"service\", \"service\", \"shame\", \"shop\", \"show\", \"show\", \"show\", \"show\", \"sidewall\", \"simple\", \"simplicity\", \"site\", \"site\", \"site\", \"slick\", \"slick\", \"slot\", \"slot\", \"slot\", \"slot\", \"slow\", \"smooth\", \"smooth\", \"sorry\", \"source\", \"spec\", \"specify\", \"speedy\", \"speedy\", \"sport\", \"spot\", \"spot\", \"spot\", \"staff\", \"staff\", \"staff\", \"staff\", \"star\", \"star\", \"start\", \"start\", \"start\", \"station\", \"stem\", \"story\", \"straight\", \"straightforward\", \"straightforward\", \"straightforward\", \"street\", \"stress\", \"stuff\", \"suggest\", \"suit\", \"suit\", \"sunday\", \"sunday\", \"supplier\", \"supplier\", \"swap\", \"system\", \"system\", \"system\", \"system\", \"take\", \"take\", \"take\", \"take\", \"take\", \"task\", \"technical\", \"technical\", \"tell\", \"tell\", \"text\", \"thank\", \"thank\", \"thank\", \"thank\", \"thankyou\", \"that\", \"that\", \"there\", \"think\", \"think\", \"think\", \"think\", \"thorough\", \"tier\", \"tighten\", \"time\", \"time\", \"time\", \"time\", \"time\", \"time\", \"time\", \"time\", \"time\", \"time\", \"time\", \"time_slot\", \"time_slot\", \"timely\", \"times\", \"timing\", \"tire\", \"tire\", \"torque\", \"transaction\", \"trouble\", \"tudor\", \"tue\", \"turn\", \"turn\", \"turn\", \"turn\", \"turn\", \"type\", \"tyre\", \"tyre\", \"tyre\", \"tyre\", \"tyre\", \"tyre\", \"tyre\", \"tyre\", \"tyre\", \"tyre\", \"tyre\", \"tyre\", \"tyre_fitter\", \"tyre_fitter\", \"tyre_fitter\", \"tyres\", \"ultra\", \"unable\", \"unable\", \"unbeatable\", \"unbelievable\", \"update\", \"use\", \"use\", \"use\", \"useless\", \"user\", \"user\", \"value\", \"value\", \"value\", \"valve\", \"valve\", \"variety\", \"vast\", \"ve\", \"venue\", \"visit\", \"visit\", \"volvo\", \"wait\", \"wait\", \"wait\", \"want\", \"want\", \"want\", \"want\", \"want\", \"want\", \"want\", \"want\", \"watch\", \"wear\", \"website\", \"website\", \"website\", \"website\", \"website\", \"website\", \"website\", \"website\", \"website\", \"week\", \"week\", \"week\", \"weekend\", \"weekend\", \"welcome\", \"what\", \"wheel\", \"wheel\", \"wheel\", \"wheel\", \"wheel\", \"wheel_alignment\", \"wheel_nuts\", \"whilst\", \"whilst\", \"whole\", \"whole_experience\", \"whole_process\", \"wide\", \"wide\", \"wide_range\", \"work\", \"work\", \"work\", \"work\", \"work\", \"work\", \"work\", \"work\", \"work\", \"worry\", \"worth\", \"would\", \"wrench\", \"wrong\", \"wrong\", \"wrong\", \"year\", \"year\", \"year\", \"year\", \"yorkshire\", \"you\", \"you\", \"young\"]}, \"R\": 30, \"lambda.step\": 0.01, \"plot.opts\": {\"xlab\": \"PC1\", \"ylab\": \"PC2\"}, \"topic.order\": [1, 2, 3, 4, 5, 6, 7, 8, 9, 10, 11, 12]};\n",
       "\n",
       "function LDAvis_load_lib(url, callback){\n",
       "  var s = document.createElement('script');\n",
       "  s.src = url;\n",
       "  s.async = true;\n",
       "  s.onreadystatechange = s.onload = callback;\n",
       "  s.onerror = function(){console.warn(\"failed to load library \" + url);};\n",
       "  document.getElementsByTagName(\"head\")[0].appendChild(s);\n",
       "}\n",
       "\n",
       "if(typeof(LDAvis) !== \"undefined\"){\n",
       "   // already loaded: just create the visualization\n",
       "   !function(LDAvis){\n",
       "       new LDAvis(\"#\" + \"ldavis_el191400462340593443697104377\", ldavis_el191400462340593443697104377_data);\n",
       "   }(LDAvis);\n",
       "}else if(typeof define === \"function\" && define.amd){\n",
       "   // require.js is available: use it to load d3/LDAvis\n",
       "   require.config({paths: {d3: \"https://d3js.org/d3.v5\"}});\n",
       "   require([\"d3\"], function(d3){\n",
       "      window.d3 = d3;\n",
       "      LDAvis_load_lib(\"https://cdn.jsdelivr.net/gh/bmabey/pyLDAvis@3.2.2/pyLDAvis/js/ldavis.v3.0.0.js\", function(){\n",
       "        new LDAvis(\"#\" + \"ldavis_el191400462340593443697104377\", ldavis_el191400462340593443697104377_data);\n",
       "      });\n",
       "    });\n",
       "}else{\n",
       "    // require.js not available: dynamically load d3 & LDAvis\n",
       "    LDAvis_load_lib(\"https://d3js.org/d3.v5.js\", function(){\n",
       "         LDAvis_load_lib(\"https://cdn.jsdelivr.net/gh/bmabey/pyLDAvis@3.2.2/pyLDAvis/js/ldavis.v3.0.0.js\", function(){\n",
       "                 new LDAvis(\"#\" + \"ldavis_el191400462340593443697104377\", ldavis_el191400462340593443697104377_data);\n",
       "            })\n",
       "         });\n",
       "}\n",
       "</script>"
      ],
      "text/plain": [
       "<IPython.core.display.HTML object>"
      ]
     },
     "execution_count": 54,
     "metadata": {},
     "output_type": "execute_result"
    }
   ],
   "source": [
    "topic_vis_large = pyLDAvis.gensim.prepare(tuned_lda_model_total, bag_total_corpus , dictionary_total, sort_topics = False)\n",
    "pyLDAvis.display(topic_vis_large)"
   ]
  },
  {
   "cell_type": "markdown",
   "id": "cc1144dc",
   "metadata": {
    "papermill": {
     "duration": 0.094685,
     "end_time": "2022-01-09T21:37:55.372536",
     "exception": false,
     "start_time": "2022-01-09T21:37:55.277851",
     "status": "completed"
    },
    "tags": []
   },
   "source": [
    "## Model 2 : Gibbs Sampling Dirichlet Mixture Model"
   ]
  },
  {
   "cell_type": "code",
   "execution_count": 55,
   "id": "59372bb8",
   "metadata": {
    "execution": {
     "iopub.execute_input": "2022-01-09T21:37:55.567424Z",
     "iopub.status.busy": "2022-01-09T21:37:55.566848Z",
     "iopub.status.idle": "2022-01-09T21:37:56.969610Z",
     "shell.execute_reply": "2022-01-09T21:37:56.968901Z"
    },
    "papermill": {
     "duration": 1.501509,
     "end_time": "2022-01-09T21:37:56.969762",
     "exception": false,
     "start_time": "2022-01-09T21:37:55.468253",
     "status": "completed"
    },
    "tags": []
   },
   "outputs": [
    {
     "name": "stdout",
     "output_type": "stream",
     "text": [
      "Cloning into 'gsdmm'...\r\n",
      "remote: Enumerating objects: 62, done.\u001b[K\r\n",
      "remote: Total 62 (delta 0), reused 0 (delta 0), pack-reused 62\u001b[K\r\n",
      "Unpacking objects: 100% (62/62), done.\r\n"
     ]
    }
   ],
   "source": [
    "!git clone https://github.com/rwalk/gsdmm.git"
   ]
  },
  {
   "cell_type": "code",
   "execution_count": 56,
   "id": "d7792e78",
   "metadata": {
    "execution": {
     "iopub.execute_input": "2022-01-09T21:37:57.170232Z",
     "iopub.status.busy": "2022-01-09T21:37:57.169287Z",
     "iopub.status.idle": "2022-01-09T21:37:57.176934Z",
     "shell.execute_reply": "2022-01-09T21:37:57.177429Z"
    },
    "papermill": {
     "duration": 0.109625,
     "end_time": "2022-01-09T21:37:57.177620",
     "exception": false,
     "start_time": "2022-01-09T21:37:57.067995",
     "status": "completed"
    },
    "tags": []
   },
   "outputs": [],
   "source": [
    "from gsdmm.gsdmm import MovieGroupProcess"
   ]
  },
  {
   "cell_type": "code",
   "execution_count": 57,
   "id": "5d5bc96b",
   "metadata": {
    "execution": {
     "iopub.execute_input": "2022-01-09T21:37:57.377099Z",
     "iopub.status.busy": "2022-01-09T21:37:57.376406Z",
     "iopub.status.idle": "2022-01-09T21:37:57.379437Z",
     "shell.execute_reply": "2022-01-09T21:37:57.380004Z"
    },
    "papermill": {
     "duration": 0.104632,
     "end_time": "2022-01-09T21:37:57.380204",
     "exception": false,
     "start_time": "2022-01-09T21:37:57.275572",
     "status": "completed"
    },
    "tags": []
   },
   "outputs": [],
   "source": [
    "gsdmm_model = MovieGroupProcess(K = 12, n_iters = 16)"
   ]
  },
  {
   "cell_type": "code",
   "execution_count": 58,
   "id": "1dfc8433",
   "metadata": {
    "execution": {
     "iopub.execute_input": "2022-01-09T21:37:57.576470Z",
     "iopub.status.busy": "2022-01-09T21:37:57.575835Z",
     "iopub.status.idle": "2022-01-09T21:37:57.763210Z",
     "shell.execute_reply": "2022-01-09T21:37:57.763746Z"
    },
    "papermill": {
     "duration": 0.286777,
     "end_time": "2022-01-09T21:37:57.763919",
     "exception": false,
     "start_time": "2022-01-09T21:37:57.477142",
     "status": "completed"
    },
    "tags": []
   },
   "outputs": [],
   "source": [
    "dictionary_total = corpora.Dictionary(dataset.Preprocessed_Total)\n",
    "dictionary_total.filter_extremes(no_below = 15, no_above = 0.12)"
   ]
  },
  {
   "cell_type": "code",
   "execution_count": 59,
   "id": "3f96510a",
   "metadata": {
    "execution": {
     "iopub.execute_input": "2022-01-09T21:37:57.962137Z",
     "iopub.status.busy": "2022-01-09T21:37:57.961567Z",
     "iopub.status.idle": "2022-01-09T21:39:02.298354Z",
     "shell.execute_reply": "2022-01-09T21:39:02.298891Z"
    },
    "papermill": {
     "duration": 64.438447,
     "end_time": "2022-01-09T21:39:02.299147",
     "exception": false,
     "start_time": "2022-01-09T21:37:57.860700",
     "status": "completed"
    },
    "tags": []
   },
   "outputs": [
    {
     "name": "stdout",
     "output_type": "stream",
     "text": [
      "In stage 0: transferred 8908 clusters with 12 clusters populated\n",
      "In stage 1: transferred 6641 clusters with 12 clusters populated\n",
      "In stage 2: transferred 4785 clusters with 12 clusters populated\n",
      "In stage 3: transferred 3920 clusters with 12 clusters populated\n",
      "In stage 4: transferred 3601 clusters with 12 clusters populated\n",
      "In stage 5: transferred 3400 clusters with 12 clusters populated\n",
      "In stage 6: transferred 3313 clusters with 12 clusters populated\n",
      "In stage 7: transferred 3237 clusters with 12 clusters populated\n",
      "In stage 8: transferred 3215 clusters with 12 clusters populated\n",
      "In stage 9: transferred 3206 clusters with 12 clusters populated\n",
      "In stage 10: transferred 3182 clusters with 12 clusters populated\n",
      "In stage 11: transferred 3171 clusters with 12 clusters populated\n",
      "In stage 12: transferred 3075 clusters with 12 clusters populated\n",
      "In stage 13: transferred 3124 clusters with 12 clusters populated\n",
      "In stage 14: transferred 3167 clusters with 12 clusters populated\n",
      "In stage 15: transferred 3066 clusters with 12 clusters populated\n"
     ]
    }
   ],
   "source": [
    "results = gsdmm_model.fit(dataset['Preprocessed_Total'], len(dictionary_total))"
   ]
  },
  {
   "cell_type": "code",
   "execution_count": 60,
   "id": "ffc22ef5",
   "metadata": {
    "execution": {
     "iopub.execute_input": "2022-01-09T21:39:02.506658Z",
     "iopub.status.busy": "2022-01-09T21:39:02.505973Z",
     "iopub.status.idle": "2022-01-09T21:39:02.509997Z",
     "shell.execute_reply": "2022-01-09T21:39:02.510472Z"
    },
    "papermill": {
     "duration": 0.109281,
     "end_time": "2022-01-09T21:39:02.510639",
     "exception": false,
     "start_time": "2022-01-09T21:39:02.401358",
     "status": "completed"
    },
    "tags": []
   },
   "outputs": [
    {
     "name": "stdout",
     "output_type": "stream",
     "text": [
      "No session logging\n"
     ]
    }
   ],
   "source": [
    "try:\n",
    "    logger_gsdmm = session.logger(gsdmm_model)\n",
    "except:\n",
    "    print(\"No session logging\")"
   ]
  },
  {
   "cell_type": "code",
   "execution_count": 61,
   "id": "eacfc376",
   "metadata": {
    "execution": {
     "iopub.execute_input": "2022-01-09T21:39:02.717535Z",
     "iopub.status.busy": "2022-01-09T21:39:02.716931Z",
     "iopub.status.idle": "2022-01-09T21:39:02.721874Z",
     "shell.execute_reply": "2022-01-09T21:39:02.722381Z"
    },
    "papermill": {
     "duration": 0.110129,
     "end_time": "2022-01-09T21:39:02.722551",
     "exception": false,
     "start_time": "2022-01-09T21:39:02.612422",
     "status": "completed"
    },
    "tags": []
   },
   "outputs": [
    {
     "name": "stdout",
     "output_type": "stream",
     "text": [
      "For each topic, the number of documents is : \n",
      " [ 784  321  352  367  794  770 1457  574  799 1251 2316  347]\n"
     ]
    }
   ],
   "source": [
    "docs_per_topic = np.array(gsdmm_model.cluster_doc_count)\n",
    "print(\"For each topic, the number of documents is : \\n\", docs_per_topic)"
   ]
  },
  {
   "cell_type": "code",
   "execution_count": 62,
   "id": "6086f866",
   "metadata": {
    "execution": {
     "iopub.execute_input": "2022-01-09T21:39:02.933699Z",
     "iopub.status.busy": "2022-01-09T21:39:02.933082Z",
     "iopub.status.idle": "2022-01-09T21:39:02.935261Z",
     "shell.execute_reply": "2022-01-09T21:39:02.935798Z"
    },
    "papermill": {
     "duration": 0.111357,
     "end_time": "2022-01-09T21:39:02.935955",
     "exception": false,
     "start_time": "2022-01-09T21:39:02.824598",
     "status": "completed"
    },
    "tags": []
   },
   "outputs": [
    {
     "data": {
      "text/plain": [
       "array([10,  6,  9,  8,  4,  0,  5,  7,  3,  2, 11,  1])"
      ]
     },
     "execution_count": 62,
     "metadata": {},
     "output_type": "execute_result"
    }
   ],
   "source": [
    "topic_cluster_indices = docs_per_topic.argsort()[-12:][::-1]  #this step shows the indices of topics based on number of documents in each of them\n",
    "topic_cluster_indices"
   ]
  },
  {
   "cell_type": "code",
   "execution_count": 63,
   "id": "8da7f700",
   "metadata": {
    "execution": {
     "iopub.execute_input": "2022-01-09T21:39:03.147294Z",
     "iopub.status.busy": "2022-01-09T21:39:03.146688Z",
     "iopub.status.idle": "2022-01-09T21:39:03.151611Z",
     "shell.execute_reply": "2022-01-09T21:39:03.152042Z"
    },
    "papermill": {
     "duration": 0.113514,
     "end_time": "2022-01-09T21:39:03.152229",
     "exception": false,
     "start_time": "2022-01-09T21:39:03.038715",
     "status": "completed"
    },
    "tags": []
   },
   "outputs": [],
   "source": [
    "def get_top_words_topic(model, topic_words, sorted_index, n_terms):\n",
    "    \"\"\"\n",
    "    Function that gives the top keywords per topic given a model.\n",
    "    :param model: the GSDMM model\n",
    "    :param topic_words: a distribution of topic words\n",
    "    :param sorted_index: an array of topic indices sorted by quantity of documents in each\n",
    "    :param n_terms: integer representing number of terms to display\n",
    "    :return: top words for each topic\n",
    "    \"\"\"\n",
    "    for topic in sorted_index:\n",
    "        topic_terms = sorted(model.cluster_word_distribution[topic].items(), key = lambda k: k[1], reverse = True)\n",
    "        print(\"\\n\\nTopic \" + str(topic))\n",
    "        print(\"\\nWords:\", topic_terms[:n_terms])"
   ]
  },
  {
   "cell_type": "code",
   "execution_count": 64,
   "id": "16817ae0",
   "metadata": {
    "execution": {
     "iopub.execute_input": "2022-01-09T21:39:03.360027Z",
     "iopub.status.busy": "2022-01-09T21:39:03.359127Z",
     "iopub.status.idle": "2022-01-09T21:39:03.371657Z",
     "shell.execute_reply": "2022-01-09T21:39:03.372130Z"
    },
    "papermill": {
     "duration": 0.118197,
     "end_time": "2022-01-09T21:39:03.372302",
     "exception": false,
     "start_time": "2022-01-09T21:39:03.254105",
     "status": "completed"
    },
    "tags": []
   },
   "outputs": [
    {
     "name": "stdout",
     "output_type": "stream",
     "text": [
      "\n",
      "\n",
      "Topic 10\n",
      "\n",
      "Words: [('service', 1535), ('good', 1170), ('price', 963), ('great', 865), ('easy', 559), ('excellent', 511), ('good_price', 434), ('tyre', 387), ('value', 354), ('excellent_service', 293), ('quick', 262), ('efficient', 214), ('money', 148), ('good_value', 145), ('recommend', 141), ('garage', 124), ('great_prices', 100), ('hassle', 97), ('great_value', 91), ('fitting', 89), ('quality', 84), ('company', 83), ('simple', 79), ('free', 76), ('website', 73)]\n",
      "\n",
      "\n",
      "Topic 6\n",
      "\n",
      "Words: [('tyre', 802), ('price', 791), ('easy', 719), ('good', 705), ('garage', 454), ('service', 331), ('local', 320), ('good_price', 305), ('great', 299), ('choice', 228), ('local_garage', 180), ('website', 176), ('excellent', 171), ('order', 167), ('time', 164), ('fitting', 153), ('fitter', 152), ('choose', 130), ('quick', 129), ('fit', 124), ('convenient', 119), ('online', 98), ('simple', 94), ('company', 92), ('best_price', 92)]\n",
      "\n",
      "\n",
      "Topic 9\n",
      "\n",
      "Words: [('tyre', 1055), ('easy', 603), ('time', 478), ('price', 449), ('good', 388), ('company', 278), ('great', 273), ('service', 269), ('garage', 259), ('fitting', 217), ('choice', 199), ('choose', 166), ('process', 164), ('centre', 153), ('order', 144), ('simple', 137), ('fit', 135), ('website', 126), ('local', 120), ('online', 109), ('excellent', 108), ('book', 106), ('fitting_centre', 105), ('recommend', 100), ('experience', 98)]\n",
      "\n",
      "\n",
      "Topic 8\n",
      "\n",
      "Words: [('price', 429), ('service', 372), ('competitive', 367), ('tyre', 308), ('good', 258), ('competitive_price', 256), ('easy', 254), ('great', 207), ('excellent', 166), ('competitive_prices', 164), ('garage', 121), ('fitter', 97), ('local', 93), ('start', 88), ('efficient', 82), ('finish', 82), ('fitting', 79), ('choice', 79), ('process', 78), ('website', 76), ('time', 75), ('excellent_service', 75), ('company', 68), ('pricing', 65), ('experience', 55)]\n",
      "\n",
      "\n",
      "Topic 4\n",
      "\n",
      "Words: [('service', 629), ('tyre', 300), ('excellent', 268), ('customer', 214), ('great', 189), ('customer_service', 164), ('price', 153), ('good', 151), ('staff', 138), ('helpful', 120), ('excellent_service', 118), ('time', 116), ('friendly', 114), ('efficient', 101), ('garage', 98), ('easy', 94), ('quick', 93), ('company', 92), ('recommend', 78), ('professional', 77), ('fitter', 63), ('order', 62), ('fit', 56), ('polite', 45), ('fitting', 42)]\n",
      "\n",
      "\n",
      "Topic 0\n",
      "\n",
      "Words: [('tyre', 953), ('time', 496), ('garage', 463), ('company', 317), ('service', 266), ('appointment', 264), ('email', 214), ('fitting', 206), ('nt', 204), ('date', 184), ('order', 174), ('book', 162), ('good', 154), ('customer', 136), ('call', 134), ('day', 119), ('phone', 115), ('hour', 105), ('take', 102), ('fitter', 96), ('slot', 94), ('work', 92), ('great', 90), ('price', 89), ('week', 89)]\n",
      "\n",
      "\n",
      "Topic 5\n",
      "\n",
      "Words: [('tyre', 591), ('garage', 347), ('service', 290), ('time', 243), ('easy', 210), ('company', 189), ('good', 170), ('great', 163), ('price', 157), ('local', 149), ('excellent', 115), ('fit', 111), ('go', 103), ('recommend', 102), ('order', 91), ('local_garage', 85), ('online', 75), ('book', 65), ('find', 60), ('quick', 59), ('work', 58), ('fitting', 54), ('value', 52), ('save', 52), ('money', 49)]\n",
      "\n",
      "\n",
      "Topic 7\n",
      "\n",
      "Words: [('service', 393), ('price', 207), ('great', 200), ('tyre', 190), ('garage', 141), ('excellent', 141), ('company', 139), ('good', 108), ('recommend', 104), ('easy', 90), ('fault', 84), ('can', 71), ('not', 71), ('excellent_service', 62), ('fantastic', 59), ('experience', 57), ('local', 55), ('fitting', 50), ('friendly', 48), ('time', 47), ('cannot_fault', 45), ('nt', 44), ('efficient', 43), ('quick', 39), ('brilliant', 38)]\n",
      "\n",
      "\n",
      "Topic 3\n",
      "\n",
      "Words: [('tyre', 494), ('garage', 155), ('time', 148), ('service', 124), ('price', 119), ('company', 112), ('fitter', 103), ('good', 93), ('fitting', 68), ('minute', 64), ('great', 62), ('easy', 53), ('order', 50), ('go', 48), ('wait', 47), ('need', 46), ('excellent', 44), ('choose', 42), ('hour', 42), ('fit', 41), ('come', 37), ('experience', 36), ('mobile', 36), ('find', 34), ('website', 33)]\n",
      "\n",
      "\n",
      "Topic 2\n",
      "\n",
      "Words: [('tyre', 433), ('good', 139), ('company', 138), ('service', 138), ('price', 126), ('garage', 95), ('time', 64), ('great', 62), ('nt', 58), ('fitter', 49), ('fitting', 41), ('fit', 38), ('wheel', 36), ('take', 35), ('quality', 35), ('local', 34), ('excellent', 34), ('issue', 32), ('find', 32), ('recommend', 30), ('do', 28), ('order', 27), ('problem', 27), ('go', 25), ('sport', 25)]\n",
      "\n",
      "\n",
      "Topic 11\n",
      "\n",
      "Words: [('tyre', 617), ('company', 218), ('garage', 218), ('wheel', 198), ('service', 142), ('time', 134), ('fitter', 109), ('good', 99), ('take', 89), ('fitting', 72), ('customer', 71), ('price', 70), ('check', 67), ('fit', 61), ('experience', 59), ('go', 56), ('say', 55), ('email', 54), ('nt', 53), ('appointment', 53), ('issue', 49), ('need', 44), ('work', 44), ('order', 44), ('call', 44)]\n",
      "\n",
      "\n",
      "Topic 1\n",
      "\n",
      "Words: [('service', 230), ('tyre', 177), ('class', 129), ('first', 124), ('time', 112), ('first_class', 111), ('price', 92), ('company', 82), ('excellent', 75), ('class_service', 63), ('good', 58), ('garage', 56), ('first_class_service', 54), ('great', 45), ('first_time', 36), ('efficient', 29), ('many', 28), ('fitter', 28), ('easy', 27), ('excellent_service', 27), ('local', 26), ('problem', 26), ('choice', 26), ('customer', 26), ('fitting', 24)]\n"
     ]
    }
   ],
   "source": [
    "get_top_words_topic(gsdmm_model, gsdmm_model.cluster_word_distribution, topic_cluster_indices, 25)"
   ]
  },
  {
   "cell_type": "code",
   "execution_count": null,
   "id": "8ced86d1",
   "metadata": {
    "papermill": {
     "duration": 0.102589,
     "end_time": "2022-01-09T21:39:03.577409",
     "exception": false,
     "start_time": "2022-01-09T21:39:03.474820",
     "status": "completed"
    },
    "tags": []
   },
   "outputs": [],
   "source": []
  },
  {
   "cell_type": "code",
   "execution_count": 65,
   "id": "892ed448",
   "metadata": {
    "execution": {
     "iopub.execute_input": "2022-01-09T21:39:03.786738Z",
     "iopub.status.busy": "2022-01-09T21:39:03.786151Z",
     "iopub.status.idle": "2022-01-09T21:39:03.792897Z",
     "shell.execute_reply": "2022-01-09T21:39:03.793348Z"
    },
    "papermill": {
     "duration": 0.113014,
     "end_time": "2022-01-09T21:39:03.793511",
     "exception": false,
     "start_time": "2022-01-09T21:39:03.680497",
     "status": "completed"
    },
    "tags": []
   },
   "outputs": [],
   "source": [
    "def predict_gsdmm_topics(data, model, threshold = 0.5):\n",
    "    scores = model.score(data)\n",
    "    score_cluster_map = {i:scores[i] for i in range(len(scores))}\n",
    "    # print(score_cluster_map)\n",
    "    sorted_indices = sorted(score_cluster_map, key = lambda k: score_cluster_map[k], reverse = True)\n",
    "    labels = []\n",
    "    \n",
    "    for k in range(0, len(sorted_indices) - 1):\n",
    "        # print(score_cluster_map[sorted_indices[k]], score_cluster_map[sorted_indices[k+1]], score_cluster_map[sorted_indices[k+1]] - score_cluster_map[sorted_indices[k]] )\n",
    "        if score_cluster_map[sorted_indices[k]] >= threshold:\n",
    "            labels.append(sorted_indices[k])\n",
    "        elif (score_cluster_map[sorted_indices[k]] - score_cluster_map[sorted_indices[k+1]]) < 0.001 and score_cluster_map[sorted_indices[0]] - score_cluster_map[sorted_indices[k+1]] < 0.01:\n",
    "            labels.append(sorted_indices[k])\n",
    "    if labels == []:\n",
    "        labels.append(sorted_indices[0])\n",
    "    \n",
    "    labels = labels[:3]\n",
    "    \n",
    "#     for i in labels:\n",
    "#         print(score_cluster_map[i])\n",
    "          \n",
    "    # print(sorted_indices)\n",
    "    \n",
    "    return str(labels)\n",
    "        "
   ]
  },
  {
   "cell_type": "code",
   "execution_count": 66,
   "id": "9ec2f625",
   "metadata": {
    "execution": {
     "iopub.execute_input": "2022-01-09T21:39:04.003275Z",
     "iopub.status.busy": "2022-01-09T21:39:04.002679Z",
     "iopub.status.idle": "2022-01-09T21:39:04.007353Z",
     "shell.execute_reply": "2022-01-09T21:39:04.007790Z"
    },
    "papermill": {
     "duration": 0.110648,
     "end_time": "2022-01-09T21:39:04.007945",
     "exception": false,
     "start_time": "2022-01-09T21:39:03.897297",
     "status": "completed"
    },
    "tags": []
   },
   "outputs": [
    {
     "data": {
      "text/plain": [
       "'Easy to select tyres, easy to select fitting station and good service'"
      ]
     },
     "execution_count": 66,
     "metadata": {},
     "output_type": "execute_result"
    }
   ],
   "source": [
    "dataset.loc[1000,'Review']"
   ]
  },
  {
   "cell_type": "code",
   "execution_count": 67,
   "id": "5618b2e3",
   "metadata": {
    "execution": {
     "iopub.execute_input": "2022-01-09T21:39:04.219491Z",
     "iopub.status.busy": "2022-01-09T21:39:04.218876Z",
     "iopub.status.idle": "2022-01-09T21:39:04.221146Z",
     "shell.execute_reply": "2022-01-09T21:39:04.221624Z"
    },
    "papermill": {
     "duration": 0.110851,
     "end_time": "2022-01-09T21:39:04.221792",
     "exception": false,
     "start_time": "2022-01-09T21:39:04.110941",
     "status": "completed"
    },
    "tags": []
   },
   "outputs": [
    {
     "data": {
      "text/plain": [
       "'[6]'"
      ]
     },
     "execution_count": 67,
     "metadata": {},
     "output_type": "execute_result"
    }
   ],
   "source": [
    "predict_gsdmm_topics(dataset.loc[1000,'Preprocessed_Total'], gsdmm_model, 0.001)"
   ]
  },
  {
   "cell_type": "code",
   "execution_count": 68,
   "id": "1a2ab4ce",
   "metadata": {
    "execution": {
     "iopub.execute_input": "2022-01-09T21:39:04.452571Z",
     "iopub.status.busy": "2022-01-09T21:39:04.447483Z",
     "iopub.status.idle": "2022-01-09T21:39:08.027446Z",
     "shell.execute_reply": "2022-01-09T21:39:08.026869Z"
    },
    "papermill": {
     "duration": 3.703552,
     "end_time": "2022-01-09T21:39:08.027592",
     "exception": false,
     "start_time": "2022-01-09T21:39:04.324040",
     "status": "completed"
    },
    "tags": []
   },
   "outputs": [],
   "source": [
    "dataset['GSDMM_Topics'] = dataset['Preprocessed_Total'].apply(lambda x: predict_gsdmm_topics(x, gsdmm_model, 0.1))"
   ]
  },
  {
   "cell_type": "code",
   "execution_count": 69,
   "id": "43e34efa",
   "metadata": {
    "execution": {
     "iopub.execute_input": "2022-01-09T21:39:08.245223Z",
     "iopub.status.busy": "2022-01-09T21:39:08.244567Z",
     "iopub.status.idle": "2022-01-09T21:39:08.258257Z",
     "shell.execute_reply": "2022-01-09T21:39:08.258791Z"
    },
    "papermill": {
     "duration": 0.125113,
     "end_time": "2022-01-09T21:39:08.258958",
     "exception": false,
     "start_time": "2022-01-09T21:39:08.133845",
     "status": "completed"
    },
    "tags": []
   },
   "outputs": [
    {
     "data": {
      "text/plain": [
       "array([['Used them many times - never had a problem - always competitive.',\n",
       "        '[1]'],\n",
       "       ['Great prices, easy to navigate, will be using again.',\n",
       "        '[10, 6, 8]'],\n",
       "       ['Great buying experience from start to finish.', '[8]'],\n",
       "       ['Great service! Easy to use and efficient in execution. Next time I need tyres, Black-circles will be my choice.',\n",
       "        '[1]'],\n",
       "       ['I was satisfied with the service I received', '[10, 0, 1]']],\n",
       "      dtype=object)"
      ]
     },
     "execution_count": 69,
     "metadata": {},
     "output_type": "execute_result"
    }
   ],
   "source": [
    "dataset.sample(5).loc[:,['Review','GSDMM_Topics']].values"
   ]
  },
  {
   "cell_type": "markdown",
   "id": "82efc4f0",
   "metadata": {
    "papermill": {
     "duration": 0.102966,
     "end_time": "2022-01-09T21:39:08.465679",
     "exception": false,
     "start_time": "2022-01-09T21:39:08.362713",
     "status": "completed"
    },
    "tags": []
   },
   "source": [
    "## Method 3 :  Contextualized Topic Models"
   ]
  },
  {
   "cell_type": "code",
   "execution_count": 70,
   "id": "bfb8699c",
   "metadata": {
    "execution": {
     "iopub.execute_input": "2022-01-09T21:39:08.677872Z",
     "iopub.status.busy": "2022-01-09T21:39:08.677244Z",
     "iopub.status.idle": "2022-01-09T21:39:36.110192Z",
     "shell.execute_reply": "2022-01-09T21:39:36.109415Z"
    },
    "papermill": {
     "duration": 27.53922,
     "end_time": "2022-01-09T21:39:36.110338",
     "exception": false,
     "start_time": "2022-01-09T21:39:08.571118",
     "status": "completed"
    },
    "tags": []
   },
   "outputs": [
    {
     "name": "stdout",
     "output_type": "stream",
     "text": [
      "Collecting contextualized-topic-models==2.2.0\r\n",
      "  Downloading contextualized_topic_models-2.2.0-py2.py3-none-any.whl (33 kB)\r\n",
      "Requirement already satisfied: wordcloud>=1.8.1 in /opt/conda/lib/python3.7/site-packages (from contextualized-topic-models==2.2.0) (1.8.1)\r\n",
      "Requirement already satisfied: numpy>=1.19.1 in /opt/conda/lib/python3.7/site-packages (from contextualized-topic-models==2.2.0) (1.19.5)\r\n",
      "Collecting sentence-transformers>=1.1.1\r\n",
      "  Downloading sentence-transformers-2.1.0.tar.gz (78 kB)\r\n",
      "\u001b[K     |████████████████████████████████| 78 kB 2.6 MB/s \r\n",
      "\u001b[?25hRequirement already satisfied: gensim>=3.8.3 in /opt/conda/lib/python3.7/site-packages (from contextualized-topic-models==2.2.0) (4.0.1)\r\n",
      "Requirement already satisfied: scipy>=1.4.1 in /opt/conda/lib/python3.7/site-packages (from contextualized-topic-models==2.2.0) (1.7.1)\r\n",
      "Requirement already satisfied: torchvision>=0.7.0 in /opt/conda/lib/python3.7/site-packages (from contextualized-topic-models==2.2.0) (0.10.1+cpu)\r\n",
      "Requirement already satisfied: torch>=1.6.0 in /opt/conda/lib/python3.7/site-packages (from contextualized-topic-models==2.2.0) (1.9.1+cpu)\r\n",
      "Collecting ipython==7.16.1\r\n",
      "  Downloading ipython-7.16.1-py3-none-any.whl (785 kB)\r\n",
      "\u001b[K     |████████████████████████████████| 785 kB 19.2 MB/s \r\n",
      "\u001b[?25hRequirement already satisfied: tqdm>=4.56.0 in /opt/conda/lib/python3.7/site-packages (from contextualized-topic-models==2.2.0) (4.62.3)\r\n",
      "Requirement already satisfied: matplotlib>=3.1.3 in /opt/conda/lib/python3.7/site-packages (from contextualized-topic-models==2.2.0) (3.4.3)\r\n",
      "Collecting ipywidgets==7.5.1\r\n",
      "  Downloading ipywidgets-7.5.1-py2.py3-none-any.whl (121 kB)\r\n",
      "\u001b[K     |████████████████████████████████| 121 kB 48.6 MB/s \r\n",
      "\u001b[?25hRequirement already satisfied: pygments in /opt/conda/lib/python3.7/site-packages (from ipython==7.16.1->contextualized-topic-models==2.2.0) (2.10.0)\r\n",
      "Requirement already satisfied: setuptools>=18.5 in /opt/conda/lib/python3.7/site-packages (from ipython==7.16.1->contextualized-topic-models==2.2.0) (58.0.4)\r\n",
      "Requirement already satisfied: decorator in /opt/conda/lib/python3.7/site-packages (from ipython==7.16.1->contextualized-topic-models==2.2.0) (5.1.0)\r\n",
      "Requirement already satisfied: pexpect in /opt/conda/lib/python3.7/site-packages (from ipython==7.16.1->contextualized-topic-models==2.2.0) (4.8.0)\r\n",
      "Requirement already satisfied: traitlets>=4.2 in /opt/conda/lib/python3.7/site-packages (from ipython==7.16.1->contextualized-topic-models==2.2.0) (5.1.0)\r\n",
      "Requirement already satisfied: prompt-toolkit!=3.0.0,!=3.0.1,<3.1.0,>=2.0.0 in /opt/conda/lib/python3.7/site-packages (from ipython==7.16.1->contextualized-topic-models==2.2.0) (3.0.20)\r\n",
      "Requirement already satisfied: pickleshare in /opt/conda/lib/python3.7/site-packages (from ipython==7.16.1->contextualized-topic-models==2.2.0) (0.7.5)\r\n",
      "Requirement already satisfied: backcall in /opt/conda/lib/python3.7/site-packages (from ipython==7.16.1->contextualized-topic-models==2.2.0) (0.2.0)\r\n",
      "Requirement already satisfied: jedi>=0.10 in /opt/conda/lib/python3.7/site-packages (from ipython==7.16.1->contextualized-topic-models==2.2.0) (0.18.0)\r\n",
      "Requirement already satisfied: nbformat>=4.2.0 in /opt/conda/lib/python3.7/site-packages (from ipywidgets==7.5.1->contextualized-topic-models==2.2.0) (5.1.3)\r\n",
      "Requirement already satisfied: widgetsnbextension~=3.5.0 in /opt/conda/lib/python3.7/site-packages (from ipywidgets==7.5.1->contextualized-topic-models==2.2.0) (3.5.1)\r\n",
      "Requirement already satisfied: ipykernel>=4.5.1 in /opt/conda/lib/python3.7/site-packages (from ipywidgets==7.5.1->contextualized-topic-models==2.2.0) (6.4.1)\r\n",
      "Requirement already satisfied: smart-open>=1.8.1 in /opt/conda/lib/python3.7/site-packages (from gensim>=3.8.3->contextualized-topic-models==2.2.0) (5.2.1)\r\n",
      "Requirement already satisfied: argcomplete>=1.12.3 in /opt/conda/lib/python3.7/site-packages (from ipykernel>=4.5.1->ipywidgets==7.5.1->contextualized-topic-models==2.2.0) (1.12.3)\r\n",
      "Requirement already satisfied: debugpy<2.0,>=1.0.0 in /opt/conda/lib/python3.7/site-packages (from ipykernel>=4.5.1->ipywidgets==7.5.1->contextualized-topic-models==2.2.0) (1.4.1)\r\n",
      "Requirement already satisfied: tornado<7.0,>=4.2 in /opt/conda/lib/python3.7/site-packages (from ipykernel>=4.5.1->ipywidgets==7.5.1->contextualized-topic-models==2.2.0) (6.1)\r\n",
      "Collecting ipykernel>=4.5.1\r\n",
      "  Downloading ipykernel-6.6.1-py3-none-any.whl (126 kB)\r\n",
      "\u001b[K     |████████████████████████████████| 126 kB 40.7 MB/s \r\n",
      "\u001b[?25hRequirement already satisfied: nest-asyncio in /opt/conda/lib/python3.7/site-packages (from ipykernel>=4.5.1->ipywidgets==7.5.1->contextualized-topic-models==2.2.0) (1.5.1)\r\n",
      "Requirement already satisfied: jupyter-client<8.0 in /opt/conda/lib/python3.7/site-packages (from ipykernel>=4.5.1->ipywidgets==7.5.1->contextualized-topic-models==2.2.0) (7.0.3)\r\n",
      "  Downloading ipykernel-6.6.0-py3-none-any.whl (126 kB)\r\n",
      "\u001b[K     |████████████████████████████████| 126 kB 40.5 MB/s \r\n",
      "\u001b[?25h  Downloading ipykernel-6.5.1-py3-none-any.whl (125 kB)\r\n",
      "\u001b[K     |████████████████████████████████| 125 kB 66.3 MB/s \r\n",
      "\u001b[?25h  Downloading ipykernel-6.5.0-py3-none-any.whl (125 kB)\r\n",
      "\u001b[K     |████████████████████████████████| 125 kB 65.0 MB/s \r\n",
      "\u001b[?25h  Downloading ipykernel-6.4.2-py3-none-any.whl (124 kB)\r\n",
      "\u001b[K     |████████████████████████████████| 124 kB 68.2 MB/s \r\n",
      "\u001b[?25h  Downloading ipykernel-6.4.0-py3-none-any.whl (124 kB)\r\n",
      "\u001b[K     |████████████████████████████████| 124 kB 62.7 MB/s \r\n",
      "\u001b[?25h  Downloading ipykernel-6.3.1-py3-none-any.whl (123 kB)\r\n",
      "\u001b[K     |████████████████████████████████| 123 kB 66.1 MB/s \r\n",
      "\u001b[?25h  Downloading ipykernel-6.3.0-py3-none-any.whl (123 kB)\r\n",
      "\u001b[K     |████████████████████████████████| 123 kB 66.5 MB/s \r\n",
      "\u001b[?25h  Downloading ipykernel-6.2.0-py3-none-any.whl (122 kB)\r\n",
      "\u001b[K     |████████████████████████████████| 122 kB 65.2 MB/s \r\n",
      "\u001b[?25h  Downloading ipykernel-6.1.0-py3-none-any.whl (122 kB)\r\n",
      "\u001b[K     |████████████████████████████████| 122 kB 71.0 MB/s \r\n",
      "\u001b[?25h  Downloading ipykernel-6.0.3-py3-none-any.whl (122 kB)\r\n",
      "\u001b[K     |████████████████████████████████| 122 kB 68.9 MB/s \r\n",
      "\u001b[?25h  Downloading ipykernel-6.0.2-py3-none-any.whl (122 kB)\r\n",
      "\u001b[K     |████████████████████████████████| 122 kB 69.2 MB/s \r\n",
      "\u001b[?25h  Downloading ipykernel-6.0.1-py3-none-any.whl (122 kB)\r\n",
      "\u001b[K     |████████████████████████████████| 122 kB 69.9 MB/s \r\n",
      "\u001b[?25h  Downloading ipykernel-6.0.0-py3-none-any.whl (122 kB)\r\n",
      "\u001b[K     |████████████████████████████████| 122 kB 71.1 MB/s \r\n",
      "\u001b[?25h  Downloading ipykernel-5.5.6-py3-none-any.whl (121 kB)\r\n",
      "\u001b[K     |████████████████████████████████| 121 kB 67.6 MB/s \r\n",
      "\u001b[?25hRequirement already satisfied: ipython-genutils in /opt/conda/lib/python3.7/site-packages (from ipykernel>=4.5.1->ipywidgets==7.5.1->contextualized-topic-models==2.2.0) (0.2.0)\r\n",
      "Requirement already satisfied: parso<0.9.0,>=0.8.0 in /opt/conda/lib/python3.7/site-packages (from jedi>=0.10->ipython==7.16.1->contextualized-topic-models==2.2.0) (0.8.2)\r\n",
      "Requirement already satisfied: kiwisolver>=1.0.1 in /opt/conda/lib/python3.7/site-packages (from matplotlib>=3.1.3->contextualized-topic-models==2.2.0) (1.3.2)\r\n",
      "Requirement already satisfied: pillow>=6.2.0 in /opt/conda/lib/python3.7/site-packages (from matplotlib>=3.1.3->contextualized-topic-models==2.2.0) (8.2.0)\r\n",
      "Requirement already satisfied: cycler>=0.10 in /opt/conda/lib/python3.7/site-packages (from matplotlib>=3.1.3->contextualized-topic-models==2.2.0) (0.10.0)\r\n",
      "Requirement already satisfied: pyparsing>=2.2.1 in /opt/conda/lib/python3.7/site-packages (from matplotlib>=3.1.3->contextualized-topic-models==2.2.0) (2.4.7)\r\n",
      "Requirement already satisfied: python-dateutil>=2.7 in /opt/conda/lib/python3.7/site-packages (from matplotlib>=3.1.3->contextualized-topic-models==2.2.0) (2.8.2)\r\n",
      "Requirement already satisfied: six in /opt/conda/lib/python3.7/site-packages (from cycler>=0.10->matplotlib>=3.1.3->contextualized-topic-models==2.2.0) (1.16.0)\r\n",
      "Requirement already satisfied: jsonschema!=2.5.0,>=2.4 in /opt/conda/lib/python3.7/site-packages (from nbformat>=4.2.0->ipywidgets==7.5.1->contextualized-topic-models==2.2.0) (3.2.0)\r\n",
      "Requirement already satisfied: jupyter-core in /opt/conda/lib/python3.7/site-packages (from nbformat>=4.2.0->ipywidgets==7.5.1->contextualized-topic-models==2.2.0) (4.8.1)\r\n",
      "Requirement already satisfied: attrs>=17.4.0 in /opt/conda/lib/python3.7/site-packages (from jsonschema!=2.5.0,>=2.4->nbformat>=4.2.0->ipywidgets==7.5.1->contextualized-topic-models==2.2.0) (21.2.0)\r\n",
      "Requirement already satisfied: importlib-metadata in /opt/conda/lib/python3.7/site-packages (from jsonschema!=2.5.0,>=2.4->nbformat>=4.2.0->ipywidgets==7.5.1->contextualized-topic-models==2.2.0) (4.8.1)\r\n",
      "Requirement already satisfied: pyrsistent>=0.14.0 in /opt/conda/lib/python3.7/site-packages (from jsonschema!=2.5.0,>=2.4->nbformat>=4.2.0->ipywidgets==7.5.1->contextualized-topic-models==2.2.0) (0.17.3)\r\n",
      "Requirement already satisfied: wcwidth in /opt/conda/lib/python3.7/site-packages (from prompt-toolkit!=3.0.0,!=3.0.1,<3.1.0,>=2.0.0->ipython==7.16.1->contextualized-topic-models==2.2.0) (0.2.5)\r\n",
      "Collecting transformers<5.0.0,>=4.6.0\r\n",
      "  Downloading transformers-4.15.0-py3-none-any.whl (3.4 MB)\r\n",
      "\u001b[K     |████████████████████████████████| 3.4 MB 62.5 MB/s \r\n",
      "\u001b[?25hRequirement already satisfied: tokenizers>=0.10.3 in /opt/conda/lib/python3.7/site-packages (from sentence-transformers>=1.1.1->contextualized-topic-models==2.2.0) (0.10.3)\r\n",
      "Requirement already satisfied: scikit-learn in /opt/conda/lib/python3.7/site-packages (from sentence-transformers>=1.1.1->contextualized-topic-models==2.2.0) (0.24.2)\r\n",
      "Requirement already satisfied: nltk in /opt/conda/lib/python3.7/site-packages (from sentence-transformers>=1.1.1->contextualized-topic-models==2.2.0) (3.2.4)\r\n",
      "Requirement already satisfied: sentencepiece in /opt/conda/lib/python3.7/site-packages (from sentence-transformers>=1.1.1->contextualized-topic-models==2.2.0) (0.1.96)\r\n",
      "Requirement already satisfied: huggingface-hub in /opt/conda/lib/python3.7/site-packages (from sentence-transformers>=1.1.1->contextualized-topic-models==2.2.0) (0.0.19)\r\n",
      "Requirement already satisfied: typing-extensions in /opt/conda/lib/python3.7/site-packages (from torch>=1.6.0->contextualized-topic-models==2.2.0) (3.10.0.2)\r\n",
      "Requirement already satisfied: requests in /opt/conda/lib/python3.7/site-packages (from transformers<5.0.0,>=4.6.0->sentence-transformers>=1.1.1->contextualized-topic-models==2.2.0) (2.25.1)\r\n",
      "Requirement already satisfied: regex!=2019.12.17 in /opt/conda/lib/python3.7/site-packages (from transformers<5.0.0,>=4.6.0->sentence-transformers>=1.1.1->contextualized-topic-models==2.2.0) (2021.8.28)\r\n",
      "Requirement already satisfied: sacremoses in /opt/conda/lib/python3.7/site-packages (from transformers<5.0.0,>=4.6.0->sentence-transformers>=1.1.1->contextualized-topic-models==2.2.0) (0.0.46)\r\n",
      "Requirement already satisfied: pyyaml>=5.1 in /opt/conda/lib/python3.7/site-packages (from transformers<5.0.0,>=4.6.0->sentence-transformers>=1.1.1->contextualized-topic-models==2.2.0) (5.4.1)\r\n",
      "Requirement already satisfied: filelock in /opt/conda/lib/python3.7/site-packages (from transformers<5.0.0,>=4.6.0->sentence-transformers>=1.1.1->contextualized-topic-models==2.2.0) (3.0.12)\r\n",
      "Collecting huggingface-hub\r\n",
      "  Downloading huggingface_hub-0.2.1-py3-none-any.whl (61 kB)\r\n",
      "\u001b[K     |████████████████████████████████| 61 kB 434 kB/s \r\n",
      "\u001b[?25hRequirement already satisfied: packaging>=20.0 in /opt/conda/lib/python3.7/site-packages (from transformers<5.0.0,>=4.6.0->sentence-transformers>=1.1.1->contextualized-topic-models==2.2.0) (21.0)\r\n",
      "Requirement already satisfied: notebook>=4.4.1 in /opt/conda/lib/python3.7/site-packages (from widgetsnbextension~=3.5.0->ipywidgets==7.5.1->contextualized-topic-models==2.2.0) (6.4.4)\r\n",
      "Requirement already satisfied: jinja2 in /opt/conda/lib/python3.7/site-packages (from notebook>=4.4.1->widgetsnbextension~=3.5.0->ipywidgets==7.5.1->contextualized-topic-models==2.2.0) (3.0.2)\r\n",
      "Requirement already satisfied: argon2-cffi in /opt/conda/lib/python3.7/site-packages (from notebook>=4.4.1->widgetsnbextension~=3.5.0->ipywidgets==7.5.1->contextualized-topic-models==2.2.0) (20.1.0)\r\n",
      "Requirement already satisfied: prometheus-client in /opt/conda/lib/python3.7/site-packages (from notebook>=4.4.1->widgetsnbextension~=3.5.0->ipywidgets==7.5.1->contextualized-topic-models==2.2.0) (0.11.0)\r\n",
      "Requirement already satisfied: nbconvert in /opt/conda/lib/python3.7/site-packages (from notebook>=4.4.1->widgetsnbextension~=3.5.0->ipywidgets==7.5.1->contextualized-topic-models==2.2.0) (6.1.0)\r\n",
      "Requirement already satisfied: Send2Trash>=1.5.0 in /opt/conda/lib/python3.7/site-packages (from notebook>=4.4.1->widgetsnbextension~=3.5.0->ipywidgets==7.5.1->contextualized-topic-models==2.2.0) (1.8.0)\r\n",
      "Requirement already satisfied: terminado>=0.8.3 in /opt/conda/lib/python3.7/site-packages (from notebook>=4.4.1->widgetsnbextension~=3.5.0->ipywidgets==7.5.1->contextualized-topic-models==2.2.0) (0.12.1)\r\n",
      "Requirement already satisfied: pyzmq>=17 in /opt/conda/lib/python3.7/site-packages (from notebook>=4.4.1->widgetsnbextension~=3.5.0->ipywidgets==7.5.1->contextualized-topic-models==2.2.0) (22.3.0)\r\n",
      "Requirement already satisfied: entrypoints in /opt/conda/lib/python3.7/site-packages (from jupyter-client<8.0->ipykernel>=4.5.1->ipywidgets==7.5.1->contextualized-topic-models==2.2.0) (0.3)\r\n",
      "Requirement already satisfied: ptyprocess in /opt/conda/lib/python3.7/site-packages (from terminado>=0.8.3->notebook>=4.4.1->widgetsnbextension~=3.5.0->ipywidgets==7.5.1->contextualized-topic-models==2.2.0) (0.7.0)\r\n",
      "Requirement already satisfied: cffi>=1.0.0 in /opt/conda/lib/python3.7/site-packages (from argon2-cffi->notebook>=4.4.1->widgetsnbextension~=3.5.0->ipywidgets==7.5.1->contextualized-topic-models==2.2.0) (1.14.6)\r\n",
      "Requirement already satisfied: pycparser in /opt/conda/lib/python3.7/site-packages (from cffi>=1.0.0->argon2-cffi->notebook>=4.4.1->widgetsnbextension~=3.5.0->ipywidgets==7.5.1->contextualized-topic-models==2.2.0) (2.20)\r\n",
      "Requirement already satisfied: zipp>=0.5 in /opt/conda/lib/python3.7/site-packages (from importlib-metadata->jsonschema!=2.5.0,>=2.4->nbformat>=4.2.0->ipywidgets==7.5.1->contextualized-topic-models==2.2.0) (3.5.0)\r\n",
      "Requirement already satisfied: MarkupSafe>=2.0 in /opt/conda/lib/python3.7/site-packages (from jinja2->notebook>=4.4.1->widgetsnbextension~=3.5.0->ipywidgets==7.5.1->contextualized-topic-models==2.2.0) (2.0.1)\r\n",
      "Requirement already satisfied: testpath in /opt/conda/lib/python3.7/site-packages (from nbconvert->notebook>=4.4.1->widgetsnbextension~=3.5.0->ipywidgets==7.5.1->contextualized-topic-models==2.2.0) (0.5.0)\r\n",
      "Requirement already satisfied: jupyterlab-pygments in /opt/conda/lib/python3.7/site-packages (from nbconvert->notebook>=4.4.1->widgetsnbextension~=3.5.0->ipywidgets==7.5.1->contextualized-topic-models==2.2.0) (0.1.2)\r\n",
      "Requirement already satisfied: defusedxml in /opt/conda/lib/python3.7/site-packages (from nbconvert->notebook>=4.4.1->widgetsnbextension~=3.5.0->ipywidgets==7.5.1->contextualized-topic-models==2.2.0) (0.7.1)\r\n",
      "Requirement already satisfied: pandocfilters>=1.4.1 in /opt/conda/lib/python3.7/site-packages (from nbconvert->notebook>=4.4.1->widgetsnbextension~=3.5.0->ipywidgets==7.5.1->contextualized-topic-models==2.2.0) (1.5.0)\r\n",
      "Requirement already satisfied: nbclient<0.6.0,>=0.5.0 in /opt/conda/lib/python3.7/site-packages (from nbconvert->notebook>=4.4.1->widgetsnbextension~=3.5.0->ipywidgets==7.5.1->contextualized-topic-models==2.2.0) (0.5.4)\r\n",
      "Requirement already satisfied: bleach in /opt/conda/lib/python3.7/site-packages (from nbconvert->notebook>=4.4.1->widgetsnbextension~=3.5.0->ipywidgets==7.5.1->contextualized-topic-models==2.2.0) (4.1.0)\r\n",
      "Requirement already satisfied: mistune<2,>=0.8.1 in /opt/conda/lib/python3.7/site-packages (from nbconvert->notebook>=4.4.1->widgetsnbextension~=3.5.0->ipywidgets==7.5.1->contextualized-topic-models==2.2.0) (0.8.4)\r\n",
      "Requirement already satisfied: webencodings in /opt/conda/lib/python3.7/site-packages (from bleach->nbconvert->notebook>=4.4.1->widgetsnbextension~=3.5.0->ipywidgets==7.5.1->contextualized-topic-models==2.2.0) (0.5.1)\r\n",
      "Requirement already satisfied: certifi>=2017.4.17 in /opt/conda/lib/python3.7/site-packages (from requests->transformers<5.0.0,>=4.6.0->sentence-transformers>=1.1.1->contextualized-topic-models==2.2.0) (2021.10.8)\r\n",
      "Requirement already satisfied: idna<3,>=2.5 in /opt/conda/lib/python3.7/site-packages (from requests->transformers<5.0.0,>=4.6.0->sentence-transformers>=1.1.1->contextualized-topic-models==2.2.0) (2.10)\r\n",
      "Requirement already satisfied: chardet<5,>=3.0.2 in /opt/conda/lib/python3.7/site-packages (from requests->transformers<5.0.0,>=4.6.0->sentence-transformers>=1.1.1->contextualized-topic-models==2.2.0) (4.0.0)\r\n",
      "Requirement already satisfied: urllib3<1.27,>=1.21.1 in /opt/conda/lib/python3.7/site-packages (from requests->transformers<5.0.0,>=4.6.0->sentence-transformers>=1.1.1->contextualized-topic-models==2.2.0) (1.26.6)\r\n",
      "Requirement already satisfied: joblib in /opt/conda/lib/python3.7/site-packages (from sacremoses->transformers<5.0.0,>=4.6.0->sentence-transformers>=1.1.1->contextualized-topic-models==2.2.0) (1.0.1)\r\n",
      "Requirement already satisfied: click in /opt/conda/lib/python3.7/site-packages (from sacremoses->transformers<5.0.0,>=4.6.0->sentence-transformers>=1.1.1->contextualized-topic-models==2.2.0) (8.0.1)\r\n",
      "Requirement already satisfied: threadpoolctl>=2.0.0 in /opt/conda/lib/python3.7/site-packages (from scikit-learn->sentence-transformers>=1.1.1->contextualized-topic-models==2.2.0) (2.2.0)\r\n",
      "Building wheels for collected packages: sentence-transformers\r\n",
      "  Building wheel for sentence-transformers (setup.py) ... \u001b[?25l-\b \b\\\b \b|\b \bdone\r\n",
      "\u001b[?25h  Created wheel for sentence-transformers: filename=sentence_transformers-2.1.0-py3-none-any.whl size=121000 sha256=2ea9c8fc48a0917d112bdb7cc27e1306a6ba4acb2834bf0941c4c2e60381859c\r\n",
      "  Stored in directory: /root/.cache/pip/wheels/90/f0/bb/ed1add84da70092ea526466eadc2bfb197c4bcb8d4fa5f7bad\r\n",
      "Successfully built sentence-transformers\r\n",
      "Installing collected packages: ipython, ipykernel, huggingface-hub, transformers, sentence-transformers, ipywidgets, contextualized-topic-models\r\n",
      "  Attempting uninstall: ipython\r\n",
      "    Found existing installation: ipython 7.27.0\r\n",
      "    Uninstalling ipython-7.27.0:\r\n",
      "      Successfully uninstalled ipython-7.27.0\r\n",
      "  Attempting uninstall: ipykernel\r\n",
      "    Found existing installation: ipykernel 6.4.1\r\n",
      "    Uninstalling ipykernel-6.4.1:\r\n",
      "      Successfully uninstalled ipykernel-6.4.1\r\n",
      "  Attempting uninstall: huggingface-hub\r\n",
      "    Found existing installation: huggingface-hub 0.0.19\r\n",
      "    Uninstalling huggingface-hub-0.0.19:\r\n",
      "      Successfully uninstalled huggingface-hub-0.0.19\r\n",
      "  Attempting uninstall: transformers\r\n",
      "    Found existing installation: transformers 4.5.1\r\n",
      "    Uninstalling transformers-4.5.1:\r\n",
      "      Successfully uninstalled transformers-4.5.1\r\n",
      "  Attempting uninstall: ipywidgets\r\n",
      "    Found existing installation: ipywidgets 7.6.5\r\n",
      "    Uninstalling ipywidgets-7.6.5:\r\n",
      "      Successfully uninstalled ipywidgets-7.6.5\r\n",
      "\u001b[31mERROR: pip's dependency resolver does not currently take into account all the packages that are installed. This behaviour is the source of the following dependency conflicts.\r\n",
      "explainable-ai-sdk 1.3.2 requires xai-image-widget, which is not installed.\r\n",
      "beatrix-jupyterlab 3.1.1 requires google-cloud-bigquery-storage, which is not installed.\r\n",
      "ipympl 0.7.0 requires ipywidgets>=7.6.0, but you have ipywidgets 7.5.1 which is incompatible.\r\n",
      "ipyleaflet 0.14.0 requires ipywidgets<8,>=7.6.0, but you have ipywidgets 7.5.1 which is incompatible.\r\n",
      "datasets 1.14.0 requires huggingface-hub<0.1.0,>=0.0.19, but you have huggingface-hub 0.2.1 which is incompatible.\r\n",
      "allennlp 2.7.0 requires transformers<4.10,>=4.1, but you have transformers 4.15.0 which is incompatible.\u001b[0m\r\n",
      "Successfully installed contextualized-topic-models-2.2.0 huggingface-hub-0.2.1 ipykernel-5.5.6 ipython-7.16.1 ipywidgets-7.5.1 sentence-transformers-2.1.0 transformers-4.15.0\r\n",
      "\u001b[33mWARNING: Running pip as the 'root' user can result in broken permissions and conflicting behaviour with the system package manager. It is recommended to use a virtual environment instead: https://pip.pypa.io/warnings/venv\u001b[0m\r\n"
     ]
    }
   ],
   "source": [
    "!pip install contextualized-topic-models==2.2.0"
   ]
  },
  {
   "cell_type": "code",
   "execution_count": 71,
   "id": "71d44336",
   "metadata": {
    "execution": {
     "iopub.execute_input": "2022-01-09T21:39:36.362533Z",
     "iopub.status.busy": "2022-01-09T21:39:36.359595Z",
     "iopub.status.idle": "2022-01-09T21:39:36.613322Z",
     "shell.execute_reply": "2022-01-09T21:39:36.612663Z"
    },
    "papermill": {
     "duration": 0.378948,
     "end_time": "2022-01-09T21:39:36.613466",
     "exception": false,
     "start_time": "2022-01-09T21:39:36.234518",
     "status": "completed"
    },
    "tags": []
   },
   "outputs": [],
   "source": [
    "from contextualized_topic_models.models.ctm import CombinedTM\n",
    "from contextualized_topic_models.utils.data_preparation import TopicModelDataPreparation\n",
    "from contextualized_topic_models.evaluation.measures import CoherenceUCI"
   ]
  },
  {
   "cell_type": "code",
   "execution_count": 72,
   "id": "a3b60916",
   "metadata": {
    "execution": {
     "iopub.execute_input": "2022-01-09T21:39:36.879298Z",
     "iopub.status.busy": "2022-01-09T21:39:36.861607Z",
     "iopub.status.idle": "2022-01-09T21:39:37.274431Z",
     "shell.execute_reply": "2022-01-09T21:39:37.274965Z"
    },
    "papermill": {
     "duration": 0.539049,
     "end_time": "2022-01-09T21:39:37.275189",
     "exception": false,
     "start_time": "2022-01-09T21:39:36.736140",
     "status": "completed"
    },
    "tags": []
   },
   "outputs": [],
   "source": [
    "preprocessed_list = []\n",
    "for item in dataset.Preprocessed_Total:\n",
    "    preprocessed_list.append(' '.join(item))\n",
    "to_dictionary = [string.split() for string in preprocessed_list]"
   ]
  },
  {
   "cell_type": "code",
   "execution_count": 73,
   "id": "49d3faa9",
   "metadata": {
    "execution": {
     "iopub.execute_input": "2022-01-09T21:39:37.527815Z",
     "iopub.status.busy": "2022-01-09T21:39:37.527215Z",
     "iopub.status.idle": "2022-01-09T21:44:28.767438Z",
     "shell.execute_reply": "2022-01-09T21:44:28.768000Z"
    },
    "papermill": {
     "duration": 291.368686,
     "end_time": "2022-01-09T21:44:28.768249",
     "exception": false,
     "start_time": "2022-01-09T21:39:37.399563",
     "status": "completed"
    },
    "tags": []
   },
   "outputs": [
    {
     "data": {
      "application/vnd.jupyter.widget-view+json": {
       "model_id": "7b72b70ca77d45d192df4994549d625b",
       "version_major": 2,
       "version_minor": 0
      },
      "text/plain": [
       "Downloading:   0%|          | 0.00/391 [00:00<?, ?B/s]"
      ]
     },
     "metadata": {},
     "output_type": "display_data"
    },
    {
     "data": {
      "application/vnd.jupyter.widget-view+json": {
       "model_id": "0372b53d6ced4a6fbc5384dd849ee54d",
       "version_major": 2,
       "version_minor": 0
      },
      "text/plain": [
       "Downloading:   0%|          | 0.00/3.74k [00:00<?, ?B/s]"
      ]
     },
     "metadata": {},
     "output_type": "display_data"
    },
    {
     "data": {
      "application/vnd.jupyter.widget-view+json": {
       "model_id": "0f97b318a7db4de0a74a18329e763329",
       "version_major": 2,
       "version_minor": 0
      },
      "text/plain": [
       "Downloading:   0%|          | 0.00/718 [00:00<?, ?B/s]"
      ]
     },
     "metadata": {},
     "output_type": "display_data"
    },
    {
     "data": {
      "application/vnd.jupyter.widget-view+json": {
       "model_id": "3870964464834a288d15005c4ed0351e",
       "version_major": 2,
       "version_minor": 0
      },
      "text/plain": [
       "Downloading:   0%|          | 0.00/122 [00:00<?, ?B/s]"
      ]
     },
     "metadata": {},
     "output_type": "display_data"
    },
    {
     "data": {
      "application/vnd.jupyter.widget-view+json": {
       "model_id": "6179d02535b84a85a19535b84ccc8428",
       "version_major": 2,
       "version_minor": 0
      },
      "text/plain": [
       "Downloading:   0%|          | 0.00/456k [00:00<?, ?B/s]"
      ]
     },
     "metadata": {},
     "output_type": "display_data"
    },
    {
     "data": {
      "application/vnd.jupyter.widget-view+json": {
       "model_id": "a4c8fb0556ec4c2a89674c8dea041eec",
       "version_major": 2,
       "version_minor": 0
      },
      "text/plain": [
       "Downloading:   0%|          | 0.00/229 [00:00<?, ?B/s]"
      ]
     },
     "metadata": {},
     "output_type": "display_data"
    },
    {
     "data": {
      "application/vnd.jupyter.widget-view+json": {
       "model_id": "7b5f23c96bf043a8a0687c7257fac5ed",
       "version_major": 2,
       "version_minor": 0
      },
      "text/plain": [
       "Downloading:   0%|          | 0.00/329M [00:00<?, ?B/s]"
      ]
     },
     "metadata": {},
     "output_type": "display_data"
    },
    {
     "data": {
      "application/vnd.jupyter.widget-view+json": {
       "model_id": "df920aa099f94382907b52ec1c17f46c",
       "version_major": 2,
       "version_minor": 0
      },
      "text/plain": [
       "Downloading:   0%|          | 0.00/53.0 [00:00<?, ?B/s]"
      ]
     },
     "metadata": {},
     "output_type": "display_data"
    },
    {
     "data": {
      "application/vnd.jupyter.widget-view+json": {
       "model_id": "00fb9382f93a4b588b29368d1dd98f4b",
       "version_major": 2,
       "version_minor": 0
      },
      "text/plain": [
       "Downloading:   0%|          | 0.00/239 [00:00<?, ?B/s]"
      ]
     },
     "metadata": {},
     "output_type": "display_data"
    },
    {
     "data": {
      "application/vnd.jupyter.widget-view+json": {
       "model_id": "4a72f8e6d9b248afb34d6851f732b659",
       "version_major": 2,
       "version_minor": 0
      },
      "text/plain": [
       "Downloading:   0%|          | 0.00/1.36M [00:00<?, ?B/s]"
      ]
     },
     "metadata": {},
     "output_type": "display_data"
    },
    {
     "data": {
      "application/vnd.jupyter.widget-view+json": {
       "model_id": "314cfcf5ea7d4ba9ad027a3125bac62a",
       "version_major": 2,
       "version_minor": 0
      },
      "text/plain": [
       "Downloading:   0%|          | 0.00/1.35k [00:00<?, ?B/s]"
      ]
     },
     "metadata": {},
     "output_type": "display_data"
    },
    {
     "data": {
      "application/vnd.jupyter.widget-view+json": {
       "model_id": "db204b9a215e4746a84b9c8b30525ed7",
       "version_major": 2,
       "version_minor": 0
      },
      "text/plain": [
       "Downloading:   0%|          | 0.00/798k [00:00<?, ?B/s]"
      ]
     },
     "metadata": {},
     "output_type": "display_data"
    },
    {
     "data": {
      "application/vnd.jupyter.widget-view+json": {
       "model_id": "68117ebf26c1469ab3de99d97a362086",
       "version_major": 2,
       "version_minor": 0
      },
      "text/plain": [
       "Downloading:   0%|          | 0.00/190 [00:00<?, ?B/s]"
      ]
     },
     "metadata": {},
     "output_type": "display_data"
    },
    {
     "data": {
      "application/vnd.jupyter.widget-view+json": {
       "model_id": "76f318b495e64e7a8306921a97ed8626",
       "version_major": 2,
       "version_minor": 0
      },
      "text/plain": [
       "Batches:   0%|          | 0/51 [00:00<?, ?it/s]"
      ]
     },
     "metadata": {},
     "output_type": "display_data"
    },
    {
     "name": "stderr",
     "output_type": "stream",
     "text": [
      "/opt/conda/lib/python3.7/site-packages/past/builtins/misc.py:45: DeprecationWarning: the imp module is deprecated in favour of importlib; see the module's documentation for alternative uses\n",
      "  from imp import reload\n",
      "/opt/conda/lib/python3.7/site-packages/past/builtins/misc.py:45: DeprecationWarning: the imp module is deprecated in favour of importlib; see the module's documentation for alternative uses\n",
      "  from imp import reload\n",
      "/opt/conda/lib/python3.7/site-packages/past/builtins/misc.py:45: DeprecationWarning: the imp module is deprecated in favour of importlib; see the module's documentation for alternative uses\n",
      "  from imp import reload\n",
      "/opt/conda/lib/python3.7/site-packages/past/builtins/misc.py:45: DeprecationWarning: the imp module is deprecated in favour of importlib; see the module's documentation for alternative uses\n",
      "  from imp import reload\n"
     ]
    }
   ],
   "source": [
    "tp = TopicModelDataPreparation(\"paraphrase-distilroberta-base-v1\")\n",
    "\n",
    "training_dataset = tp.fit(text_for_contextual= dataset.Normalized, text_for_bow = preprocessed_list)"
   ]
  },
  {
   "cell_type": "code",
   "execution_count": 74,
   "id": "87b25805",
   "metadata": {
    "execution": {
     "iopub.execute_input": "2022-01-09T21:44:29.031525Z",
     "iopub.status.busy": "2022-01-09T21:44:29.030882Z",
     "iopub.status.idle": "2022-01-09T21:44:29.035693Z",
     "shell.execute_reply": "2022-01-09T21:44:29.036280Z"
    },
    "papermill": {
     "duration": 0.138555,
     "end_time": "2022-01-09T21:44:29.036446",
     "exception": false,
     "start_time": "2022-01-09T21:44:28.897891",
     "status": "completed"
    },
    "tags": []
   },
   "outputs": [
    {
     "name": "stdout",
     "output_type": "stream",
     "text": [
      "env: TOKENIZERS_PARALLELISM=true\n"
     ]
    }
   ],
   "source": [
    "%env TOKENIZERS_PARALLELISM = true"
   ]
  },
  {
   "cell_type": "code",
   "execution_count": 75,
   "id": "afe07faa",
   "metadata": {
    "execution": {
     "iopub.execute_input": "2022-01-09T21:44:29.303021Z",
     "iopub.status.busy": "2022-01-09T21:44:29.302419Z",
     "iopub.status.idle": "2022-01-09T21:53:32.721152Z",
     "shell.execute_reply": "2022-01-09T21:53:32.720522Z"
    },
    "papermill": {
     "duration": 543.554772,
     "end_time": "2022-01-09T21:53:32.721380",
     "exception": false,
     "start_time": "2022-01-09T21:44:29.166608",
     "status": "completed"
    },
    "tags": []
   },
   "outputs": [
    {
     "name": "stderr",
     "output_type": "stream",
     "text": [
      "Epoch: [50/50]\t Seen Samples: [506600/506600]\tTrain Loss: 76.41507662815677\tTime: 0:00:11.104643: : 50it [09:02, 10.84s/it]\n"
     ]
    }
   ],
   "source": [
    "ctm = CombinedTM(bow_size=len(tp.vocab), contextual_size=768, n_components=12, num_epochs=50)\n",
    "ctm.fit(training_dataset)\n",
    "coh_model = CoherenceUCI(topics = ctm.get_topic_lists(), texts = to_dictionary)\n",
    "coherence_score = coh_model.score()"
   ]
  },
  {
   "cell_type": "code",
   "execution_count": 76,
   "id": "16bd1658",
   "metadata": {
    "execution": {
     "iopub.execute_input": "2022-01-09T21:53:33.030482Z",
     "iopub.status.busy": "2022-01-09T21:53:33.029548Z",
     "iopub.status.idle": "2022-01-09T21:53:33.035420Z",
     "shell.execute_reply": "2022-01-09T21:53:33.035837Z"
    },
    "papermill": {
     "duration": 0.162467,
     "end_time": "2022-01-09T21:53:33.036007",
     "exception": false,
     "start_time": "2022-01-09T21:53:32.873540",
     "status": "completed"
    },
    "tags": []
   },
   "outputs": [
    {
     "name": "stdout",
     "output_type": "stream",
     "text": [
      "No session logging\n"
     ]
    }
   ],
   "source": [
    "try:\n",
    "    logger_ctm = session.logger(ctm)\n",
    "except:\n",
    "    print(\"No session logging\")"
   ]
  },
  {
   "cell_type": "code",
   "execution_count": 77,
   "id": "5101f14a",
   "metadata": {
    "execution": {
     "iopub.execute_input": "2022-01-09T21:53:33.347138Z",
     "iopub.status.busy": "2022-01-09T21:53:33.346483Z",
     "iopub.status.idle": "2022-01-09T21:53:33.349346Z",
     "shell.execute_reply": "2022-01-09T21:53:33.349807Z"
    },
    "papermill": {
     "duration": 0.160805,
     "end_time": "2022-01-09T21:53:33.349980",
     "exception": false,
     "start_time": "2022-01-09T21:53:33.189175",
     "status": "completed"
    },
    "tags": []
   },
   "outputs": [
    {
     "name": "stdout",
     "output_type": "stream",
     "text": [
      "Coherence score: -2.8895740061525768\n"
     ]
    }
   ],
   "source": [
    "print(\"Coherence score:\", coherence_score)"
   ]
  },
  {
   "cell_type": "code",
   "execution_count": 78,
   "id": "37ccc6f2",
   "metadata": {
    "execution": {
     "iopub.execute_input": "2022-01-09T21:53:33.658979Z",
     "iopub.status.busy": "2022-01-09T21:53:33.657988Z",
     "iopub.status.idle": "2022-01-09T21:53:33.661328Z",
     "shell.execute_reply": "2022-01-09T21:53:33.661746Z"
    },
    "papermill": {
     "duration": 0.159045,
     "end_time": "2022-01-09T21:53:33.661916",
     "exception": false,
     "start_time": "2022-01-09T21:53:33.502871",
     "status": "completed"
    },
    "tags": []
   },
   "outputs": [],
   "source": [
    "# lda_vis_data = ctm.get_ldavis_data_format(tp.vocab, training_dataset, n_samples=40)\n",
    "\n",
    "# ctm_pd = pyLDAvis.prepare(**lda_vis_data)\n",
    "# pyLDAvis.display(ctm_pd)"
   ]
  },
  {
   "cell_type": "code",
   "execution_count": 79,
   "id": "e09b392b",
   "metadata": {
    "execution": {
     "iopub.execute_input": "2022-01-09T21:53:33.973510Z",
     "iopub.status.busy": "2022-01-09T21:53:33.972517Z",
     "iopub.status.idle": "2022-01-09T21:53:33.974395Z",
     "shell.execute_reply": "2022-01-09T21:53:33.974924Z"
    },
    "papermill": {
     "duration": 0.160097,
     "end_time": "2022-01-09T21:53:33.975106",
     "exception": false,
     "start_time": "2022-01-09T21:53:33.815009",
     "status": "completed"
    },
    "tags": []
   },
   "outputs": [],
   "source": [
    "# logger_ctm.close()\n",
    "# logger_gsdmm.close()\n",
    "# logger_lda.close()"
   ]
  },
  {
   "cell_type": "markdown",
   "id": "2ce729e3",
   "metadata": {
    "papermill": {
     "duration": 0.15361,
     "end_time": "2022-01-09T21:53:34.282142",
     "exception": false,
     "start_time": "2022-01-09T21:53:34.128532",
     "status": "completed"
    },
    "tags": []
   },
   "source": [
    "# Section 3 : Topic Allocation"
   ]
  },
  {
   "cell_type": "markdown",
   "id": "73181e42",
   "metadata": {
    "papermill": {
     "duration": 0.153147,
     "end_time": "2022-01-09T21:53:34.587697",
     "exception": false,
     "start_time": "2022-01-09T21:53:34.434550",
     "status": "completed"
    },
    "tags": []
   },
   "source": [
    "Note : The topic allocation here will be done with respect to LDA."
   ]
  },
  {
   "cell_type": "code",
   "execution_count": 80,
   "id": "3e607343",
   "metadata": {
    "execution": {
     "iopub.execute_input": "2022-01-09T21:53:34.899519Z",
     "iopub.status.busy": "2022-01-09T21:53:34.898496Z",
     "iopub.status.idle": "2022-01-09T21:53:34.915741Z",
     "shell.execute_reply": "2022-01-09T21:53:34.916270Z"
    },
    "papermill": {
     "duration": 0.174458,
     "end_time": "2022-01-09T21:53:34.916441",
     "exception": false,
     "start_time": "2022-01-09T21:53:34.741983",
     "status": "completed"
    },
    "tags": []
   },
   "outputs": [
    {
     "data": {
      "text/html": [
       "<div>\n",
       "<style scoped>\n",
       "    .dataframe tbody tr th:only-of-type {\n",
       "        vertical-align: middle;\n",
       "    }\n",
       "\n",
       "    .dataframe tbody tr th {\n",
       "        vertical-align: top;\n",
       "    }\n",
       "\n",
       "    .dataframe thead th {\n",
       "        text-align: right;\n",
       "    }\n",
       "</style>\n",
       "<table border=\"1\" class=\"dataframe\">\n",
       "  <thead>\n",
       "    <tr style=\"text-align: right;\">\n",
       "      <th></th>\n",
       "      <th>Review</th>\n",
       "      <th>Normalized</th>\n",
       "      <th>Preprocessed</th>\n",
       "      <th>Preprocessed_Total</th>\n",
       "      <th>Topics</th>\n",
       "      <th>GSDMM_Topics</th>\n",
       "    </tr>\n",
       "  </thead>\n",
       "  <tbody>\n",
       "    <tr>\n",
       "      <th>7833</th>\n",
       "      <td>Hassle free. On time.</td>\n",
       "      <td>hassle free  on time</td>\n",
       "      <td>[hassle, time]</td>\n",
       "      <td>[hassle, free, time]</td>\n",
       "      <td>[5, 6]</td>\n",
       "      <td>[9, 10]</td>\n",
       "    </tr>\n",
       "  </tbody>\n",
       "</table>\n",
       "</div>"
      ],
      "text/plain": [
       "                     Review             Normalized    Preprocessed  \\\n",
       "7833  Hassle free. On time.  hassle free  on time   [hassle, time]   \n",
       "\n",
       "        Preprocessed_Total  Topics GSDMM_Topics  \n",
       "7833  [hassle, free, time]  [5, 6]      [9, 10]  "
      ]
     },
     "execution_count": 80,
     "metadata": {},
     "output_type": "execute_result"
    }
   ],
   "source": [
    "dataset.sample()"
   ]
  },
  {
   "cell_type": "code",
   "execution_count": 81,
   "id": "efd0fe7f",
   "metadata": {
    "execution": {
     "iopub.execute_input": "2022-01-09T21:53:35.228603Z",
     "iopub.status.busy": "2022-01-09T21:53:35.227692Z",
     "iopub.status.idle": "2022-01-09T21:53:35.234803Z",
     "shell.execute_reply": "2022-01-09T21:53:35.235403Z"
    },
    "papermill": {
     "duration": 0.165704,
     "end_time": "2022-01-09T21:53:35.235574",
     "exception": false,
     "start_time": "2022-01-09T21:53:35.069870",
     "status": "completed"
    },
    "tags": []
   },
   "outputs": [],
   "source": [
    "dataset['Topics_2'] = results"
   ]
  },
  {
   "cell_type": "code",
   "execution_count": 82,
   "id": "e4f81d1f",
   "metadata": {
    "execution": {
     "iopub.execute_input": "2022-01-09T21:53:35.548292Z",
     "iopub.status.busy": "2022-01-09T21:53:35.547593Z",
     "iopub.status.idle": "2022-01-09T21:53:35.550473Z",
     "shell.execute_reply": "2022-01-09T21:53:35.549973Z"
    },
    "papermill": {
     "duration": 0.161007,
     "end_time": "2022-01-09T21:53:35.550618",
     "exception": false,
     "start_time": "2022-01-09T21:53:35.389611",
     "status": "completed"
    },
    "tags": []
   },
   "outputs": [],
   "source": [
    "# dataset['Topics_Total'] = dataset['Preprocessed_Total'].apply(lambda x : predict_topics(x, tuned_big_model, dictionary_total))"
   ]
  },
  {
   "cell_type": "code",
   "execution_count": 83,
   "id": "946273eb",
   "metadata": {
    "execution": {
     "iopub.execute_input": "2022-01-09T21:53:35.860953Z",
     "iopub.status.busy": "2022-01-09T21:53:35.860364Z",
     "iopub.status.idle": "2022-01-09T21:53:35.885325Z",
     "shell.execute_reply": "2022-01-09T21:53:35.885773Z"
    },
    "papermill": {
     "duration": 0.181387,
     "end_time": "2022-01-09T21:53:35.885937",
     "exception": false,
     "start_time": "2022-01-09T21:53:35.704550",
     "status": "completed"
    },
    "tags": []
   },
   "outputs": [
    {
     "data": {
      "text/html": [
       "<div>\n",
       "<style scoped>\n",
       "    .dataframe tbody tr th:only-of-type {\n",
       "        vertical-align: middle;\n",
       "    }\n",
       "\n",
       "    .dataframe tbody tr th {\n",
       "        vertical-align: top;\n",
       "    }\n",
       "\n",
       "    .dataframe thead th {\n",
       "        text-align: right;\n",
       "    }\n",
       "</style>\n",
       "<table border=\"1\" class=\"dataframe\">\n",
       "  <thead>\n",
       "    <tr style=\"text-align: right;\">\n",
       "      <th></th>\n",
       "      <th>Review</th>\n",
       "      <th>Normalized</th>\n",
       "      <th>Preprocessed</th>\n",
       "      <th>Preprocessed_Total</th>\n",
       "      <th>Topics</th>\n",
       "      <th>GSDMM_Topics</th>\n",
       "      <th>Topics_2</th>\n",
       "    </tr>\n",
       "  </thead>\n",
       "  <tbody>\n",
       "    <tr>\n",
       "      <th>8203</th>\n",
       "      <td>Could not be more simple. Order on line throug...</td>\n",
       "      <td>could not be more simple  order online through...</td>\n",
       "      <td>[order, online, book, time, coffee, thank, hom...</td>\n",
       "      <td>[simple, order, online, good, website, book, f...</td>\n",
       "      <td>[2, 5]</td>\n",
       "      <td>[6]</td>\n",
       "      <td>6</td>\n",
       "    </tr>\n",
       "    <tr>\n",
       "      <th>9392</th>\n",
       "      <td>Speedy service, great price. I would definitel...</td>\n",
       "      <td>speedy service  great price  i would definitel...</td>\n",
       "      <td>[speedy, service, price]</td>\n",
       "      <td>[speedy, service, great, price, recommend]</td>\n",
       "      <td>[0]</td>\n",
       "      <td>[10]</td>\n",
       "      <td>10</td>\n",
       "    </tr>\n",
       "    <tr>\n",
       "      <th>8201</th>\n",
       "      <td>excellent service. Did what it said on the sit...</td>\n",
       "      <td>excellent service  did what it said on the sit...</td>\n",
       "      <td>[service, site, tyre, fitter, service, station...</td>\n",
       "      <td>[excellent, service, say, site, tyre, fitter, ...</td>\n",
       "      <td>[4, 11]</td>\n",
       "      <td>[6, 1]</td>\n",
       "      <td>6</td>\n",
       "    </tr>\n",
       "    <tr>\n",
       "      <th>5091</th>\n",
       "      <td>excellent price and slick service</td>\n",
       "      <td>excellent price and slick service</td>\n",
       "      <td>[price, service]</td>\n",
       "      <td>[excellent, price, slick, service]</td>\n",
       "      <td>[]</td>\n",
       "      <td>[10]</td>\n",
       "      <td>10</td>\n",
       "    </tr>\n",
       "    <tr>\n",
       "      <th>8319</th>\n",
       "      <td>5 stars: Excellent – no reservations, I would ...</td>\n",
       "      <td>stars  excellent  no reservations  i would r...</td>\n",
       "      <td>[star, reservation, company, anyone]</td>\n",
       "      <td>[star, excellent, reservation, recommend, comp...</td>\n",
       "      <td>[8]</td>\n",
       "      <td>[7, 4]</td>\n",
       "      <td>4</td>\n",
       "    </tr>\n",
       "    <tr>\n",
       "      <th>9727</th>\n",
       "      <td>Can't beat [REDACTED] for on price &amp; local fit...</td>\n",
       "      <td>cannot beat company for on price and local fit...</td>\n",
       "      <td>[can, not, company, price, fitting, service]</td>\n",
       "      <td>[can, not, beat, company, price, local, fittin...</td>\n",
       "      <td>[8]</td>\n",
       "      <td>[7]</td>\n",
       "      <td>7</td>\n",
       "    </tr>\n",
       "    <tr>\n",
       "      <th>535</th>\n",
       "      <td>Best deals I could find for 4 Bridgestone tyres</td>\n",
       "      <td>best deals i could find for   bridgestone tyres</td>\n",
       "      <td>[deal, bridgestone, tyre]</td>\n",
       "      <td>[deal, find, bridgestone, tyre]</td>\n",
       "      <td>[4, 11]</td>\n",
       "      <td>[5, 9, 6]</td>\n",
       "      <td>9</td>\n",
       "    </tr>\n",
       "    <tr>\n",
       "      <th>37</th>\n",
       "      <td>PRICE WAS COMPETATIVE, FITTING WAS EASY</td>\n",
       "      <td>price was competative  fitting was easy</td>\n",
       "      <td>[price, fit]</td>\n",
       "      <td>[price, competative, fit, easy]</td>\n",
       "      <td>[11]</td>\n",
       "      <td>[6]</td>\n",
       "      <td>6</td>\n",
       "    </tr>\n",
       "    <tr>\n",
       "      <th>7807</th>\n",
       "      <td>Great price, great customer experience at the ...</td>\n",
       "      <td>great price  great customer experience at the ...</td>\n",
       "      <td>[price, customer, experience, garage, thing]</td>\n",
       "      <td>[great, price, great, customer, experience, ga...</td>\n",
       "      <td>[8, 10]</td>\n",
       "      <td>[7]</td>\n",
       "      <td>7</td>\n",
       "    </tr>\n",
       "    <tr>\n",
       "      <th>4812</th>\n",
       "      <td>Great communication throughout. Excellent serv...</td>\n",
       "      <td>great communication throughout  excellent serv...</td>\n",
       "      <td>[communication, service, tyre, excellent_service]</td>\n",
       "      <td>[great, communication, excellent, service, tyr...</td>\n",
       "      <td>[4]</td>\n",
       "      <td>[10]</td>\n",
       "      <td>4</td>\n",
       "    </tr>\n",
       "    <tr>\n",
       "      <th>2114</th>\n",
       "      <td>Good value, good service, worked well</td>\n",
       "      <td>good value  good service  worked well</td>\n",
       "      <td>[value, service, good_value]</td>\n",
       "      <td>[good, value, good, service, work, good_value]</td>\n",
       "      <td>[7]</td>\n",
       "      <td>[10]</td>\n",
       "      <td>10</td>\n",
       "    </tr>\n",
       "    <tr>\n",
       "      <th>4492</th>\n",
       "      <td>Great service with no problems fantastic prices</td>\n",
       "      <td>great service with no problems fantastic prices</td>\n",
       "      <td>[service, problem, price]</td>\n",
       "      <td>[great, service, problem, fantastic, price]</td>\n",
       "      <td>[11]</td>\n",
       "      <td>[10]</td>\n",
       "      <td>10</td>\n",
       "    </tr>\n",
       "    <tr>\n",
       "      <th>4803</th>\n",
       "      <td>Easy to arrange tyre purchase. Good range of q...</td>\n",
       "      <td>easy to arrange tyre purchase  good range of q...</td>\n",
       "      <td>[purchase, range, quality, tyre]</td>\n",
       "      <td>[easy, arrange, tyre, purchase, good, range, q...</td>\n",
       "      <td>[1, 9]</td>\n",
       "      <td>[6, 9, 10]</td>\n",
       "      <td>6</td>\n",
       "    </tr>\n",
       "    <tr>\n",
       "      <th>9449</th>\n",
       "      <td>This company is totally DogDoo, apparently I c...</td>\n",
       "      <td>this company is totally dogdoo  apparently i c...</td>\n",
       "      <td>[company, word, service, accuracy, order, comp...</td>\n",
       "      <td>[company, dogdoo, ca, nt, accurate, word, desc...</td>\n",
       "      <td>[2]</td>\n",
       "      <td>[2]</td>\n",
       "      <td>2</td>\n",
       "    </tr>\n",
       "    <tr>\n",
       "      <th>2655</th>\n",
       "      <td>The site was easy to use and very reasonably p...</td>\n",
       "      <td>the site was easy to use and very reasonably p...</td>\n",
       "      <td>[site]</td>\n",
       "      <td>[site, easy]</td>\n",
       "      <td>[6]</td>\n",
       "      <td>[6, 10, 9]</td>\n",
       "      <td>10</td>\n",
       "    </tr>\n",
       "  </tbody>\n",
       "</table>\n",
       "</div>"
      ],
      "text/plain": [
       "                                                 Review  \\\n",
       "8203  Could not be more simple. Order on line throug...   \n",
       "9392  Speedy service, great price. I would definitel...   \n",
       "8201  excellent service. Did what it said on the sit...   \n",
       "5091                  excellent price and slick service   \n",
       "8319  5 stars: Excellent – no reservations, I would ...   \n",
       "9727  Can't beat [REDACTED] for on price & local fit...   \n",
       "535     Best deals I could find for 4 Bridgestone tyres   \n",
       "37              PRICE WAS COMPETATIVE, FITTING WAS EASY   \n",
       "7807  Great price, great customer experience at the ...   \n",
       "4812  Great communication throughout. Excellent serv...   \n",
       "2114              Good value, good service, worked well   \n",
       "4492    Great service with no problems fantastic prices   \n",
       "4803  Easy to arrange tyre purchase. Good range of q...   \n",
       "9449  This company is totally DogDoo, apparently I c...   \n",
       "2655  The site was easy to use and very reasonably p...   \n",
       "\n",
       "                                             Normalized  \\\n",
       "8203  could not be more simple  order online through...   \n",
       "9392  speedy service  great price  i would definitel...   \n",
       "8201  excellent service  did what it said on the sit...   \n",
       "5091                  excellent price and slick service   \n",
       "8319    stars  excellent  no reservations  i would r...   \n",
       "9727  cannot beat company for on price and local fit...   \n",
       "535     best deals i could find for   bridgestone tyres   \n",
       "37              price was competative  fitting was easy   \n",
       "7807  great price  great customer experience at the ...   \n",
       "4812  great communication throughout  excellent serv...   \n",
       "2114              good value  good service  worked well   \n",
       "4492    great service with no problems fantastic prices   \n",
       "4803  easy to arrange tyre purchase  good range of q...   \n",
       "9449  this company is totally dogdoo  apparently i c...   \n",
       "2655  the site was easy to use and very reasonably p...   \n",
       "\n",
       "                                           Preprocessed  \\\n",
       "8203  [order, online, book, time, coffee, thank, hom...   \n",
       "9392                           [speedy, service, price]   \n",
       "8201  [service, site, tyre, fitter, service, station...   \n",
       "5091                                   [price, service]   \n",
       "8319               [star, reservation, company, anyone]   \n",
       "9727       [can, not, company, price, fitting, service]   \n",
       "535                           [deal, bridgestone, tyre]   \n",
       "37                                         [price, fit]   \n",
       "7807       [price, customer, experience, garage, thing]   \n",
       "4812  [communication, service, tyre, excellent_service]   \n",
       "2114                       [value, service, good_value]   \n",
       "4492                          [service, problem, price]   \n",
       "4803                   [purchase, range, quality, tyre]   \n",
       "9449  [company, word, service, accuracy, order, comp...   \n",
       "2655                                             [site]   \n",
       "\n",
       "                                     Preprocessed_Total   Topics GSDMM_Topics  \\\n",
       "8203  [simple, order, online, good, website, book, f...   [2, 5]          [6]   \n",
       "9392         [speedy, service, great, price, recommend]      [0]         [10]   \n",
       "8201  [excellent, service, say, site, tyre, fitter, ...  [4, 11]       [6, 1]   \n",
       "5091                 [excellent, price, slick, service]       []         [10]   \n",
       "8319  [star, excellent, reservation, recommend, comp...      [8]       [7, 4]   \n",
       "9727  [can, not, beat, company, price, local, fittin...      [8]          [7]   \n",
       "535                     [deal, find, bridgestone, tyre]  [4, 11]    [5, 9, 6]   \n",
       "37                      [price, competative, fit, easy]     [11]          [6]   \n",
       "7807  [great, price, great, customer, experience, ga...  [8, 10]          [7]   \n",
       "4812  [great, communication, excellent, service, tyr...      [4]         [10]   \n",
       "2114     [good, value, good, service, work, good_value]      [7]         [10]   \n",
       "4492        [great, service, problem, fantastic, price]     [11]         [10]   \n",
       "4803  [easy, arrange, tyre, purchase, good, range, q...   [1, 9]   [6, 9, 10]   \n",
       "9449  [company, dogdoo, ca, nt, accurate, word, desc...      [2]          [2]   \n",
       "2655                                       [site, easy]      [6]   [6, 10, 9]   \n",
       "\n",
       "      Topics_2  \n",
       "8203         6  \n",
       "9392        10  \n",
       "8201         6  \n",
       "5091        10  \n",
       "8319         4  \n",
       "9727         7  \n",
       "535          9  \n",
       "37           6  \n",
       "7807         7  \n",
       "4812         4  \n",
       "2114        10  \n",
       "4492        10  \n",
       "4803         6  \n",
       "9449         2  \n",
       "2655        10  "
      ]
     },
     "execution_count": 83,
     "metadata": {},
     "output_type": "execute_result"
    }
   ],
   "source": [
    "dataset.sample(15)"
   ]
  },
  {
   "cell_type": "markdown",
   "id": "4a783e2d",
   "metadata": {
    "papermill": {
     "duration": 0.156084,
     "end_time": "2022-01-09T21:53:36.196164",
     "exception": false,
     "start_time": "2022-01-09T21:53:36.040080",
     "status": "completed"
    },
    "tags": []
   },
   "source": [
    "How many reviews did not get topics assigned to them?"
   ]
  },
  {
   "cell_type": "code",
   "execution_count": 84,
   "id": "7f700566",
   "metadata": {
    "execution": {
     "iopub.execute_input": "2022-01-09T21:53:36.512007Z",
     "iopub.status.busy": "2022-01-09T21:53:36.508946Z",
     "iopub.status.idle": "2022-01-09T21:53:36.525379Z",
     "shell.execute_reply": "2022-01-09T21:53:36.524742Z"
    },
    "papermill": {
     "duration": 0.174225,
     "end_time": "2022-01-09T21:53:36.525524",
     "exception": false,
     "start_time": "2022-01-09T21:53:36.351299",
     "status": "completed"
    },
    "tags": []
   },
   "outputs": [],
   "source": [
    "unclustered = dataset[dataset['Topics'].str.len() == 0]\n",
    "# unclustered.sample(10)"
   ]
  },
  {
   "cell_type": "code",
   "execution_count": 85,
   "id": "ad74d9ad",
   "metadata": {
    "execution": {
     "iopub.execute_input": "2022-01-09T21:53:36.838626Z",
     "iopub.status.busy": "2022-01-09T21:53:36.837992Z",
     "iopub.status.idle": "2022-01-09T21:53:36.840551Z",
     "shell.execute_reply": "2022-01-09T21:53:36.840978Z"
    },
    "papermill": {
     "duration": 0.161288,
     "end_time": "2022-01-09T21:53:36.841157",
     "exception": false,
     "start_time": "2022-01-09T21:53:36.679869",
     "status": "completed"
    },
    "tags": []
   },
   "outputs": [
    {
     "name": "stdout",
     "output_type": "stream",
     "text": [
      "1754 reviews have no topics assigned to them by LDA.\n"
     ]
    }
   ],
   "source": [
    "print(str(unclustered.shape[0]) + ' reviews have no topics assigned to them by LDA.')"
   ]
  },
  {
   "cell_type": "code",
   "execution_count": 86,
   "id": "52c963c5",
   "metadata": {
    "execution": {
     "iopub.execute_input": "2022-01-09T21:53:37.153970Z",
     "iopub.status.busy": "2022-01-09T21:53:37.153326Z",
     "iopub.status.idle": "2022-01-09T21:53:37.161953Z",
     "shell.execute_reply": "2022-01-09T21:53:37.162448Z"
    },
    "papermill": {
     "duration": 0.166679,
     "end_time": "2022-01-09T21:53:37.162619",
     "exception": false,
     "start_time": "2022-01-09T21:53:36.995940",
     "status": "completed"
    },
    "tags": []
   },
   "outputs": [],
   "source": [
    "remaining_data = dataset.drop(unclustered.index, axis = 0)"
   ]
  },
  {
   "cell_type": "code",
   "execution_count": 87,
   "id": "30debbfa",
   "metadata": {
    "execution": {
     "iopub.execute_input": "2022-01-09T21:53:37.556173Z",
     "iopub.status.busy": "2022-01-09T21:53:37.555568Z",
     "iopub.status.idle": "2022-01-09T21:53:37.578974Z",
     "shell.execute_reply": "2022-01-09T21:53:37.579444Z"
    },
    "papermill": {
     "duration": 0.183019,
     "end_time": "2022-01-09T21:53:37.579607",
     "exception": false,
     "start_time": "2022-01-09T21:53:37.396588",
     "status": "completed"
    },
    "tags": []
   },
   "outputs": [
    {
     "name": "stdout",
     "output_type": "stream",
     "text": [
      "Average length of reviews with topics: 24.97290522797804\n",
      "Average length of reviews without topics: 10.43158494868871\n"
     ]
    }
   ],
   "source": [
    "print(\"Average length of reviews with topics:\", remaining_data['Review'].apply(lambda x: len(x.split())).mean())\n",
    "print(\"Average length of reviews without topics:\", unclustered['Review'].apply(lambda x: len(x.split())).mean())"
   ]
  },
  {
   "cell_type": "code",
   "execution_count": 88,
   "id": "6911a787",
   "metadata": {
    "execution": {
     "iopub.execute_input": "2022-01-09T21:53:37.893568Z",
     "iopub.status.busy": "2022-01-09T21:53:37.892914Z",
     "iopub.status.idle": "2022-01-09T21:53:37.894689Z",
     "shell.execute_reply": "2022-01-09T21:53:37.895254Z"
    },
    "papermill": {
     "duration": 0.160756,
     "end_time": "2022-01-09T21:53:37.895430",
     "exception": false,
     "start_time": "2022-01-09T21:53:37.734674",
     "status": "completed"
    },
    "tags": []
   },
   "outputs": [],
   "source": [
    "# unclustered[unclustered['Topics_Total'].str.len() == 0]"
   ]
  },
  {
   "cell_type": "markdown",
   "id": "22ec3f1f",
   "metadata": {
    "papermill": {
     "duration": 0.155917,
     "end_time": "2022-01-09T21:53:38.205190",
     "exception": false,
     "start_time": "2022-01-09T21:53:38.049273",
     "status": "completed"
    },
    "tags": []
   },
   "source": [
    "## Mapping of Topics\n",
    "\n",
    "Link for logging and visualization : https://medium.com/whylabs/whylogs-embrace-data-logging-a9449cd121d"
   ]
  },
  {
   "cell_type": "code",
   "execution_count": 89,
   "id": "aa02d519",
   "metadata": {
    "execution": {
     "iopub.execute_input": "2022-01-09T21:53:38.519339Z",
     "iopub.status.busy": "2022-01-09T21:53:38.518401Z",
     "iopub.status.idle": "2022-01-09T21:53:38.524248Z",
     "shell.execute_reply": "2022-01-09T21:53:38.525108Z"
    },
    "papermill": {
     "duration": 0.164738,
     "end_time": "2022-01-09T21:53:38.525358",
     "exception": false,
     "start_time": "2022-01-09T21:53:38.360620",
     "status": "completed"
    },
    "tags": []
   },
   "outputs": [],
   "source": [
    "def tag_topics(data, mapping):\n",
    "    \"\"\"Applies mapping on topics list\"\"\"\n",
    "    assert type(data) == type([]), \"Data is not a list\"\n",
    "    try:\n",
    "        return [mapping[x] for x in data]\n",
    "    except:\n",
    "        print(\"No such mapping\")\n",
    "    "
   ]
  },
  {
   "cell_type": "code",
   "execution_count": 90,
   "id": "fead76a7",
   "metadata": {
    "execution": {
     "iopub.execute_input": "2022-01-09T21:53:38.841595Z",
     "iopub.status.busy": "2022-01-09T21:53:38.840984Z",
     "iopub.status.idle": "2022-01-09T21:53:38.854807Z",
     "shell.execute_reply": "2022-01-09T21:53:38.855330Z"
    },
    "papermill": {
     "duration": 0.170779,
     "end_time": "2022-01-09T21:53:38.855499",
     "exception": false,
     "start_time": "2022-01-09T21:53:38.684720",
     "status": "completed"
    },
    "tags": []
   },
   "outputs": [],
   "source": [
    "dataset['Tagged'] = dataset['Topics'].apply(lambda x: tag_topics(x, lda_model_maps))"
   ]
  },
  {
   "cell_type": "code",
   "execution_count": 91,
   "id": "937e5d84",
   "metadata": {
    "execution": {
     "iopub.execute_input": "2022-01-09T21:53:39.169305Z",
     "iopub.status.busy": "2022-01-09T21:53:39.168720Z",
     "iopub.status.idle": "2022-01-09T21:53:39.195364Z",
     "shell.execute_reply": "2022-01-09T21:53:39.195895Z"
    },
    "papermill": {
     "duration": 0.185631,
     "end_time": "2022-01-09T21:53:39.196093",
     "exception": false,
     "start_time": "2022-01-09T21:53:39.010462",
     "status": "completed"
    },
    "tags": []
   },
   "outputs": [
    {
     "data": {
      "text/html": [
       "<div>\n",
       "<style scoped>\n",
       "    .dataframe tbody tr th:only-of-type {\n",
       "        vertical-align: middle;\n",
       "    }\n",
       "\n",
       "    .dataframe tbody tr th {\n",
       "        vertical-align: top;\n",
       "    }\n",
       "\n",
       "    .dataframe thead th {\n",
       "        text-align: right;\n",
       "    }\n",
       "</style>\n",
       "<table border=\"1\" class=\"dataframe\">\n",
       "  <thead>\n",
       "    <tr style=\"text-align: right;\">\n",
       "      <th></th>\n",
       "      <th>Review</th>\n",
       "      <th>Normalized</th>\n",
       "      <th>Preprocessed</th>\n",
       "      <th>Preprocessed_Total</th>\n",
       "      <th>Topics</th>\n",
       "      <th>GSDMM_Topics</th>\n",
       "      <th>Topics_2</th>\n",
       "      <th>Tagged</th>\n",
       "    </tr>\n",
       "  </thead>\n",
       "  <tbody>\n",
       "    <tr>\n",
       "      <th>4917</th>\n",
       "      <td>Easy process, quick results - very good prices.</td>\n",
       "      <td>easy process  quick results   very good prices</td>\n",
       "      <td>[process, result, price, good_price, easy_proc...</td>\n",
       "      <td>[easy, process, quick, result, good, price, go...</td>\n",
       "      <td>[0, 4]</td>\n",
       "      <td>[6]</td>\n",
       "      <td>6</td>\n",
       "      <td>[discounts, length of fitting]</td>\n",
       "    </tr>\n",
       "    <tr>\n",
       "      <th>3240</th>\n",
       "      <td>really good good price and service</td>\n",
       "      <td>really good good price and service</td>\n",
       "      <td>[price, service, good_price]</td>\n",
       "      <td>[good, good, price, service, good_price]</td>\n",
       "      <td>[]</td>\n",
       "      <td>[10]</td>\n",
       "      <td>10</td>\n",
       "      <td>[]</td>\n",
       "    </tr>\n",
       "    <tr>\n",
       "      <th>695</th>\n",
       "      <td>Ease of use and impressed with the service fro...</td>\n",
       "      <td>ease of use and impressed with the service fro...</td>\n",
       "      <td>[ease, service, garage]</td>\n",
       "      <td>[ease, impressed, service, garage]</td>\n",
       "      <td>[2, 11]</td>\n",
       "      <td>[7, 10, 5]</td>\n",
       "      <td>10</td>\n",
       "      <td>[booking confusion, garage service]</td>\n",
       "    </tr>\n",
       "    <tr>\n",
       "      <th>2092</th>\n",
       "      <td>All good. Good tyres, good service</td>\n",
       "      <td>all good  good tyres  good service</td>\n",
       "      <td>[tyre, service]</td>\n",
       "      <td>[good, good, tyre, good, service]</td>\n",
       "      <td>[]</td>\n",
       "      <td>[10]</td>\n",
       "      <td>10</td>\n",
       "      <td>[]</td>\n",
       "    </tr>\n",
       "    <tr>\n",
       "      <th>470</th>\n",
       "      <td>Garage fitting didn’t set tyre pressures corre...</td>\n",
       "      <td>garage fitting didnt set tyre pressures correc...</td>\n",
       "      <td>[garage, do, nt, tyre, pressure, pressure, mon...</td>\n",
       "      <td>[garage, do, nt, tyre, pressure, do, nt, reset...</td>\n",
       "      <td>[2, 8]</td>\n",
       "      <td>[2]</td>\n",
       "      <td>2</td>\n",
       "      <td>[booking confusion, location]</td>\n",
       "    </tr>\n",
       "    <tr>\n",
       "      <th>4232</th>\n",
       "      <td>Great customer service. Great prices</td>\n",
       "      <td>great customer service  great prices</td>\n",
       "      <td>[customer, service, price, customer_service, g...</td>\n",
       "      <td>[great, customer, service, great, price, custo...</td>\n",
       "      <td>[7]</td>\n",
       "      <td>[4]</td>\n",
       "      <td>4</td>\n",
       "      <td>[value for money]</td>\n",
       "    </tr>\n",
       "    <tr>\n",
       "      <th>4551</th>\n",
       "      <td>It was so easy to use select your tyres you wa...</td>\n",
       "      <td>it was so easy to use select your tyres you wa...</td>\n",
       "      <td>[tyre, class, service, first_class, class_serv...</td>\n",
       "      <td>[easy, select, tyre, want, select, want, go, t...</td>\n",
       "      <td>[6]</td>\n",
       "      <td>[1]</td>\n",
       "      <td>1</td>\n",
       "      <td>[mobile tyre fitter]</td>\n",
       "    </tr>\n",
       "    <tr>\n",
       "      <th>4888</th>\n",
       "      <td>Found the service very straightforward and the...</td>\n",
       "      <td>found the service very straightforward and the...</td>\n",
       "      <td>[service, mechanic, price]</td>\n",
       "      <td>[find, service, mechanic, helpful, pleasant, r...</td>\n",
       "      <td>[9]</td>\n",
       "      <td>[8, 4]</td>\n",
       "      <td>5</td>\n",
       "      <td>[wait time]</td>\n",
       "    </tr>\n",
       "    <tr>\n",
       "      <th>9694</th>\n",
       "      <td>Quick, reliable and friendly</td>\n",
       "      <td>quick  reliable and friendly</td>\n",
       "      <td>[reliable]</td>\n",
       "      <td>[quick, reliable, friendly]</td>\n",
       "      <td>[]</td>\n",
       "      <td>[10, 4]</td>\n",
       "      <td>4</td>\n",
       "      <td>[]</td>\n",
       "    </tr>\n",
       "    <tr>\n",
       "      <th>284</th>\n",
       "      <td>Like the website and fitter was great</td>\n",
       "      <td>like the website and fitter was great</td>\n",
       "      <td>[website, fitter]</td>\n",
       "      <td>[website, fitter, great]</td>\n",
       "      <td>[8, 11]</td>\n",
       "      <td>[6, 8, 10]</td>\n",
       "      <td>8</td>\n",
       "      <td>[location, garage service]</td>\n",
       "    </tr>\n",
       "  </tbody>\n",
       "</table>\n",
       "</div>"
      ],
      "text/plain": [
       "                                                 Review  \\\n",
       "4917    Easy process, quick results - very good prices.   \n",
       "3240                 really good good price and service   \n",
       "695   Ease of use and impressed with the service fro...   \n",
       "2092                 All good. Good tyres, good service   \n",
       "470   Garage fitting didn’t set tyre pressures corre...   \n",
       "4232               Great customer service. Great prices   \n",
       "4551  It was so easy to use select your tyres you wa...   \n",
       "4888  Found the service very straightforward and the...   \n",
       "9694                       Quick, reliable and friendly   \n",
       "284               Like the website and fitter was great   \n",
       "\n",
       "                                             Normalized  \\\n",
       "4917    easy process  quick results   very good prices    \n",
       "3240                 really good good price and service   \n",
       "695   ease of use and impressed with the service fro...   \n",
       "2092                 all good  good tyres  good service   \n",
       "470   garage fitting didnt set tyre pressures correc...   \n",
       "4232               great customer service  great prices   \n",
       "4551  it was so easy to use select your tyres you wa...   \n",
       "4888  found the service very straightforward and the...   \n",
       "9694                       quick  reliable and friendly   \n",
       "284               like the website and fitter was great   \n",
       "\n",
       "                                           Preprocessed  \\\n",
       "4917  [process, result, price, good_price, easy_proc...   \n",
       "3240                       [price, service, good_price]   \n",
       "695                             [ease, service, garage]   \n",
       "2092                                    [tyre, service]   \n",
       "470   [garage, do, nt, tyre, pressure, pressure, mon...   \n",
       "4232  [customer, service, price, customer_service, g...   \n",
       "4551  [tyre, class, service, first_class, class_serv...   \n",
       "4888                         [service, mechanic, price]   \n",
       "9694                                         [reliable]   \n",
       "284                                   [website, fitter]   \n",
       "\n",
       "                                     Preprocessed_Total   Topics GSDMM_Topics  \\\n",
       "4917  [easy, process, quick, result, good, price, go...   [0, 4]          [6]   \n",
       "3240           [good, good, price, service, good_price]       []         [10]   \n",
       "695                  [ease, impressed, service, garage]  [2, 11]   [7, 10, 5]   \n",
       "2092                  [good, good, tyre, good, service]       []         [10]   \n",
       "470   [garage, do, nt, tyre, pressure, do, nt, reset...   [2, 8]          [2]   \n",
       "4232  [great, customer, service, great, price, custo...      [7]          [4]   \n",
       "4551  [easy, select, tyre, want, select, want, go, t...      [6]          [1]   \n",
       "4888  [find, service, mechanic, helpful, pleasant, r...      [9]       [8, 4]   \n",
       "9694                        [quick, reliable, friendly]       []      [10, 4]   \n",
       "284                            [website, fitter, great]  [8, 11]   [6, 8, 10]   \n",
       "\n",
       "      Topics_2                               Tagged  \n",
       "4917         6       [discounts, length of fitting]  \n",
       "3240        10                                   []  \n",
       "695         10  [booking confusion, garage service]  \n",
       "2092        10                                   []  \n",
       "470          2        [booking confusion, location]  \n",
       "4232         4                    [value for money]  \n",
       "4551         1                 [mobile tyre fitter]  \n",
       "4888         5                          [wait time]  \n",
       "9694         4                                   []  \n",
       "284          8           [location, garage service]  "
      ]
     },
     "execution_count": 91,
     "metadata": {},
     "output_type": "execute_result"
    }
   ],
   "source": [
    "dataset.sample(10)"
   ]
  },
  {
   "cell_type": "code",
   "execution_count": 92,
   "id": "db6c52c1",
   "metadata": {
    "execution": {
     "iopub.execute_input": "2022-01-09T21:53:39.510804Z",
     "iopub.status.busy": "2022-01-09T21:53:39.510173Z",
     "iopub.status.idle": "2022-01-09T21:53:39.516423Z",
     "shell.execute_reply": "2022-01-09T21:53:39.516978Z"
    },
    "papermill": {
     "duration": 0.165218,
     "end_time": "2022-01-09T21:53:39.517165",
     "exception": false,
     "start_time": "2022-01-09T21:53:39.351947",
     "status": "completed"
    },
    "tags": []
   },
   "outputs": [
    {
     "data": {
      "text/plain": [
       "array(['A quick, easy and efficient service online to order and pay for tyres. I ordered 4 and had them fitted trouble-free within 3 days at a convenient local garage. Would highly recommend [REDACTED].',\n",
       "       list(['booking confusion'])], dtype=object)"
      ]
     },
     "execution_count": 92,
     "metadata": {},
     "output_type": "execute_result"
    }
   ],
   "source": [
    "dataset.loc[8431, ['Review','Tagged']].values"
   ]
  },
  {
   "cell_type": "markdown",
   "id": "50a39563",
   "metadata": {
    "papermill": {
     "duration": 0.156533,
     "end_time": "2022-01-09T21:53:39.832669",
     "exception": false,
     "start_time": "2022-01-09T21:53:39.676136",
     "status": "completed"
    },
    "tags": []
   },
   "source": [
    "# Classifiers"
   ]
  },
  {
   "cell_type": "code",
   "execution_count": 93,
   "id": "edcd6f3b",
   "metadata": {
    "execution": {
     "iopub.execute_input": "2022-01-09T21:53:40.151134Z",
     "iopub.status.busy": "2022-01-09T21:53:40.150532Z",
     "iopub.status.idle": "2022-01-09T21:53:43.659533Z",
     "shell.execute_reply": "2022-01-09T21:53:43.658946Z"
    },
    "papermill": {
     "duration": 3.670763,
     "end_time": "2022-01-09T21:53:43.659676",
     "exception": false,
     "start_time": "2022-01-09T21:53:39.988913",
     "status": "completed"
    },
    "tags": []
   },
   "outputs": [],
   "source": [
    "lda_dataset = pd.DataFrame()\n",
    "lda_dataset['Review'] = dataset['Review']\n",
    "columns = ['lda_'+str(i) for i in range(0,12)]\n",
    "\n",
    "for i, row in dataset.iterrows():\n",
    "    classes = dataset.loc[i, 'Topics']\n",
    "    for class_num in classes:\n",
    "        lda_dataset.loc[i, 'lda_'+ str(class_num)] = 1\n",
    "lda_dataset.fillna(0, inplace = True)"
   ]
  },
  {
   "cell_type": "code",
   "execution_count": 94,
   "id": "8ca5f4c8",
   "metadata": {
    "execution": {
     "iopub.execute_input": "2022-01-09T21:53:43.977237Z",
     "iopub.status.busy": "2022-01-09T21:53:43.976586Z",
     "iopub.status.idle": "2022-01-09T21:53:43.988397Z",
     "shell.execute_reply": "2022-01-09T21:53:43.988928Z"
    },
    "papermill": {
     "duration": 0.174181,
     "end_time": "2022-01-09T21:53:43.989126",
     "exception": false,
     "start_time": "2022-01-09T21:53:43.814945",
     "status": "completed"
    },
    "tags": []
   },
   "outputs": [],
   "source": [
    "lda_dataset['Preprocessed'] = dataset['Preprocessed'].apply(lambda x: ' '.join(x))"
   ]
  },
  {
   "cell_type": "code",
   "execution_count": 95,
   "id": "22ed0f7b",
   "metadata": {
    "execution": {
     "iopub.execute_input": "2022-01-09T21:53:44.307250Z",
     "iopub.status.busy": "2022-01-09T21:53:44.306631Z",
     "iopub.status.idle": "2022-01-09T21:53:44.327566Z",
     "shell.execute_reply": "2022-01-09T21:53:44.328051Z"
    },
    "papermill": {
     "duration": 0.181797,
     "end_time": "2022-01-09T21:53:44.328231",
     "exception": false,
     "start_time": "2022-01-09T21:53:44.146434",
     "status": "completed"
    },
    "tags": []
   },
   "outputs": [
    {
     "data": {
      "text/html": [
       "<div>\n",
       "<style scoped>\n",
       "    .dataframe tbody tr th:only-of-type {\n",
       "        vertical-align: middle;\n",
       "    }\n",
       "\n",
       "    .dataframe tbody tr th {\n",
       "        vertical-align: top;\n",
       "    }\n",
       "\n",
       "    .dataframe thead th {\n",
       "        text-align: right;\n",
       "    }\n",
       "</style>\n",
       "<table border=\"1\" class=\"dataframe\">\n",
       "  <thead>\n",
       "    <tr style=\"text-align: right;\">\n",
       "      <th></th>\n",
       "      <th>Review</th>\n",
       "      <th>lda_2</th>\n",
       "      <th>lda_6</th>\n",
       "      <th>lda_7</th>\n",
       "      <th>lda_1</th>\n",
       "      <th>lda_9</th>\n",
       "      <th>lda_5</th>\n",
       "      <th>lda_4</th>\n",
       "      <th>lda_3</th>\n",
       "      <th>lda_8</th>\n",
       "      <th>lda_10</th>\n",
       "      <th>lda_0</th>\n",
       "      <th>lda_11</th>\n",
       "      <th>Preprocessed</th>\n",
       "    </tr>\n",
       "  </thead>\n",
       "  <tbody>\n",
       "    <tr>\n",
       "      <th>119</th>\n",
       "      <td>Excellent service. Price is great (fitting inc...</td>\n",
       "      <td>0.0</td>\n",
       "      <td>0.0</td>\n",
       "      <td>0.0</td>\n",
       "      <td>1.0</td>\n",
       "      <td>0.0</td>\n",
       "      <td>0.0</td>\n",
       "      <td>0.0</td>\n",
       "      <td>0.0</td>\n",
       "      <td>0.0</td>\n",
       "      <td>0.0</td>\n",
       "      <td>0.0</td>\n",
       "      <td>0.0</td>\n",
       "      <td>service price price cost service excellent_ser...</td>\n",
       "    </tr>\n",
       "    <tr>\n",
       "      <th>2821</th>\n",
       "      <td>Was originally quoted I would have the tyre fi...</td>\n",
       "      <td>1.0</td>\n",
       "      <td>0.0</td>\n",
       "      <td>0.0</td>\n",
       "      <td>0.0</td>\n",
       "      <td>0.0</td>\n",
       "      <td>0.0</td>\n",
       "      <td>0.0</td>\n",
       "      <td>0.0</td>\n",
       "      <td>0.0</td>\n",
       "      <td>1.0</td>\n",
       "      <td>0.0</td>\n",
       "      <td>0.0</td>\n",
       "      <td>tyre august be nt tyre be nt issue</td>\n",
       "    </tr>\n",
       "    <tr>\n",
       "      <th>1647</th>\n",
       "      <td>Price right and easy to access fitting locally</td>\n",
       "      <td>0.0</td>\n",
       "      <td>0.0</td>\n",
       "      <td>0.0</td>\n",
       "      <td>0.0</td>\n",
       "      <td>0.0</td>\n",
       "      <td>0.0</td>\n",
       "      <td>0.0</td>\n",
       "      <td>0.0</td>\n",
       "      <td>1.0</td>\n",
       "      <td>0.0</td>\n",
       "      <td>1.0</td>\n",
       "      <td>0.0</td>\n",
       "      <td>price right access</td>\n",
       "    </tr>\n",
       "    <tr>\n",
       "      <th>6910</th>\n",
       "      <td>Provided good service, no issues. Have used th...</td>\n",
       "      <td>0.0</td>\n",
       "      <td>0.0</td>\n",
       "      <td>0.0</td>\n",
       "      <td>0.0</td>\n",
       "      <td>0.0</td>\n",
       "      <td>0.0</td>\n",
       "      <td>0.0</td>\n",
       "      <td>0.0</td>\n",
       "      <td>1.0</td>\n",
       "      <td>0.0</td>\n",
       "      <td>0.0</td>\n",
       "      <td>0.0</td>\n",
       "      <td>service issue company doubt</td>\n",
       "    </tr>\n",
       "    <tr>\n",
       "      <th>2406</th>\n",
       "      <td>Easy to order great price will use them all th...</td>\n",
       "      <td>1.0</td>\n",
       "      <td>0.0</td>\n",
       "      <td>0.0</td>\n",
       "      <td>0.0</td>\n",
       "      <td>0.0</td>\n",
       "      <td>1.0</td>\n",
       "      <td>0.0</td>\n",
       "      <td>0.0</td>\n",
       "      <td>0.0</td>\n",
       "      <td>0.0</td>\n",
       "      <td>0.0</td>\n",
       "      <td>0.0</td>\n",
       "      <td>order price time</td>\n",
       "    </tr>\n",
       "  </tbody>\n",
       "</table>\n",
       "</div>"
      ],
      "text/plain": [
       "                                                 Review  lda_2  lda_6  lda_7  \\\n",
       "119   Excellent service. Price is great (fitting inc...    0.0    0.0    0.0   \n",
       "2821  Was originally quoted I would have the tyre fi...    1.0    0.0    0.0   \n",
       "1647     Price right and easy to access fitting locally    0.0    0.0    0.0   \n",
       "6910  Provided good service, no issues. Have used th...    0.0    0.0    0.0   \n",
       "2406  Easy to order great price will use them all th...    1.0    0.0    0.0   \n",
       "\n",
       "      lda_1  lda_9  lda_5  lda_4  lda_3  lda_8  lda_10  lda_0  lda_11  \\\n",
       "119     1.0    0.0    0.0    0.0    0.0    0.0     0.0    0.0     0.0   \n",
       "2821    0.0    0.0    0.0    0.0    0.0    0.0     1.0    0.0     0.0   \n",
       "1647    0.0    0.0    0.0    0.0    0.0    1.0     0.0    1.0     0.0   \n",
       "6910    0.0    0.0    0.0    0.0    0.0    1.0     0.0    0.0     0.0   \n",
       "2406    0.0    0.0    1.0    0.0    0.0    0.0     0.0    0.0     0.0   \n",
       "\n",
       "                                           Preprocessed  \n",
       "119   service price price cost service excellent_ser...  \n",
       "2821                 tyre august be nt tyre be nt issue  \n",
       "1647                                 price right access  \n",
       "6910                        service issue company doubt  \n",
       "2406                                   order price time  "
      ]
     },
     "execution_count": 95,
     "metadata": {},
     "output_type": "execute_result"
    }
   ],
   "source": [
    "lda_dataset.sample(5)"
   ]
  },
  {
   "cell_type": "code",
   "execution_count": 96,
   "id": "d73f931d",
   "metadata": {
    "execution": {
     "iopub.execute_input": "2022-01-09T21:53:44.647537Z",
     "iopub.status.busy": "2022-01-09T21:53:44.646919Z",
     "iopub.status.idle": "2022-01-09T21:53:44.732885Z",
     "shell.execute_reply": "2022-01-09T21:53:44.732328Z"
    },
    "papermill": {
     "duration": 0.246965,
     "end_time": "2022-01-09T21:53:44.733021",
     "exception": false,
     "start_time": "2022-01-09T21:53:44.486056",
     "status": "completed"
    },
    "tags": []
   },
   "outputs": [],
   "source": [
    "from sklearn.feature_extraction.text import TfidfVectorizer\n",
    "\n",
    "vectorizer = TfidfVectorizer()\n",
    "\n",
    "X = vectorizer.fit_transform(lda_dataset.Preprocessed)\n"
   ]
  },
  {
   "cell_type": "code",
   "execution_count": 97,
   "id": "f4d0f3bf",
   "metadata": {
    "execution": {
     "iopub.execute_input": "2022-01-09T21:53:45.055368Z",
     "iopub.status.busy": "2022-01-09T21:53:45.054762Z",
     "iopub.status.idle": "2022-01-09T21:53:45.057410Z",
     "shell.execute_reply": "2022-01-09T21:53:45.056937Z"
    },
    "papermill": {
     "duration": 0.166313,
     "end_time": "2022-01-09T21:53:45.057551",
     "exception": false,
     "start_time": "2022-01-09T21:53:44.891238",
     "status": "completed"
    },
    "tags": []
   },
   "outputs": [],
   "source": [
    "Y = lda_dataset.loc[:, [column for column in lda_dataset.columns if column.startswith('lda_')]]"
   ]
  },
  {
   "cell_type": "code",
   "execution_count": 98,
   "id": "50226cb9",
   "metadata": {
    "execution": {
     "iopub.execute_input": "2022-01-09T21:53:45.378049Z",
     "iopub.status.busy": "2022-01-09T21:53:45.377468Z",
     "iopub.status.idle": "2022-01-09T21:53:45.395268Z",
     "shell.execute_reply": "2022-01-09T21:53:45.395786Z"
    },
    "papermill": {
     "duration": 0.179925,
     "end_time": "2022-01-09T21:53:45.395958",
     "exception": false,
     "start_time": "2022-01-09T21:53:45.216033",
     "status": "completed"
    },
    "tags": []
   },
   "outputs": [
    {
     "data": {
      "text/html": [
       "<div>\n",
       "<style scoped>\n",
       "    .dataframe tbody tr th:only-of-type {\n",
       "        vertical-align: middle;\n",
       "    }\n",
       "\n",
       "    .dataframe tbody tr th {\n",
       "        vertical-align: top;\n",
       "    }\n",
       "\n",
       "    .dataframe thead th {\n",
       "        text-align: right;\n",
       "    }\n",
       "</style>\n",
       "<table border=\"1\" class=\"dataframe\">\n",
       "  <thead>\n",
       "    <tr style=\"text-align: right;\">\n",
       "      <th></th>\n",
       "      <th>lda_2</th>\n",
       "      <th>lda_6</th>\n",
       "      <th>lda_7</th>\n",
       "      <th>lda_1</th>\n",
       "      <th>lda_9</th>\n",
       "      <th>lda_5</th>\n",
       "      <th>lda_4</th>\n",
       "      <th>lda_3</th>\n",
       "      <th>lda_8</th>\n",
       "      <th>lda_10</th>\n",
       "      <th>lda_0</th>\n",
       "      <th>lda_11</th>\n",
       "    </tr>\n",
       "  </thead>\n",
       "  <tbody>\n",
       "    <tr>\n",
       "      <th>0</th>\n",
       "      <td>1.0</td>\n",
       "      <td>0.0</td>\n",
       "      <td>0.0</td>\n",
       "      <td>0.0</td>\n",
       "      <td>0.0</td>\n",
       "      <td>0.0</td>\n",
       "      <td>0.0</td>\n",
       "      <td>0.0</td>\n",
       "      <td>0.0</td>\n",
       "      <td>0.0</td>\n",
       "      <td>0.0</td>\n",
       "      <td>0.0</td>\n",
       "    </tr>\n",
       "    <tr>\n",
       "      <th>1</th>\n",
       "      <td>0.0</td>\n",
       "      <td>1.0</td>\n",
       "      <td>0.0</td>\n",
       "      <td>0.0</td>\n",
       "      <td>0.0</td>\n",
       "      <td>0.0</td>\n",
       "      <td>0.0</td>\n",
       "      <td>0.0</td>\n",
       "      <td>0.0</td>\n",
       "      <td>0.0</td>\n",
       "      <td>0.0</td>\n",
       "      <td>0.0</td>\n",
       "    </tr>\n",
       "    <tr>\n",
       "      <th>2</th>\n",
       "      <td>0.0</td>\n",
       "      <td>0.0</td>\n",
       "      <td>1.0</td>\n",
       "      <td>0.0</td>\n",
       "      <td>0.0</td>\n",
       "      <td>0.0</td>\n",
       "      <td>0.0</td>\n",
       "      <td>0.0</td>\n",
       "      <td>0.0</td>\n",
       "      <td>0.0</td>\n",
       "      <td>0.0</td>\n",
       "      <td>0.0</td>\n",
       "    </tr>\n",
       "    <tr>\n",
       "      <th>3</th>\n",
       "      <td>0.0</td>\n",
       "      <td>0.0</td>\n",
       "      <td>0.0</td>\n",
       "      <td>1.0</td>\n",
       "      <td>0.0</td>\n",
       "      <td>0.0</td>\n",
       "      <td>0.0</td>\n",
       "      <td>0.0</td>\n",
       "      <td>0.0</td>\n",
       "      <td>0.0</td>\n",
       "      <td>0.0</td>\n",
       "      <td>0.0</td>\n",
       "    </tr>\n",
       "    <tr>\n",
       "      <th>4</th>\n",
       "      <td>0.0</td>\n",
       "      <td>0.0</td>\n",
       "      <td>0.0</td>\n",
       "      <td>0.0</td>\n",
       "      <td>1.0</td>\n",
       "      <td>0.0</td>\n",
       "      <td>0.0</td>\n",
       "      <td>0.0</td>\n",
       "      <td>0.0</td>\n",
       "      <td>0.0</td>\n",
       "      <td>0.0</td>\n",
       "      <td>0.0</td>\n",
       "    </tr>\n",
       "  </tbody>\n",
       "</table>\n",
       "</div>"
      ],
      "text/plain": [
       "   lda_2  lda_6  lda_7  lda_1  lda_9  lda_5  lda_4  lda_3  lda_8  lda_10  \\\n",
       "0    1.0    0.0    0.0    0.0    0.0    0.0    0.0    0.0    0.0     0.0   \n",
       "1    0.0    1.0    0.0    0.0    0.0    0.0    0.0    0.0    0.0     0.0   \n",
       "2    0.0    0.0    1.0    0.0    0.0    0.0    0.0    0.0    0.0     0.0   \n",
       "3    0.0    0.0    0.0    1.0    0.0    0.0    0.0    0.0    0.0     0.0   \n",
       "4    0.0    0.0    0.0    0.0    1.0    0.0    0.0    0.0    0.0     0.0   \n",
       "\n",
       "   lda_0  lda_11  \n",
       "0    0.0     0.0  \n",
       "1    0.0     0.0  \n",
       "2    0.0     0.0  \n",
       "3    0.0     0.0  \n",
       "4    0.0     0.0  "
      ]
     },
     "execution_count": 98,
     "metadata": {},
     "output_type": "execute_result"
    }
   ],
   "source": [
    "Y.head()"
   ]
  },
  {
   "cell_type": "code",
   "execution_count": 99,
   "id": "d2af78fc",
   "metadata": {
    "execution": {
     "iopub.execute_input": "2022-01-09T21:53:45.717610Z",
     "iopub.status.busy": "2022-01-09T21:53:45.717018Z",
     "iopub.status.idle": "2022-01-09T21:53:45.725700Z",
     "shell.execute_reply": "2022-01-09T21:53:45.725227Z"
    },
    "papermill": {
     "duration": 0.17068,
     "end_time": "2022-01-09T21:53:45.725841",
     "exception": false,
     "start_time": "2022-01-09T21:53:45.555161",
     "status": "completed"
    },
    "tags": []
   },
   "outputs": [],
   "source": [
    "from sklearn.model_selection import train_test_split\n",
    "\n",
    "xtrain,xtest,ytrain,ytest = train_test_split(X , Y, test_size = 0.2, random_state = 0)"
   ]
  },
  {
   "cell_type": "code",
   "execution_count": 100,
   "id": "65999ba1",
   "metadata": {
    "execution": {
     "iopub.execute_input": "2022-01-09T21:53:46.047129Z",
     "iopub.status.busy": "2022-01-09T21:53:46.046538Z",
     "iopub.status.idle": "2022-01-09T21:53:46.049222Z",
     "shell.execute_reply": "2022-01-09T21:53:46.048670Z"
    },
    "papermill": {
     "duration": 0.165467,
     "end_time": "2022-01-09T21:53:46.049352",
     "exception": false,
     "start_time": "2022-01-09T21:53:45.883885",
     "status": "completed"
    },
    "tags": []
   },
   "outputs": [],
   "source": [
    "from sklearn.metrics import f1_score, accuracy_score"
   ]
  },
  {
   "cell_type": "code",
   "execution_count": 101,
   "id": "6a0df9eb",
   "metadata": {
    "execution": {
     "iopub.execute_input": "2022-01-09T21:53:46.370805Z",
     "iopub.status.busy": "2022-01-09T21:53:46.370231Z",
     "iopub.status.idle": "2022-01-09T21:53:46.374534Z",
     "shell.execute_reply": "2022-01-09T21:53:46.375034Z"
    },
    "papermill": {
     "duration": 0.166982,
     "end_time": "2022-01-09T21:53:46.375213",
     "exception": false,
     "start_time": "2022-01-09T21:53:46.208231",
     "status": "completed"
    },
    "tags": []
   },
   "outputs": [
    {
     "data": {
      "text/plain": [
       "(8105, 12)"
      ]
     },
     "execution_count": 101,
     "metadata": {},
     "output_type": "execute_result"
    }
   ],
   "source": [
    "np.array(ytrain).shape"
   ]
  },
  {
   "cell_type": "code",
   "execution_count": 102,
   "id": "83396b46",
   "metadata": {
    "execution": {
     "iopub.execute_input": "2022-01-09T21:53:46.697863Z",
     "iopub.status.busy": "2022-01-09T21:53:46.697308Z",
     "iopub.status.idle": "2022-01-09T21:53:46.701627Z",
     "shell.execute_reply": "2022-01-09T21:53:46.702197Z"
    },
    "papermill": {
     "duration": 0.166706,
     "end_time": "2022-01-09T21:53:46.702371",
     "exception": false,
     "start_time": "2022-01-09T21:53:46.535665",
     "status": "completed"
    },
    "tags": []
   },
   "outputs": [],
   "source": [
    "ytrain = [ytrain.loc[:, column] for column in columns]"
   ]
  },
  {
   "cell_type": "code",
   "execution_count": 103,
   "id": "20fe9159",
   "metadata": {
    "execution": {
     "iopub.execute_input": "2022-01-09T21:53:47.020865Z",
     "iopub.status.busy": "2022-01-09T21:53:47.020313Z",
     "iopub.status.idle": "2022-01-09T21:53:47.024524Z",
     "shell.execute_reply": "2022-01-09T21:53:47.024962Z"
    },
    "papermill": {
     "duration": 0.165196,
     "end_time": "2022-01-09T21:53:47.025149",
     "exception": false,
     "start_time": "2022-01-09T21:53:46.859953",
     "status": "completed"
    },
    "tags": []
   },
   "outputs": [],
   "source": [
    "ytest = [ytest.loc[:, column] for column in columns]"
   ]
  },
  {
   "cell_type": "markdown",
   "id": "d41aada9",
   "metadata": {
    "papermill": {
     "duration": 0.15985,
     "end_time": "2022-01-09T21:53:47.343746",
     "exception": false,
     "start_time": "2022-01-09T21:53:47.183896",
     "status": "completed"
    },
    "tags": []
   },
   "source": [
    "## 1. Naive Bayes"
   ]
  },
  {
   "cell_type": "code",
   "execution_count": 104,
   "id": "e8cc7156",
   "metadata": {
    "execution": {
     "iopub.execute_input": "2022-01-09T21:53:47.665716Z",
     "iopub.status.busy": "2022-01-09T21:53:47.665170Z",
     "iopub.status.idle": "2022-01-09T21:53:47.671781Z",
     "shell.execute_reply": "2022-01-09T21:53:47.672263Z"
    },
    "papermill": {
     "duration": 0.169947,
     "end_time": "2022-01-09T21:53:47.672437",
     "exception": false,
     "start_time": "2022-01-09T21:53:47.502490",
     "status": "completed"
    },
    "tags": []
   },
   "outputs": [],
   "source": [
    "from sklearn.naive_bayes import MultinomialNB\n",
    "clf = MultinomialNB()"
   ]
  },
  {
   "cell_type": "code",
   "execution_count": 105,
   "id": "b4c3e527",
   "metadata": {
    "execution": {
     "iopub.execute_input": "2022-01-09T21:53:47.994727Z",
     "iopub.status.busy": "2022-01-09T21:53:47.994096Z",
     "iopub.status.idle": "2022-01-09T21:53:48.064078Z",
     "shell.execute_reply": "2022-01-09T21:53:48.063485Z"
    },
    "papermill": {
     "duration": 0.232639,
     "end_time": "2022-01-09T21:53:48.064239",
     "exception": false,
     "start_time": "2022-01-09T21:53:47.831600",
     "status": "completed"
    },
    "tags": []
   },
   "outputs": [],
   "source": [
    "\n",
    "scores_f1 = []\n",
    "scores_acc = []\n",
    "\n",
    "count = 0\n",
    "\n",
    "for sample in ytrain:\n",
    "    clf.fit(xtrain,sample)\n",
    "    prediction = clf.predict(xtest)\n",
    "    scores_f1.append(f1_score(ytest[count], prediction, zero_division = 0))\n",
    "    scores_acc.append(accuracy_score(ytest[count], prediction))\n",
    "    count+=1\n",
    "\n",
    "\n"
   ]
  },
  {
   "cell_type": "code",
   "execution_count": 106,
   "id": "1eb81ff2",
   "metadata": {
    "execution": {
     "iopub.execute_input": "2022-01-09T21:53:48.389364Z",
     "iopub.status.busy": "2022-01-09T21:53:48.386104Z",
     "iopub.status.idle": "2022-01-09T21:53:48.393646Z",
     "shell.execute_reply": "2022-01-09T21:53:48.393178Z"
    },
    "papermill": {
     "duration": 0.169062,
     "end_time": "2022-01-09T21:53:48.393789",
     "exception": false,
     "start_time": "2022-01-09T21:53:48.224727",
     "status": "completed"
    },
    "tags": []
   },
   "outputs": [
    {
     "name": "stdout",
     "output_type": "stream",
     "text": [
      "Naive Bayes Mean F1-Score: 0.2462606080941486\n",
      "Naive Bayes Mean Accuracy: 0.9156388751850025\n",
      "Naive Bayes All F1-Scores: [0.08866995073891625, 0.08653846153846152, 0.40633245382585753, 0.24120603015075376, 0.27979274611398963, 0.21316614420062696, 0.34838709677419355, 0.515527950310559, 0.24918032786885247, 0.11976047904191615, 0.21212121212121215, 0.19444444444444445]\n",
      "Naive Bayes All Accuracies: [0.908732116428219, 0.906265416872225, 0.8889985199802664, 0.9255056734089788, 0.9314257523433646, 0.8761716822890971, 0.9501726689689196, 0.9230389738529847, 0.8870251603354712, 0.9274790330537741, 0.9486926492353231, 0.9141588554514061]\n"
     ]
    }
   ],
   "source": [
    "print(\"Naive Bayes Mean F1-Score:\", np.mean(scores_f1))\n",
    "print(\"Naive Bayes Mean Accuracy:\", np.mean(scores_acc))\n",
    "print(\"Naive Bayes All F1-Scores:\", scores_f1)\n",
    "print(\"Naive Bayes All Accuracies:\", scores_acc)"
   ]
  },
  {
   "cell_type": "markdown",
   "id": "1cd20100",
   "metadata": {
    "papermill": {
     "duration": 0.160836,
     "end_time": "2022-01-09T21:53:48.718346",
     "exception": false,
     "start_time": "2022-01-09T21:53:48.557510",
     "status": "completed"
    },
    "tags": []
   },
   "source": [
    "## 2. SVM"
   ]
  },
  {
   "cell_type": "code",
   "execution_count": 107,
   "id": "6ccb1a70",
   "metadata": {
    "execution": {
     "iopub.execute_input": "2022-01-09T21:53:49.042654Z",
     "iopub.status.busy": "2022-01-09T21:53:49.042077Z",
     "iopub.status.idle": "2022-01-09T21:53:49.045613Z",
     "shell.execute_reply": "2022-01-09T21:53:49.046158Z"
    },
    "papermill": {
     "duration": 0.167636,
     "end_time": "2022-01-09T21:53:49.046340",
     "exception": false,
     "start_time": "2022-01-09T21:53:48.878704",
     "status": "completed"
    },
    "tags": []
   },
   "outputs": [],
   "source": [
    "# ! pip install delayed"
   ]
  },
  {
   "cell_type": "code",
   "execution_count": 108,
   "id": "2b3b3031",
   "metadata": {
    "execution": {
     "iopub.execute_input": "2022-01-09T21:53:49.370879Z",
     "iopub.status.busy": "2022-01-09T21:53:49.370308Z",
     "iopub.status.idle": "2022-01-09T21:53:49.373614Z",
     "shell.execute_reply": "2022-01-09T21:53:49.374050Z"
    },
    "papermill": {
     "duration": 0.16621,
     "end_time": "2022-01-09T21:53:49.374223",
     "exception": false,
     "start_time": "2022-01-09T21:53:49.208013",
     "status": "completed"
    },
    "tags": []
   },
   "outputs": [],
   "source": [
    "# from sklearn.pipeline import make_pipeline\n",
    "from sklearn.preprocessing import StandardScaler\n",
    "from sklearn.svm import SVC"
   ]
  },
  {
   "cell_type": "code",
   "execution_count": 109,
   "id": "ef037019",
   "metadata": {
    "execution": {
     "iopub.execute_input": "2022-01-09T21:53:49.698414Z",
     "iopub.status.busy": "2022-01-09T21:53:49.697812Z",
     "iopub.status.idle": "2022-01-09T21:53:50.417938Z",
     "shell.execute_reply": "2022-01-09T21:53:50.417288Z"
    },
    "papermill": {
     "duration": 0.884763,
     "end_time": "2022-01-09T21:53:50.418098",
     "exception": false,
     "start_time": "2022-01-09T21:53:49.533335",
     "status": "completed"
    },
    "tags": []
   },
   "outputs": [],
   "source": [
    "X_scaled = StandardScaler().fit_transform(xtrain.toarray())\n",
    "clf_svm = SVC(gamma='auto')\n"
   ]
  },
  {
   "cell_type": "code",
   "execution_count": 110,
   "id": "9fc9188e",
   "metadata": {
    "execution": {
     "iopub.execute_input": "2022-01-09T21:53:50.750345Z",
     "iopub.status.busy": "2022-01-09T21:53:50.749636Z",
     "iopub.status.idle": "2022-01-09T22:21:20.753713Z",
     "shell.execute_reply": "2022-01-09T22:21:20.754302Z"
    },
    "papermill": {
     "duration": 1650.174378,
     "end_time": "2022-01-09T22:21:20.754542",
     "exception": false,
     "start_time": "2022-01-09T21:53:50.580164",
     "status": "completed"
    },
    "tags": []
   },
   "outputs": [],
   "source": [
    "scores_f1_svm = []\n",
    "scores_acc_svm = []\n",
    "\n",
    "count = 0\n",
    "for sample in ytrain:\n",
    "    clf_svm.fit(X_scaled,sample)\n",
    "    prediction = clf_svm.predict(xtest.toarray())\n",
    "    scores_f1_svm.append(f1_score(ytest[count], prediction, zero_division = 0))\n",
    "    scores_acc_svm.append(accuracy_score(ytest[count], prediction))\n",
    "    count+=1"
   ]
  },
  {
   "cell_type": "code",
   "execution_count": 111,
   "id": "6fe9e829",
   "metadata": {
    "execution": {
     "iopub.execute_input": "2022-01-09T22:21:21.085334Z",
     "iopub.status.busy": "2022-01-09T22:21:21.084625Z",
     "iopub.status.idle": "2022-01-09T22:21:21.090738Z",
     "shell.execute_reply": "2022-01-09T22:21:21.090275Z"
    },
    "papermill": {
     "duration": 0.171736,
     "end_time": "2022-01-09T22:21:21.090878",
     "exception": false,
     "start_time": "2022-01-09T22:21:20.919142",
     "status": "completed"
    },
    "tags": []
   },
   "outputs": [
    {
     "name": "stdout",
     "output_type": "stream",
     "text": [
      "SVM Mean F1-Score: 0.0\n",
      "SVM Mean Accuracy: 0.9010853478046373\n",
      "SVM All F1-Scores: [0.0, 0.0, 0.0, 0.0, 0.0, 0.0, 0.0, 0.0, 0.0, 0.0, 0.0, 0.0]\n",
      "SVM All Accuracies: [0.9047853971386285, 0.9028120374938332, 0.8529847064627528, 0.9141588554514061, 0.9185989146521953, 0.8608781450419339, 0.9368524913665516, 0.8825851011346818, 0.8697582634435126, 0.9230389738529847, 0.9417858904785397, 0.9047853971386285]\n"
     ]
    }
   ],
   "source": [
    "print(\"SVM Mean F1-Score:\", np.mean(scores_f1_svm))\n",
    "print(\"SVM Mean Accuracy:\", np.mean(scores_acc_svm))\n",
    "print(\"SVM All F1-Scores:\", scores_f1_svm)\n",
    "print(\"SVM All Accuracies:\", scores_acc_svm)"
   ]
  },
  {
   "cell_type": "markdown",
   "id": "b73b48ad",
   "metadata": {
    "papermill": {
     "duration": 0.161399,
     "end_time": "2022-01-09T22:21:21.415371",
     "exception": false,
     "start_time": "2022-01-09T22:21:21.253972",
     "status": "completed"
    },
    "tags": []
   },
   "source": [
    "## 3. Logistic Regression"
   ]
  },
  {
   "cell_type": "code",
   "execution_count": 112,
   "id": "e0196c86",
   "metadata": {
    "execution": {
     "iopub.execute_input": "2022-01-09T22:21:21.775582Z",
     "iopub.status.busy": "2022-01-09T22:21:21.774632Z",
     "iopub.status.idle": "2022-01-09T22:21:21.778588Z",
     "shell.execute_reply": "2022-01-09T22:21:21.779191Z"
    },
    "papermill": {
     "duration": 0.185371,
     "end_time": "2022-01-09T22:21:21.779385",
     "exception": false,
     "start_time": "2022-01-09T22:21:21.594014",
     "status": "completed"
    },
    "tags": []
   },
   "outputs": [],
   "source": [
    "from sklearn.linear_model import LogisticRegression"
   ]
  },
  {
   "cell_type": "code",
   "execution_count": 113,
   "id": "59ec2076",
   "metadata": {
    "execution": {
     "iopub.execute_input": "2022-01-09T22:21:22.110837Z",
     "iopub.status.busy": "2022-01-09T22:21:22.109837Z",
     "iopub.status.idle": "2022-01-09T22:21:22.113681Z",
     "shell.execute_reply": "2022-01-09T22:21:22.114285Z"
    },
    "papermill": {
     "duration": 0.170885,
     "end_time": "2022-01-09T22:21:22.114457",
     "exception": false,
     "start_time": "2022-01-09T22:21:21.943572",
     "status": "completed"
    },
    "tags": []
   },
   "outputs": [],
   "source": [
    "clf_log = LogisticRegression(random_state=0)"
   ]
  },
  {
   "cell_type": "code",
   "execution_count": 114,
   "id": "4918f558",
   "metadata": {
    "execution": {
     "iopub.execute_input": "2022-01-09T22:21:22.445891Z",
     "iopub.status.busy": "2022-01-09T22:21:22.444936Z",
     "iopub.status.idle": "2022-01-09T22:21:23.457801Z",
     "shell.execute_reply": "2022-01-09T22:21:23.457273Z"
    },
    "papermill": {
     "duration": 1.180559,
     "end_time": "2022-01-09T22:21:23.457935",
     "exception": false,
     "start_time": "2022-01-09T22:21:22.277376",
     "status": "completed"
    },
    "tags": []
   },
   "outputs": [],
   "source": [
    "scores_f1_log = []\n",
    "scores_acc_log = []\n",
    "\n",
    "count = 0\n",
    "for sample in ytrain:\n",
    "    clf_log.fit(xtrain,sample)\n",
    "    prediction = clf_log.predict(xtest)\n",
    "    scores_f1_log.append(f1_score(ytest[count], prediction, zero_division = 0))\n",
    "    scores_acc_log.append(accuracy_score(ytest[count], prediction))\n",
    "    count+=1"
   ]
  },
  {
   "cell_type": "code",
   "execution_count": 115,
   "id": "2c917d19",
   "metadata": {
    "execution": {
     "iopub.execute_input": "2022-01-09T22:21:23.791262Z",
     "iopub.status.busy": "2022-01-09T22:21:23.790583Z",
     "iopub.status.idle": "2022-01-09T22:21:23.795083Z",
     "shell.execute_reply": "2022-01-09T22:21:23.794551Z"
    },
    "papermill": {
     "duration": 0.174733,
     "end_time": "2022-01-09T22:21:23.795240",
     "exception": false,
     "start_time": "2022-01-09T22:21:23.620507",
     "status": "completed"
    },
    "tags": []
   },
   "outputs": [
    {
     "name": "stdout",
     "output_type": "stream",
     "text": [
      "Logistic Regression Mean F1-Score: 0.7547789154220212\n",
      "Logistic Regression Mean Accuracy: 0.9605739187633614\n",
      "Logistic Regression All F1-Scores: [0.7951807228915663, 0.7238095238095238, 0.7779816513761468, 0.7122302158273383, 0.7636363636363637, 0.8096192384769539, 0.8073394495412843, 0.7841191066997519, 0.7318181818181819, 0.6778242677824268, 0.6292134831460674, 0.844574780058651]\n",
      "Logistic Regression All Accuracies: [0.9664528860384806, 0.957079427725703, 0.9403058707449433, 0.9605328071040947, 0.9679329057720769, 0.9531327084361125, 0.9792797237296498, 0.957079427725703, 0.9417858904785397, 0.9620128268376912, 0.9674395658608781, 0.9738529847064628]\n"
     ]
    }
   ],
   "source": [
    "print(\"Logistic Regression Mean F1-Score:\", np.mean(scores_f1_log))\n",
    "print(\"Logistic Regression Mean Accuracy:\", np.mean(scores_acc_log))\n",
    "print(\"Logistic Regression All F1-Scores:\", scores_f1_log)\n",
    "print(\"Logistic Regression All Accuracies:\", scores_acc_log)"
   ]
  },
  {
   "cell_type": "code",
   "execution_count": null,
   "id": "fe9b2229",
   "metadata": {
    "papermill": {
     "duration": 0.163622,
     "end_time": "2022-01-09T22:21:24.124814",
     "exception": false,
     "start_time": "2022-01-09T22:21:23.961192",
     "status": "completed"
    },
    "tags": []
   },
   "outputs": [],
   "source": []
  }
 ],
 "metadata": {
  "kernelspec": {
   "display_name": "Python 3",
   "language": "python",
   "name": "python3"
  },
  "language_info": {
   "codemirror_mode": {
    "name": "ipython",
    "version": 3
   },
   "file_extension": ".py",
   "mimetype": "text/x-python",
   "name": "python",
   "nbconvert_exporter": "python",
   "pygments_lexer": "ipython3",
   "version": "3.7.10"
  },
  "papermill": {
   "default_parameters": {},
   "duration": 3216.350194,
   "end_time": "2022-01-09T22:21:27.514899",
   "environment_variables": {},
   "exception": null,
   "input_path": "__notebook__.ipynb",
   "output_path": "__notebook__.ipynb",
   "parameters": {},
   "start_time": "2022-01-09T21:27:51.164705",
   "version": "2.3.3"
  },
  "widgets": {
   "application/vnd.jupyter.widget-state+json": {
    "state": {
     "00fb9382f93a4b588b29368d1dd98f4b": {
      "model_module": "@jupyter-widgets/controls",
      "model_module_version": "1.5.0",
      "model_name": "HBoxModel",
      "state": {
       "_dom_classes": [],
       "_model_module": "@jupyter-widgets/controls",
       "_model_module_version": "1.5.0",
       "_model_name": "HBoxModel",
       "_view_count": null,
       "_view_module": "@jupyter-widgets/controls",
       "_view_module_version": "1.5.0",
       "_view_name": "HBoxView",
       "box_style": "",
       "children": [
        "IPY_MODEL_6eb32887e46240b4bbc32b126023ce3f",
        "IPY_MODEL_dbb3a2dc832a4a4e90293ef72792e41c",
        "IPY_MODEL_2bf209cdc0d24b39b3bed294b9a02939"
       ],
       "layout": "IPY_MODEL_a8a7dfa9012c47c9af2386c4b511ca00"
      }
     },
     "02ccd2b977ae4232b1a8ee95bd5c0194": {
      "model_module": "@jupyter-widgets/controls",
      "model_module_version": "1.5.0",
      "model_name": "HTMLModel",
      "state": {
       "_dom_classes": [],
       "_model_module": "@jupyter-widgets/controls",
       "_model_module_version": "1.5.0",
       "_model_name": "HTMLModel",
       "_view_count": null,
       "_view_module": "@jupyter-widgets/controls",
       "_view_module_version": "1.5.0",
       "_view_name": "HTMLView",
       "description": "",
       "description_tooltip": null,
       "layout": "IPY_MODEL_1e76a18260384194925a76479da8c144",
       "placeholder": "​",
       "style": "IPY_MODEL_aa2440103fec4a89bbf8d0743383f5b8",
       "value": "Downloading: 100%"
      }
     },
     "0372b53d6ced4a6fbc5384dd849ee54d": {
      "model_module": "@jupyter-widgets/controls",
      "model_module_version": "1.5.0",
      "model_name": "HBoxModel",
      "state": {
       "_dom_classes": [],
       "_model_module": "@jupyter-widgets/controls",
       "_model_module_version": "1.5.0",
       "_model_name": "HBoxModel",
       "_view_count": null,
       "_view_module": "@jupyter-widgets/controls",
       "_view_module_version": "1.5.0",
       "_view_name": "HBoxView",
       "box_style": "",
       "children": [
        "IPY_MODEL_122f757b10064acca09db119d1c7d5dc",
        "IPY_MODEL_29f1576706ad4a319182ea9c24c6f2f3",
        "IPY_MODEL_2fe2a94133884cdda514974499e17384"
       ],
       "layout": "IPY_MODEL_b6b4ef87eb844338956569d3c2136b7a"
      }
     },
     "03f54d4e30904479baab004ea6b05457": {
      "model_module": "@jupyter-widgets/controls",
      "model_module_version": "1.5.0",
      "model_name": "DescriptionStyleModel",
      "state": {
       "_model_module": "@jupyter-widgets/controls",
       "_model_module_version": "1.5.0",
       "_model_name": "DescriptionStyleModel",
       "_view_count": null,
       "_view_module": "@jupyter-widgets/base",
       "_view_module_version": "1.2.0",
       "_view_name": "StyleView",
       "description_width": ""
      }
     },
     "0594353911b943fa9081ed167c260a30": {
      "model_module": "@jupyter-widgets/controls",
      "model_module_version": "1.5.0",
      "model_name": "HTMLModel",
      "state": {
       "_dom_classes": [],
       "_model_module": "@jupyter-widgets/controls",
       "_model_module_version": "1.5.0",
       "_model_name": "HTMLModel",
       "_view_count": null,
       "_view_module": "@jupyter-widgets/controls",
       "_view_module_version": "1.5.0",
       "_view_name": "HTMLView",
       "description": "",
       "description_tooltip": null,
       "layout": "IPY_MODEL_6a6cc9b8e06e4177a105b376b642bcf4",
       "placeholder": "​",
       "style": "IPY_MODEL_e400dd75ee2c4b66a723047e79a14ad5",
       "value": " 53.0/53.0 [00:00&lt;00:00, 1.96kB/s]"
      }
     },
     "0657f4431d8f46738ebfebba18dc7143": {
      "model_module": "@jupyter-widgets/controls",
      "model_module_version": "1.5.0",
      "model_name": "FloatProgressModel",
      "state": {
       "_dom_classes": [],
       "_model_module": "@jupyter-widgets/controls",
       "_model_module_version": "1.5.0",
       "_model_name": "FloatProgressModel",
       "_view_count": null,
       "_view_module": "@jupyter-widgets/controls",
       "_view_module_version": "1.5.0",
       "_view_name": "ProgressView",
       "bar_style": "success",
       "description": "",
       "description_tooltip": null,
       "layout": "IPY_MODEL_788a693b7aa54d54b2fc54a51f6a54f5",
       "max": 1352.0,
       "min": 0.0,
       "orientation": "horizontal",
       "style": "IPY_MODEL_32821d30c30a40c399c0b253d335fac0",
       "value": 1352.0
      }
     },
     "0af076ca01564f5f89fdd4e58898ca2f": {
      "model_module": "@jupyter-widgets/base",
      "model_module_version": "1.2.0",
      "model_name": "LayoutModel",
      "state": {
       "_model_module": "@jupyter-widgets/base",
       "_model_module_version": "1.2.0",
       "_model_name": "LayoutModel",
       "_view_count": null,
       "_view_module": "@jupyter-widgets/base",
       "_view_module_version": "1.2.0",
       "_view_name": "LayoutView",
       "align_content": null,
       "align_items": null,
       "align_self": null,
       "border": null,
       "bottom": null,
       "display": null,
       "flex": null,
       "flex_flow": null,
       "grid_area": null,
       "grid_auto_columns": null,
       "grid_auto_flow": null,
       "grid_auto_rows": null,
       "grid_column": null,
       "grid_gap": null,
       "grid_row": null,
       "grid_template_areas": null,
       "grid_template_columns": null,
       "grid_template_rows": null,
       "height": null,
       "justify_content": null,
       "justify_items": null,
       "left": null,
       "margin": null,
       "max_height": null,
       "max_width": null,
       "min_height": null,
       "min_width": null,
       "object_fit": null,
       "object_position": null,
       "order": null,
       "overflow": null,
       "overflow_x": null,
       "overflow_y": null,
       "padding": null,
       "right": null,
       "top": null,
       "visibility": null,
       "width": null
      }
     },
     "0bfb1277d3b14f6180c68e25a16af776": {
      "model_module": "@jupyter-widgets/controls",
      "model_module_version": "1.5.0",
      "model_name": "ProgressStyleModel",
      "state": {
       "_model_module": "@jupyter-widgets/controls",
       "_model_module_version": "1.5.0",
       "_model_name": "ProgressStyleModel",
       "_view_count": null,
       "_view_module": "@jupyter-widgets/base",
       "_view_module_version": "1.2.0",
       "_view_name": "StyleView",
       "bar_color": null,
       "description_width": ""
      }
     },
     "0f97b318a7db4de0a74a18329e763329": {
      "model_module": "@jupyter-widgets/controls",
      "model_module_version": "1.5.0",
      "model_name": "HBoxModel",
      "state": {
       "_dom_classes": [],
       "_model_module": "@jupyter-widgets/controls",
       "_model_module_version": "1.5.0",
       "_model_name": "HBoxModel",
       "_view_count": null,
       "_view_module": "@jupyter-widgets/controls",
       "_view_module_version": "1.5.0",
       "_view_name": "HBoxView",
       "box_style": "",
       "children": [
        "IPY_MODEL_4e73db1875ee403c91ada7ee3e1fe156",
        "IPY_MODEL_7e594be4a86744208433410f6957228a",
        "IPY_MODEL_bec458fd46424c7397add89dc1c5ad40"
       ],
       "layout": "IPY_MODEL_e0cc09141a2a4500839ea1a9a47bdacb"
      }
     },
     "11252ed5293d491991d195b0dfba7878": {
      "model_module": "@jupyter-widgets/base",
      "model_module_version": "1.2.0",
      "model_name": "LayoutModel",
      "state": {
       "_model_module": "@jupyter-widgets/base",
       "_model_module_version": "1.2.0",
       "_model_name": "LayoutModel",
       "_view_count": null,
       "_view_module": "@jupyter-widgets/base",
       "_view_module_version": "1.2.0",
       "_view_name": "LayoutView",
       "align_content": null,
       "align_items": null,
       "align_self": null,
       "border": null,
       "bottom": null,
       "display": null,
       "flex": null,
       "flex_flow": null,
       "grid_area": null,
       "grid_auto_columns": null,
       "grid_auto_flow": null,
       "grid_auto_rows": null,
       "grid_column": null,
       "grid_gap": null,
       "grid_row": null,
       "grid_template_areas": null,
       "grid_template_columns": null,
       "grid_template_rows": null,
       "height": null,
       "justify_content": null,
       "justify_items": null,
       "left": null,
       "margin": null,
       "max_height": null,
       "max_width": null,
       "min_height": null,
       "min_width": null,
       "object_fit": null,
       "object_position": null,
       "order": null,
       "overflow": null,
       "overflow_x": null,
       "overflow_y": null,
       "padding": null,
       "right": null,
       "top": null,
       "visibility": null,
       "width": null
      }
     },
     "122f757b10064acca09db119d1c7d5dc": {
      "model_module": "@jupyter-widgets/controls",
      "model_module_version": "1.5.0",
      "model_name": "HTMLModel",
      "state": {
       "_dom_classes": [],
       "_model_module": "@jupyter-widgets/controls",
       "_model_module_version": "1.5.0",
       "_model_name": "HTMLModel",
       "_view_count": null,
       "_view_module": "@jupyter-widgets/controls",
       "_view_module_version": "1.5.0",
       "_view_name": "HTMLView",
       "description": "",
       "description_tooltip": null,
       "layout": "IPY_MODEL_40945481cf074d73b9037fbd8c77f111",
       "placeholder": "​",
       "style": "IPY_MODEL_3cf177e9632d4ad1816f23f5c25fd4a2",
       "value": "Downloading: 100%"
      }
     },
     "14164cdddb774c5c95df7992b5991f29": {
      "model_module": "@jupyter-widgets/controls",
      "model_module_version": "1.5.0",
      "model_name": "ProgressStyleModel",
      "state": {
       "_model_module": "@jupyter-widgets/controls",
       "_model_module_version": "1.5.0",
       "_model_name": "ProgressStyleModel",
       "_view_count": null,
       "_view_module": "@jupyter-widgets/base",
       "_view_module_version": "1.2.0",
       "_view_name": "StyleView",
       "bar_color": null,
       "description_width": ""
      }
     },
     "15ea70dc5eae4df9a93698272d00b62d": {
      "model_module": "@jupyter-widgets/base",
      "model_module_version": "1.2.0",
      "model_name": "LayoutModel",
      "state": {
       "_model_module": "@jupyter-widgets/base",
       "_model_module_version": "1.2.0",
       "_model_name": "LayoutModel",
       "_view_count": null,
       "_view_module": "@jupyter-widgets/base",
       "_view_module_version": "1.2.0",
       "_view_name": "LayoutView",
       "align_content": null,
       "align_items": null,
       "align_self": null,
       "border": null,
       "bottom": null,
       "display": null,
       "flex": null,
       "flex_flow": null,
       "grid_area": null,
       "grid_auto_columns": null,
       "grid_auto_flow": null,
       "grid_auto_rows": null,
       "grid_column": null,
       "grid_gap": null,
       "grid_row": null,
       "grid_template_areas": null,
       "grid_template_columns": null,
       "grid_template_rows": null,
       "height": null,
       "justify_content": null,
       "justify_items": null,
       "left": null,
       "margin": null,
       "max_height": null,
       "max_width": null,
       "min_height": null,
       "min_width": null,
       "object_fit": null,
       "object_position": null,
       "order": null,
       "overflow": null,
       "overflow_x": null,
       "overflow_y": null,
       "padding": null,
       "right": null,
       "top": null,
       "visibility": null,
       "width": null
      }
     },
     "16f53528e6ab4e1bb83e5060d2892f13": {
      "model_module": "@jupyter-widgets/base",
      "model_module_version": "1.2.0",
      "model_name": "LayoutModel",
      "state": {
       "_model_module": "@jupyter-widgets/base",
       "_model_module_version": "1.2.0",
       "_model_name": "LayoutModel",
       "_view_count": null,
       "_view_module": "@jupyter-widgets/base",
       "_view_module_version": "1.2.0",
       "_view_name": "LayoutView",
       "align_content": null,
       "align_items": null,
       "align_self": null,
       "border": null,
       "bottom": null,
       "display": null,
       "flex": null,
       "flex_flow": null,
       "grid_area": null,
       "grid_auto_columns": null,
       "grid_auto_flow": null,
       "grid_auto_rows": null,
       "grid_column": null,
       "grid_gap": null,
       "grid_row": null,
       "grid_template_areas": null,
       "grid_template_columns": null,
       "grid_template_rows": null,
       "height": null,
       "justify_content": null,
       "justify_items": null,
       "left": null,
       "margin": null,
       "max_height": null,
       "max_width": null,
       "min_height": null,
       "min_width": null,
       "object_fit": null,
       "object_position": null,
       "order": null,
       "overflow": null,
       "overflow_x": null,
       "overflow_y": null,
       "padding": null,
       "right": null,
       "top": null,
       "visibility": null,
       "width": null
      }
     },
     "1cc8731282d74e8ba7f2728fc2dc96f0": {
      "model_module": "@jupyter-widgets/controls",
      "model_module_version": "1.5.0",
      "model_name": "HTMLModel",
      "state": {
       "_dom_classes": [],
       "_model_module": "@jupyter-widgets/controls",
       "_model_module_version": "1.5.0",
       "_model_name": "HTMLModel",
       "_view_count": null,
       "_view_module": "@jupyter-widgets/controls",
       "_view_module_version": "1.5.0",
       "_view_name": "HTMLView",
       "description": "",
       "description_tooltip": null,
       "layout": "IPY_MODEL_547765c93d914053a4bf467a2d13f31d",
       "placeholder": "​",
       "style": "IPY_MODEL_7cb5fd40bfba498cbdd41fddf8319ea4",
       "value": " 51/51 [04:34&lt;00:00,  1.03s/it]"
      }
     },
     "1e76a18260384194925a76479da8c144": {
      "model_module": "@jupyter-widgets/base",
      "model_module_version": "1.2.0",
      "model_name": "LayoutModel",
      "state": {
       "_model_module": "@jupyter-widgets/base",
       "_model_module_version": "1.2.0",
       "_model_name": "LayoutModel",
       "_view_count": null,
       "_view_module": "@jupyter-widgets/base",
       "_view_module_version": "1.2.0",
       "_view_name": "LayoutView",
       "align_content": null,
       "align_items": null,
       "align_self": null,
       "border": null,
       "bottom": null,
       "display": null,
       "flex": null,
       "flex_flow": null,
       "grid_area": null,
       "grid_auto_columns": null,
       "grid_auto_flow": null,
       "grid_auto_rows": null,
       "grid_column": null,
       "grid_gap": null,
       "grid_row": null,
       "grid_template_areas": null,
       "grid_template_columns": null,
       "grid_template_rows": null,
       "height": null,
       "justify_content": null,
       "justify_items": null,
       "left": null,
       "margin": null,
       "max_height": null,
       "max_width": null,
       "min_height": null,
       "min_width": null,
       "object_fit": null,
       "object_position": null,
       "order": null,
       "overflow": null,
       "overflow_x": null,
       "overflow_y": null,
       "padding": null,
       "right": null,
       "top": null,
       "visibility": null,
       "width": null
      }
     },
     "212c931a78be4149a75f30daa4672f31": {
      "model_module": "@jupyter-widgets/controls",
      "model_module_version": "1.5.0",
      "model_name": "HTMLModel",
      "state": {
       "_dom_classes": [],
       "_model_module": "@jupyter-widgets/controls",
       "_model_module_version": "1.5.0",
       "_model_name": "HTMLModel",
       "_view_count": null,
       "_view_module": "@jupyter-widgets/controls",
       "_view_module_version": "1.5.0",
       "_view_name": "HTMLView",
       "description": "",
       "description_tooltip": null,
       "layout": "IPY_MODEL_11252ed5293d491991d195b0dfba7878",
       "placeholder": "​",
       "style": "IPY_MODEL_39e7cb15501643d38846a85c02f5504d",
       "value": " 1.36M/1.36M [00:00&lt;00:00, 5.46MB/s]"
      }
     },
     "28f510607f9442e6a2aa8db9788d8ba3": {
      "model_module": "@jupyter-widgets/controls",
      "model_module_version": "1.5.0",
      "model_name": "HTMLModel",
      "state": {
       "_dom_classes": [],
       "_model_module": "@jupyter-widgets/controls",
       "_model_module_version": "1.5.0",
       "_model_name": "HTMLModel",
       "_view_count": null,
       "_view_module": "@jupyter-widgets/controls",
       "_view_module_version": "1.5.0",
       "_view_name": "HTMLView",
       "description": "",
       "description_tooltip": null,
       "layout": "IPY_MODEL_fecde6ab34aa483596c676b1f72ef71d",
       "placeholder": "​",
       "style": "IPY_MODEL_b1aa9769008a42fbbd323902318c5470",
       "value": "Downloading: 100%"
      }
     },
     "29f1576706ad4a319182ea9c24c6f2f3": {
      "model_module": "@jupyter-widgets/controls",
      "model_module_version": "1.5.0",
      "model_name": "FloatProgressModel",
      "state": {
       "_dom_classes": [],
       "_model_module": "@jupyter-widgets/controls",
       "_model_module_version": "1.5.0",
       "_model_name": "FloatProgressModel",
       "_view_count": null,
       "_view_module": "@jupyter-widgets/controls",
       "_view_module_version": "1.5.0",
       "_view_name": "ProgressView",
       "bar_style": "success",
       "description": "",
       "description_tooltip": null,
       "layout": "IPY_MODEL_f5d237ac08a049afb6e61ca520cd067d",
       "max": 3741.0,
       "min": 0.0,
       "orientation": "horizontal",
       "style": "IPY_MODEL_0bfb1277d3b14f6180c68e25a16af776",
       "value": 3741.0
      }
     },
     "2abddf194a7d43668f3cacf2b7f60b23": {
      "model_module": "@jupyter-widgets/controls",
      "model_module_version": "1.5.0",
      "model_name": "DescriptionStyleModel",
      "state": {
       "_model_module": "@jupyter-widgets/controls",
       "_model_module_version": "1.5.0",
       "_model_name": "DescriptionStyleModel",
       "_view_count": null,
       "_view_module": "@jupyter-widgets/base",
       "_view_module_version": "1.2.0",
       "_view_name": "StyleView",
       "description_width": ""
      }
     },
     "2bf209cdc0d24b39b3bed294b9a02939": {
      "model_module": "@jupyter-widgets/controls",
      "model_module_version": "1.5.0",
      "model_name": "HTMLModel",
      "state": {
       "_dom_classes": [],
       "_model_module": "@jupyter-widgets/controls",
       "_model_module_version": "1.5.0",
       "_model_name": "HTMLModel",
       "_view_count": null,
       "_view_module": "@jupyter-widgets/controls",
       "_view_module_version": "1.5.0",
       "_view_name": "HTMLView",
       "description": "",
       "description_tooltip": null,
       "layout": "IPY_MODEL_7652c880e27e49d7b64c25da66434567",
       "placeholder": "​",
       "style": "IPY_MODEL_d952dbe40f1a4effa804c8821ed2a624",
       "value": " 239/239 [00:00&lt;00:00, 9.12kB/s]"
      }
     },
     "2fe2a94133884cdda514974499e17384": {
      "model_module": "@jupyter-widgets/controls",
      "model_module_version": "1.5.0",
      "model_name": "HTMLModel",
      "state": {
       "_dom_classes": [],
       "_model_module": "@jupyter-widgets/controls",
       "_model_module_version": "1.5.0",
       "_model_name": "HTMLModel",
       "_view_count": null,
       "_view_module": "@jupyter-widgets/controls",
       "_view_module_version": "1.5.0",
       "_view_name": "HTMLView",
       "description": "",
       "description_tooltip": null,
       "layout": "IPY_MODEL_a47d31eb96ad493a89a3c7aa5dafc3ea",
       "placeholder": "​",
       "style": "IPY_MODEL_f5e35a0beb2f4dce82f5266d58c582a5",
       "value": " 3.74k/3.74k [00:00&lt;00:00, 155kB/s]"
      }
     },
     "2ffb419b435746ea858ef9c03235cdae": {
      "model_module": "@jupyter-widgets/controls",
      "model_module_version": "1.5.0",
      "model_name": "DescriptionStyleModel",
      "state": {
       "_model_module": "@jupyter-widgets/controls",
       "_model_module_version": "1.5.0",
       "_model_name": "DescriptionStyleModel",
       "_view_count": null,
       "_view_module": "@jupyter-widgets/base",
       "_view_module_version": "1.2.0",
       "_view_name": "StyleView",
       "description_width": ""
      }
     },
     "314cfcf5ea7d4ba9ad027a3125bac62a": {
      "model_module": "@jupyter-widgets/controls",
      "model_module_version": "1.5.0",
      "model_name": "HBoxModel",
      "state": {
       "_dom_classes": [],
       "_model_module": "@jupyter-widgets/controls",
       "_model_module_version": "1.5.0",
       "_model_name": "HBoxModel",
       "_view_count": null,
       "_view_module": "@jupyter-widgets/controls",
       "_view_module_version": "1.5.0",
       "_view_name": "HBoxView",
       "box_style": "",
       "children": [
        "IPY_MODEL_28f510607f9442e6a2aa8db9788d8ba3",
        "IPY_MODEL_0657f4431d8f46738ebfebba18dc7143",
        "IPY_MODEL_60ee27f80d074562be15aaf48c99bd77"
       ],
       "layout": "IPY_MODEL_91222dca2f20475cafaa7d0ea133b965"
      }
     },
     "32821d30c30a40c399c0b253d335fac0": {
      "model_module": "@jupyter-widgets/controls",
      "model_module_version": "1.5.0",
      "model_name": "ProgressStyleModel",
      "state": {
       "_model_module": "@jupyter-widgets/controls",
       "_model_module_version": "1.5.0",
       "_model_name": "ProgressStyleModel",
       "_view_count": null,
       "_view_module": "@jupyter-widgets/base",
       "_view_module_version": "1.2.0",
       "_view_name": "StyleView",
       "bar_color": null,
       "description_width": ""
      }
     },
     "334d4ea26adc4adebcd6848fc899bffe": {
      "model_module": "@jupyter-widgets/base",
      "model_module_version": "1.2.0",
      "model_name": "LayoutModel",
      "state": {
       "_model_module": "@jupyter-widgets/base",
       "_model_module_version": "1.2.0",
       "_model_name": "LayoutModel",
       "_view_count": null,
       "_view_module": "@jupyter-widgets/base",
       "_view_module_version": "1.2.0",
       "_view_name": "LayoutView",
       "align_content": null,
       "align_items": null,
       "align_self": null,
       "border": null,
       "bottom": null,
       "display": null,
       "flex": null,
       "flex_flow": null,
       "grid_area": null,
       "grid_auto_columns": null,
       "grid_auto_flow": null,
       "grid_auto_rows": null,
       "grid_column": null,
       "grid_gap": null,
       "grid_row": null,
       "grid_template_areas": null,
       "grid_template_columns": null,
       "grid_template_rows": null,
       "height": null,
       "justify_content": null,
       "justify_items": null,
       "left": null,
       "margin": null,
       "max_height": null,
       "max_width": null,
       "min_height": null,
       "min_width": null,
       "object_fit": null,
       "object_position": null,
       "order": null,
       "overflow": null,
       "overflow_x": null,
       "overflow_y": null,
       "padding": null,
       "right": null,
       "top": null,
       "visibility": null,
       "width": null
      }
     },
     "33f31935e6e6429ab0ba527f5fae1420": {
      "model_module": "@jupyter-widgets/base",
      "model_module_version": "1.2.0",
      "model_name": "LayoutModel",
      "state": {
       "_model_module": "@jupyter-widgets/base",
       "_model_module_version": "1.2.0",
       "_model_name": "LayoutModel",
       "_view_count": null,
       "_view_module": "@jupyter-widgets/base",
       "_view_module_version": "1.2.0",
       "_view_name": "LayoutView",
       "align_content": null,
       "align_items": null,
       "align_self": null,
       "border": null,
       "bottom": null,
       "display": null,
       "flex": null,
       "flex_flow": null,
       "grid_area": null,
       "grid_auto_columns": null,
       "grid_auto_flow": null,
       "grid_auto_rows": null,
       "grid_column": null,
       "grid_gap": null,
       "grid_row": null,
       "grid_template_areas": null,
       "grid_template_columns": null,
       "grid_template_rows": null,
       "height": null,
       "justify_content": null,
       "justify_items": null,
       "left": null,
       "margin": null,
       "max_height": null,
       "max_width": null,
       "min_height": null,
       "min_width": null,
       "object_fit": null,
       "object_position": null,
       "order": null,
       "overflow": null,
       "overflow_x": null,
       "overflow_y": null,
       "padding": null,
       "right": null,
       "top": null,
       "visibility": null,
       "width": null
      }
     },
     "33f7435ff0014e97ac9f3cdd9b12cb38": {
      "model_module": "@jupyter-widgets/base",
      "model_module_version": "1.2.0",
      "model_name": "LayoutModel",
      "state": {
       "_model_module": "@jupyter-widgets/base",
       "_model_module_version": "1.2.0",
       "_model_name": "LayoutModel",
       "_view_count": null,
       "_view_module": "@jupyter-widgets/base",
       "_view_module_version": "1.2.0",
       "_view_name": "LayoutView",
       "align_content": null,
       "align_items": null,
       "align_self": null,
       "border": null,
       "bottom": null,
       "display": null,
       "flex": null,
       "flex_flow": null,
       "grid_area": null,
       "grid_auto_columns": null,
       "grid_auto_flow": null,
       "grid_auto_rows": null,
       "grid_column": null,
       "grid_gap": null,
       "grid_row": null,
       "grid_template_areas": null,
       "grid_template_columns": null,
       "grid_template_rows": null,
       "height": null,
       "justify_content": null,
       "justify_items": null,
       "left": null,
       "margin": null,
       "max_height": null,
       "max_width": null,
       "min_height": null,
       "min_width": null,
       "object_fit": null,
       "object_position": null,
       "order": null,
       "overflow": null,
       "overflow_x": null,
       "overflow_y": null,
       "padding": null,
       "right": null,
       "top": null,
       "visibility": null,
       "width": null
      }
     },
     "350dae7919cc4425896728c4f86d137e": {
      "model_module": "@jupyter-widgets/controls",
      "model_module_version": "1.5.0",
      "model_name": "HTMLModel",
      "state": {
       "_dom_classes": [],
       "_model_module": "@jupyter-widgets/controls",
       "_model_module_version": "1.5.0",
       "_model_name": "HTMLModel",
       "_view_count": null,
       "_view_module": "@jupyter-widgets/controls",
       "_view_module_version": "1.5.0",
       "_view_name": "HTMLView",
       "description": "",
       "description_tooltip": null,
       "layout": "IPY_MODEL_e65a83862ef74d8cbc31daa261ffc487",
       "placeholder": "​",
       "style": "IPY_MODEL_7c70ed8851b0411b8eb4830cc972ae0e",
       "value": "Downloading: 100%"
      }
     },
     "3870964464834a288d15005c4ed0351e": {
      "model_module": "@jupyter-widgets/controls",
      "model_module_version": "1.5.0",
      "model_name": "HBoxModel",
      "state": {
       "_dom_classes": [],
       "_model_module": "@jupyter-widgets/controls",
       "_model_module_version": "1.5.0",
       "_model_name": "HBoxModel",
       "_view_count": null,
       "_view_module": "@jupyter-widgets/controls",
       "_view_module_version": "1.5.0",
       "_view_name": "HBoxView",
       "box_style": "",
       "children": [
        "IPY_MODEL_5599d081a2f34e2f88d88f0cd8f00b38",
        "IPY_MODEL_5bfd37c96dba499084e4d8ec724645d7",
        "IPY_MODEL_d03e4e198e3a4df88e82e2866164e96e"
       ],
       "layout": "IPY_MODEL_0af076ca01564f5f89fdd4e58898ca2f"
      }
     },
     "397e20d3c67e49c3833d0f4dcf4e3dcb": {
      "model_module": "@jupyter-widgets/controls",
      "model_module_version": "1.5.0",
      "model_name": "FloatProgressModel",
      "state": {
       "_dom_classes": [],
       "_model_module": "@jupyter-widgets/controls",
       "_model_module_version": "1.5.0",
       "_model_name": "FloatProgressModel",
       "_view_count": null,
       "_view_module": "@jupyter-widgets/controls",
       "_view_module_version": "1.5.0",
       "_view_name": "ProgressView",
       "bar_style": "success",
       "description": "",
       "description_tooltip": null,
       "layout": "IPY_MODEL_42871fa10763478e84dd2c48bc7465fd",
       "max": 391.0,
       "min": 0.0,
       "orientation": "horizontal",
       "style": "IPY_MODEL_465ee99273d249e6bca4aac5c1e3078e",
       "value": 391.0
      }
     },
     "39aa948b2cc94a8fab445bfc51173e9e": {
      "model_module": "@jupyter-widgets/controls",
      "model_module_version": "1.5.0",
      "model_name": "FloatProgressModel",
      "state": {
       "_dom_classes": [],
       "_model_module": "@jupyter-widgets/controls",
       "_model_module_version": "1.5.0",
       "_model_name": "FloatProgressModel",
       "_view_count": null,
       "_view_module": "@jupyter-widgets/controls",
       "_view_module_version": "1.5.0",
       "_view_name": "ProgressView",
       "bar_style": "success",
       "description": "",
       "description_tooltip": null,
       "layout": "IPY_MODEL_f8dafcabf79845dd949079d75f5bf20c",
       "max": 328515953.0,
       "min": 0.0,
       "orientation": "horizontal",
       "style": "IPY_MODEL_678dea68df764b28baee65fbfd9dc72e",
       "value": 328515953.0
      }
     },
     "39e7cb15501643d38846a85c02f5504d": {
      "model_module": "@jupyter-widgets/controls",
      "model_module_version": "1.5.0",
      "model_name": "DescriptionStyleModel",
      "state": {
       "_model_module": "@jupyter-widgets/controls",
       "_model_module_version": "1.5.0",
       "_model_name": "DescriptionStyleModel",
       "_view_count": null,
       "_view_module": "@jupyter-widgets/base",
       "_view_module_version": "1.2.0",
       "_view_name": "StyleView",
       "description_width": ""
      }
     },
     "3cf177e9632d4ad1816f23f5c25fd4a2": {
      "model_module": "@jupyter-widgets/controls",
      "model_module_version": "1.5.0",
      "model_name": "DescriptionStyleModel",
      "state": {
       "_model_module": "@jupyter-widgets/controls",
       "_model_module_version": "1.5.0",
       "_model_name": "DescriptionStyleModel",
       "_view_count": null,
       "_view_module": "@jupyter-widgets/base",
       "_view_module_version": "1.2.0",
       "_view_name": "StyleView",
       "description_width": ""
      }
     },
     "3d91f57053b34a20a9e964e0daa7c01a": {
      "model_module": "@jupyter-widgets/base",
      "model_module_version": "1.2.0",
      "model_name": "LayoutModel",
      "state": {
       "_model_module": "@jupyter-widgets/base",
       "_model_module_version": "1.2.0",
       "_model_name": "LayoutModel",
       "_view_count": null,
       "_view_module": "@jupyter-widgets/base",
       "_view_module_version": "1.2.0",
       "_view_name": "LayoutView",
       "align_content": null,
       "align_items": null,
       "align_self": null,
       "border": null,
       "bottom": null,
       "display": null,
       "flex": null,
       "flex_flow": null,
       "grid_area": null,
       "grid_auto_columns": null,
       "grid_auto_flow": null,
       "grid_auto_rows": null,
       "grid_column": null,
       "grid_gap": null,
       "grid_row": null,
       "grid_template_areas": null,
       "grid_template_columns": null,
       "grid_template_rows": null,
       "height": null,
       "justify_content": null,
       "justify_items": null,
       "left": null,
       "margin": null,
       "max_height": null,
       "max_width": null,
       "min_height": null,
       "min_width": null,
       "object_fit": null,
       "object_position": null,
       "order": null,
       "overflow": null,
       "overflow_x": null,
       "overflow_y": null,
       "padding": null,
       "right": null,
       "top": null,
       "visibility": null,
       "width": null
      }
     },
     "40945481cf074d73b9037fbd8c77f111": {
      "model_module": "@jupyter-widgets/base",
      "model_module_version": "1.2.0",
      "model_name": "LayoutModel",
      "state": {
       "_model_module": "@jupyter-widgets/base",
       "_model_module_version": "1.2.0",
       "_model_name": "LayoutModel",
       "_view_count": null,
       "_view_module": "@jupyter-widgets/base",
       "_view_module_version": "1.2.0",
       "_view_name": "LayoutView",
       "align_content": null,
       "align_items": null,
       "align_self": null,
       "border": null,
       "bottom": null,
       "display": null,
       "flex": null,
       "flex_flow": null,
       "grid_area": null,
       "grid_auto_columns": null,
       "grid_auto_flow": null,
       "grid_auto_rows": null,
       "grid_column": null,
       "grid_gap": null,
       "grid_row": null,
       "grid_template_areas": null,
       "grid_template_columns": null,
       "grid_template_rows": null,
       "height": null,
       "justify_content": null,
       "justify_items": null,
       "left": null,
       "margin": null,
       "max_height": null,
       "max_width": null,
       "min_height": null,
       "min_width": null,
       "object_fit": null,
       "object_position": null,
       "order": null,
       "overflow": null,
       "overflow_x": null,
       "overflow_y": null,
       "padding": null,
       "right": null,
       "top": null,
       "visibility": null,
       "width": null
      }
     },
     "410005f862d348fc815e0144b3bfd17b": {
      "model_module": "@jupyter-widgets/base",
      "model_module_version": "1.2.0",
      "model_name": "LayoutModel",
      "state": {
       "_model_module": "@jupyter-widgets/base",
       "_model_module_version": "1.2.0",
       "_model_name": "LayoutModel",
       "_view_count": null,
       "_view_module": "@jupyter-widgets/base",
       "_view_module_version": "1.2.0",
       "_view_name": "LayoutView",
       "align_content": null,
       "align_items": null,
       "align_self": null,
       "border": null,
       "bottom": null,
       "display": null,
       "flex": null,
       "flex_flow": null,
       "grid_area": null,
       "grid_auto_columns": null,
       "grid_auto_flow": null,
       "grid_auto_rows": null,
       "grid_column": null,
       "grid_gap": null,
       "grid_row": null,
       "grid_template_areas": null,
       "grid_template_columns": null,
       "grid_template_rows": null,
       "height": null,
       "justify_content": null,
       "justify_items": null,
       "left": null,
       "margin": null,
       "max_height": null,
       "max_width": null,
       "min_height": null,
       "min_width": null,
       "object_fit": null,
       "object_position": null,
       "order": null,
       "overflow": null,
       "overflow_x": null,
       "overflow_y": null,
       "padding": null,
       "right": null,
       "top": null,
       "visibility": null,
       "width": null
      }
     },
     "42871fa10763478e84dd2c48bc7465fd": {
      "model_module": "@jupyter-widgets/base",
      "model_module_version": "1.2.0",
      "model_name": "LayoutModel",
      "state": {
       "_model_module": "@jupyter-widgets/base",
       "_model_module_version": "1.2.0",
       "_model_name": "LayoutModel",
       "_view_count": null,
       "_view_module": "@jupyter-widgets/base",
       "_view_module_version": "1.2.0",
       "_view_name": "LayoutView",
       "align_content": null,
       "align_items": null,
       "align_self": null,
       "border": null,
       "bottom": null,
       "display": null,
       "flex": null,
       "flex_flow": null,
       "grid_area": null,
       "grid_auto_columns": null,
       "grid_auto_flow": null,
       "grid_auto_rows": null,
       "grid_column": null,
       "grid_gap": null,
       "grid_row": null,
       "grid_template_areas": null,
       "grid_template_columns": null,
       "grid_template_rows": null,
       "height": null,
       "justify_content": null,
       "justify_items": null,
       "left": null,
       "margin": null,
       "max_height": null,
       "max_width": null,
       "min_height": null,
       "min_width": null,
       "object_fit": null,
       "object_position": null,
       "order": null,
       "overflow": null,
       "overflow_x": null,
       "overflow_y": null,
       "padding": null,
       "right": null,
       "top": null,
       "visibility": null,
       "width": null
      }
     },
     "44e24c023353450ebaf4748ab90d27fe": {
      "model_module": "@jupyter-widgets/controls",
      "model_module_version": "1.5.0",
      "model_name": "ProgressStyleModel",
      "state": {
       "_model_module": "@jupyter-widgets/controls",
       "_model_module_version": "1.5.0",
       "_model_name": "ProgressStyleModel",
       "_view_count": null,
       "_view_module": "@jupyter-widgets/base",
       "_view_module_version": "1.2.0",
       "_view_name": "StyleView",
       "bar_color": null,
       "description_width": ""
      }
     },
     "45c93799470f43e9a0ea70e3be3ac379": {
      "model_module": "@jupyter-widgets/controls",
      "model_module_version": "1.5.0",
      "model_name": "DescriptionStyleModel",
      "state": {
       "_model_module": "@jupyter-widgets/controls",
       "_model_module_version": "1.5.0",
       "_model_name": "DescriptionStyleModel",
       "_view_count": null,
       "_view_module": "@jupyter-widgets/base",
       "_view_module_version": "1.2.0",
       "_view_name": "StyleView",
       "description_width": ""
      }
     },
     "465ee99273d249e6bca4aac5c1e3078e": {
      "model_module": "@jupyter-widgets/controls",
      "model_module_version": "1.5.0",
      "model_name": "ProgressStyleModel",
      "state": {
       "_model_module": "@jupyter-widgets/controls",
       "_model_module_version": "1.5.0",
       "_model_name": "ProgressStyleModel",
       "_view_count": null,
       "_view_module": "@jupyter-widgets/base",
       "_view_module_version": "1.2.0",
       "_view_name": "StyleView",
       "bar_color": null,
       "description_width": ""
      }
     },
     "46f51639a98245ada5c942c0e488c6db": {
      "model_module": "@jupyter-widgets/base",
      "model_module_version": "1.2.0",
      "model_name": "LayoutModel",
      "state": {
       "_model_module": "@jupyter-widgets/base",
       "_model_module_version": "1.2.0",
       "_model_name": "LayoutModel",
       "_view_count": null,
       "_view_module": "@jupyter-widgets/base",
       "_view_module_version": "1.2.0",
       "_view_name": "LayoutView",
       "align_content": null,
       "align_items": null,
       "align_self": null,
       "border": null,
       "bottom": null,
       "display": null,
       "flex": null,
       "flex_flow": null,
       "grid_area": null,
       "grid_auto_columns": null,
       "grid_auto_flow": null,
       "grid_auto_rows": null,
       "grid_column": null,
       "grid_gap": null,
       "grid_row": null,
       "grid_template_areas": null,
       "grid_template_columns": null,
       "grid_template_rows": null,
       "height": null,
       "justify_content": null,
       "justify_items": null,
       "left": null,
       "margin": null,
       "max_height": null,
       "max_width": null,
       "min_height": null,
       "min_width": null,
       "object_fit": null,
       "object_position": null,
       "order": null,
       "overflow": null,
       "overflow_x": null,
       "overflow_y": null,
       "padding": null,
       "right": null,
       "top": null,
       "visibility": null,
       "width": null
      }
     },
     "4a72f8e6d9b248afb34d6851f732b659": {
      "model_module": "@jupyter-widgets/controls",
      "model_module_version": "1.5.0",
      "model_name": "HBoxModel",
      "state": {
       "_dom_classes": [],
       "_model_module": "@jupyter-widgets/controls",
       "_model_module_version": "1.5.0",
       "_model_name": "HBoxModel",
       "_view_count": null,
       "_view_module": "@jupyter-widgets/controls",
       "_view_module_version": "1.5.0",
       "_view_name": "HBoxView",
       "box_style": "",
       "children": [
        "IPY_MODEL_350dae7919cc4425896728c4f86d137e",
        "IPY_MODEL_b9944b549f8d4886a16181218515d149",
        "IPY_MODEL_212c931a78be4149a75f30daa4672f31"
       ],
       "layout": "IPY_MODEL_c9601dcf191644bd8d07c1f586543d0e"
      }
     },
     "4ca82b002d6c43839a5226112c22c5b0": {
      "model_module": "@jupyter-widgets/controls",
      "model_module_version": "1.5.0",
      "model_name": "ProgressStyleModel",
      "state": {
       "_model_module": "@jupyter-widgets/controls",
       "_model_module_version": "1.5.0",
       "_model_name": "ProgressStyleModel",
       "_view_count": null,
       "_view_module": "@jupyter-widgets/base",
       "_view_module_version": "1.2.0",
       "_view_name": "StyleView",
       "bar_color": null,
       "description_width": ""
      }
     },
     "4e73db1875ee403c91ada7ee3e1fe156": {
      "model_module": "@jupyter-widgets/controls",
      "model_module_version": "1.5.0",
      "model_name": "HTMLModel",
      "state": {
       "_dom_classes": [],
       "_model_module": "@jupyter-widgets/controls",
       "_model_module_version": "1.5.0",
       "_model_name": "HTMLModel",
       "_view_count": null,
       "_view_module": "@jupyter-widgets/controls",
       "_view_module_version": "1.5.0",
       "_view_name": "HTMLView",
       "description": "",
       "description_tooltip": null,
       "layout": "IPY_MODEL_3d91f57053b34a20a9e964e0daa7c01a",
       "placeholder": "​",
       "style": "IPY_MODEL_f368c3f8db614e04a64e345047a37500",
       "value": "Downloading: 100%"
      }
     },
     "4ed3397becbc4055b8c9b0524ad777a8": {
      "model_module": "@jupyter-widgets/base",
      "model_module_version": "1.2.0",
      "model_name": "LayoutModel",
      "state": {
       "_model_module": "@jupyter-widgets/base",
       "_model_module_version": "1.2.0",
       "_model_name": "LayoutModel",
       "_view_count": null,
       "_view_module": "@jupyter-widgets/base",
       "_view_module_version": "1.2.0",
       "_view_name": "LayoutView",
       "align_content": null,
       "align_items": null,
       "align_self": null,
       "border": null,
       "bottom": null,
       "display": null,
       "flex": null,
       "flex_flow": null,
       "grid_area": null,
       "grid_auto_columns": null,
       "grid_auto_flow": null,
       "grid_auto_rows": null,
       "grid_column": null,
       "grid_gap": null,
       "grid_row": null,
       "grid_template_areas": null,
       "grid_template_columns": null,
       "grid_template_rows": null,
       "height": null,
       "justify_content": null,
       "justify_items": null,
       "left": null,
       "margin": null,
       "max_height": null,
       "max_width": null,
       "min_height": null,
       "min_width": null,
       "object_fit": null,
       "object_position": null,
       "order": null,
       "overflow": null,
       "overflow_x": null,
       "overflow_y": null,
       "padding": null,
       "right": null,
       "top": null,
       "visibility": null,
       "width": null
      }
     },
     "53682e7bc3cc497abdd4300006879ba4": {
      "model_module": "@jupyter-widgets/controls",
      "model_module_version": "1.5.0",
      "model_name": "ProgressStyleModel",
      "state": {
       "_model_module": "@jupyter-widgets/controls",
       "_model_module_version": "1.5.0",
       "_model_name": "ProgressStyleModel",
       "_view_count": null,
       "_view_module": "@jupyter-widgets/base",
       "_view_module_version": "1.2.0",
       "_view_name": "StyleView",
       "bar_color": null,
       "description_width": ""
      }
     },
     "547765c93d914053a4bf467a2d13f31d": {
      "model_module": "@jupyter-widgets/base",
      "model_module_version": "1.2.0",
      "model_name": "LayoutModel",
      "state": {
       "_model_module": "@jupyter-widgets/base",
       "_model_module_version": "1.2.0",
       "_model_name": "LayoutModel",
       "_view_count": null,
       "_view_module": "@jupyter-widgets/base",
       "_view_module_version": "1.2.0",
       "_view_name": "LayoutView",
       "align_content": null,
       "align_items": null,
       "align_self": null,
       "border": null,
       "bottom": null,
       "display": null,
       "flex": null,
       "flex_flow": null,
       "grid_area": null,
       "grid_auto_columns": null,
       "grid_auto_flow": null,
       "grid_auto_rows": null,
       "grid_column": null,
       "grid_gap": null,
       "grid_row": null,
       "grid_template_areas": null,
       "grid_template_columns": null,
       "grid_template_rows": null,
       "height": null,
       "justify_content": null,
       "justify_items": null,
       "left": null,
       "margin": null,
       "max_height": null,
       "max_width": null,
       "min_height": null,
       "min_width": null,
       "object_fit": null,
       "object_position": null,
       "order": null,
       "overflow": null,
       "overflow_x": null,
       "overflow_y": null,
       "padding": null,
       "right": null,
       "top": null,
       "visibility": null,
       "width": null
      }
     },
     "5599d081a2f34e2f88d88f0cd8f00b38": {
      "model_module": "@jupyter-widgets/controls",
      "model_module_version": "1.5.0",
      "model_name": "HTMLModel",
      "state": {
       "_dom_classes": [],
       "_model_module": "@jupyter-widgets/controls",
       "_model_module_version": "1.5.0",
       "_model_name": "HTMLModel",
       "_view_count": null,
       "_view_module": "@jupyter-widgets/controls",
       "_view_module_version": "1.5.0",
       "_view_name": "HTMLView",
       "description": "",
       "description_tooltip": null,
       "layout": "IPY_MODEL_16f53528e6ab4e1bb83e5060d2892f13",
       "placeholder": "​",
       "style": "IPY_MODEL_9c63deb699a94fceb8f52796d0302429",
       "value": "Downloading: 100%"
      }
     },
     "5bb87a79153d463f94081c95f528f236": {
      "model_module": "@jupyter-widgets/controls",
      "model_module_version": "1.5.0",
      "model_name": "ProgressStyleModel",
      "state": {
       "_model_module": "@jupyter-widgets/controls",
       "_model_module_version": "1.5.0",
       "_model_name": "ProgressStyleModel",
       "_view_count": null,
       "_view_module": "@jupyter-widgets/base",
       "_view_module_version": "1.2.0",
       "_view_name": "StyleView",
       "bar_color": null,
       "description_width": ""
      }
     },
     "5bfd37c96dba499084e4d8ec724645d7": {
      "model_module": "@jupyter-widgets/controls",
      "model_module_version": "1.5.0",
      "model_name": "FloatProgressModel",
      "state": {
       "_dom_classes": [],
       "_model_module": "@jupyter-widgets/controls",
       "_model_module_version": "1.5.0",
       "_model_name": "FloatProgressModel",
       "_view_count": null,
       "_view_module": "@jupyter-widgets/controls",
       "_view_module_version": "1.5.0",
       "_view_name": "ProgressView",
       "bar_style": "success",
       "description": "",
       "description_tooltip": null,
       "layout": "IPY_MODEL_75957a083ccd4448b60b089a55542b56",
       "max": 122.0,
       "min": 0.0,
       "orientation": "horizontal",
       "style": "IPY_MODEL_5bb87a79153d463f94081c95f528f236",
       "value": 122.0
      }
     },
     "5ce28d004d2e4498bbb56643396024f6": {
      "model_module": "@jupyter-widgets/controls",
      "model_module_version": "1.5.0",
      "model_name": "HTMLModel",
      "state": {
       "_dom_classes": [],
       "_model_module": "@jupyter-widgets/controls",
       "_model_module_version": "1.5.0",
       "_model_name": "HTMLModel",
       "_view_count": null,
       "_view_module": "@jupyter-widgets/controls",
       "_view_module_version": "1.5.0",
       "_view_name": "HTMLView",
       "description": "",
       "description_tooltip": null,
       "layout": "IPY_MODEL_bfbb63e53f5a4cecaa6eeb8e4133ad29",
       "placeholder": "​",
       "style": "IPY_MODEL_e2d2ab3e36bb4e1d95bd1068670f8faf",
       "value": " 456k/456k [00:00&lt;00:00, 4.57MB/s]"
      }
     },
     "60ee27f80d074562be15aaf48c99bd77": {
      "model_module": "@jupyter-widgets/controls",
      "model_module_version": "1.5.0",
      "model_name": "HTMLModel",
      "state": {
       "_dom_classes": [],
       "_model_module": "@jupyter-widgets/controls",
       "_model_module_version": "1.5.0",
       "_model_name": "HTMLModel",
       "_view_count": null,
       "_view_module": "@jupyter-widgets/controls",
       "_view_module_version": "1.5.0",
       "_view_name": "HTMLView",
       "description": "",
       "description_tooltip": null,
       "layout": "IPY_MODEL_410005f862d348fc815e0144b3bfd17b",
       "placeholder": "​",
       "style": "IPY_MODEL_ddf3af4fcce643099a203c982bf64ccd",
       "value": " 1.35k/1.35k [00:00&lt;00:00, 51.7kB/s]"
      }
     },
     "6179d02535b84a85a19535b84ccc8428": {
      "model_module": "@jupyter-widgets/controls",
      "model_module_version": "1.5.0",
      "model_name": "HBoxModel",
      "state": {
       "_dom_classes": [],
       "_model_module": "@jupyter-widgets/controls",
       "_model_module_version": "1.5.0",
       "_model_name": "HBoxModel",
       "_view_count": null,
       "_view_module": "@jupyter-widgets/controls",
       "_view_module_version": "1.5.0",
       "_view_name": "HBoxView",
       "box_style": "",
       "children": [
        "IPY_MODEL_cca74c3beb5e49d29a2bb4929bf801aa",
        "IPY_MODEL_d27c1ca41bc2430281b8b886d5cf1b16",
        "IPY_MODEL_5ce28d004d2e4498bbb56643396024f6"
       ],
       "layout": "IPY_MODEL_ab9829cc7ee642089d72ef3a489528f3"
      }
     },
     "64837c381136453b9460f7a8b6410996": {
      "model_module": "@jupyter-widgets/base",
      "model_module_version": "1.2.0",
      "model_name": "LayoutModel",
      "state": {
       "_model_module": "@jupyter-widgets/base",
       "_model_module_version": "1.2.0",
       "_model_name": "LayoutModel",
       "_view_count": null,
       "_view_module": "@jupyter-widgets/base",
       "_view_module_version": "1.2.0",
       "_view_name": "LayoutView",
       "align_content": null,
       "align_items": null,
       "align_self": null,
       "border": null,
       "bottom": null,
       "display": null,
       "flex": null,
       "flex_flow": null,
       "grid_area": null,
       "grid_auto_columns": null,
       "grid_auto_flow": null,
       "grid_auto_rows": null,
       "grid_column": null,
       "grid_gap": null,
       "grid_row": null,
       "grid_template_areas": null,
       "grid_template_columns": null,
       "grid_template_rows": null,
       "height": null,
       "justify_content": null,
       "justify_items": null,
       "left": null,
       "margin": null,
       "max_height": null,
       "max_width": null,
       "min_height": null,
       "min_width": null,
       "object_fit": null,
       "object_position": null,
       "order": null,
       "overflow": null,
       "overflow_x": null,
       "overflow_y": null,
       "padding": null,
       "right": null,
       "top": null,
       "visibility": null,
       "width": null
      }
     },
     "648ea525ddd043fda66f7e4c7e149acf": {
      "model_module": "@jupyter-widgets/controls",
      "model_module_version": "1.5.0",
      "model_name": "DescriptionStyleModel",
      "state": {
       "_model_module": "@jupyter-widgets/controls",
       "_model_module_version": "1.5.0",
       "_model_name": "DescriptionStyleModel",
       "_view_count": null,
       "_view_module": "@jupyter-widgets/base",
       "_view_module_version": "1.2.0",
       "_view_name": "StyleView",
       "description_width": ""
      }
     },
     "663d7c6cee0847faa0f08b26e1c22579": {
      "model_module": "@jupyter-widgets/base",
      "model_module_version": "1.2.0",
      "model_name": "LayoutModel",
      "state": {
       "_model_module": "@jupyter-widgets/base",
       "_model_module_version": "1.2.0",
       "_model_name": "LayoutModel",
       "_view_count": null,
       "_view_module": "@jupyter-widgets/base",
       "_view_module_version": "1.2.0",
       "_view_name": "LayoutView",
       "align_content": null,
       "align_items": null,
       "align_self": null,
       "border": null,
       "bottom": null,
       "display": null,
       "flex": null,
       "flex_flow": null,
       "grid_area": null,
       "grid_auto_columns": null,
       "grid_auto_flow": null,
       "grid_auto_rows": null,
       "grid_column": null,
       "grid_gap": null,
       "grid_row": null,
       "grid_template_areas": null,
       "grid_template_columns": null,
       "grid_template_rows": null,
       "height": null,
       "justify_content": null,
       "justify_items": null,
       "left": null,
       "margin": null,
       "max_height": null,
       "max_width": null,
       "min_height": null,
       "min_width": null,
       "object_fit": null,
       "object_position": null,
       "order": null,
       "overflow": null,
       "overflow_x": null,
       "overflow_y": null,
       "padding": null,
       "right": null,
       "top": null,
       "visibility": null,
       "width": null
      }
     },
     "678dea68df764b28baee65fbfd9dc72e": {
      "model_module": "@jupyter-widgets/controls",
      "model_module_version": "1.5.0",
      "model_name": "ProgressStyleModel",
      "state": {
       "_model_module": "@jupyter-widgets/controls",
       "_model_module_version": "1.5.0",
       "_model_name": "ProgressStyleModel",
       "_view_count": null,
       "_view_module": "@jupyter-widgets/base",
       "_view_module_version": "1.2.0",
       "_view_name": "StyleView",
       "bar_color": null,
       "description_width": ""
      }
     },
     "68117ebf26c1469ab3de99d97a362086": {
      "model_module": "@jupyter-widgets/controls",
      "model_module_version": "1.5.0",
      "model_name": "HBoxModel",
      "state": {
       "_dom_classes": [],
       "_model_module": "@jupyter-widgets/controls",
       "_model_module_version": "1.5.0",
       "_model_name": "HBoxModel",
       "_view_count": null,
       "_view_module": "@jupyter-widgets/controls",
       "_view_module_version": "1.5.0",
       "_view_name": "HBoxView",
       "box_style": "",
       "children": [
        "IPY_MODEL_a1dca6e99caa4ae0bb2b3094f386e16c",
        "IPY_MODEL_b5e84f876e0849ca8dc66cd7407ee346",
        "IPY_MODEL_92ff4b61d83c42c78c498e9d829b3053"
       ],
       "layout": "IPY_MODEL_a75fecbdfd3d45639af380068b178b6c"
      }
     },
     "6a6cc9b8e06e4177a105b376b642bcf4": {
      "model_module": "@jupyter-widgets/base",
      "model_module_version": "1.2.0",
      "model_name": "LayoutModel",
      "state": {
       "_model_module": "@jupyter-widgets/base",
       "_model_module_version": "1.2.0",
       "_model_name": "LayoutModel",
       "_view_count": null,
       "_view_module": "@jupyter-widgets/base",
       "_view_module_version": "1.2.0",
       "_view_name": "LayoutView",
       "align_content": null,
       "align_items": null,
       "align_self": null,
       "border": null,
       "bottom": null,
       "display": null,
       "flex": null,
       "flex_flow": null,
       "grid_area": null,
       "grid_auto_columns": null,
       "grid_auto_flow": null,
       "grid_auto_rows": null,
       "grid_column": null,
       "grid_gap": null,
       "grid_row": null,
       "grid_template_areas": null,
       "grid_template_columns": null,
       "grid_template_rows": null,
       "height": null,
       "justify_content": null,
       "justify_items": null,
       "left": null,
       "margin": null,
       "max_height": null,
       "max_width": null,
       "min_height": null,
       "min_width": null,
       "object_fit": null,
       "object_position": null,
       "order": null,
       "overflow": null,
       "overflow_x": null,
       "overflow_y": null,
       "padding": null,
       "right": null,
       "top": null,
       "visibility": null,
       "width": null
      }
     },
     "6eb32887e46240b4bbc32b126023ce3f": {
      "model_module": "@jupyter-widgets/controls",
      "model_module_version": "1.5.0",
      "model_name": "HTMLModel",
      "state": {
       "_dom_classes": [],
       "_model_module": "@jupyter-widgets/controls",
       "_model_module_version": "1.5.0",
       "_model_name": "HTMLModel",
       "_view_count": null,
       "_view_module": "@jupyter-widgets/controls",
       "_view_module_version": "1.5.0",
       "_view_name": "HTMLView",
       "description": "",
       "description_tooltip": null,
       "layout": "IPY_MODEL_c2162f54972a43279c17dc79f0143fb6",
       "placeholder": "​",
       "style": "IPY_MODEL_648ea525ddd043fda66f7e4c7e149acf",
       "value": "Downloading: 100%"
      }
     },
     "734ca49ceb0e46398a90aca06d75b63a": {
      "model_module": "@jupyter-widgets/controls",
      "model_module_version": "1.5.0",
      "model_name": "DescriptionStyleModel",
      "state": {
       "_model_module": "@jupyter-widgets/controls",
       "_model_module_version": "1.5.0",
       "_model_name": "DescriptionStyleModel",
       "_view_count": null,
       "_view_module": "@jupyter-widgets/base",
       "_view_module_version": "1.2.0",
       "_view_name": "StyleView",
       "description_width": ""
      }
     },
     "74852f681cf84898ace19dcbeea69ba0": {
      "model_module": "@jupyter-widgets/controls",
      "model_module_version": "1.5.0",
      "model_name": "DescriptionStyleModel",
      "state": {
       "_model_module": "@jupyter-widgets/controls",
       "_model_module_version": "1.5.0",
       "_model_name": "DescriptionStyleModel",
       "_view_count": null,
       "_view_module": "@jupyter-widgets/base",
       "_view_module_version": "1.2.0",
       "_view_name": "StyleView",
       "description_width": ""
      }
     },
     "75957a083ccd4448b60b089a55542b56": {
      "model_module": "@jupyter-widgets/base",
      "model_module_version": "1.2.0",
      "model_name": "LayoutModel",
      "state": {
       "_model_module": "@jupyter-widgets/base",
       "_model_module_version": "1.2.0",
       "_model_name": "LayoutModel",
       "_view_count": null,
       "_view_module": "@jupyter-widgets/base",
       "_view_module_version": "1.2.0",
       "_view_name": "LayoutView",
       "align_content": null,
       "align_items": null,
       "align_self": null,
       "border": null,
       "bottom": null,
       "display": null,
       "flex": null,
       "flex_flow": null,
       "grid_area": null,
       "grid_auto_columns": null,
       "grid_auto_flow": null,
       "grid_auto_rows": null,
       "grid_column": null,
       "grid_gap": null,
       "grid_row": null,
       "grid_template_areas": null,
       "grid_template_columns": null,
       "grid_template_rows": null,
       "height": null,
       "justify_content": null,
       "justify_items": null,
       "left": null,
       "margin": null,
       "max_height": null,
       "max_width": null,
       "min_height": null,
       "min_width": null,
       "object_fit": null,
       "object_position": null,
       "order": null,
       "overflow": null,
       "overflow_x": null,
       "overflow_y": null,
       "padding": null,
       "right": null,
       "top": null,
       "visibility": null,
       "width": null
      }
     },
     "7652c880e27e49d7b64c25da66434567": {
      "model_module": "@jupyter-widgets/base",
      "model_module_version": "1.2.0",
      "model_name": "LayoutModel",
      "state": {
       "_model_module": "@jupyter-widgets/base",
       "_model_module_version": "1.2.0",
       "_model_name": "LayoutModel",
       "_view_count": null,
       "_view_module": "@jupyter-widgets/base",
       "_view_module_version": "1.2.0",
       "_view_name": "LayoutView",
       "align_content": null,
       "align_items": null,
       "align_self": null,
       "border": null,
       "bottom": null,
       "display": null,
       "flex": null,
       "flex_flow": null,
       "grid_area": null,
       "grid_auto_columns": null,
       "grid_auto_flow": null,
       "grid_auto_rows": null,
       "grid_column": null,
       "grid_gap": null,
       "grid_row": null,
       "grid_template_areas": null,
       "grid_template_columns": null,
       "grid_template_rows": null,
       "height": null,
       "justify_content": null,
       "justify_items": null,
       "left": null,
       "margin": null,
       "max_height": null,
       "max_width": null,
       "min_height": null,
       "min_width": null,
       "object_fit": null,
       "object_position": null,
       "order": null,
       "overflow": null,
       "overflow_x": null,
       "overflow_y": null,
       "padding": null,
       "right": null,
       "top": null,
       "visibility": null,
       "width": null
      }
     },
     "76f318b495e64e7a8306921a97ed8626": {
      "model_module": "@jupyter-widgets/controls",
      "model_module_version": "1.5.0",
      "model_name": "HBoxModel",
      "state": {
       "_dom_classes": [],
       "_model_module": "@jupyter-widgets/controls",
       "_model_module_version": "1.5.0",
       "_model_name": "HBoxModel",
       "_view_count": null,
       "_view_module": "@jupyter-widgets/controls",
       "_view_module_version": "1.5.0",
       "_view_name": "HBoxView",
       "box_style": "",
       "children": [
        "IPY_MODEL_78e26aab8b1144c8b84f0e2819a7dce8",
        "IPY_MODEL_c24756592dfa4ac99232ffde4f88326b",
        "IPY_MODEL_1cc8731282d74e8ba7f2728fc2dc96f0"
       ],
       "layout": "IPY_MODEL_d7ea91081f5a474193b2e580e0fee4c5"
      }
     },
     "788a693b7aa54d54b2fc54a51f6a54f5": {
      "model_module": "@jupyter-widgets/base",
      "model_module_version": "1.2.0",
      "model_name": "LayoutModel",
      "state": {
       "_model_module": "@jupyter-widgets/base",
       "_model_module_version": "1.2.0",
       "_model_name": "LayoutModel",
       "_view_count": null,
       "_view_module": "@jupyter-widgets/base",
       "_view_module_version": "1.2.0",
       "_view_name": "LayoutView",
       "align_content": null,
       "align_items": null,
       "align_self": null,
       "border": null,
       "bottom": null,
       "display": null,
       "flex": null,
       "flex_flow": null,
       "grid_area": null,
       "grid_auto_columns": null,
       "grid_auto_flow": null,
       "grid_auto_rows": null,
       "grid_column": null,
       "grid_gap": null,
       "grid_row": null,
       "grid_template_areas": null,
       "grid_template_columns": null,
       "grid_template_rows": null,
       "height": null,
       "justify_content": null,
       "justify_items": null,
       "left": null,
       "margin": null,
       "max_height": null,
       "max_width": null,
       "min_height": null,
       "min_width": null,
       "object_fit": null,
       "object_position": null,
       "order": null,
       "overflow": null,
       "overflow_x": null,
       "overflow_y": null,
       "padding": null,
       "right": null,
       "top": null,
       "visibility": null,
       "width": null
      }
     },
     "7895baf122e94a2d8a1822e98adfe1ce": {
      "model_module": "@jupyter-widgets/controls",
      "model_module_version": "1.5.0",
      "model_name": "ProgressStyleModel",
      "state": {
       "_model_module": "@jupyter-widgets/controls",
       "_model_module_version": "1.5.0",
       "_model_name": "ProgressStyleModel",
       "_view_count": null,
       "_view_module": "@jupyter-widgets/base",
       "_view_module_version": "1.2.0",
       "_view_name": "StyleView",
       "bar_color": null,
       "description_width": ""
      }
     },
     "78e26aab8b1144c8b84f0e2819a7dce8": {
      "model_module": "@jupyter-widgets/controls",
      "model_module_version": "1.5.0",
      "model_name": "HTMLModel",
      "state": {
       "_dom_classes": [],
       "_model_module": "@jupyter-widgets/controls",
       "_model_module_version": "1.5.0",
       "_model_name": "HTMLModel",
       "_view_count": null,
       "_view_module": "@jupyter-widgets/controls",
       "_view_module_version": "1.5.0",
       "_view_name": "HTMLView",
       "description": "",
       "description_tooltip": null,
       "layout": "IPY_MODEL_efcd9fdca93a47429fdf4b743ed26652",
       "placeholder": "​",
       "style": "IPY_MODEL_b470540a44ab4a5f8e38e219fadc004a",
       "value": "Batches: 100%"
      }
     },
     "7b5f23c96bf043a8a0687c7257fac5ed": {
      "model_module": "@jupyter-widgets/controls",
      "model_module_version": "1.5.0",
      "model_name": "HBoxModel",
      "state": {
       "_dom_classes": [],
       "_model_module": "@jupyter-widgets/controls",
       "_model_module_version": "1.5.0",
       "_model_name": "HBoxModel",
       "_view_count": null,
       "_view_module": "@jupyter-widgets/controls",
       "_view_module_version": "1.5.0",
       "_view_name": "HBoxView",
       "box_style": "",
       "children": [
        "IPY_MODEL_cf00f14eb6bd432991b8f5a5068e668e",
        "IPY_MODEL_39aa948b2cc94a8fab445bfc51173e9e",
        "IPY_MODEL_c41a2ed0d05f4793b5c65ca3e5b1f823"
       ],
       "layout": "IPY_MODEL_91a1fb9094dd45e6b6b7b4a5cf9286e5"
      }
     },
     "7b72b70ca77d45d192df4994549d625b": {
      "model_module": "@jupyter-widgets/controls",
      "model_module_version": "1.5.0",
      "model_name": "HBoxModel",
      "state": {
       "_dom_classes": [],
       "_model_module": "@jupyter-widgets/controls",
       "_model_module_version": "1.5.0",
       "_model_name": "HBoxModel",
       "_view_count": null,
       "_view_module": "@jupyter-widgets/controls",
       "_view_module_version": "1.5.0",
       "_view_name": "HBoxView",
       "box_style": "",
       "children": [
        "IPY_MODEL_02ccd2b977ae4232b1a8ee95bd5c0194",
        "IPY_MODEL_397e20d3c67e49c3833d0f4dcf4e3dcb",
        "IPY_MODEL_9310287c65c14fb393e2f69ead318264"
       ],
       "layout": "IPY_MODEL_ef88ab65a0cf42d287372f16dd81260a"
      }
     },
     "7c70ed8851b0411b8eb4830cc972ae0e": {
      "model_module": "@jupyter-widgets/controls",
      "model_module_version": "1.5.0",
      "model_name": "DescriptionStyleModel",
      "state": {
       "_model_module": "@jupyter-widgets/controls",
       "_model_module_version": "1.5.0",
       "_model_name": "DescriptionStyleModel",
       "_view_count": null,
       "_view_module": "@jupyter-widgets/base",
       "_view_module_version": "1.2.0",
       "_view_name": "StyleView",
       "description_width": ""
      }
     },
     "7cb5fd40bfba498cbdd41fddf8319ea4": {
      "model_module": "@jupyter-widgets/controls",
      "model_module_version": "1.5.0",
      "model_name": "DescriptionStyleModel",
      "state": {
       "_model_module": "@jupyter-widgets/controls",
       "_model_module_version": "1.5.0",
       "_model_name": "DescriptionStyleModel",
       "_view_count": null,
       "_view_module": "@jupyter-widgets/base",
       "_view_module_version": "1.2.0",
       "_view_name": "StyleView",
       "description_width": ""
      }
     },
     "7cf3159db2cf437d94018812ca0e21e1": {
      "model_module": "@jupyter-widgets/controls",
      "model_module_version": "1.5.0",
      "model_name": "FloatProgressModel",
      "state": {
       "_dom_classes": [],
       "_model_module": "@jupyter-widgets/controls",
       "_model_module_version": "1.5.0",
       "_model_name": "FloatProgressModel",
       "_view_count": null,
       "_view_module": "@jupyter-widgets/controls",
       "_view_module_version": "1.5.0",
       "_view_name": "ProgressView",
       "bar_style": "success",
       "description": "",
       "description_tooltip": null,
       "layout": "IPY_MODEL_b644f6a39ce94eb1a4ac337ee45b7271",
       "max": 229.0,
       "min": 0.0,
       "orientation": "horizontal",
       "style": "IPY_MODEL_44e24c023353450ebaf4748ab90d27fe",
       "value": 229.0
      }
     },
     "7d20bfc197704495bbd9c5e10c9fad1f": {
      "model_module": "@jupyter-widgets/controls",
      "model_module_version": "1.5.0",
      "model_name": "DescriptionStyleModel",
      "state": {
       "_model_module": "@jupyter-widgets/controls",
       "_model_module_version": "1.5.0",
       "_model_name": "DescriptionStyleModel",
       "_view_count": null,
       "_view_module": "@jupyter-widgets/base",
       "_view_module_version": "1.2.0",
       "_view_name": "StyleView",
       "description_width": ""
      }
     },
     "7dab8195575c4a3bb3a23adcc8114609": {
      "model_module": "@jupyter-widgets/base",
      "model_module_version": "1.2.0",
      "model_name": "LayoutModel",
      "state": {
       "_model_module": "@jupyter-widgets/base",
       "_model_module_version": "1.2.0",
       "_model_name": "LayoutModel",
       "_view_count": null,
       "_view_module": "@jupyter-widgets/base",
       "_view_module_version": "1.2.0",
       "_view_name": "LayoutView",
       "align_content": null,
       "align_items": null,
       "align_self": null,
       "border": null,
       "bottom": null,
       "display": null,
       "flex": null,
       "flex_flow": null,
       "grid_area": null,
       "grid_auto_columns": null,
       "grid_auto_flow": null,
       "grid_auto_rows": null,
       "grid_column": null,
       "grid_gap": null,
       "grid_row": null,
       "grid_template_areas": null,
       "grid_template_columns": null,
       "grid_template_rows": null,
       "height": null,
       "justify_content": null,
       "justify_items": null,
       "left": null,
       "margin": null,
       "max_height": null,
       "max_width": null,
       "min_height": null,
       "min_width": null,
       "object_fit": null,
       "object_position": null,
       "order": null,
       "overflow": null,
       "overflow_x": null,
       "overflow_y": null,
       "padding": null,
       "right": null,
       "top": null,
       "visibility": null,
       "width": null
      }
     },
     "7e594be4a86744208433410f6957228a": {
      "model_module": "@jupyter-widgets/controls",
      "model_module_version": "1.5.0",
      "model_name": "FloatProgressModel",
      "state": {
       "_dom_classes": [],
       "_model_module": "@jupyter-widgets/controls",
       "_model_module_version": "1.5.0",
       "_model_name": "FloatProgressModel",
       "_view_count": null,
       "_view_module": "@jupyter-widgets/controls",
       "_view_module_version": "1.5.0",
       "_view_name": "ProgressView",
       "bar_style": "success",
       "description": "",
       "description_tooltip": null,
       "layout": "IPY_MODEL_33f31935e6e6429ab0ba527f5fae1420",
       "max": 718.0,
       "min": 0.0,
       "orientation": "horizontal",
       "style": "IPY_MODEL_cb0af4d5e5424bbbaad288da5c48c67c",
       "value": 718.0
      }
     },
     "7e7af67990ca4c228f54ad852b95d779": {
      "model_module": "@jupyter-widgets/base",
      "model_module_version": "1.2.0",
      "model_name": "LayoutModel",
      "state": {
       "_model_module": "@jupyter-widgets/base",
       "_model_module_version": "1.2.0",
       "_model_name": "LayoutModel",
       "_view_count": null,
       "_view_module": "@jupyter-widgets/base",
       "_view_module_version": "1.2.0",
       "_view_name": "LayoutView",
       "align_content": null,
       "align_items": null,
       "align_self": null,
       "border": null,
       "bottom": null,
       "display": null,
       "flex": null,
       "flex_flow": null,
       "grid_area": null,
       "grid_auto_columns": null,
       "grid_auto_flow": null,
       "grid_auto_rows": null,
       "grid_column": null,
       "grid_gap": null,
       "grid_row": null,
       "grid_template_areas": null,
       "grid_template_columns": null,
       "grid_template_rows": null,
       "height": null,
       "justify_content": null,
       "justify_items": null,
       "left": null,
       "margin": null,
       "max_height": null,
       "max_width": null,
       "min_height": null,
       "min_width": null,
       "object_fit": null,
       "object_position": null,
       "order": null,
       "overflow": null,
       "overflow_x": null,
       "overflow_y": null,
       "padding": null,
       "right": null,
       "top": null,
       "visibility": null,
       "width": null
      }
     },
     "7f160a2631fb48e3be8608ca0c620212": {
      "model_module": "@jupyter-widgets/controls",
      "model_module_version": "1.5.0",
      "model_name": "DescriptionStyleModel",
      "state": {
       "_model_module": "@jupyter-widgets/controls",
       "_model_module_version": "1.5.0",
       "_model_name": "DescriptionStyleModel",
       "_view_count": null,
       "_view_module": "@jupyter-widgets/base",
       "_view_module_version": "1.2.0",
       "_view_name": "StyleView",
       "description_width": ""
      }
     },
     "864e2e051f0c40d8997021fcae3ab322": {
      "model_module": "@jupyter-widgets/controls",
      "model_module_version": "1.5.0",
      "model_name": "DescriptionStyleModel",
      "state": {
       "_model_module": "@jupyter-widgets/controls",
       "_model_module_version": "1.5.0",
       "_model_name": "DescriptionStyleModel",
       "_view_count": null,
       "_view_module": "@jupyter-widgets/base",
       "_view_module_version": "1.2.0",
       "_view_name": "StyleView",
       "description_width": ""
      }
     },
     "8877305336084092ac68bb0fc421fed4": {
      "model_module": "@jupyter-widgets/base",
      "model_module_version": "1.2.0",
      "model_name": "LayoutModel",
      "state": {
       "_model_module": "@jupyter-widgets/base",
       "_model_module_version": "1.2.0",
       "_model_name": "LayoutModel",
       "_view_count": null,
       "_view_module": "@jupyter-widgets/base",
       "_view_module_version": "1.2.0",
       "_view_name": "LayoutView",
       "align_content": null,
       "align_items": null,
       "align_self": null,
       "border": null,
       "bottom": null,
       "display": null,
       "flex": null,
       "flex_flow": null,
       "grid_area": null,
       "grid_auto_columns": null,
       "grid_auto_flow": null,
       "grid_auto_rows": null,
       "grid_column": null,
       "grid_gap": null,
       "grid_row": null,
       "grid_template_areas": null,
       "grid_template_columns": null,
       "grid_template_rows": null,
       "height": null,
       "justify_content": null,
       "justify_items": null,
       "left": null,
       "margin": null,
       "max_height": null,
       "max_width": null,
       "min_height": null,
       "min_width": null,
       "object_fit": null,
       "object_position": null,
       "order": null,
       "overflow": null,
       "overflow_x": null,
       "overflow_y": null,
       "padding": null,
       "right": null,
       "top": null,
       "visibility": null,
       "width": null
      }
     },
     "8a846650106b4e319526cc0f0135a4a7": {
      "model_module": "@jupyter-widgets/base",
      "model_module_version": "1.2.0",
      "model_name": "LayoutModel",
      "state": {
       "_model_module": "@jupyter-widgets/base",
       "_model_module_version": "1.2.0",
       "_model_name": "LayoutModel",
       "_view_count": null,
       "_view_module": "@jupyter-widgets/base",
       "_view_module_version": "1.2.0",
       "_view_name": "LayoutView",
       "align_content": null,
       "align_items": null,
       "align_self": null,
       "border": null,
       "bottom": null,
       "display": null,
       "flex": null,
       "flex_flow": null,
       "grid_area": null,
       "grid_auto_columns": null,
       "grid_auto_flow": null,
       "grid_auto_rows": null,
       "grid_column": null,
       "grid_gap": null,
       "grid_row": null,
       "grid_template_areas": null,
       "grid_template_columns": null,
       "grid_template_rows": null,
       "height": null,
       "justify_content": null,
       "justify_items": null,
       "left": null,
       "margin": null,
       "max_height": null,
       "max_width": null,
       "min_height": null,
       "min_width": null,
       "object_fit": null,
       "object_position": null,
       "order": null,
       "overflow": null,
       "overflow_x": null,
       "overflow_y": null,
       "padding": null,
       "right": null,
       "top": null,
       "visibility": null,
       "width": null
      }
     },
     "8c0b00dda9ac40a4976e530e17ca8429": {
      "model_module": "@jupyter-widgets/base",
      "model_module_version": "1.2.0",
      "model_name": "LayoutModel",
      "state": {
       "_model_module": "@jupyter-widgets/base",
       "_model_module_version": "1.2.0",
       "_model_name": "LayoutModel",
       "_view_count": null,
       "_view_module": "@jupyter-widgets/base",
       "_view_module_version": "1.2.0",
       "_view_name": "LayoutView",
       "align_content": null,
       "align_items": null,
       "align_self": null,
       "border": null,
       "bottom": null,
       "display": null,
       "flex": null,
       "flex_flow": null,
       "grid_area": null,
       "grid_auto_columns": null,
       "grid_auto_flow": null,
       "grid_auto_rows": null,
       "grid_column": null,
       "grid_gap": null,
       "grid_row": null,
       "grid_template_areas": null,
       "grid_template_columns": null,
       "grid_template_rows": null,
       "height": null,
       "justify_content": null,
       "justify_items": null,
       "left": null,
       "margin": null,
       "max_height": null,
       "max_width": null,
       "min_height": null,
       "min_width": null,
       "object_fit": null,
       "object_position": null,
       "order": null,
       "overflow": null,
       "overflow_x": null,
       "overflow_y": null,
       "padding": null,
       "right": null,
       "top": null,
       "visibility": null,
       "width": null
      }
     },
     "8eeb87a0213945f6a3a2439f4f3b2dea": {
      "model_module": "@jupyter-widgets/controls",
      "model_module_version": "1.5.0",
      "model_name": "DescriptionStyleModel",
      "state": {
       "_model_module": "@jupyter-widgets/controls",
       "_model_module_version": "1.5.0",
       "_model_name": "DescriptionStyleModel",
       "_view_count": null,
       "_view_module": "@jupyter-widgets/base",
       "_view_module_version": "1.2.0",
       "_view_name": "StyleView",
       "description_width": ""
      }
     },
     "91222dca2f20475cafaa7d0ea133b965": {
      "model_module": "@jupyter-widgets/base",
      "model_module_version": "1.2.0",
      "model_name": "LayoutModel",
      "state": {
       "_model_module": "@jupyter-widgets/base",
       "_model_module_version": "1.2.0",
       "_model_name": "LayoutModel",
       "_view_count": null,
       "_view_module": "@jupyter-widgets/base",
       "_view_module_version": "1.2.0",
       "_view_name": "LayoutView",
       "align_content": null,
       "align_items": null,
       "align_self": null,
       "border": null,
       "bottom": null,
       "display": null,
       "flex": null,
       "flex_flow": null,
       "grid_area": null,
       "grid_auto_columns": null,
       "grid_auto_flow": null,
       "grid_auto_rows": null,
       "grid_column": null,
       "grid_gap": null,
       "grid_row": null,
       "grid_template_areas": null,
       "grid_template_columns": null,
       "grid_template_rows": null,
       "height": null,
       "justify_content": null,
       "justify_items": null,
       "left": null,
       "margin": null,
       "max_height": null,
       "max_width": null,
       "min_height": null,
       "min_width": null,
       "object_fit": null,
       "object_position": null,
       "order": null,
       "overflow": null,
       "overflow_x": null,
       "overflow_y": null,
       "padding": null,
       "right": null,
       "top": null,
       "visibility": null,
       "width": null
      }
     },
     "91a1fb9094dd45e6b6b7b4a5cf9286e5": {
      "model_module": "@jupyter-widgets/base",
      "model_module_version": "1.2.0",
      "model_name": "LayoutModel",
      "state": {
       "_model_module": "@jupyter-widgets/base",
       "_model_module_version": "1.2.0",
       "_model_name": "LayoutModel",
       "_view_count": null,
       "_view_module": "@jupyter-widgets/base",
       "_view_module_version": "1.2.0",
       "_view_name": "LayoutView",
       "align_content": null,
       "align_items": null,
       "align_self": null,
       "border": null,
       "bottom": null,
       "display": null,
       "flex": null,
       "flex_flow": null,
       "grid_area": null,
       "grid_auto_columns": null,
       "grid_auto_flow": null,
       "grid_auto_rows": null,
       "grid_column": null,
       "grid_gap": null,
       "grid_row": null,
       "grid_template_areas": null,
       "grid_template_columns": null,
       "grid_template_rows": null,
       "height": null,
       "justify_content": null,
       "justify_items": null,
       "left": null,
       "margin": null,
       "max_height": null,
       "max_width": null,
       "min_height": null,
       "min_width": null,
       "object_fit": null,
       "object_position": null,
       "order": null,
       "overflow": null,
       "overflow_x": null,
       "overflow_y": null,
       "padding": null,
       "right": null,
       "top": null,
       "visibility": null,
       "width": null
      }
     },
     "92ff4b61d83c42c78c498e9d829b3053": {
      "model_module": "@jupyter-widgets/controls",
      "model_module_version": "1.5.0",
      "model_name": "HTMLModel",
      "state": {
       "_dom_classes": [],
       "_model_module": "@jupyter-widgets/controls",
       "_model_module_version": "1.5.0",
       "_model_name": "HTMLModel",
       "_view_count": null,
       "_view_module": "@jupyter-widgets/controls",
       "_view_module_version": "1.5.0",
       "_view_name": "HTMLView",
       "description": "",
       "description_tooltip": null,
       "layout": "IPY_MODEL_a38db566abb54b2bb4e3b3b0a0bb2b18",
       "placeholder": "​",
       "style": "IPY_MODEL_8eeb87a0213945f6a3a2439f4f3b2dea",
       "value": " 190/190 [00:00&lt;00:00, 6.89kB/s]"
      }
     },
     "9310287c65c14fb393e2f69ead318264": {
      "model_module": "@jupyter-widgets/controls",
      "model_module_version": "1.5.0",
      "model_name": "HTMLModel",
      "state": {
       "_dom_classes": [],
       "_model_module": "@jupyter-widgets/controls",
       "_model_module_version": "1.5.0",
       "_model_name": "HTMLModel",
       "_view_count": null,
       "_view_module": "@jupyter-widgets/controls",
       "_view_module_version": "1.5.0",
       "_view_name": "HTMLView",
       "description": "",
       "description_tooltip": null,
       "layout": "IPY_MODEL_7dab8195575c4a3bb3a23adcc8114609",
       "placeholder": "​",
       "style": "IPY_MODEL_45c93799470f43e9a0ea70e3be3ac379",
       "value": " 391/391 [00:00&lt;00:00, 15.1kB/s]"
      }
     },
     "9c63deb699a94fceb8f52796d0302429": {
      "model_module": "@jupyter-widgets/controls",
      "model_module_version": "1.5.0",
      "model_name": "DescriptionStyleModel",
      "state": {
       "_model_module": "@jupyter-widgets/controls",
       "_model_module_version": "1.5.0",
       "_model_name": "DescriptionStyleModel",
       "_view_count": null,
       "_view_module": "@jupyter-widgets/base",
       "_view_module_version": "1.2.0",
       "_view_name": "StyleView",
       "description_width": ""
      }
     },
     "9cd97a55cf044ad181ef6ec3206b8c59": {
      "model_module": "@jupyter-widgets/base",
      "model_module_version": "1.2.0",
      "model_name": "LayoutModel",
      "state": {
       "_model_module": "@jupyter-widgets/base",
       "_model_module_version": "1.2.0",
       "_model_name": "LayoutModel",
       "_view_count": null,
       "_view_module": "@jupyter-widgets/base",
       "_view_module_version": "1.2.0",
       "_view_name": "LayoutView",
       "align_content": null,
       "align_items": null,
       "align_self": null,
       "border": null,
       "bottom": null,
       "display": null,
       "flex": null,
       "flex_flow": null,
       "grid_area": null,
       "grid_auto_columns": null,
       "grid_auto_flow": null,
       "grid_auto_rows": null,
       "grid_column": null,
       "grid_gap": null,
       "grid_row": null,
       "grid_template_areas": null,
       "grid_template_columns": null,
       "grid_template_rows": null,
       "height": null,
       "justify_content": null,
       "justify_items": null,
       "left": null,
       "margin": null,
       "max_height": null,
       "max_width": null,
       "min_height": null,
       "min_width": null,
       "object_fit": null,
       "object_position": null,
       "order": null,
       "overflow": null,
       "overflow_x": null,
       "overflow_y": null,
       "padding": null,
       "right": null,
       "top": null,
       "visibility": null,
       "width": null
      }
     },
     "a015fa6adff349fe890c3b6cf8397220": {
      "model_module": "@jupyter-widgets/controls",
      "model_module_version": "1.5.0",
      "model_name": "DescriptionStyleModel",
      "state": {
       "_model_module": "@jupyter-widgets/controls",
       "_model_module_version": "1.5.0",
       "_model_name": "DescriptionStyleModel",
       "_view_count": null,
       "_view_module": "@jupyter-widgets/base",
       "_view_module_version": "1.2.0",
       "_view_name": "StyleView",
       "description_width": ""
      }
     },
     "a198653de4b44ac4adf1e8130eae8600": {
      "model_module": "@jupyter-widgets/controls",
      "model_module_version": "1.5.0",
      "model_name": "DescriptionStyleModel",
      "state": {
       "_model_module": "@jupyter-widgets/controls",
       "_model_module_version": "1.5.0",
       "_model_name": "DescriptionStyleModel",
       "_view_count": null,
       "_view_module": "@jupyter-widgets/base",
       "_view_module_version": "1.2.0",
       "_view_name": "StyleView",
       "description_width": ""
      }
     },
     "a1dca6e99caa4ae0bb2b3094f386e16c": {
      "model_module": "@jupyter-widgets/controls",
      "model_module_version": "1.5.0",
      "model_name": "HTMLModel",
      "state": {
       "_dom_classes": [],
       "_model_module": "@jupyter-widgets/controls",
       "_model_module_version": "1.5.0",
       "_model_name": "HTMLModel",
       "_view_count": null,
       "_view_module": "@jupyter-widgets/controls",
       "_view_module_version": "1.5.0",
       "_view_name": "HTMLView",
       "description": "",
       "description_tooltip": null,
       "layout": "IPY_MODEL_9cd97a55cf044ad181ef6ec3206b8c59",
       "placeholder": "​",
       "style": "IPY_MODEL_2ffb419b435746ea858ef9c03235cdae",
       "value": "Downloading: 100%"
      }
     },
     "a38db566abb54b2bb4e3b3b0a0bb2b18": {
      "model_module": "@jupyter-widgets/base",
      "model_module_version": "1.2.0",
      "model_name": "LayoutModel",
      "state": {
       "_model_module": "@jupyter-widgets/base",
       "_model_module_version": "1.2.0",
       "_model_name": "LayoutModel",
       "_view_count": null,
       "_view_module": "@jupyter-widgets/base",
       "_view_module_version": "1.2.0",
       "_view_name": "LayoutView",
       "align_content": null,
       "align_items": null,
       "align_self": null,
       "border": null,
       "bottom": null,
       "display": null,
       "flex": null,
       "flex_flow": null,
       "grid_area": null,
       "grid_auto_columns": null,
       "grid_auto_flow": null,
       "grid_auto_rows": null,
       "grid_column": null,
       "grid_gap": null,
       "grid_row": null,
       "grid_template_areas": null,
       "grid_template_columns": null,
       "grid_template_rows": null,
       "height": null,
       "justify_content": null,
       "justify_items": null,
       "left": null,
       "margin": null,
       "max_height": null,
       "max_width": null,
       "min_height": null,
       "min_width": null,
       "object_fit": null,
       "object_position": null,
       "order": null,
       "overflow": null,
       "overflow_x": null,
       "overflow_y": null,
       "padding": null,
       "right": null,
       "top": null,
       "visibility": null,
       "width": null
      }
     },
     "a47d31eb96ad493a89a3c7aa5dafc3ea": {
      "model_module": "@jupyter-widgets/base",
      "model_module_version": "1.2.0",
      "model_name": "LayoutModel",
      "state": {
       "_model_module": "@jupyter-widgets/base",
       "_model_module_version": "1.2.0",
       "_model_name": "LayoutModel",
       "_view_count": null,
       "_view_module": "@jupyter-widgets/base",
       "_view_module_version": "1.2.0",
       "_view_name": "LayoutView",
       "align_content": null,
       "align_items": null,
       "align_self": null,
       "border": null,
       "bottom": null,
       "display": null,
       "flex": null,
       "flex_flow": null,
       "grid_area": null,
       "grid_auto_columns": null,
       "grid_auto_flow": null,
       "grid_auto_rows": null,
       "grid_column": null,
       "grid_gap": null,
       "grid_row": null,
       "grid_template_areas": null,
       "grid_template_columns": null,
       "grid_template_rows": null,
       "height": null,
       "justify_content": null,
       "justify_items": null,
       "left": null,
       "margin": null,
       "max_height": null,
       "max_width": null,
       "min_height": null,
       "min_width": null,
       "object_fit": null,
       "object_position": null,
       "order": null,
       "overflow": null,
       "overflow_x": null,
       "overflow_y": null,
       "padding": null,
       "right": null,
       "top": null,
       "visibility": null,
       "width": null
      }
     },
     "a4c8fb0556ec4c2a89674c8dea041eec": {
      "model_module": "@jupyter-widgets/controls",
      "model_module_version": "1.5.0",
      "model_name": "HBoxModel",
      "state": {
       "_dom_classes": [],
       "_model_module": "@jupyter-widgets/controls",
       "_model_module_version": "1.5.0",
       "_model_name": "HBoxModel",
       "_view_count": null,
       "_view_module": "@jupyter-widgets/controls",
       "_view_module_version": "1.5.0",
       "_view_name": "HBoxView",
       "box_style": "",
       "children": [
        "IPY_MODEL_c6ffbfa258f64e6dbc02cd2f65052b93",
        "IPY_MODEL_7cf3159db2cf437d94018812ca0e21e1",
        "IPY_MODEL_ed288ae709c8482ea13e1896468e00f9"
       ],
       "layout": "IPY_MODEL_f095b29a4bb6427db2eb750c36ced856"
      }
     },
     "a71684e5e8584b378c43d18ce0f215e5": {
      "model_module": "@jupyter-widgets/base",
      "model_module_version": "1.2.0",
      "model_name": "LayoutModel",
      "state": {
       "_model_module": "@jupyter-widgets/base",
       "_model_module_version": "1.2.0",
       "_model_name": "LayoutModel",
       "_view_count": null,
       "_view_module": "@jupyter-widgets/base",
       "_view_module_version": "1.2.0",
       "_view_name": "LayoutView",
       "align_content": null,
       "align_items": null,
       "align_self": null,
       "border": null,
       "bottom": null,
       "display": null,
       "flex": null,
       "flex_flow": null,
       "grid_area": null,
       "grid_auto_columns": null,
       "grid_auto_flow": null,
       "grid_auto_rows": null,
       "grid_column": null,
       "grid_gap": null,
       "grid_row": null,
       "grid_template_areas": null,
       "grid_template_columns": null,
       "grid_template_rows": null,
       "height": null,
       "justify_content": null,
       "justify_items": null,
       "left": null,
       "margin": null,
       "max_height": null,
       "max_width": null,
       "min_height": null,
       "min_width": null,
       "object_fit": null,
       "object_position": null,
       "order": null,
       "overflow": null,
       "overflow_x": null,
       "overflow_y": null,
       "padding": null,
       "right": null,
       "top": null,
       "visibility": null,
       "width": null
      }
     },
     "a75fecbdfd3d45639af380068b178b6c": {
      "model_module": "@jupyter-widgets/base",
      "model_module_version": "1.2.0",
      "model_name": "LayoutModel",
      "state": {
       "_model_module": "@jupyter-widgets/base",
       "_model_module_version": "1.2.0",
       "_model_name": "LayoutModel",
       "_view_count": null,
       "_view_module": "@jupyter-widgets/base",
       "_view_module_version": "1.2.0",
       "_view_name": "LayoutView",
       "align_content": null,
       "align_items": null,
       "align_self": null,
       "border": null,
       "bottom": null,
       "display": null,
       "flex": null,
       "flex_flow": null,
       "grid_area": null,
       "grid_auto_columns": null,
       "grid_auto_flow": null,
       "grid_auto_rows": null,
       "grid_column": null,
       "grid_gap": null,
       "grid_row": null,
       "grid_template_areas": null,
       "grid_template_columns": null,
       "grid_template_rows": null,
       "height": null,
       "justify_content": null,
       "justify_items": null,
       "left": null,
       "margin": null,
       "max_height": null,
       "max_width": null,
       "min_height": null,
       "min_width": null,
       "object_fit": null,
       "object_position": null,
       "order": null,
       "overflow": null,
       "overflow_x": null,
       "overflow_y": null,
       "padding": null,
       "right": null,
       "top": null,
       "visibility": null,
       "width": null
      }
     },
     "a8a7dfa9012c47c9af2386c4b511ca00": {
      "model_module": "@jupyter-widgets/base",
      "model_module_version": "1.2.0",
      "model_name": "LayoutModel",
      "state": {
       "_model_module": "@jupyter-widgets/base",
       "_model_module_version": "1.2.0",
       "_model_name": "LayoutModel",
       "_view_count": null,
       "_view_module": "@jupyter-widgets/base",
       "_view_module_version": "1.2.0",
       "_view_name": "LayoutView",
       "align_content": null,
       "align_items": null,
       "align_self": null,
       "border": null,
       "bottom": null,
       "display": null,
       "flex": null,
       "flex_flow": null,
       "grid_area": null,
       "grid_auto_columns": null,
       "grid_auto_flow": null,
       "grid_auto_rows": null,
       "grid_column": null,
       "grid_gap": null,
       "grid_row": null,
       "grid_template_areas": null,
       "grid_template_columns": null,
       "grid_template_rows": null,
       "height": null,
       "justify_content": null,
       "justify_items": null,
       "left": null,
       "margin": null,
       "max_height": null,
       "max_width": null,
       "min_height": null,
       "min_width": null,
       "object_fit": null,
       "object_position": null,
       "order": null,
       "overflow": null,
       "overflow_x": null,
       "overflow_y": null,
       "padding": null,
       "right": null,
       "top": null,
       "visibility": null,
       "width": null
      }
     },
     "a98e6404ce444d1184dfb6b099bc2660": {
      "model_module": "@jupyter-widgets/controls",
      "model_module_version": "1.5.0",
      "model_name": "HTMLModel",
      "state": {
       "_dom_classes": [],
       "_model_module": "@jupyter-widgets/controls",
       "_model_module_version": "1.5.0",
       "_model_name": "HTMLModel",
       "_view_count": null,
       "_view_module": "@jupyter-widgets/controls",
       "_view_module_version": "1.5.0",
       "_view_name": "HTMLView",
       "description": "",
       "description_tooltip": null,
       "layout": "IPY_MODEL_8c0b00dda9ac40a4976e530e17ca8429",
       "placeholder": "​",
       "style": "IPY_MODEL_74852f681cf84898ace19dcbeea69ba0",
       "value": " 798k/798k [00:00&lt;00:00, 3.88MB/s]"
      }
     },
     "aa2440103fec4a89bbf8d0743383f5b8": {
      "model_module": "@jupyter-widgets/controls",
      "model_module_version": "1.5.0",
      "model_name": "DescriptionStyleModel",
      "state": {
       "_model_module": "@jupyter-widgets/controls",
       "_model_module_version": "1.5.0",
       "_model_name": "DescriptionStyleModel",
       "_view_count": null,
       "_view_module": "@jupyter-widgets/base",
       "_view_module_version": "1.2.0",
       "_view_name": "StyleView",
       "description_width": ""
      }
     },
     "aa42952d5431485cbf4d6a45743b675a": {
      "model_module": "@jupyter-widgets/base",
      "model_module_version": "1.2.0",
      "model_name": "LayoutModel",
      "state": {
       "_model_module": "@jupyter-widgets/base",
       "_model_module_version": "1.2.0",
       "_model_name": "LayoutModel",
       "_view_count": null,
       "_view_module": "@jupyter-widgets/base",
       "_view_module_version": "1.2.0",
       "_view_name": "LayoutView",
       "align_content": null,
       "align_items": null,
       "align_self": null,
       "border": null,
       "bottom": null,
       "display": null,
       "flex": null,
       "flex_flow": null,
       "grid_area": null,
       "grid_auto_columns": null,
       "grid_auto_flow": null,
       "grid_auto_rows": null,
       "grid_column": null,
       "grid_gap": null,
       "grid_row": null,
       "grid_template_areas": null,
       "grid_template_columns": null,
       "grid_template_rows": null,
       "height": null,
       "justify_content": null,
       "justify_items": null,
       "left": null,
       "margin": null,
       "max_height": null,
       "max_width": null,
       "min_height": null,
       "min_width": null,
       "object_fit": null,
       "object_position": null,
       "order": null,
       "overflow": null,
       "overflow_x": null,
       "overflow_y": null,
       "padding": null,
       "right": null,
       "top": null,
       "visibility": null,
       "width": null
      }
     },
     "ab9829cc7ee642089d72ef3a489528f3": {
      "model_module": "@jupyter-widgets/base",
      "model_module_version": "1.2.0",
      "model_name": "LayoutModel",
      "state": {
       "_model_module": "@jupyter-widgets/base",
       "_model_module_version": "1.2.0",
       "_model_name": "LayoutModel",
       "_view_count": null,
       "_view_module": "@jupyter-widgets/base",
       "_view_module_version": "1.2.0",
       "_view_name": "LayoutView",
       "align_content": null,
       "align_items": null,
       "align_self": null,
       "border": null,
       "bottom": null,
       "display": null,
       "flex": null,
       "flex_flow": null,
       "grid_area": null,
       "grid_auto_columns": null,
       "grid_auto_flow": null,
       "grid_auto_rows": null,
       "grid_column": null,
       "grid_gap": null,
       "grid_row": null,
       "grid_template_areas": null,
       "grid_template_columns": null,
       "grid_template_rows": null,
       "height": null,
       "justify_content": null,
       "justify_items": null,
       "left": null,
       "margin": null,
       "max_height": null,
       "max_width": null,
       "min_height": null,
       "min_width": null,
       "object_fit": null,
       "object_position": null,
       "order": null,
       "overflow": null,
       "overflow_x": null,
       "overflow_y": null,
       "padding": null,
       "right": null,
       "top": null,
       "visibility": null,
       "width": null
      }
     },
     "ae1ec8c09ec74e94b2f69f3bc65ef421": {
      "model_module": "@jupyter-widgets/controls",
      "model_module_version": "1.5.0",
      "model_name": "HTMLModel",
      "state": {
       "_dom_classes": [],
       "_model_module": "@jupyter-widgets/controls",
       "_model_module_version": "1.5.0",
       "_model_name": "HTMLModel",
       "_view_count": null,
       "_view_module": "@jupyter-widgets/controls",
       "_view_module_version": "1.5.0",
       "_view_name": "HTMLView",
       "description": "",
       "description_tooltip": null,
       "layout": "IPY_MODEL_f0d8de687cdb42cda6b0bd4f32fe1aba",
       "placeholder": "​",
       "style": "IPY_MODEL_03f54d4e30904479baab004ea6b05457",
       "value": "Downloading: 100%"
      }
     },
     "aecf692107df435a98c78610bac4f283": {
      "model_module": "@jupyter-widgets/base",
      "model_module_version": "1.2.0",
      "model_name": "LayoutModel",
      "state": {
       "_model_module": "@jupyter-widgets/base",
       "_model_module_version": "1.2.0",
       "_model_name": "LayoutModel",
       "_view_count": null,
       "_view_module": "@jupyter-widgets/base",
       "_view_module_version": "1.2.0",
       "_view_name": "LayoutView",
       "align_content": null,
       "align_items": null,
       "align_self": null,
       "border": null,
       "bottom": null,
       "display": null,
       "flex": null,
       "flex_flow": null,
       "grid_area": null,
       "grid_auto_columns": null,
       "grid_auto_flow": null,
       "grid_auto_rows": null,
       "grid_column": null,
       "grid_gap": null,
       "grid_row": null,
       "grid_template_areas": null,
       "grid_template_columns": null,
       "grid_template_rows": null,
       "height": null,
       "justify_content": null,
       "justify_items": null,
       "left": null,
       "margin": null,
       "max_height": null,
       "max_width": null,
       "min_height": null,
       "min_width": null,
       "object_fit": null,
       "object_position": null,
       "order": null,
       "overflow": null,
       "overflow_x": null,
       "overflow_y": null,
       "padding": null,
       "right": null,
       "top": null,
       "visibility": null,
       "width": null
      }
     },
     "b174faa3962f4e19892b5b3d00a78d86": {
      "model_module": "@jupyter-widgets/base",
      "model_module_version": "1.2.0",
      "model_name": "LayoutModel",
      "state": {
       "_model_module": "@jupyter-widgets/base",
       "_model_module_version": "1.2.0",
       "_model_name": "LayoutModel",
       "_view_count": null,
       "_view_module": "@jupyter-widgets/base",
       "_view_module_version": "1.2.0",
       "_view_name": "LayoutView",
       "align_content": null,
       "align_items": null,
       "align_self": null,
       "border": null,
       "bottom": null,
       "display": null,
       "flex": null,
       "flex_flow": null,
       "grid_area": null,
       "grid_auto_columns": null,
       "grid_auto_flow": null,
       "grid_auto_rows": null,
       "grid_column": null,
       "grid_gap": null,
       "grid_row": null,
       "grid_template_areas": null,
       "grid_template_columns": null,
       "grid_template_rows": null,
       "height": null,
       "justify_content": null,
       "justify_items": null,
       "left": null,
       "margin": null,
       "max_height": null,
       "max_width": null,
       "min_height": null,
       "min_width": null,
       "object_fit": null,
       "object_position": null,
       "order": null,
       "overflow": null,
       "overflow_x": null,
       "overflow_y": null,
       "padding": null,
       "right": null,
       "top": null,
       "visibility": null,
       "width": null
      }
     },
     "b1aa9769008a42fbbd323902318c5470": {
      "model_module": "@jupyter-widgets/controls",
      "model_module_version": "1.5.0",
      "model_name": "DescriptionStyleModel",
      "state": {
       "_model_module": "@jupyter-widgets/controls",
       "_model_module_version": "1.5.0",
       "_model_name": "DescriptionStyleModel",
       "_view_count": null,
       "_view_module": "@jupyter-widgets/base",
       "_view_module_version": "1.2.0",
       "_view_name": "StyleView",
       "description_width": ""
      }
     },
     "b470540a44ab4a5f8e38e219fadc004a": {
      "model_module": "@jupyter-widgets/controls",
      "model_module_version": "1.5.0",
      "model_name": "DescriptionStyleModel",
      "state": {
       "_model_module": "@jupyter-widgets/controls",
       "_model_module_version": "1.5.0",
       "_model_name": "DescriptionStyleModel",
       "_view_count": null,
       "_view_module": "@jupyter-widgets/base",
       "_view_module_version": "1.2.0",
       "_view_name": "StyleView",
       "description_width": ""
      }
     },
     "b5e84f876e0849ca8dc66cd7407ee346": {
      "model_module": "@jupyter-widgets/controls",
      "model_module_version": "1.5.0",
      "model_name": "FloatProgressModel",
      "state": {
       "_dom_classes": [],
       "_model_module": "@jupyter-widgets/controls",
       "_model_module_version": "1.5.0",
       "_model_name": "FloatProgressModel",
       "_view_count": null,
       "_view_module": "@jupyter-widgets/controls",
       "_view_module_version": "1.5.0",
       "_view_name": "ProgressView",
       "bar_style": "success",
       "description": "",
       "description_tooltip": null,
       "layout": "IPY_MODEL_f663e254933040c1a05a911566983cee",
       "max": 190.0,
       "min": 0.0,
       "orientation": "horizontal",
       "style": "IPY_MODEL_eb0411cd29b9446aa5a85f66d15c9b0f",
       "value": 190.0
      }
     },
     "b644f6a39ce94eb1a4ac337ee45b7271": {
      "model_module": "@jupyter-widgets/base",
      "model_module_version": "1.2.0",
      "model_name": "LayoutModel",
      "state": {
       "_model_module": "@jupyter-widgets/base",
       "_model_module_version": "1.2.0",
       "_model_name": "LayoutModel",
       "_view_count": null,
       "_view_module": "@jupyter-widgets/base",
       "_view_module_version": "1.2.0",
       "_view_name": "LayoutView",
       "align_content": null,
       "align_items": null,
       "align_self": null,
       "border": null,
       "bottom": null,
       "display": null,
       "flex": null,
       "flex_flow": null,
       "grid_area": null,
       "grid_auto_columns": null,
       "grid_auto_flow": null,
       "grid_auto_rows": null,
       "grid_column": null,
       "grid_gap": null,
       "grid_row": null,
       "grid_template_areas": null,
       "grid_template_columns": null,
       "grid_template_rows": null,
       "height": null,
       "justify_content": null,
       "justify_items": null,
       "left": null,
       "margin": null,
       "max_height": null,
       "max_width": null,
       "min_height": null,
       "min_width": null,
       "object_fit": null,
       "object_position": null,
       "order": null,
       "overflow": null,
       "overflow_x": null,
       "overflow_y": null,
       "padding": null,
       "right": null,
       "top": null,
       "visibility": null,
       "width": null
      }
     },
     "b6b4ef87eb844338956569d3c2136b7a": {
      "model_module": "@jupyter-widgets/base",
      "model_module_version": "1.2.0",
      "model_name": "LayoutModel",
      "state": {
       "_model_module": "@jupyter-widgets/base",
       "_model_module_version": "1.2.0",
       "_model_name": "LayoutModel",
       "_view_count": null,
       "_view_module": "@jupyter-widgets/base",
       "_view_module_version": "1.2.0",
       "_view_name": "LayoutView",
       "align_content": null,
       "align_items": null,
       "align_self": null,
       "border": null,
       "bottom": null,
       "display": null,
       "flex": null,
       "flex_flow": null,
       "grid_area": null,
       "grid_auto_columns": null,
       "grid_auto_flow": null,
       "grid_auto_rows": null,
       "grid_column": null,
       "grid_gap": null,
       "grid_row": null,
       "grid_template_areas": null,
       "grid_template_columns": null,
       "grid_template_rows": null,
       "height": null,
       "justify_content": null,
       "justify_items": null,
       "left": null,
       "margin": null,
       "max_height": null,
       "max_width": null,
       "min_height": null,
       "min_width": null,
       "object_fit": null,
       "object_position": null,
       "order": null,
       "overflow": null,
       "overflow_x": null,
       "overflow_y": null,
       "padding": null,
       "right": null,
       "top": null,
       "visibility": null,
       "width": null
      }
     },
     "b9944b549f8d4886a16181218515d149": {
      "model_module": "@jupyter-widgets/controls",
      "model_module_version": "1.5.0",
      "model_name": "FloatProgressModel",
      "state": {
       "_dom_classes": [],
       "_model_module": "@jupyter-widgets/controls",
       "_model_module_version": "1.5.0",
       "_model_name": "FloatProgressModel",
       "_view_count": null,
       "_view_module": "@jupyter-widgets/controls",
       "_view_module_version": "1.5.0",
       "_view_name": "ProgressView",
       "bar_style": "success",
       "description": "",
       "description_tooltip": null,
       "layout": "IPY_MODEL_8a846650106b4e319526cc0f0135a4a7",
       "max": 1355881.0,
       "min": 0.0,
       "orientation": "horizontal",
       "style": "IPY_MODEL_4ca82b002d6c43839a5226112c22c5b0",
       "value": 1355881.0
      }
     },
     "bec458fd46424c7397add89dc1c5ad40": {
      "model_module": "@jupyter-widgets/controls",
      "model_module_version": "1.5.0",
      "model_name": "HTMLModel",
      "state": {
       "_dom_classes": [],
       "_model_module": "@jupyter-widgets/controls",
       "_model_module_version": "1.5.0",
       "_model_name": "HTMLModel",
       "_view_count": null,
       "_view_module": "@jupyter-widgets/controls",
       "_view_module_version": "1.5.0",
       "_view_name": "HTMLView",
       "description": "",
       "description_tooltip": null,
       "layout": "IPY_MODEL_15ea70dc5eae4df9a93698272d00b62d",
       "placeholder": "​",
       "style": "IPY_MODEL_7d20bfc197704495bbd9c5e10c9fad1f",
       "value": " 718/718 [00:00&lt;00:00, 27.4kB/s]"
      }
     },
     "bfbb63e53f5a4cecaa6eeb8e4133ad29": {
      "model_module": "@jupyter-widgets/base",
      "model_module_version": "1.2.0",
      "model_name": "LayoutModel",
      "state": {
       "_model_module": "@jupyter-widgets/base",
       "_model_module_version": "1.2.0",
       "_model_name": "LayoutModel",
       "_view_count": null,
       "_view_module": "@jupyter-widgets/base",
       "_view_module_version": "1.2.0",
       "_view_name": "LayoutView",
       "align_content": null,
       "align_items": null,
       "align_self": null,
       "border": null,
       "bottom": null,
       "display": null,
       "flex": null,
       "flex_flow": null,
       "grid_area": null,
       "grid_auto_columns": null,
       "grid_auto_flow": null,
       "grid_auto_rows": null,
       "grid_column": null,
       "grid_gap": null,
       "grid_row": null,
       "grid_template_areas": null,
       "grid_template_columns": null,
       "grid_template_rows": null,
       "height": null,
       "justify_content": null,
       "justify_items": null,
       "left": null,
       "margin": null,
       "max_height": null,
       "max_width": null,
       "min_height": null,
       "min_width": null,
       "object_fit": null,
       "object_position": null,
       "order": null,
       "overflow": null,
       "overflow_x": null,
       "overflow_y": null,
       "padding": null,
       "right": null,
       "top": null,
       "visibility": null,
       "width": null
      }
     },
     "c004c3a415d44ca497b0a71ab308be16": {
      "model_module": "@jupyter-widgets/controls",
      "model_module_version": "1.5.0",
      "model_name": "HTMLModel",
      "state": {
       "_dom_classes": [],
       "_model_module": "@jupyter-widgets/controls",
       "_model_module_version": "1.5.0",
       "_model_name": "HTMLModel",
       "_view_count": null,
       "_view_module": "@jupyter-widgets/controls",
       "_view_module_version": "1.5.0",
       "_view_name": "HTMLView",
       "description": "",
       "description_tooltip": null,
       "layout": "IPY_MODEL_33f7435ff0014e97ac9f3cdd9b12cb38",
       "placeholder": "​",
       "style": "IPY_MODEL_7f160a2631fb48e3be8608ca0c620212",
       "value": "Downloading: 100%"
      }
     },
     "c2162f54972a43279c17dc79f0143fb6": {
      "model_module": "@jupyter-widgets/base",
      "model_module_version": "1.2.0",
      "model_name": "LayoutModel",
      "state": {
       "_model_module": "@jupyter-widgets/base",
       "_model_module_version": "1.2.0",
       "_model_name": "LayoutModel",
       "_view_count": null,
       "_view_module": "@jupyter-widgets/base",
       "_view_module_version": "1.2.0",
       "_view_name": "LayoutView",
       "align_content": null,
       "align_items": null,
       "align_self": null,
       "border": null,
       "bottom": null,
       "display": null,
       "flex": null,
       "flex_flow": null,
       "grid_area": null,
       "grid_auto_columns": null,
       "grid_auto_flow": null,
       "grid_auto_rows": null,
       "grid_column": null,
       "grid_gap": null,
       "grid_row": null,
       "grid_template_areas": null,
       "grid_template_columns": null,
       "grid_template_rows": null,
       "height": null,
       "justify_content": null,
       "justify_items": null,
       "left": null,
       "margin": null,
       "max_height": null,
       "max_width": null,
       "min_height": null,
       "min_width": null,
       "object_fit": null,
       "object_position": null,
       "order": null,
       "overflow": null,
       "overflow_x": null,
       "overflow_y": null,
       "padding": null,
       "right": null,
       "top": null,
       "visibility": null,
       "width": null
      }
     },
     "c24756592dfa4ac99232ffde4f88326b": {
      "model_module": "@jupyter-widgets/controls",
      "model_module_version": "1.5.0",
      "model_name": "FloatProgressModel",
      "state": {
       "_dom_classes": [],
       "_model_module": "@jupyter-widgets/controls",
       "_model_module_version": "1.5.0",
       "_model_name": "FloatProgressModel",
       "_view_count": null,
       "_view_module": "@jupyter-widgets/controls",
       "_view_module_version": "1.5.0",
       "_view_name": "ProgressView",
       "bar_style": "success",
       "description": "",
       "description_tooltip": null,
       "layout": "IPY_MODEL_663d7c6cee0847faa0f08b26e1c22579",
       "max": 51.0,
       "min": 0.0,
       "orientation": "horizontal",
       "style": "IPY_MODEL_e3af246625794580af896d1315202715",
       "value": 51.0
      }
     },
     "c41a2ed0d05f4793b5c65ca3e5b1f823": {
      "model_module": "@jupyter-widgets/controls",
      "model_module_version": "1.5.0",
      "model_name": "HTMLModel",
      "state": {
       "_dom_classes": [],
       "_model_module": "@jupyter-widgets/controls",
       "_model_module_version": "1.5.0",
       "_model_name": "HTMLModel",
       "_view_count": null,
       "_view_module": "@jupyter-widgets/controls",
       "_view_module_version": "1.5.0",
       "_view_name": "HTMLView",
       "description": "",
       "description_tooltip": null,
       "layout": "IPY_MODEL_ed041162b6ec466480dad9785924fe7f",
       "placeholder": "​",
       "style": "IPY_MODEL_d55faeb40bf64f499f39a0fec8256097",
       "value": " 329M/329M [00:10&lt;00:00, 29.4MB/s]"
      }
     },
     "c6ffbfa258f64e6dbc02cd2f65052b93": {
      "model_module": "@jupyter-widgets/controls",
      "model_module_version": "1.5.0",
      "model_name": "HTMLModel",
      "state": {
       "_dom_classes": [],
       "_model_module": "@jupyter-widgets/controls",
       "_model_module_version": "1.5.0",
       "_model_name": "HTMLModel",
       "_view_count": null,
       "_view_module": "@jupyter-widgets/controls",
       "_view_module_version": "1.5.0",
       "_view_name": "HTMLView",
       "description": "",
       "description_tooltip": null,
       "layout": "IPY_MODEL_46f51639a98245ada5c942c0e488c6db",
       "placeholder": "​",
       "style": "IPY_MODEL_2abddf194a7d43668f3cacf2b7f60b23",
       "value": "Downloading: 100%"
      }
     },
     "c9601dcf191644bd8d07c1f586543d0e": {
      "model_module": "@jupyter-widgets/base",
      "model_module_version": "1.2.0",
      "model_name": "LayoutModel",
      "state": {
       "_model_module": "@jupyter-widgets/base",
       "_model_module_version": "1.2.0",
       "_model_name": "LayoutModel",
       "_view_count": null,
       "_view_module": "@jupyter-widgets/base",
       "_view_module_version": "1.2.0",
       "_view_name": "LayoutView",
       "align_content": null,
       "align_items": null,
       "align_self": null,
       "border": null,
       "bottom": null,
       "display": null,
       "flex": null,
       "flex_flow": null,
       "grid_area": null,
       "grid_auto_columns": null,
       "grid_auto_flow": null,
       "grid_auto_rows": null,
       "grid_column": null,
       "grid_gap": null,
       "grid_row": null,
       "grid_template_areas": null,
       "grid_template_columns": null,
       "grid_template_rows": null,
       "height": null,
       "justify_content": null,
       "justify_items": null,
       "left": null,
       "margin": null,
       "max_height": null,
       "max_width": null,
       "min_height": null,
       "min_width": null,
       "object_fit": null,
       "object_position": null,
       "order": null,
       "overflow": null,
       "overflow_x": null,
       "overflow_y": null,
       "padding": null,
       "right": null,
       "top": null,
       "visibility": null,
       "width": null
      }
     },
     "cb0af4d5e5424bbbaad288da5c48c67c": {
      "model_module": "@jupyter-widgets/controls",
      "model_module_version": "1.5.0",
      "model_name": "ProgressStyleModel",
      "state": {
       "_model_module": "@jupyter-widgets/controls",
       "_model_module_version": "1.5.0",
       "_model_name": "ProgressStyleModel",
       "_view_count": null,
       "_view_module": "@jupyter-widgets/base",
       "_view_module_version": "1.2.0",
       "_view_name": "StyleView",
       "bar_color": null,
       "description_width": ""
      }
     },
     "cca74c3beb5e49d29a2bb4929bf801aa": {
      "model_module": "@jupyter-widgets/controls",
      "model_module_version": "1.5.0",
      "model_name": "HTMLModel",
      "state": {
       "_dom_classes": [],
       "_model_module": "@jupyter-widgets/controls",
       "_model_module_version": "1.5.0",
       "_model_name": "HTMLModel",
       "_view_count": null,
       "_view_module": "@jupyter-widgets/controls",
       "_view_module_version": "1.5.0",
       "_view_name": "HTMLView",
       "description": "",
       "description_tooltip": null,
       "layout": "IPY_MODEL_b174faa3962f4e19892b5b3d00a78d86",
       "placeholder": "​",
       "style": "IPY_MODEL_734ca49ceb0e46398a90aca06d75b63a",
       "value": "Downloading: 100%"
      }
     },
     "cca8ec0eb37f4563aae6dacc6e32ca05": {
      "model_module": "@jupyter-widgets/base",
      "model_module_version": "1.2.0",
      "model_name": "LayoutModel",
      "state": {
       "_model_module": "@jupyter-widgets/base",
       "_model_module_version": "1.2.0",
       "_model_name": "LayoutModel",
       "_view_count": null,
       "_view_module": "@jupyter-widgets/base",
       "_view_module_version": "1.2.0",
       "_view_name": "LayoutView",
       "align_content": null,
       "align_items": null,
       "align_self": null,
       "border": null,
       "bottom": null,
       "display": null,
       "flex": null,
       "flex_flow": null,
       "grid_area": null,
       "grid_auto_columns": null,
       "grid_auto_flow": null,
       "grid_auto_rows": null,
       "grid_column": null,
       "grid_gap": null,
       "grid_row": null,
       "grid_template_areas": null,
       "grid_template_columns": null,
       "grid_template_rows": null,
       "height": null,
       "justify_content": null,
       "justify_items": null,
       "left": null,
       "margin": null,
       "max_height": null,
       "max_width": null,
       "min_height": null,
       "min_width": null,
       "object_fit": null,
       "object_position": null,
       "order": null,
       "overflow": null,
       "overflow_x": null,
       "overflow_y": null,
       "padding": null,
       "right": null,
       "top": null,
       "visibility": null,
       "width": null
      }
     },
     "cf00f14eb6bd432991b8f5a5068e668e": {
      "model_module": "@jupyter-widgets/controls",
      "model_module_version": "1.5.0",
      "model_name": "HTMLModel",
      "state": {
       "_dom_classes": [],
       "_model_module": "@jupyter-widgets/controls",
       "_model_module_version": "1.5.0",
       "_model_name": "HTMLModel",
       "_view_count": null,
       "_view_module": "@jupyter-widgets/controls",
       "_view_module_version": "1.5.0",
       "_view_name": "HTMLView",
       "description": "",
       "description_tooltip": null,
       "layout": "IPY_MODEL_334d4ea26adc4adebcd6848fc899bffe",
       "placeholder": "​",
       "style": "IPY_MODEL_864e2e051f0c40d8997021fcae3ab322",
       "value": "Downloading: 100%"
      }
     },
     "d03e4e198e3a4df88e82e2866164e96e": {
      "model_module": "@jupyter-widgets/controls",
      "model_module_version": "1.5.0",
      "model_name": "HTMLModel",
      "state": {
       "_dom_classes": [],
       "_model_module": "@jupyter-widgets/controls",
       "_model_module_version": "1.5.0",
       "_model_name": "HTMLModel",
       "_view_count": null,
       "_view_module": "@jupyter-widgets/controls",
       "_view_module_version": "1.5.0",
       "_view_name": "HTMLView",
       "description": "",
       "description_tooltip": null,
       "layout": "IPY_MODEL_aa42952d5431485cbf4d6a45743b675a",
       "placeholder": "​",
       "style": "IPY_MODEL_a198653de4b44ac4adf1e8130eae8600",
       "value": " 122/122 [00:00&lt;00:00, 4.69kB/s]"
      }
     },
     "d27c1ca41bc2430281b8b886d5cf1b16": {
      "model_module": "@jupyter-widgets/controls",
      "model_module_version": "1.5.0",
      "model_name": "FloatProgressModel",
      "state": {
       "_dom_classes": [],
       "_model_module": "@jupyter-widgets/controls",
       "_model_module_version": "1.5.0",
       "_model_name": "FloatProgressModel",
       "_view_count": null,
       "_view_module": "@jupyter-widgets/controls",
       "_view_module_version": "1.5.0",
       "_view_name": "ProgressView",
       "bar_style": "success",
       "description": "",
       "description_tooltip": null,
       "layout": "IPY_MODEL_64837c381136453b9460f7a8b6410996",
       "max": 456356.0,
       "min": 0.0,
       "orientation": "horizontal",
       "style": "IPY_MODEL_eff80a529570456a8af4bf7372da9e2b",
       "value": 456356.0
      }
     },
     "d55faeb40bf64f499f39a0fec8256097": {
      "model_module": "@jupyter-widgets/controls",
      "model_module_version": "1.5.0",
      "model_name": "DescriptionStyleModel",
      "state": {
       "_model_module": "@jupyter-widgets/controls",
       "_model_module_version": "1.5.0",
       "_model_name": "DescriptionStyleModel",
       "_view_count": null,
       "_view_module": "@jupyter-widgets/base",
       "_view_module_version": "1.2.0",
       "_view_name": "StyleView",
       "description_width": ""
      }
     },
     "d7ea91081f5a474193b2e580e0fee4c5": {
      "model_module": "@jupyter-widgets/base",
      "model_module_version": "1.2.0",
      "model_name": "LayoutModel",
      "state": {
       "_model_module": "@jupyter-widgets/base",
       "_model_module_version": "1.2.0",
       "_model_name": "LayoutModel",
       "_view_count": null,
       "_view_module": "@jupyter-widgets/base",
       "_view_module_version": "1.2.0",
       "_view_name": "LayoutView",
       "align_content": null,
       "align_items": null,
       "align_self": null,
       "border": null,
       "bottom": null,
       "display": null,
       "flex": null,
       "flex_flow": null,
       "grid_area": null,
       "grid_auto_columns": null,
       "grid_auto_flow": null,
       "grid_auto_rows": null,
       "grid_column": null,
       "grid_gap": null,
       "grid_row": null,
       "grid_template_areas": null,
       "grid_template_columns": null,
       "grid_template_rows": null,
       "height": null,
       "justify_content": null,
       "justify_items": null,
       "left": null,
       "margin": null,
       "max_height": null,
       "max_width": null,
       "min_height": null,
       "min_width": null,
       "object_fit": null,
       "object_position": null,
       "order": null,
       "overflow": null,
       "overflow_x": null,
       "overflow_y": null,
       "padding": null,
       "right": null,
       "top": null,
       "visibility": null,
       "width": null
      }
     },
     "d952dbe40f1a4effa804c8821ed2a624": {
      "model_module": "@jupyter-widgets/controls",
      "model_module_version": "1.5.0",
      "model_name": "DescriptionStyleModel",
      "state": {
       "_model_module": "@jupyter-widgets/controls",
       "_model_module_version": "1.5.0",
       "_model_name": "DescriptionStyleModel",
       "_view_count": null,
       "_view_module": "@jupyter-widgets/base",
       "_view_module_version": "1.2.0",
       "_view_name": "StyleView",
       "description_width": ""
      }
     },
     "db204b9a215e4746a84b9c8b30525ed7": {
      "model_module": "@jupyter-widgets/controls",
      "model_module_version": "1.5.0",
      "model_name": "HBoxModel",
      "state": {
       "_dom_classes": [],
       "_model_module": "@jupyter-widgets/controls",
       "_model_module_version": "1.5.0",
       "_model_name": "HBoxModel",
       "_view_count": null,
       "_view_module": "@jupyter-widgets/controls",
       "_view_module_version": "1.5.0",
       "_view_name": "HBoxView",
       "box_style": "",
       "children": [
        "IPY_MODEL_c004c3a415d44ca497b0a71ab308be16",
        "IPY_MODEL_eb9ff0cca5d64fa2a8fc76cd2b5ea25b",
        "IPY_MODEL_a98e6404ce444d1184dfb6b099bc2660"
       ],
       "layout": "IPY_MODEL_7e7af67990ca4c228f54ad852b95d779"
      }
     },
     "dbb3a2dc832a4a4e90293ef72792e41c": {
      "model_module": "@jupyter-widgets/controls",
      "model_module_version": "1.5.0",
      "model_name": "FloatProgressModel",
      "state": {
       "_dom_classes": [],
       "_model_module": "@jupyter-widgets/controls",
       "_model_module_version": "1.5.0",
       "_model_name": "FloatProgressModel",
       "_view_count": null,
       "_view_module": "@jupyter-widgets/controls",
       "_view_module_version": "1.5.0",
       "_view_name": "ProgressView",
       "bar_style": "success",
       "description": "",
       "description_tooltip": null,
       "layout": "IPY_MODEL_aecf692107df435a98c78610bac4f283",
       "max": 239.0,
       "min": 0.0,
       "orientation": "horizontal",
       "style": "IPY_MODEL_14164cdddb774c5c95df7992b5991f29",
       "value": 239.0
      }
     },
     "ddf3af4fcce643099a203c982bf64ccd": {
      "model_module": "@jupyter-widgets/controls",
      "model_module_version": "1.5.0",
      "model_name": "DescriptionStyleModel",
      "state": {
       "_model_module": "@jupyter-widgets/controls",
       "_model_module_version": "1.5.0",
       "_model_name": "DescriptionStyleModel",
       "_view_count": null,
       "_view_module": "@jupyter-widgets/base",
       "_view_module_version": "1.2.0",
       "_view_name": "StyleView",
       "description_width": ""
      }
     },
     "df920aa099f94382907b52ec1c17f46c": {
      "model_module": "@jupyter-widgets/controls",
      "model_module_version": "1.5.0",
      "model_name": "HBoxModel",
      "state": {
       "_dom_classes": [],
       "_model_module": "@jupyter-widgets/controls",
       "_model_module_version": "1.5.0",
       "_model_name": "HBoxModel",
       "_view_count": null,
       "_view_module": "@jupyter-widgets/controls",
       "_view_module_version": "1.5.0",
       "_view_name": "HBoxView",
       "box_style": "",
       "children": [
        "IPY_MODEL_ae1ec8c09ec74e94b2f69f3bc65ef421",
        "IPY_MODEL_e21db9c2d5d24a38aa048afe38e13187",
        "IPY_MODEL_0594353911b943fa9081ed167c260a30"
       ],
       "layout": "IPY_MODEL_4ed3397becbc4055b8c9b0524ad777a8"
      }
     },
     "e0cc09141a2a4500839ea1a9a47bdacb": {
      "model_module": "@jupyter-widgets/base",
      "model_module_version": "1.2.0",
      "model_name": "LayoutModel",
      "state": {
       "_model_module": "@jupyter-widgets/base",
       "_model_module_version": "1.2.0",
       "_model_name": "LayoutModel",
       "_view_count": null,
       "_view_module": "@jupyter-widgets/base",
       "_view_module_version": "1.2.0",
       "_view_name": "LayoutView",
       "align_content": null,
       "align_items": null,
       "align_self": null,
       "border": null,
       "bottom": null,
       "display": null,
       "flex": null,
       "flex_flow": null,
       "grid_area": null,
       "grid_auto_columns": null,
       "grid_auto_flow": null,
       "grid_auto_rows": null,
       "grid_column": null,
       "grid_gap": null,
       "grid_row": null,
       "grid_template_areas": null,
       "grid_template_columns": null,
       "grid_template_rows": null,
       "height": null,
       "justify_content": null,
       "justify_items": null,
       "left": null,
       "margin": null,
       "max_height": null,
       "max_width": null,
       "min_height": null,
       "min_width": null,
       "object_fit": null,
       "object_position": null,
       "order": null,
       "overflow": null,
       "overflow_x": null,
       "overflow_y": null,
       "padding": null,
       "right": null,
       "top": null,
       "visibility": null,
       "width": null
      }
     },
     "e21db9c2d5d24a38aa048afe38e13187": {
      "model_module": "@jupyter-widgets/controls",
      "model_module_version": "1.5.0",
      "model_name": "FloatProgressModel",
      "state": {
       "_dom_classes": [],
       "_model_module": "@jupyter-widgets/controls",
       "_model_module_version": "1.5.0",
       "_model_name": "FloatProgressModel",
       "_view_count": null,
       "_view_module": "@jupyter-widgets/controls",
       "_view_module_version": "1.5.0",
       "_view_name": "ProgressView",
       "bar_style": "success",
       "description": "",
       "description_tooltip": null,
       "layout": "IPY_MODEL_a71684e5e8584b378c43d18ce0f215e5",
       "max": 53.0,
       "min": 0.0,
       "orientation": "horizontal",
       "style": "IPY_MODEL_7895baf122e94a2d8a1822e98adfe1ce",
       "value": 53.0
      }
     },
     "e2d2ab3e36bb4e1d95bd1068670f8faf": {
      "model_module": "@jupyter-widgets/controls",
      "model_module_version": "1.5.0",
      "model_name": "DescriptionStyleModel",
      "state": {
       "_model_module": "@jupyter-widgets/controls",
       "_model_module_version": "1.5.0",
       "_model_name": "DescriptionStyleModel",
       "_view_count": null,
       "_view_module": "@jupyter-widgets/base",
       "_view_module_version": "1.2.0",
       "_view_name": "StyleView",
       "description_width": ""
      }
     },
     "e3af246625794580af896d1315202715": {
      "model_module": "@jupyter-widgets/controls",
      "model_module_version": "1.5.0",
      "model_name": "ProgressStyleModel",
      "state": {
       "_model_module": "@jupyter-widgets/controls",
       "_model_module_version": "1.5.0",
       "_model_name": "ProgressStyleModel",
       "_view_count": null,
       "_view_module": "@jupyter-widgets/base",
       "_view_module_version": "1.2.0",
       "_view_name": "StyleView",
       "bar_color": null,
       "description_width": ""
      }
     },
     "e400dd75ee2c4b66a723047e79a14ad5": {
      "model_module": "@jupyter-widgets/controls",
      "model_module_version": "1.5.0",
      "model_name": "DescriptionStyleModel",
      "state": {
       "_model_module": "@jupyter-widgets/controls",
       "_model_module_version": "1.5.0",
       "_model_name": "DescriptionStyleModel",
       "_view_count": null,
       "_view_module": "@jupyter-widgets/base",
       "_view_module_version": "1.2.0",
       "_view_name": "StyleView",
       "description_width": ""
      }
     },
     "e65a83862ef74d8cbc31daa261ffc487": {
      "model_module": "@jupyter-widgets/base",
      "model_module_version": "1.2.0",
      "model_name": "LayoutModel",
      "state": {
       "_model_module": "@jupyter-widgets/base",
       "_model_module_version": "1.2.0",
       "_model_name": "LayoutModel",
       "_view_count": null,
       "_view_module": "@jupyter-widgets/base",
       "_view_module_version": "1.2.0",
       "_view_name": "LayoutView",
       "align_content": null,
       "align_items": null,
       "align_self": null,
       "border": null,
       "bottom": null,
       "display": null,
       "flex": null,
       "flex_flow": null,
       "grid_area": null,
       "grid_auto_columns": null,
       "grid_auto_flow": null,
       "grid_auto_rows": null,
       "grid_column": null,
       "grid_gap": null,
       "grid_row": null,
       "grid_template_areas": null,
       "grid_template_columns": null,
       "grid_template_rows": null,
       "height": null,
       "justify_content": null,
       "justify_items": null,
       "left": null,
       "margin": null,
       "max_height": null,
       "max_width": null,
       "min_height": null,
       "min_width": null,
       "object_fit": null,
       "object_position": null,
       "order": null,
       "overflow": null,
       "overflow_x": null,
       "overflow_y": null,
       "padding": null,
       "right": null,
       "top": null,
       "visibility": null,
       "width": null
      }
     },
     "eb0411cd29b9446aa5a85f66d15c9b0f": {
      "model_module": "@jupyter-widgets/controls",
      "model_module_version": "1.5.0",
      "model_name": "ProgressStyleModel",
      "state": {
       "_model_module": "@jupyter-widgets/controls",
       "_model_module_version": "1.5.0",
       "_model_name": "ProgressStyleModel",
       "_view_count": null,
       "_view_module": "@jupyter-widgets/base",
       "_view_module_version": "1.2.0",
       "_view_name": "StyleView",
       "bar_color": null,
       "description_width": ""
      }
     },
     "eb9ff0cca5d64fa2a8fc76cd2b5ea25b": {
      "model_module": "@jupyter-widgets/controls",
      "model_module_version": "1.5.0",
      "model_name": "FloatProgressModel",
      "state": {
       "_dom_classes": [],
       "_model_module": "@jupyter-widgets/controls",
       "_model_module_version": "1.5.0",
       "_model_name": "FloatProgressModel",
       "_view_count": null,
       "_view_module": "@jupyter-widgets/controls",
       "_view_module_version": "1.5.0",
       "_view_name": "ProgressView",
       "bar_style": "success",
       "description": "",
       "description_tooltip": null,
       "layout": "IPY_MODEL_8877305336084092ac68bb0fc421fed4",
       "max": 798293.0,
       "min": 0.0,
       "orientation": "horizontal",
       "style": "IPY_MODEL_53682e7bc3cc497abdd4300006879ba4",
       "value": 798293.0
      }
     },
     "ed041162b6ec466480dad9785924fe7f": {
      "model_module": "@jupyter-widgets/base",
      "model_module_version": "1.2.0",
      "model_name": "LayoutModel",
      "state": {
       "_model_module": "@jupyter-widgets/base",
       "_model_module_version": "1.2.0",
       "_model_name": "LayoutModel",
       "_view_count": null,
       "_view_module": "@jupyter-widgets/base",
       "_view_module_version": "1.2.0",
       "_view_name": "LayoutView",
       "align_content": null,
       "align_items": null,
       "align_self": null,
       "border": null,
       "bottom": null,
       "display": null,
       "flex": null,
       "flex_flow": null,
       "grid_area": null,
       "grid_auto_columns": null,
       "grid_auto_flow": null,
       "grid_auto_rows": null,
       "grid_column": null,
       "grid_gap": null,
       "grid_row": null,
       "grid_template_areas": null,
       "grid_template_columns": null,
       "grid_template_rows": null,
       "height": null,
       "justify_content": null,
       "justify_items": null,
       "left": null,
       "margin": null,
       "max_height": null,
       "max_width": null,
       "min_height": null,
       "min_width": null,
       "object_fit": null,
       "object_position": null,
       "order": null,
       "overflow": null,
       "overflow_x": null,
       "overflow_y": null,
       "padding": null,
       "right": null,
       "top": null,
       "visibility": null,
       "width": null
      }
     },
     "ed288ae709c8482ea13e1896468e00f9": {
      "model_module": "@jupyter-widgets/controls",
      "model_module_version": "1.5.0",
      "model_name": "HTMLModel",
      "state": {
       "_dom_classes": [],
       "_model_module": "@jupyter-widgets/controls",
       "_model_module_version": "1.5.0",
       "_model_name": "HTMLModel",
       "_view_count": null,
       "_view_module": "@jupyter-widgets/controls",
       "_view_module_version": "1.5.0",
       "_view_name": "HTMLView",
       "description": "",
       "description_tooltip": null,
       "layout": "IPY_MODEL_cca8ec0eb37f4563aae6dacc6e32ca05",
       "placeholder": "​",
       "style": "IPY_MODEL_a015fa6adff349fe890c3b6cf8397220",
       "value": " 229/229 [00:00&lt;00:00, 9.64kB/s]"
      }
     },
     "ef88ab65a0cf42d287372f16dd81260a": {
      "model_module": "@jupyter-widgets/base",
      "model_module_version": "1.2.0",
      "model_name": "LayoutModel",
      "state": {
       "_model_module": "@jupyter-widgets/base",
       "_model_module_version": "1.2.0",
       "_model_name": "LayoutModel",
       "_view_count": null,
       "_view_module": "@jupyter-widgets/base",
       "_view_module_version": "1.2.0",
       "_view_name": "LayoutView",
       "align_content": null,
       "align_items": null,
       "align_self": null,
       "border": null,
       "bottom": null,
       "display": null,
       "flex": null,
       "flex_flow": null,
       "grid_area": null,
       "grid_auto_columns": null,
       "grid_auto_flow": null,
       "grid_auto_rows": null,
       "grid_column": null,
       "grid_gap": null,
       "grid_row": null,
       "grid_template_areas": null,
       "grid_template_columns": null,
       "grid_template_rows": null,
       "height": null,
       "justify_content": null,
       "justify_items": null,
       "left": null,
       "margin": null,
       "max_height": null,
       "max_width": null,
       "min_height": null,
       "min_width": null,
       "object_fit": null,
       "object_position": null,
       "order": null,
       "overflow": null,
       "overflow_x": null,
       "overflow_y": null,
       "padding": null,
       "right": null,
       "top": null,
       "visibility": null,
       "width": null
      }
     },
     "efcd9fdca93a47429fdf4b743ed26652": {
      "model_module": "@jupyter-widgets/base",
      "model_module_version": "1.2.0",
      "model_name": "LayoutModel",
      "state": {
       "_model_module": "@jupyter-widgets/base",
       "_model_module_version": "1.2.0",
       "_model_name": "LayoutModel",
       "_view_count": null,
       "_view_module": "@jupyter-widgets/base",
       "_view_module_version": "1.2.0",
       "_view_name": "LayoutView",
       "align_content": null,
       "align_items": null,
       "align_self": null,
       "border": null,
       "bottom": null,
       "display": null,
       "flex": null,
       "flex_flow": null,
       "grid_area": null,
       "grid_auto_columns": null,
       "grid_auto_flow": null,
       "grid_auto_rows": null,
       "grid_column": null,
       "grid_gap": null,
       "grid_row": null,
       "grid_template_areas": null,
       "grid_template_columns": null,
       "grid_template_rows": null,
       "height": null,
       "justify_content": null,
       "justify_items": null,
       "left": null,
       "margin": null,
       "max_height": null,
       "max_width": null,
       "min_height": null,
       "min_width": null,
       "object_fit": null,
       "object_position": null,
       "order": null,
       "overflow": null,
       "overflow_x": null,
       "overflow_y": null,
       "padding": null,
       "right": null,
       "top": null,
       "visibility": null,
       "width": null
      }
     },
     "eff80a529570456a8af4bf7372da9e2b": {
      "model_module": "@jupyter-widgets/controls",
      "model_module_version": "1.5.0",
      "model_name": "ProgressStyleModel",
      "state": {
       "_model_module": "@jupyter-widgets/controls",
       "_model_module_version": "1.5.0",
       "_model_name": "ProgressStyleModel",
       "_view_count": null,
       "_view_module": "@jupyter-widgets/base",
       "_view_module_version": "1.2.0",
       "_view_name": "StyleView",
       "bar_color": null,
       "description_width": ""
      }
     },
     "f095b29a4bb6427db2eb750c36ced856": {
      "model_module": "@jupyter-widgets/base",
      "model_module_version": "1.2.0",
      "model_name": "LayoutModel",
      "state": {
       "_model_module": "@jupyter-widgets/base",
       "_model_module_version": "1.2.0",
       "_model_name": "LayoutModel",
       "_view_count": null,
       "_view_module": "@jupyter-widgets/base",
       "_view_module_version": "1.2.0",
       "_view_name": "LayoutView",
       "align_content": null,
       "align_items": null,
       "align_self": null,
       "border": null,
       "bottom": null,
       "display": null,
       "flex": null,
       "flex_flow": null,
       "grid_area": null,
       "grid_auto_columns": null,
       "grid_auto_flow": null,
       "grid_auto_rows": null,
       "grid_column": null,
       "grid_gap": null,
       "grid_row": null,
       "grid_template_areas": null,
       "grid_template_columns": null,
       "grid_template_rows": null,
       "height": null,
       "justify_content": null,
       "justify_items": null,
       "left": null,
       "margin": null,
       "max_height": null,
       "max_width": null,
       "min_height": null,
       "min_width": null,
       "object_fit": null,
       "object_position": null,
       "order": null,
       "overflow": null,
       "overflow_x": null,
       "overflow_y": null,
       "padding": null,
       "right": null,
       "top": null,
       "visibility": null,
       "width": null
      }
     },
     "f0d8de687cdb42cda6b0bd4f32fe1aba": {
      "model_module": "@jupyter-widgets/base",
      "model_module_version": "1.2.0",
      "model_name": "LayoutModel",
      "state": {
       "_model_module": "@jupyter-widgets/base",
       "_model_module_version": "1.2.0",
       "_model_name": "LayoutModel",
       "_view_count": null,
       "_view_module": "@jupyter-widgets/base",
       "_view_module_version": "1.2.0",
       "_view_name": "LayoutView",
       "align_content": null,
       "align_items": null,
       "align_self": null,
       "border": null,
       "bottom": null,
       "display": null,
       "flex": null,
       "flex_flow": null,
       "grid_area": null,
       "grid_auto_columns": null,
       "grid_auto_flow": null,
       "grid_auto_rows": null,
       "grid_column": null,
       "grid_gap": null,
       "grid_row": null,
       "grid_template_areas": null,
       "grid_template_columns": null,
       "grid_template_rows": null,
       "height": null,
       "justify_content": null,
       "justify_items": null,
       "left": null,
       "margin": null,
       "max_height": null,
       "max_width": null,
       "min_height": null,
       "min_width": null,
       "object_fit": null,
       "object_position": null,
       "order": null,
       "overflow": null,
       "overflow_x": null,
       "overflow_y": null,
       "padding": null,
       "right": null,
       "top": null,
       "visibility": null,
       "width": null
      }
     },
     "f368c3f8db614e04a64e345047a37500": {
      "model_module": "@jupyter-widgets/controls",
      "model_module_version": "1.5.0",
      "model_name": "DescriptionStyleModel",
      "state": {
       "_model_module": "@jupyter-widgets/controls",
       "_model_module_version": "1.5.0",
       "_model_name": "DescriptionStyleModel",
       "_view_count": null,
       "_view_module": "@jupyter-widgets/base",
       "_view_module_version": "1.2.0",
       "_view_name": "StyleView",
       "description_width": ""
      }
     },
     "f5d237ac08a049afb6e61ca520cd067d": {
      "model_module": "@jupyter-widgets/base",
      "model_module_version": "1.2.0",
      "model_name": "LayoutModel",
      "state": {
       "_model_module": "@jupyter-widgets/base",
       "_model_module_version": "1.2.0",
       "_model_name": "LayoutModel",
       "_view_count": null,
       "_view_module": "@jupyter-widgets/base",
       "_view_module_version": "1.2.0",
       "_view_name": "LayoutView",
       "align_content": null,
       "align_items": null,
       "align_self": null,
       "border": null,
       "bottom": null,
       "display": null,
       "flex": null,
       "flex_flow": null,
       "grid_area": null,
       "grid_auto_columns": null,
       "grid_auto_flow": null,
       "grid_auto_rows": null,
       "grid_column": null,
       "grid_gap": null,
       "grid_row": null,
       "grid_template_areas": null,
       "grid_template_columns": null,
       "grid_template_rows": null,
       "height": null,
       "justify_content": null,
       "justify_items": null,
       "left": null,
       "margin": null,
       "max_height": null,
       "max_width": null,
       "min_height": null,
       "min_width": null,
       "object_fit": null,
       "object_position": null,
       "order": null,
       "overflow": null,
       "overflow_x": null,
       "overflow_y": null,
       "padding": null,
       "right": null,
       "top": null,
       "visibility": null,
       "width": null
      }
     },
     "f5e35a0beb2f4dce82f5266d58c582a5": {
      "model_module": "@jupyter-widgets/controls",
      "model_module_version": "1.5.0",
      "model_name": "DescriptionStyleModel",
      "state": {
       "_model_module": "@jupyter-widgets/controls",
       "_model_module_version": "1.5.0",
       "_model_name": "DescriptionStyleModel",
       "_view_count": null,
       "_view_module": "@jupyter-widgets/base",
       "_view_module_version": "1.2.0",
       "_view_name": "StyleView",
       "description_width": ""
      }
     },
     "f663e254933040c1a05a911566983cee": {
      "model_module": "@jupyter-widgets/base",
      "model_module_version": "1.2.0",
      "model_name": "LayoutModel",
      "state": {
       "_model_module": "@jupyter-widgets/base",
       "_model_module_version": "1.2.0",
       "_model_name": "LayoutModel",
       "_view_count": null,
       "_view_module": "@jupyter-widgets/base",
       "_view_module_version": "1.2.0",
       "_view_name": "LayoutView",
       "align_content": null,
       "align_items": null,
       "align_self": null,
       "border": null,
       "bottom": null,
       "display": null,
       "flex": null,
       "flex_flow": null,
       "grid_area": null,
       "grid_auto_columns": null,
       "grid_auto_flow": null,
       "grid_auto_rows": null,
       "grid_column": null,
       "grid_gap": null,
       "grid_row": null,
       "grid_template_areas": null,
       "grid_template_columns": null,
       "grid_template_rows": null,
       "height": null,
       "justify_content": null,
       "justify_items": null,
       "left": null,
       "margin": null,
       "max_height": null,
       "max_width": null,
       "min_height": null,
       "min_width": null,
       "object_fit": null,
       "object_position": null,
       "order": null,
       "overflow": null,
       "overflow_x": null,
       "overflow_y": null,
       "padding": null,
       "right": null,
       "top": null,
       "visibility": null,
       "width": null
      }
     },
     "f8dafcabf79845dd949079d75f5bf20c": {
      "model_module": "@jupyter-widgets/base",
      "model_module_version": "1.2.0",
      "model_name": "LayoutModel",
      "state": {
       "_model_module": "@jupyter-widgets/base",
       "_model_module_version": "1.2.0",
       "_model_name": "LayoutModel",
       "_view_count": null,
       "_view_module": "@jupyter-widgets/base",
       "_view_module_version": "1.2.0",
       "_view_name": "LayoutView",
       "align_content": null,
       "align_items": null,
       "align_self": null,
       "border": null,
       "bottom": null,
       "display": null,
       "flex": null,
       "flex_flow": null,
       "grid_area": null,
       "grid_auto_columns": null,
       "grid_auto_flow": null,
       "grid_auto_rows": null,
       "grid_column": null,
       "grid_gap": null,
       "grid_row": null,
       "grid_template_areas": null,
       "grid_template_columns": null,
       "grid_template_rows": null,
       "height": null,
       "justify_content": null,
       "justify_items": null,
       "left": null,
       "margin": null,
       "max_height": null,
       "max_width": null,
       "min_height": null,
       "min_width": null,
       "object_fit": null,
       "object_position": null,
       "order": null,
       "overflow": null,
       "overflow_x": null,
       "overflow_y": null,
       "padding": null,
       "right": null,
       "top": null,
       "visibility": null,
       "width": null
      }
     },
     "fecde6ab34aa483596c676b1f72ef71d": {
      "model_module": "@jupyter-widgets/base",
      "model_module_version": "1.2.0",
      "model_name": "LayoutModel",
      "state": {
       "_model_module": "@jupyter-widgets/base",
       "_model_module_version": "1.2.0",
       "_model_name": "LayoutModel",
       "_view_count": null,
       "_view_module": "@jupyter-widgets/base",
       "_view_module_version": "1.2.0",
       "_view_name": "LayoutView",
       "align_content": null,
       "align_items": null,
       "align_self": null,
       "border": null,
       "bottom": null,
       "display": null,
       "flex": null,
       "flex_flow": null,
       "grid_area": null,
       "grid_auto_columns": null,
       "grid_auto_flow": null,
       "grid_auto_rows": null,
       "grid_column": null,
       "grid_gap": null,
       "grid_row": null,
       "grid_template_areas": null,
       "grid_template_columns": null,
       "grid_template_rows": null,
       "height": null,
       "justify_content": null,
       "justify_items": null,
       "left": null,
       "margin": null,
       "max_height": null,
       "max_width": null,
       "min_height": null,
       "min_width": null,
       "object_fit": null,
       "object_position": null,
       "order": null,
       "overflow": null,
       "overflow_x": null,
       "overflow_y": null,
       "padding": null,
       "right": null,
       "top": null,
       "visibility": null,
       "width": null
      }
     }
    },
    "version_major": 2,
    "version_minor": 0
   }
  }
 },
 "nbformat": 4,
 "nbformat_minor": 5
}
